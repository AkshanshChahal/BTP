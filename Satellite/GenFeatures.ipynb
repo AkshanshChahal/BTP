{
 "cells": [
  {
   "cell_type": "markdown",
   "metadata": {},
   "source": [
    "# Generating Features from GeoTiff Files\n",
    "From GeoTiff Files available for India over a period of more than 20 years, we want to generate features from those files for the problem of prediction of district wise crop yield in India."
   ]
  },
  {
   "cell_type": "markdown",
   "metadata": {},
   "source": [
    "Due to gdal package, had to make a separate environment using conda. So install packages for this notebook in that environment itself. Check from the anaconda prompt, the names of all the envs are available: $conda info --envs "
   ]
  },
  {
   "cell_type": "code",
   "execution_count": 48,
   "metadata": {},
   "outputs": [],
   "source": [
    "from osgeo import ogr, osr, gdal\n",
    "\n",
    "import requests # To make the REST API call\n",
    "import json\n",
    "\n",
    "import numpy as np\n",
    "import pandas as pd\n",
    "\n",
    "import os\n",
    "import sys\n",
    "import tarfile"
   ]
  },
  {
   "cell_type": "code",
   "execution_count": 49,
   "metadata": {},
   "outputs": [],
   "source": [
    "base = \"/Users/macbook/Documents/BTP/Satellite/Data/Sat\" # macOS\n",
    "# base = \"G:\\BTP\\Satellite\\Data\"  # Win7"
   ]
  },
  {
   "cell_type": "code",
   "execution_count": 50,
   "metadata": {},
   "outputs": [
    {
     "name": "stdout",
     "output_type": "stream",
     "text": [
      "Directory: /Users/macbook/Documents/BTP/Satellite/Data/Sat\n",
      "\tLC08_L1TP_150041_20171027_20171027_01_RT.tar.gz\n",
      "\tLC08_L1TP_147040_20171006_20171014_01_T1.tar.gz\n",
      "Directory: /Users/macbook/Documents/BTP/Satellite/Data/Sat/LC08_L1TP_150041_20171027_20171027_01_RT\n",
      "\tLC08_L1TP_150041_20171027_20171027_01_RT_MTL.txt\n",
      "\tLC08_L1TP_150041_20171027_20171027_01_RT_B6.TIF\n",
      "\tLC08_L1TP_150041_20171027_20171027_01_RT_B7.TIF\n",
      "\tLC08_L1TP_150041_20171027_20171027_01_RT_B5.TIF\n",
      "\tLC08_L1TP_150041_20171027_20171027_01_RT_B4.TIF\n",
      "\tLC08_L1TP_150041_20171027_20171027_01_RT_B1.TIF\n",
      "\tLC08_L1TP_150041_20171027_20171027_01_RT_B10.TIF\n",
      "\tLC08_L1TP_150041_20171027_20171027_01_RT_B3.TIF\n",
      "\tLC08_L1TP_150041_20171027_20171027_01_RT_B2.TIF\n",
      "\tLC08_L1TP_150041_20171027_20171027_01_RT_B11.TIF\n",
      "\tLC08_L1TP_150041_20171027_20171027_01_RT_ANG.txt\n",
      "\tLC08_L1TP_150041_20171027_20171027_01_RT_BQA.TIF\n",
      "\tLC08_L1TP_150041_20171027_20171027_01_RT_B9.TIF\n",
      "\tLC08_L1TP_150041_20171027_20171027_01_RT_B8.TIF\n",
      "Directory: /Users/macbook/Documents/BTP/Satellite/Data/Sat/LC08_L1TP_147040_20171006_20171014_01_T1\n",
      "\tLC08_L1TP_147040_20171006_20171014_01_T1_BQA.TIF\n",
      "\tLC08_L1TP_147040_20171006_20171014_01_T1_ANG.txt\n",
      "\tLC08_L1TP_147040_20171006_20171014_01_T1_B8.TIF\n",
      "\tLC08_L1TP_147040_20171006_20171014_01_T1_B9.TIF\n",
      "\tLC08_L1TP_147040_20171006_20171014_01_T1_B7.TIF\n",
      "\tLC08_L1TP_147040_20171006_20171014_01_T1_B6.TIF\n",
      "\tLC08_L1TP_147040_20171006_20171014_01_T1_MTL.txt\n",
      "\tLC08_L1TP_147040_20171006_20171014_01_T1_B4.TIF\n",
      "\tLC08_L1TP_147040_20171006_20171014_01_T1_B5.TIF\n",
      "\tLC08_L1TP_147040_20171006_20171014_01_T1_B1.TIF\n",
      "\tLC08_L1TP_147040_20171006_20171014_01_T1_B2.TIF\n",
      "\tLC08_L1TP_147040_20171006_20171014_01_T1_B11.TIF\n",
      "\tLC08_L1TP_147040_20171006_20171014_01_T1_B10.TIF\n",
      "\tLC08_L1TP_147040_20171006_20171014_01_T1_B3.TIF\n"
     ]
    }
   ],
   "source": [
    "for directory, subdirList, fileList in os.walk(base):\n",
    "    print (\"Directory: \" + directory)\n",
    "    for filename in fileList:\n",
    "        if filename[0] != '.': print (\"\\t\" + filename)  "
   ]
  },
  {
   "cell_type": "code",
   "execution_count": 51,
   "metadata": {},
   "outputs": [],
   "source": [
    "def extract(filename, force=False):\n",
    "    root = os.path.splitext(os.path.splitext(filename)[0])[0]  # remove .tar.gz\n",
    "    if os.path.isdir(os.path.join(base,root)) and not force:\n",
    "        # You may override by setting force=True.\n",
    "        print('%s already present - Skipping extraction of %s' % (root, filename))\n",
    "    else:\n",
    "        print('Extracting data for %s' % root)\n",
    "        tar = tarfile.open(os.path.join(base,filename))\n",
    "        sys.stdout.flush()\n",
    "        tar.extractall(os.path.join(base,root))\n",
    "        tar.close()        "
   ]
  },
  {
   "cell_type": "code",
   "execution_count": 52,
   "metadata": {},
   "outputs": [
    {
     "name": "stdout",
     "output_type": "stream",
     "text": [
      "LC08_L1TP_150041_20171027_20171027_01_RT already present - Skipping extraction of LC08_L1TP_150041_20171027_20171027_01_RT.tar.gz\n",
      "LC08_L1TP_147040_20171006_20171014_01_T1 already present - Skipping extraction of LC08_L1TP_147040_20171006_20171014_01_T1.tar.gz\n"
     ]
    }
   ],
   "source": [
    "# extracting all the tar files ... (if not extracted)\n",
    "for directory, subdirList, fileList in os.walk(base):\n",
    "    for filename in fileList:\n",
    "        if filename.endswith(\".tar.gz\"): \n",
    "            d = extract(filename)"
   ]
  },
  {
   "cell_type": "code",
   "execution_count": 53,
   "metadata": {
    "scrolled": true
   },
   "outputs": [
    {
     "name": "stdout",
     "output_type": "stream",
     "text": [
      "['/Users/macbook/Documents/BTP/Satellite/Data/Sat/LC08_L1TP_147040_20171006_20171014_01_T1', '/Users/macbook/Documents/BTP/Satellite/Data/Sat/LC08_L1TP_150041_20171027_20171027_01_RT']\n"
     ]
    }
   ],
   "source": [
    "directories = [os.path.join(base, d) for d in sorted(os.listdir(base)) if os.path.isdir(os.path.join(base, d))]\n",
    "print directories"
   ]
  },
  {
   "cell_type": "markdown",
   "metadata": {},
   "source": [
    "----\n",
    "|Pseudo Code\n",
    "----\n",
    "    |Go to the base folder: extract every zip file, which is unextracted:\n",
    "----\n",
    "        |For each folder present here:\n",
    "----\n",
    "            |For each tiff file (for each band):\n",
    "----\n",
    "                |Identify the following:\n",
    "                |   --> Month, Year\n",
    "                |   --> District Name\n",
    "                |   --> Cloud Cover Percentage\n",
    "                |   --> Sat 7 or 8 (maybe from #files in the folder!\n",
    "                |\n",
    "                |According to SAT, meaning of bands change ...(Put them in corresponding features ...)\n",
    "                |\n",
    "                |Traverse every 100th pixel (for sat7 every Kth)\n",
    "                |\n",
    "                |\n",
    "                |\n",
    "                |\n",
    "            \n",
    "            "
   ]
  },
  {
   "cell_type": "code",
   "execution_count": null,
   "metadata": {
    "collapsed": true
   },
   "outputs": [],
   "source": []
  }
 ],
 "metadata": {
  "kernelspec": {
   "display_name": "Python 2",
   "language": "python",
   "name": "python2"
  },
  "language_info": {
   "codemirror_mode": {
    "name": "ipython",
    "version": 2
   },
   "file_extension": ".py",
   "mimetype": "text/x-python",
   "name": "python",
   "nbconvert_exporter": "python",
   "pygments_lexer": "ipython2",
   "version": "2.7.13"
  }
 },
 "nbformat": 4,
 "nbformat_minor": 2
}
