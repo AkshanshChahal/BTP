{
 "cells": [
  {
   "cell_type": "markdown",
   "metadata": {},
   "source": [
    "# Generating Features from GeoTiff Files\n",
    "From GeoTiff Files available for India over a period of more than 20 years, we want to generate features from those files for the problem of prediction of district wise crop yield in India."
   ]
  },
  {
   "cell_type": "markdown",
   "metadata": {},
   "source": [
    "Due to gdal package, had to make a separate environment using conda. So install packages for this notebook in that environment itself. Check from the anaconda prompt, the names of all the envs are available: $conda info --envs "
   ]
  },
  {
   "cell_type": "code",
   "execution_count": 48,
   "metadata": {},
   "outputs": [],
   "source": [
    "from osgeo import ogr, osr, gdal\n",
    "\n",
    "import requests # To make the REST API call\n",
    "import json\n",
    "\n",
    "import numpy as np\n",
    "import pandas as pd\n",
    "\n",
    "import os\n",
    "import sys\n",
    "import tarfile"
   ]
  },
  {
   "cell_type": "code",
   "execution_count": 49,
   "metadata": {},
   "outputs": [],
   "source": [
    "base = \"/Users/macbook/Documents/BTP/Satellite/Data/Sat\" # macOS\n",
    "# base = \"G:\\BTP\\Satellite\\Data\"  # Win7"
   ]
  },
  {
   "cell_type": "code",
   "execution_count": 54,
   "metadata": {},
   "outputs": [
    {
     "name": "stdout",
     "output_type": "stream",
     "text": [
      "Directory: /Users/macbook/Documents/BTP/Satellite/Data/Sat/LC08_L1TP_150041_20171027_20171027_01_RT\n",
      "\tLC08_L1TP_150041_20171027_20171027_01_RT_MTL.txt\n",
      "\tLC08_L1TP_150041_20171027_20171027_01_RT_B6.TIF\n",
      "\tLC08_L1TP_150041_20171027_20171027_01_RT_B7.TIF\n",
      "\tLC08_L1TP_150041_20171027_20171027_01_RT_B5.TIF\n",
      "\tLC08_L1TP_150041_20171027_20171027_01_RT_B4.TIF\n",
      "\tLC08_L1TP_150041_20171027_20171027_01_RT_B1.TIF\n",
      "\tLC08_L1TP_150041_20171027_20171027_01_RT_B10.TIF\n",
      "\tLC08_L1TP_150041_20171027_20171027_01_RT_B3.TIF\n",
      "\tLC08_L1TP_150041_20171027_20171027_01_RT_B2.TIF\n",
      "\tLC08_L1TP_150041_20171027_20171027_01_RT_B11.TIF\n",
      "\tLC08_L1TP_150041_20171027_20171027_01_RT_ANG.txt\n",
      "\tLC08_L1TP_150041_20171027_20171027_01_RT_BQA.TIF\n",
      "\tLC08_L1TP_150041_20171027_20171027_01_RT_B9.TIF\n",
      "\tLC08_L1TP_150041_20171027_20171027_01_RT_B8.TIF\n",
      "Directory: /Users/macbook/Documents/BTP/Satellite/Data/Sat/LC08_L1TP_147040_20171006_20171014_01_T1\n",
      "\tLC08_L1TP_147040_20171006_20171014_01_T1_BQA.TIF\n",
      "\tLC08_L1TP_147040_20171006_20171014_01_T1_ANG.txt\n",
      "\tLC08_L1TP_147040_20171006_20171014_01_T1_B8.TIF\n",
      "\tLC08_L1TP_147040_20171006_20171014_01_T1_B9.TIF\n",
      "\tLC08_L1TP_147040_20171006_20171014_01_T1_B7.TIF\n",
      "\tLC08_L1TP_147040_20171006_20171014_01_T1_B6.TIF\n",
      "\tLC08_L1TP_147040_20171006_20171014_01_T1_MTL.txt\n",
      "\tLC08_L1TP_147040_20171006_20171014_01_T1_B4.TIF\n",
      "\tLC08_L1TP_147040_20171006_20171014_01_T1_B5.TIF\n",
      "\tLC08_L1TP_147040_20171006_20171014_01_T1_B1.TIF\n",
      "\tLC08_L1TP_147040_20171006_20171014_01_T1_B2.TIF\n",
      "\tLC08_L1TP_147040_20171006_20171014_01_T1_B11.TIF\n",
      "\tLC08_L1TP_147040_20171006_20171014_01_T1_B10.TIF\n",
      "\tLC08_L1TP_147040_20171006_20171014_01_T1_B3.TIF\n"
     ]
    }
   ],
   "source": [
    "b = True\n",
    "for directory, subdirList, fileList in os.walk(base):\n",
    "    if b:\n",
    "        b = False\n",
    "        continue\n",
    "    print (\"Directory: \" + directory)\n",
    "    for filename in fileList:\n",
    "        if filename[0] != '.': print (\"\\t\" + filename)  "
   ]
  },
  {
   "cell_type": "code",
   "execution_count": 51,
   "metadata": {},
   "outputs": [],
   "source": [
    "def extract(filename, force=False):\n",
    "    root = os.path.splitext(os.path.splitext(filename)[0])[0]  # remove .tar.gz\n",
    "    if os.path.isdir(os.path.join(base,root)) and not force:\n",
    "        # You may override by setting force=True.\n",
    "        print('%s already present - Skipping extraction of %s' % (root, filename))\n",
    "    else:\n",
    "        print('Extracting data for %s' % root)\n",
    "        tar = tarfile.open(os.path.join(base,filename))\n",
    "        sys.stdout.flush()\n",
    "        tar.extractall(os.path.join(base,root))\n",
    "        tar.close()        "
   ]
  },
  {
   "cell_type": "code",
   "execution_count": 52,
   "metadata": {},
   "outputs": [
    {
     "name": "stdout",
     "output_type": "stream",
     "text": [
      "LC08_L1TP_150041_20171027_20171027_01_RT already present - Skipping extraction of LC08_L1TP_150041_20171027_20171027_01_RT.tar.gz\n",
      "LC08_L1TP_147040_20171006_20171014_01_T1 already present - Skipping extraction of LC08_L1TP_147040_20171006_20171014_01_T1.tar.gz\n"
     ]
    }
   ],
   "source": [
    "# extracting all the tar files ... (if not extracted)\n",
    "for directory, subdirList, fileList in os.walk(base):\n",
    "    for filename in fileList:\n",
    "        if filename.endswith(\".tar.gz\"): \n",
    "            d = extract(filename)"
   ]
  },
  {
   "cell_type": "code",
   "execution_count": 53,
   "metadata": {
    "scrolled": true
   },
   "outputs": [
    {
     "name": "stdout",
     "output_type": "stream",
     "text": [
      "['/Users/macbook/Documents/BTP/Satellite/Data/Sat/LC08_L1TP_147040_20171006_20171014_01_T1', '/Users/macbook/Documents/BTP/Satellite/Data/Sat/LC08_L1TP_150041_20171027_20171027_01_RT']\n"
     ]
    }
   ],
   "source": [
    "directories = [os.path.join(base, d) for d in sorted(os.listdir(base)) if os.path.isdir(os.path.join(base, d))]\n",
    "# print directories"
   ]
  },
  {
   "cell_type": "code",
   "execution_count": 74,
   "metadata": {},
   "outputs": [],
   "source": [
    "# get the existing coordinate system\n",
    "old_cs= osr.SpatialReference()\n",
    "old_cs.ImportFromWkt(ds.GetProjectionRef())\n",
    "\n",
    "# create the new coordinate system\n",
    "wgs84_wkt = \"\"\"\n",
    "GEOGCS[\"WGS 84\",\n",
    "    DATUM[\"WGS_1984\",\n",
    "        SPHEROID[\"WGS 84\",6378137,298.257223563,\n",
    "            AUTHORITY[\"EPSG\",\"7030\"]],\n",
    "        AUTHORITY[\"EPSG\",\"6326\"]],\n",
    "    PRIMEM[\"Greenwich\",0,\n",
    "        AUTHORITY[\"EPSG\",\"8901\"]],\n",
    "    UNIT[\"degree\",0.01745329251994328,\n",
    "        AUTHORITY[\"EPSG\",\"9122\"]],\n",
    "    AUTHORITY[\"EPSG\",\"4326\"]]\"\"\"\n",
    "new_cs = osr.SpatialReference()\n",
    "new_cs.ImportFromWkt(wgs84_wkt)\n",
    "\n",
    "# create a transform object to convert between coordinate systems\n",
    "transform = osr.CoordinateTransformation(old_cs,new_cs) "
   ]
  },
  {
   "cell_type": "code",
   "execution_count": 75,
   "metadata": {},
   "outputs": [],
   "source": [
    "def pixel2coord(x, y, xoff, a, b, yoff, d, e):\n",
    "    \"\"\"Returns global coordinates from coordinates x,y of the pixel\"\"\"\n",
    "    xp = a * x + b * y + xoff\n",
    "    yp = d * x + e * y + yoff\n",
    "    return(xp, yp)"
   ]
  },
  {
   "cell_type": "code",
   "execution_count": 73,
   "metadata": {},
   "outputs": [
    {
     "name": "stdout",
     "output_type": "stream",
     "text": [
      "/Users/macbook/Documents/BTP/Satellite/Data/Sat/LC08_L1TP_147040_20171006_20171014_01_T1/LC08_L1TP_147040_20171006_20171014_01_T1_BQA.TIF\n",
      "<class 'osgeo.gdal.Dataset'>\n",
      "/Users/macbook/Documents/BTP/Satellite/Data/Sat/LC08_L1TP_147040_20171006_20171014_01_T1/LC08_L1TP_147040_20171006_20171014_01_T1_B8.TIF\n",
      "<class 'osgeo.gdal.Dataset'>\n",
      "/Users/macbook/Documents/BTP/Satellite/Data/Sat/LC08_L1TP_147040_20171006_20171014_01_T1/LC08_L1TP_147040_20171006_20171014_01_T1_B9.TIF\n",
      "<class 'osgeo.gdal.Dataset'>\n",
      "/Users/macbook/Documents/BTP/Satellite/Data/Sat/LC08_L1TP_147040_20171006_20171014_01_T1/LC08_L1TP_147040_20171006_20171014_01_T1_B7.TIF\n",
      "<class 'osgeo.gdal.Dataset'>\n",
      "/Users/macbook/Documents/BTP/Satellite/Data/Sat/LC08_L1TP_147040_20171006_20171014_01_T1/LC08_L1TP_147040_20171006_20171014_01_T1_B6.TIF\n",
      "<class 'osgeo.gdal.Dataset'>\n",
      "/Users/macbook/Documents/BTP/Satellite/Data/Sat/LC08_L1TP_147040_20171006_20171014_01_T1/LC08_L1TP_147040_20171006_20171014_01_T1_B4.TIF\n",
      "<class 'osgeo.gdal.Dataset'>\n",
      "/Users/macbook/Documents/BTP/Satellite/Data/Sat/LC08_L1TP_147040_20171006_20171014_01_T1/LC08_L1TP_147040_20171006_20171014_01_T1_B5.TIF\n",
      "<class 'osgeo.gdal.Dataset'>\n",
      "/Users/macbook/Documents/BTP/Satellite/Data/Sat/LC08_L1TP_147040_20171006_20171014_01_T1/LC08_L1TP_147040_20171006_20171014_01_T1_B1.TIF\n",
      "<class 'osgeo.gdal.Dataset'>\n",
      "/Users/macbook/Documents/BTP/Satellite/Data/Sat/LC08_L1TP_147040_20171006_20171014_01_T1/LC08_L1TP_147040_20171006_20171014_01_T1_B2.TIF\n",
      "<class 'osgeo.gdal.Dataset'>\n",
      "/Users/macbook/Documents/BTP/Satellite/Data/Sat/LC08_L1TP_147040_20171006_20171014_01_T1/LC08_L1TP_147040_20171006_20171014_01_T1_B11.TIF\n",
      "<class 'osgeo.gdal.Dataset'>\n",
      "/Users/macbook/Documents/BTP/Satellite/Data/Sat/LC08_L1TP_147040_20171006_20171014_01_T1/LC08_L1TP_147040_20171006_20171014_01_T1_B10.TIF\n",
      "<class 'osgeo.gdal.Dataset'>\n",
      "/Users/macbook/Documents/BTP/Satellite/Data/Sat/LC08_L1TP_147040_20171006_20171014_01_T1/LC08_L1TP_147040_20171006_20171014_01_T1_B3.TIF\n",
      "<class 'osgeo.gdal.Dataset'>\n",
      "/Users/macbook/Documents/BTP/Satellite/Data/Sat/LC08_L1TP_150041_20171027_20171027_01_RT/LC08_L1TP_150041_20171027_20171027_01_RT_B6.TIF\n",
      "<class 'osgeo.gdal.Dataset'>\n",
      "/Users/macbook/Documents/BTP/Satellite/Data/Sat/LC08_L1TP_150041_20171027_20171027_01_RT/LC08_L1TP_150041_20171027_20171027_01_RT_B7.TIF\n",
      "<class 'osgeo.gdal.Dataset'>\n",
      "/Users/macbook/Documents/BTP/Satellite/Data/Sat/LC08_L1TP_150041_20171027_20171027_01_RT/LC08_L1TP_150041_20171027_20171027_01_RT_B5.TIF\n",
      "<class 'osgeo.gdal.Dataset'>\n",
      "/Users/macbook/Documents/BTP/Satellite/Data/Sat/LC08_L1TP_150041_20171027_20171027_01_RT/LC08_L1TP_150041_20171027_20171027_01_RT_B4.TIF\n",
      "<class 'osgeo.gdal.Dataset'>\n",
      "/Users/macbook/Documents/BTP/Satellite/Data/Sat/LC08_L1TP_150041_20171027_20171027_01_RT/LC08_L1TP_150041_20171027_20171027_01_RT_B1.TIF\n",
      "<class 'osgeo.gdal.Dataset'>\n",
      "/Users/macbook/Documents/BTP/Satellite/Data/Sat/LC08_L1TP_150041_20171027_20171027_01_RT/LC08_L1TP_150041_20171027_20171027_01_RT_B10.TIF\n",
      "<class 'osgeo.gdal.Dataset'>\n",
      "/Users/macbook/Documents/BTP/Satellite/Data/Sat/LC08_L1TP_150041_20171027_20171027_01_RT/LC08_L1TP_150041_20171027_20171027_01_RT_B3.TIF\n",
      "<class 'osgeo.gdal.Dataset'>\n",
      "/Users/macbook/Documents/BTP/Satellite/Data/Sat/LC08_L1TP_150041_20171027_20171027_01_RT/LC08_L1TP_150041_20171027_20171027_01_RT_B2.TIF\n",
      "<class 'osgeo.gdal.Dataset'>\n",
      "/Users/macbook/Documents/BTP/Satellite/Data/Sat/LC08_L1TP_150041_20171027_20171027_01_RT/LC08_L1TP_150041_20171027_20171027_01_RT_B11.TIF\n",
      "<class 'osgeo.gdal.Dataset'>\n",
      "/Users/macbook/Documents/BTP/Satellite/Data/Sat/LC08_L1TP_150041_20171027_20171027_01_RT/LC08_L1TP_150041_20171027_20171027_01_RT_BQA.TIF\n",
      "<class 'osgeo.gdal.Dataset'>\n",
      "/Users/macbook/Documents/BTP/Satellite/Data/Sat/LC08_L1TP_150041_20171027_20171027_01_RT/LC08_L1TP_150041_20171027_20171027_01_RT_B9.TIF\n",
      "<class 'osgeo.gdal.Dataset'>\n"
     ]
    }
   ],
   "source": [
    "for directory in directories:\n",
    "    \n",
    "    \"\"\" Identifying Month, Year, Spacecraft ID \"\"\"\n",
    "    date = directory.split('/')[-1].split('_')[3] # Change for Win7\n",
    "    satx = directory.split('/')[-1][3]\n",
    "    month = date[4:6]\n",
    "    year = date[0:4]\n",
    "    \n",
    "    \"\"\" Visiting every GeoTIFF file \"\"\" \n",
    "    for _,_,files in os.walk(directory):\n",
    "        for filename in files:\n",
    "            if filename.endswith(\".TIF\"):\n",
    "                print os.path.join(directory,filename)\n",
    "                ds = gdal.Open(os.path.join(directory,filename))\n",
    "                if ds == None: continue\n",
    "                col, row, _ = ds.RasterXSize, ds.RasterYSize, ds.RasterCount\n",
    "                xoff, a, b, yoff, d, e = ds.GetGeoTransform()\n",
    "                \n",
    "                \"\"\" Now go to each pixel, find its lat,lon. Hence its district, and the pixel value \"\"\"\n",
    "                \"\"\" Find the row with same (Year,District), in Crop Dataset. \"\"\"\n",
    "                \"\"\" Find the feature using Month, Band, SATx \"\"\"\n",
    "                \"\"\" For this have to find Mean & Variance \"\"\"\n",
    "                \n",
    "        \n",
    "        "
   ]
  },
  {
   "cell_type": "markdown",
   "metadata": {},
   "source": [
    "----\n",
    "|Pseudo Code\n",
    "----\n",
    "    |Go to the base folder: extract every zip file, which is unextracted:\n",
    "----\n",
    "        |For each folder present here:\n",
    "----\n",
    "            |For each tiff file (for each band):\n",
    "----\n",
    "                |Identify the following:\n",
    "                |   --> Month, Year\n",
    "                |   --> District Name\n",
    "                |   --> Cloud Cover Percentage\n",
    "                |   --> Sat 7 or 8 (maybe from #files in the folder!\n",
    "                |\n",
    "                |According to SAT, meaning of bands change ...(Put them in corresponding features ...)\n",
    "                |\n",
    "                |Traverse every 100th pixel (for sat7 every Kth)\n",
    "                |\n",
    "                |\n",
    "                |\n",
    "\n",
    "*Month, Year, Spacecraft ID* all from the **File Name** itself\n",
    "            \n",
    "            "
   ]
  },
  {
   "cell_type": "code",
   "execution_count": null,
   "metadata": {
    "collapsed": true
   },
   "outputs": [],
   "source": []
  }
 ],
 "metadata": {
  "kernelspec": {
   "display_name": "Python 2",
   "language": "python",
   "name": "python2"
  },
  "language_info": {
   "codemirror_mode": {
    "name": "ipython",
    "version": 2
   },
   "file_extension": ".py",
   "mimetype": "text/x-python",
   "name": "python",
   "nbconvert_exporter": "python",
   "pygments_lexer": "ipython2",
   "version": "2.7.13"
  }
 },
 "nbformat": 4,
 "nbformat_minor": 2
}
