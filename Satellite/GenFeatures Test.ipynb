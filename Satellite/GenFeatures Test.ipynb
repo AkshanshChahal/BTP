{
 "cells": [
  {
   "cell_type": "markdown",
   "metadata": {},
   "source": [
    "# For the speedup\n",
    "### Extracting District Names into 9 Dictionaries\n",
    "Because there are only nine different scene locations in the downloaded dataset."
   ]
  },
  {
   "cell_type": "markdown",
   "metadata": {},
   "source": [
    "Or if it was way more than 9, then could have sorted the file names first, then only the change of scene location, construct a new dictionary ..."
   ]
  },
  {
   "cell_type": "code",
   "execution_count": 24,
   "metadata": {
    "collapsed": true
   },
   "outputs": [],
   "source": [
    "from osgeo import ogr, osr, gdal\n",
    "\n",
    "import fiona\n",
    "from shapely.geometry import Point, shape\n",
    "\n",
    "import numpy as np\n",
    "import pandas as pd\n",
    "\n",
    "import os\n",
    "import sys\n",
    "import tarfile\n",
    "import timeit"
   ]
  },
  {
   "cell_type": "code",
   "execution_count": 25,
   "metadata": {
    "collapsed": true
   },
   "outputs": [],
   "source": [
    "# Change this for Win7,macOS\n",
    "bases = \"C:\\Users\\deepak\\Desktop\\Repo\\Maps\\Districts\\Census\\Dist.shp\"\n",
    "# base_ = \"/Users/macbook/Documents/BTP/Satellite/Data/Maps/Districts/Census_2011\"\n",
    "fc = fiona.open(bases)"
   ]
  },
  {
   "cell_type": "code",
   "execution_count": 26,
   "metadata": {
    "collapsed": true
   },
   "outputs": [],
   "source": [
    "def reverse_geocode(pt):\n",
    "    for feature in fc:\n",
    "        if shape(feature['geometry']).contains(pt):\n",
    "            return feature['properties']['DISTRICT']\n",
    "    return \"NRI\""
   ]
  },
  {
   "cell_type": "code",
   "execution_count": 27,
   "metadata": {
    "collapsed": true
   },
   "outputs": [],
   "source": [
    "base2 = \"G:\\BTP\\Satellite\\Data\\Test\"  # Win7\n",
    "base = \"G:\\BTP\\Satellite\\Data\\Test2\"  # Win7"
   ]
  },
  {
   "cell_type": "code",
   "execution_count": 28,
   "metadata": {
    "collapsed": true
   },
   "outputs": [],
   "source": [
    "def extract(filename, force=False):\n",
    "    root = os.path.splitext(os.path.splitext(filename)[0])[0]  # remove .tar.gz\n",
    "    if os.path.isdir(os.path.join(base,root)) and not force:\n",
    "        # You may override by setting force=True.\n",
    "        print('%s already present - Skipping extraction of %s' % (root, filename))\n",
    "    else:\n",
    "        print('Extracting data for %s' % root)\n",
    "        tar = tarfile.open(os.path.join(base,filename))\n",
    "        sys.stdout.flush()\n",
    "        tar.extractall(os.path.join(base,root))\n",
    "        tar.close()        "
   ]
  },
  {
   "cell_type": "code",
   "execution_count": 29,
   "metadata": {},
   "outputs": [
    {
     "name": "stdout",
     "output_type": "stream",
     "text": [
      "LE07_L1GT_146039_20050702_20170115_01_T2 already present - Skipping extraction of LE07_L1GT_146039_20050702_20170115_01_T2.tar.gz\n",
      "LE07_L1GT_146040_20040512_20170120_01_T2 already present - Skipping extraction of LE07_L1GT_146040_20040512_20170120_01_T2.tar.gz\n",
      "LE07_L1GT_146041_20041222_20170117_01_T2 already present - Skipping extraction of LE07_L1GT_146041_20041222_20170117_01_T2.tar.gz\n",
      "LE07_L1GT_147039_20050725_20170114_01_T2 already present - Skipping extraction of LE07_L1GT_147039_20050725_20170114_01_T2.tar.gz\n",
      "LE07_L1GT_147040_20050506_20170116_01_T2 already present - Skipping extraction of LE07_L1GT_147040_20050506_20170116_01_T2.tar.gz\n",
      "LE07_L1GT_147041_20040807_20170119_01_T2 already present - Skipping extraction of LE07_L1GT_147041_20040807_20170119_01_T2.tar.gz\n",
      "LE07_L1GT_148039_20050918_20170113_01_T2 already present - Skipping extraction of LE07_L1GT_148039_20050918_20170113_01_T2.tar.gz\n",
      "LE07_L1GT_148040_20040627_20170120_01_T2 already present - Skipping extraction of LE07_L1GT_148040_20040627_20170120_01_T2.tar.gz\n",
      "LE07_L1GT_149039_20050128_20170117_01_T2 already present - Skipping extraction of LE07_L1GT_149039_20050128_20170117_01_T2.tar.gz\n"
     ]
    }
   ],
   "source": [
    "# extracting for Test2\n",
    "for directory, subdirList, fileList in os.walk(base):\n",
    "    for filename in fileList:\n",
    "        if filename.endswith(\".tar.gz\"): \n",
    "            d = extract(filename)"
   ]
  },
  {
   "cell_type": "code",
   "execution_count": 30,
   "metadata": {
    "collapsed": true
   },
   "outputs": [],
   "source": [
    "directories = [os.path.join(base, d) for d in sorted(os.listdir(base)) if os.path.isdir(os.path.join(base, d))]\n",
    "# print directories"
   ]
  },
  {
   "cell_type": "code",
   "execution_count": 31,
   "metadata": {
    "collapsed": true
   },
   "outputs": [],
   "source": [
    "ds = gdal.Open(base2 + \"\\LE07_L1TP_146039_20101223_20161211_01_T1\\LE07_L1TP_146039_20101223_20161211_01_T1_B1.TIF\")"
   ]
  },
  {
   "cell_type": "code",
   "execution_count": 32,
   "metadata": {},
   "outputs": [
    {
     "data": {
      "text/plain": [
       "osgeo.gdal.Dataset"
      ]
     },
     "execution_count": 32,
     "metadata": {},
     "output_type": "execute_result"
    }
   ],
   "source": [
    "type(ds)"
   ]
  },
  {
   "cell_type": "markdown",
   "metadata": {},
   "source": [
    "Prepare one `ds` variable here itself, for the transformation of the coordinate system below."
   ]
  },
  {
   "cell_type": "code",
   "execution_count": null,
   "metadata": {},
   "outputs": [],
   "source": [
    "# create the new coordinate system\n",
    "wgs84_wkt = \"\"\"\n",
    "GEOGCS[\"WGS 84\",\n",
    "    DATUM[\"WGS_1984\",\n",
    "        SPHEROID[\"WGS 84\",6378137,298.257223563,\n",
    "            AUTHORITY[\"EPSG\",\"7030\"]],\n",
    "        AUTHORITY[\"EPSG\",\"6326\"]],\n",
    "    PRIMEM[\"Greenwich\",0,\n",
    "        AUTHORITY[\"EPSG\",\"8901\"]],\n",
    "    UNIT[\"degree\",0.01745329251994328,\n",
    "        AUTHORITY[\"EPSG\",\"9122\"]],\n",
    "    AUTHORITY[\"EPSG\",\"4326\"]]\"\"\"\n",
    "new_cs = osr.SpatialReference()\n",
    "new_cs.ImportFromWkt(wgs84_wkt)"
   ]
  },
  {
   "cell_type": "code",
   "execution_count": 33,
   "metadata": {
    "collapsed": true
   },
   "outputs": [],
   "source": [
    "def func(dsx):\n",
    "    old_cs= osr.SpatialReference()\n",
    "    old_cs.ImportFromWkt(dsx.GetProjectionRef())\n",
    "    trs = osr.CoordinateTransformation(old_cs,new_cs) \n",
    "    return trs"
   ]
  },
  {
   "cell_type": "code",
   "execution_count": 34,
   "metadata": {
    "collapsed": true
   },
   "outputs": [],
   "source": [
    "def pixel2coord(x, y, xoff, a, b, yoff, d, e):\n",
    "    \"\"\"Returns global coordinates from coordinates x,y of the pixel\"\"\"\n",
    "    xp = a * x + b * y + xoff\n",
    "    yp = d * x + e * y + yoff\n",
    "    return(xp, yp)"
   ]
  },
  {
   "cell_type": "code",
   "execution_count": null,
   "metadata": {
    "collapsed": true
   },
   "outputs": [],
   "source": []
  },
  {
   "cell_type": "code",
   "execution_count": null,
   "metadata": {
    "collapsed": true
   },
   "outputs": [],
   "source": []
  },
  {
   "cell_type": "code",
   "execution_count": null,
   "metadata": {
    "collapsed": true
   },
   "outputs": [],
   "source": []
  },
  {
   "cell_type": "code",
   "execution_count": null,
   "metadata": {
    "collapsed": true
   },
   "outputs": [],
   "source": []
  },
  {
   "cell_type": "code",
   "execution_count": null,
   "metadata": {
    "collapsed": true
   },
   "outputs": [],
   "source": []
  },
  {
   "cell_type": "code",
   "execution_count": 35,
   "metadata": {
    "collapsed": true
   },
   "outputs": [],
   "source": [
    "dicts = [{},{},{},{},{},{},{},{},{}]\n",
    "dicti = {\"146039\":0, \"146040\":1, \"146041\":2, \"147039\":3, \"147040\":4, \"147041\":5, \"148039\":6, \"148040\":7, \"149039\":8}"
   ]
  },
  {
   "cell_type": "code",
   "execution_count": 36,
   "metadata": {
    "collapsed": true
   },
   "outputs": [],
   "source": [
    "k = 10"
   ]
  },
  {
   "cell_type": "code",
   "execution_count": 40,
   "metadata": {},
   "outputs": [
    {
     "name": "stdout",
     "output_type": "stream",
     "text": [
      "G:\\BTP\\Satellite\\Data\\Test2\\LE07_L1GT_146040_20040512_20170120_01_T2\\LE07_L1GT_146040_20040512_20170120_01_T2_B1.TIF\n"
     ]
    },
    {
     "ename": "KeyboardInterrupt",
     "evalue": "",
     "output_type": "error",
     "traceback": [
      "\u001b[1;31m---------------------------------------------------------------------------\u001b[0m",
      "\u001b[1;31mKeyboardInterrupt\u001b[0m                         Traceback (most recent call last)",
      "\u001b[1;32m<ipython-input-40-3d6d53e8f25d>\u001b[0m in \u001b[0;36m<module>\u001b[1;34m()\u001b[0m\n\u001b[0;32m     41\u001b[0m \u001b[1;33m\u001b[0m\u001b[0m\n\u001b[0;32m     42\u001b[0m                         \u001b[0mpoint\u001b[0m \u001b[1;33m=\u001b[0m \u001b[0mPoint\u001b[0m\u001b[1;33m(\u001b[0m\u001b[0mlonx\u001b[0m\u001b[1;33m,\u001b[0m\u001b[0mlatx\u001b[0m\u001b[1;33m)\u001b[0m\u001b[1;33m\u001b[0m\u001b[0m\n\u001b[1;32m---> 43\u001b[1;33m                         \u001b[0mdistrict\u001b[0m \u001b[1;33m=\u001b[0m \u001b[0mreverse_geocode\u001b[0m\u001b[1;33m(\u001b[0m\u001b[0mpoint\u001b[0m\u001b[1;33m)\u001b[0m\u001b[1;33m\u001b[0m\u001b[0m\n\u001b[0m\u001b[0;32m     44\u001b[0m \u001b[1;33m\u001b[0m\u001b[0m\n\u001b[0;32m     45\u001b[0m                         \u001b[0mdicts\u001b[0m\u001b[1;33m[\u001b[0m\u001b[0mindex\u001b[0m\u001b[1;33m]\u001b[0m\u001b[1;33m[\u001b[0m\u001b[0mstr\u001b[0m\u001b[1;33m(\u001b[0m\u001b[0mlonx\u001b[0m\u001b[1;33m)\u001b[0m\u001b[1;33m+\u001b[0m\u001b[0mstr\u001b[0m\u001b[1;33m(\u001b[0m\u001b[0mlatx\u001b[0m\u001b[1;33m)\u001b[0m\u001b[1;33m]\u001b[0m \u001b[1;33m=\u001b[0m \u001b[0mdistrict\u001b[0m\u001b[1;33m\u001b[0m\u001b[0m\n",
      "\u001b[1;32m<ipython-input-26-cdacf827f4d1>\u001b[0m in \u001b[0;36mreverse_geocode\u001b[1;34m(pt)\u001b[0m\n\u001b[0;32m      1\u001b[0m \u001b[1;32mdef\u001b[0m \u001b[0mreverse_geocode\u001b[0m\u001b[1;33m(\u001b[0m\u001b[0mpt\u001b[0m\u001b[1;33m)\u001b[0m\u001b[1;33m:\u001b[0m\u001b[1;33m\u001b[0m\u001b[0m\n\u001b[0;32m      2\u001b[0m     \u001b[1;32mfor\u001b[0m \u001b[0mfeature\u001b[0m \u001b[1;32min\u001b[0m \u001b[0mfc\u001b[0m\u001b[1;33m:\u001b[0m\u001b[1;33m\u001b[0m\u001b[0m\n\u001b[1;32m----> 3\u001b[1;33m         \u001b[1;32mif\u001b[0m \u001b[0mshape\u001b[0m\u001b[1;33m(\u001b[0m\u001b[0mfeature\u001b[0m\u001b[1;33m[\u001b[0m\u001b[1;34m'geometry'\u001b[0m\u001b[1;33m]\u001b[0m\u001b[1;33m)\u001b[0m\u001b[1;33m.\u001b[0m\u001b[0mcontains\u001b[0m\u001b[1;33m(\u001b[0m\u001b[0mpt\u001b[0m\u001b[1;33m)\u001b[0m\u001b[1;33m:\u001b[0m\u001b[1;33m\u001b[0m\u001b[0m\n\u001b[0m\u001b[0;32m      4\u001b[0m             \u001b[1;32mreturn\u001b[0m \u001b[0mfeature\u001b[0m\u001b[1;33m[\u001b[0m\u001b[1;34m'properties'\u001b[0m\u001b[1;33m]\u001b[0m\u001b[1;33m[\u001b[0m\u001b[1;34m'DISTRICT'\u001b[0m\u001b[1;33m]\u001b[0m\u001b[1;33m\u001b[0m\u001b[0m\n\u001b[0;32m      5\u001b[0m     \u001b[1;32mreturn\u001b[0m \u001b[1;34m\"NRI\"\u001b[0m\u001b[1;33m\u001b[0m\u001b[0m\n",
      "\u001b[1;32mC:\\Users\\deepak\\Anaconda3\\envs\\ipykernel_py2\\lib\\site-packages\\shapely\\geometry\\geo.pyc\u001b[0m in \u001b[0;36mshape\u001b[1;34m(context)\u001b[0m\n\u001b[0;32m     33\u001b[0m         \u001b[1;32mreturn\u001b[0m \u001b[0mLineString\u001b[0m\u001b[1;33m(\u001b[0m\u001b[0mob\u001b[0m\u001b[1;33m[\u001b[0m\u001b[1;34m\"coordinates\"\u001b[0m\u001b[1;33m]\u001b[0m\u001b[1;33m)\u001b[0m\u001b[1;33m\u001b[0m\u001b[0m\n\u001b[0;32m     34\u001b[0m     \u001b[1;32melif\u001b[0m \u001b[0mgeom_type\u001b[0m \u001b[1;33m==\u001b[0m \u001b[1;34m\"polygon\"\u001b[0m\u001b[1;33m:\u001b[0m\u001b[1;33m\u001b[0m\u001b[0m\n\u001b[1;32m---> 35\u001b[1;33m         \u001b[1;32mreturn\u001b[0m \u001b[0mPolygon\u001b[0m\u001b[1;33m(\u001b[0m\u001b[0mob\u001b[0m\u001b[1;33m[\u001b[0m\u001b[1;34m\"coordinates\"\u001b[0m\u001b[1;33m]\u001b[0m\u001b[1;33m[\u001b[0m\u001b[1;36m0\u001b[0m\u001b[1;33m]\u001b[0m\u001b[1;33m,\u001b[0m \u001b[0mob\u001b[0m\u001b[1;33m[\u001b[0m\u001b[1;34m\"coordinates\"\u001b[0m\u001b[1;33m]\u001b[0m\u001b[1;33m[\u001b[0m\u001b[1;36m1\u001b[0m\u001b[1;33m:\u001b[0m\u001b[1;33m]\u001b[0m\u001b[1;33m)\u001b[0m\u001b[1;33m\u001b[0m\u001b[0m\n\u001b[0m\u001b[0;32m     36\u001b[0m     \u001b[1;32melif\u001b[0m \u001b[0mgeom_type\u001b[0m \u001b[1;33m==\u001b[0m \u001b[1;34m\"multipoint\"\u001b[0m\u001b[1;33m:\u001b[0m\u001b[1;33m\u001b[0m\u001b[0m\n\u001b[0;32m     37\u001b[0m         \u001b[1;32mreturn\u001b[0m \u001b[0mMultiPoint\u001b[0m\u001b[1;33m(\u001b[0m\u001b[0mob\u001b[0m\u001b[1;33m[\u001b[0m\u001b[1;34m\"coordinates\"\u001b[0m\u001b[1;33m]\u001b[0m\u001b[1;33m)\u001b[0m\u001b[1;33m\u001b[0m\u001b[0m\n",
      "\u001b[1;32mC:\\Users\\deepak\\Anaconda3\\envs\\ipykernel_py2\\lib\\site-packages\\shapely\\geometry\\polygon.pyc\u001b[0m in \u001b[0;36m__init__\u001b[1;34m(self, shell, holes)\u001b[0m\n\u001b[0;32m    229\u001b[0m \u001b[1;33m\u001b[0m\u001b[0m\n\u001b[0;32m    230\u001b[0m         \u001b[1;32mif\u001b[0m \u001b[0mshell\u001b[0m \u001b[1;32mis\u001b[0m \u001b[1;32mnot\u001b[0m \u001b[0mNone\u001b[0m\u001b[1;33m:\u001b[0m\u001b[1;33m\u001b[0m\u001b[0m\n\u001b[1;32m--> 231\u001b[1;33m             \u001b[0mret\u001b[0m \u001b[1;33m=\u001b[0m \u001b[0mgeos_polygon_from_py\u001b[0m\u001b[1;33m(\u001b[0m\u001b[0mshell\u001b[0m\u001b[1;33m,\u001b[0m \u001b[0mholes\u001b[0m\u001b[1;33m)\u001b[0m\u001b[1;33m\u001b[0m\u001b[0m\n\u001b[0m\u001b[0;32m    232\u001b[0m             \u001b[1;32mif\u001b[0m \u001b[0mret\u001b[0m \u001b[1;32mis\u001b[0m \u001b[1;32mnot\u001b[0m \u001b[0mNone\u001b[0m\u001b[1;33m:\u001b[0m\u001b[1;33m\u001b[0m\u001b[0m\n\u001b[0;32m    233\u001b[0m                 \u001b[0mself\u001b[0m\u001b[1;33m.\u001b[0m\u001b[0m_geom\u001b[0m\u001b[1;33m,\u001b[0m \u001b[0mself\u001b[0m\u001b[1;33m.\u001b[0m\u001b[0m_ndim\u001b[0m \u001b[1;33m=\u001b[0m \u001b[0mret\u001b[0m\u001b[1;33m\u001b[0m\u001b[0m\n",
      "\u001b[1;32mC:\\Users\\deepak\\Anaconda3\\envs\\ipykernel_py2\\lib\\site-packages\\shapely\\geometry\\polygon.pyc\u001b[0m in \u001b[0;36mgeos_polygon_from_py\u001b[1;34m(shell, holes)\u001b[0m\n\u001b[0;32m    481\u001b[0m \u001b[1;33m\u001b[0m\u001b[0m\n\u001b[0;32m    482\u001b[0m     \u001b[1;32mif\u001b[0m \u001b[0mshell\u001b[0m \u001b[1;32mis\u001b[0m \u001b[1;32mnot\u001b[0m \u001b[0mNone\u001b[0m\u001b[1;33m:\u001b[0m\u001b[1;33m\u001b[0m\u001b[0m\n\u001b[1;32m--> 483\u001b[1;33m         \u001b[0mret\u001b[0m \u001b[1;33m=\u001b[0m \u001b[0mgeos_linearring_from_py\u001b[0m\u001b[1;33m(\u001b[0m\u001b[0mshell\u001b[0m\u001b[1;33m)\u001b[0m\u001b[1;33m\u001b[0m\u001b[0m\n\u001b[0m\u001b[0;32m    484\u001b[0m         \u001b[1;32mif\u001b[0m \u001b[0mret\u001b[0m \u001b[1;32mis\u001b[0m \u001b[0mNone\u001b[0m\u001b[1;33m:\u001b[0m\u001b[1;33m\u001b[0m\u001b[0m\n\u001b[0;32m    485\u001b[0m             \u001b[1;32mreturn\u001b[0m \u001b[0mNone\u001b[0m\u001b[1;33m\u001b[0m\u001b[0m\n",
      "\u001b[1;32mC:\\Users\\deepak\\Anaconda3\\envs\\ipykernel_py2\\lib\\site-packages\\shapely\\geometry\\polygon.pyc\u001b[0m in \u001b[0;36mgeos_linearring_from_py\u001b[1;34m(ob, update_geom, update_ndim)\u001b[0m\n\u001b[0;32m    445\u001b[0m         \u001b[1;31m# always set X before Y\u001b[0m\u001b[1;33m\u001b[0m\u001b[1;33m\u001b[0m\u001b[0m\n\u001b[0;32m    446\u001b[0m         \u001b[0mlgeos\u001b[0m\u001b[1;33m.\u001b[0m\u001b[0mGEOSCoordSeq_setX\u001b[0m\u001b[1;33m(\u001b[0m\u001b[0mcs\u001b[0m\u001b[1;33m,\u001b[0m \u001b[0mi\u001b[0m\u001b[1;33m,\u001b[0m \u001b[0mcoords\u001b[0m\u001b[1;33m[\u001b[0m\u001b[1;36m0\u001b[0m\u001b[1;33m]\u001b[0m\u001b[1;33m)\u001b[0m\u001b[1;33m\u001b[0m\u001b[0m\n\u001b[1;32m--> 447\u001b[1;33m         \u001b[0mlgeos\u001b[0m\u001b[1;33m.\u001b[0m\u001b[0mGEOSCoordSeq_setY\u001b[0m\u001b[1;33m(\u001b[0m\u001b[0mcs\u001b[0m\u001b[1;33m,\u001b[0m \u001b[0mi\u001b[0m\u001b[1;33m,\u001b[0m \u001b[0mcoords\u001b[0m\u001b[1;33m[\u001b[0m\u001b[1;36m1\u001b[0m\u001b[1;33m]\u001b[0m\u001b[1;33m)\u001b[0m\u001b[1;33m\u001b[0m\u001b[0m\n\u001b[0m\u001b[0;32m    448\u001b[0m         \u001b[1;32mif\u001b[0m \u001b[0mn\u001b[0m \u001b[1;33m==\u001b[0m \u001b[1;36m3\u001b[0m\u001b[1;33m:\u001b[0m\u001b[1;33m\u001b[0m\u001b[0m\n\u001b[0;32m    449\u001b[0m             \u001b[1;32mtry\u001b[0m\u001b[1;33m:\u001b[0m\u001b[1;33m\u001b[0m\u001b[0m\n",
      "\u001b[1;31mKeyboardInterrupt\u001b[0m: "
     ]
    }
   ],
   "source": [
    "stx = timeit.default_timer()\n",
    "\n",
    "for directory in directories:\n",
    "    \n",
    "    \"\"\" Identifying Month, Year, Spacecraft ID \"\"\"\n",
    "    date = directory.split('\\\\')[-1].split('_')[3] # Change for Win7\n",
    "    satx = directory.split('\\\\')[-1][3]\n",
    "    month = date[4:6]\n",
    "    year = date[0:4]\n",
    "    \n",
    "    scene = directory.split('\\\\')[-1].split('_')[2]\n",
    "    index = dicti[scene]\n",
    "    \n",
    "    if index != 1: continue\n",
    "    \n",
    "    \"\"\" Visiting every GeoTIFF file \"\"\" \n",
    "    for _,_,files in os.walk(directory):\n",
    "        for filename in files:\n",
    "            \n",
    "            if filename.endswith(\".TIF\"):\n",
    "                \n",
    "                if filename[-5] == '2': break\n",
    "                \n",
    "                print os.path.join(directory,filename)\n",
    "                \n",
    "                ds = gdal.Open(os.path.join(directory,filename))\n",
    "                if ds == None: continue\n",
    "                col, row, _ = ds.RasterXSize, ds.RasterYSize, ds.RasterCount\n",
    "                xoff, a, b, yoff, d, e = ds.GetGeoTransform()\n",
    "                #--------------------\n",
    "                transform = func(ds)\n",
    "                #--------------------\n",
    "                \n",
    "                \"\"\" Now go to each pixel, find its lat,lon. Hence its district, and the pixel value \"\"\"\n",
    "                for i in range(0,col,col/k):\n",
    "                    for j in range(0,row,row/k):\n",
    "                        \n",
    "                        ########### fetching the lat and lon coordinates \n",
    "                        x,y = pixel2coord(i, j, xoff, a, b, yoff, d, e)\n",
    "                        lonx, latx, z = transform.TransformPoint(x,y)\n",
    "                        \n",
    "                        \n",
    "                        ########### fetching the name of district\n",
    "                        \n",
    "                        point = Point(lonx,latx)\n",
    "                        district = reverse_geocode(point)\n",
    "                        \n",
    "                        dicts[index][str(lonx)+str(latx)] = district\n",
    "                        \n",
    "#                         #----------------------------------------------------------\n",
    "#                         if filename[-5] == '1':\n",
    "#                             point = Point(lonx,latx)\n",
    "#                             district = reverse_geocode(point)\n",
    "#                             dicts[i][str(lonx)+str(latx)] = district\n",
    "#                         else:\n",
    "#                             print \"-------------------- !!!!!!! -------------------\"\n",
    "#                             district = dictx[str(lonx)+str(latx)]\n",
    "#                         #----------------------------------------------------------\n",
    "                        \n",
    "            \n",
    "                            \n",
    "elapsed = timeit.default_timer() - stx\n",
    "print (elapsed)\n",
    "print \"Seconds\""
   ]
  },
  {
   "cell_type": "code",
   "execution_count": 41,
   "metadata": {},
   "outputs": [
    {
     "name": "stdout",
     "output_type": "stream",
     "text": [
      "28.3252362433\n",
      "82.9115974967\n",
      "NRI\n"
     ]
    }
   ],
   "source": [
    "print latx\n",
    "print lonx\n",
    "print district"
   ]
  },
  {
   "cell_type": "code",
   "execution_count": 42,
   "metadata": {},
   "outputs": [
    {
     "name": "stdout",
     "output_type": "stream",
     "text": [
      "{'82.925425517629.0830241588': 'NRI', '82.936151005529.6513048998': 'NRI', '82.92191839328.8935857267': 'NRI', '82.92896648529.2724568491': 'NRI', '82.67781970428.5178285689': 'NRI', '82.674834043228.328348502': 'NRI', '82.680834350328.7073030592': 'NRI', '82.671877149628.1388628844': 'NRI', '82.91500463728.5146917424': 'NRI', '82.693187268129.4651447438': 'NRI', '82.690054433329.2756928147': 'NRI', '82.696350227229.6545909699': 'NRI', '82.683878203728.8967719472': 'NRI', '82.69954354829.8440314684': 'NRI', '82.918444851528.7041415791': 'NRI', '82.932541558629.4618837714': 'NRI', '82.668948807527.9493717421': 'NRI', '82.686951488829.0862352075': 'NRI', '82.939795096429.8407202086': 'NRI'}\n"
     ]
    }
   ],
   "source": [
    "print dicts[1]"
   ]
  },
  {
   "cell_type": "code",
   "execution_count": 39,
   "metadata": {},
   "outputs": [
    {
     "name": "stdout",
     "output_type": "stream",
     "text": [
      "{'77.297737755429.8952824795': u'Saharanpur', '77.026737135330.4771456606': u'Ambala', '77.042552443230.084454862': u'Kurukshetra', '77.245050995731.2700202423': u'Mandi', '77.260475880830.8772761605': u'Sirmaur', '77.275601052730.4845014023': u'Sirmaur', '77.319227622929.3059964224': u'Muzaffarnagar', '77.073261020629.2989809722': u'Panipat', '76.994158574931.2624331805': u'Solan', '77.268075614830.680892595': u'Sirmaur', '77.050343895229.8880978591': u'Karnal', '77.517528759730.6878285105': u'Sirmaur', '77.018711984330.6734793671': u'Panchkula', '77.065697563729.4953608696': u'Karnal', '77.312135227129.5024324973': u'Muzaffarnagar', '77.496035241231.2771188236': u'Shimla', '77.002423380231.0661231716': u'Solan', '77.290431515330.0916963026': u'Yamunanagar', '77.304972130629.6988611971': u'Saharanpur', '77.01060762330.869805219': u'Solan', '77.034683737630.280804144': u'Ambala', '77.058058727129.6917331801': u'Karnal', '77.510434412130.8842660815': u'Shimla', '77.252801220831.0736520568': u'Shimla', '77.50327010531.080696199': u'Shimla', '77.283052815530.2881026241': u'Yamunanagar'}\n"
     ]
    }
   ],
   "source": [
    "print dicts[0]"
   ]
  },
  {
   "cell_type": "code",
   "execution_count": null,
   "metadata": {
    "collapsed": true
   },
   "outputs": [],
   "source": []
  },
  {
   "cell_type": "code",
   "execution_count": null,
   "metadata": {
    "collapsed": true
   },
   "outputs": [],
   "source": []
  },
  {
   "cell_type": "code",
   "execution_count": null,
   "metadata": {
    "collapsed": true
   },
   "outputs": [],
   "source": []
  },
  {
   "cell_type": "code",
   "execution_count": 49,
   "metadata": {
    "collapsed": true
   },
   "outputs": [],
   "source": [
    "base = \"G:\\BTP\\Satellite\\Data\\Test\""
   ]
  },
  {
   "cell_type": "code",
   "execution_count": 50,
   "metadata": {
    "collapsed": true
   },
   "outputs": [],
   "source": [
    "directories = [os.path.join(base, d) for d in sorted(os.listdir(base)) if os.path.isdir(os.path.join(base, d))]\n",
    "# print directories"
   ]
  },
  {
   "cell_type": "code",
   "execution_count": 51,
   "metadata": {},
   "outputs": [
    {
     "data": {
      "text/html": [
       "<div>\n",
       "<style>\n",
       "    .dataframe thead tr:only-child th {\n",
       "        text-align: right;\n",
       "    }\n",
       "\n",
       "    .dataframe thead th {\n",
       "        text-align: left;\n",
       "    }\n",
       "\n",
       "    .dataframe tbody tr th {\n",
       "        vertical-align: top;\n",
       "    }\n",
       "</style>\n",
       "<table border=\"1\" class=\"dataframe\">\n",
       "  <thead>\n",
       "    <tr style=\"text-align: right;\">\n",
       "      <th></th>\n",
       "      <th>State_Name</th>\n",
       "      <th>ind_district</th>\n",
       "      <th>Crop_Year</th>\n",
       "      <th>Season</th>\n",
       "      <th>Crop</th>\n",
       "      <th>Area</th>\n",
       "      <th>Production</th>\n",
       "      <th>phosphorus</th>\n",
       "      <th>X1</th>\n",
       "      <th>X2</th>\n",
       "      <th>X3</th>\n",
       "      <th>X4</th>\n",
       "      <th>value</th>\n",
       "    </tr>\n",
       "  </thead>\n",
       "  <tbody>\n",
       "    <tr>\n",
       "      <th>0</th>\n",
       "      <td>Andhra Pradesh</td>\n",
       "      <td>anantapur</td>\n",
       "      <td>1999</td>\n",
       "      <td>kharif</td>\n",
       "      <td>Rice</td>\n",
       "      <td>37991.0</td>\n",
       "      <td>105082.0</td>\n",
       "      <td>0.0</td>\n",
       "      <td>96800.0</td>\n",
       "      <td>75400.0</td>\n",
       "      <td>643.720</td>\n",
       "      <td>881.473</td>\n",
       "      <td>2.765971</td>\n",
       "    </tr>\n",
       "    <tr>\n",
       "      <th>1</th>\n",
       "      <td>Andhra Pradesh</td>\n",
       "      <td>anantapur</td>\n",
       "      <td>2000</td>\n",
       "      <td>kharif</td>\n",
       "      <td>Rice</td>\n",
       "      <td>39905.0</td>\n",
       "      <td>117680.0</td>\n",
       "      <td>0.0</td>\n",
       "      <td>105082.0</td>\n",
       "      <td>96800.0</td>\n",
       "      <td>767.351</td>\n",
       "      <td>643.720</td>\n",
       "      <td>2.949004</td>\n",
       "    </tr>\n",
       "    <tr>\n",
       "      <th>2</th>\n",
       "      <td>Andhra Pradesh</td>\n",
       "      <td>anantapur</td>\n",
       "      <td>2001</td>\n",
       "      <td>kharif</td>\n",
       "      <td>Rice</td>\n",
       "      <td>32878.0</td>\n",
       "      <td>95609.0</td>\n",
       "      <td>0.0</td>\n",
       "      <td>117680.0</td>\n",
       "      <td>105082.0</td>\n",
       "      <td>579.338</td>\n",
       "      <td>767.351</td>\n",
       "      <td>2.907993</td>\n",
       "    </tr>\n",
       "    <tr>\n",
       "      <th>3</th>\n",
       "      <td>Andhra Pradesh</td>\n",
       "      <td>anantapur</td>\n",
       "      <td>2002</td>\n",
       "      <td>kharif</td>\n",
       "      <td>Rice</td>\n",
       "      <td>29066.0</td>\n",
       "      <td>66329.0</td>\n",
       "      <td>0.0</td>\n",
       "      <td>95609.0</td>\n",
       "      <td>117680.0</td>\n",
       "      <td>540.070</td>\n",
       "      <td>579.338</td>\n",
       "      <td>2.282013</td>\n",
       "    </tr>\n",
       "    <tr>\n",
       "      <th>4</th>\n",
       "      <td>Andhra Pradesh</td>\n",
       "      <td>anantapur</td>\n",
       "      <td>2005</td>\n",
       "      <td>kharif</td>\n",
       "      <td>Rice</td>\n",
       "      <td>25008.0</td>\n",
       "      <td>69972.0</td>\n",
       "      <td>0.0</td>\n",
       "      <td>85051.0</td>\n",
       "      <td>44891.0</td>\n",
       "      <td>819.700</td>\n",
       "      <td>564.500</td>\n",
       "      <td>2.797985</td>\n",
       "    </tr>\n",
       "  </tbody>\n",
       "</table>\n",
       "</div>"
      ],
      "text/plain": [
       "       State_Name ind_district  Crop_Year  Season  Crop     Area  Production  \\\n",
       "0  Andhra Pradesh    anantapur       1999  kharif  Rice  37991.0    105082.0   \n",
       "1  Andhra Pradesh    anantapur       2000  kharif  Rice  39905.0    117680.0   \n",
       "2  Andhra Pradesh    anantapur       2001  kharif  Rice  32878.0     95609.0   \n",
       "3  Andhra Pradesh    anantapur       2002  kharif  Rice  29066.0     66329.0   \n",
       "4  Andhra Pradesh    anantapur       2005  kharif  Rice  25008.0     69972.0   \n",
       "\n",
       "   phosphorus        X1        X2       X3       X4     value  \n",
       "0         0.0   96800.0   75400.0  643.720  881.473  2.765971  \n",
       "1         0.0  105082.0   96800.0  767.351  643.720  2.949004  \n",
       "2         0.0  117680.0  105082.0  579.338  767.351  2.907993  \n",
       "3         0.0   95609.0  117680.0  540.070  579.338  2.282013  \n",
       "4         0.0   85051.0   44891.0  819.700  564.500  2.797985  "
      ]
     },
     "execution_count": 51,
     "metadata": {},
     "output_type": "execute_result"
    }
   ],
   "source": [
    "ricep = pd.read_csv(\"C:\\Users\\deepak\\Desktop\\Repo\\BTP\\Ricep.csv\")\n",
    "ricep = ricep.drop([\"Unnamed: 0\"],axis=1)\n",
    "ricep[\"value\"] = ricep[\"Production\"]/ricep[\"Area\"]\n",
    "ricep.head()"
   ]
  },
  {
   "cell_type": "code",
   "execution_count": 52,
   "metadata": {
    "collapsed": true
   },
   "outputs": [],
   "source": [
    "a = np.empty((ricep.shape[0],1))*np.NAN"
   ]
  },
  {
   "cell_type": "code",
   "execution_count": 53,
   "metadata": {
    "collapsed": true
   },
   "outputs": [],
   "source": [
    "\"\"\" 'features' contain collumn indexes for the new features \"\"\"\n",
    "\"\"\" 'dictn' is the dictionary mapping name of collumn index to the index number \"\"\"\n",
    "features = []\n",
    "dictn = {}\n",
    "k = 13\n",
    "for i in range(1,13):\n",
    "    for j in range(1,11):\n",
    "        s = str(i) + \"_B\" + str(j) + \"_\"\n",
    "        features.append(s+\"M\")\n",
    "        features.append(s+\"V\")\n",
    "        dictn[s+\"M\"] = k\n",
    "        dictn[s+\"V\"] = k+1\n",
    "        k = k+2"
   ]
  },
  {
   "cell_type": "code",
   "execution_count": 54,
   "metadata": {
    "collapsed": true
   },
   "outputs": [],
   "source": [
    "for i in range(1,13):\n",
    "    for j in range(1,11):\n",
    "        s = str(i) + \"_B\" + str(j) + \"_\"\n",
    "        features.append(s+\"Mn\")\n",
    "        features.append(s+\"Vn\")"
   ]
  },
  {
   "cell_type": "code",
   "execution_count": 55,
   "metadata": {
    "collapsed": true
   },
   "outputs": [],
   "source": [
    "tmp = pd.DataFrame(index=range(ricep.shape[0]),columns=features)\n",
    "ricex = pd.concat([ricep,tmp], axis=1)"
   ]
  },
  {
   "cell_type": "code",
   "execution_count": 56,
   "metadata": {
    "collapsed": true
   },
   "outputs": [],
   "source": [
    "k = 50\n",
    "hits = 0\n",
    "times = [0,0,0,0,0,0,0,0]\n",
    "nums = [0,0,0,0,0,0,0,0]\n",
    "\n",
    "bx = False"
   ]
  },
  {
   "cell_type": "code",
   "execution_count": 57,
   "metadata": {},
   "outputs": [
    {
     "name": "stdout",
     "output_type": "stream",
     "text": [
      "G:\\BTP\\Satellite\\Data\\Test\\LE07_L1TP_146039_20101223_20161211_01_T1\\LE07_L1TP_146039_20101223_20161211_01_T1_B1.TIF\n"
     ]
    },
    {
     "ename": "KeyError",
     "evalue": "'76.991472364931.2515341561'",
     "output_type": "error",
     "traceback": [
      "\u001b[1;31m---------------------------------------------------------------------------\u001b[0m",
      "\u001b[1;31mKeyError\u001b[0m                                  Traceback (most recent call last)",
      "\u001b[1;32m<ipython-input-57-6ff2746741fd>\u001b[0m in \u001b[0;36m<module>\u001b[1;34m()\u001b[0m\n\u001b[0;32m     71\u001b[0m                         \u001b[1;31m########### fetching the name of district\u001b[0m\u001b[1;33m\u001b[0m\u001b[1;33m\u001b[0m\u001b[0m\n\u001b[0;32m     72\u001b[0m \u001b[1;33m\u001b[0m\u001b[0m\n\u001b[1;32m---> 73\u001b[1;33m                         \u001b[0mdistrict\u001b[0m \u001b[1;33m=\u001b[0m \u001b[0mdicts\u001b[0m\u001b[1;33m[\u001b[0m\u001b[0mindex\u001b[0m\u001b[1;33m]\u001b[0m\u001b[1;33m[\u001b[0m\u001b[0mstr\u001b[0m\u001b[1;33m(\u001b[0m\u001b[0mlonx\u001b[0m\u001b[1;33m)\u001b[0m\u001b[1;33m+\u001b[0m\u001b[0mstr\u001b[0m\u001b[1;33m(\u001b[0m\u001b[0mlatx\u001b[0m\u001b[1;33m)\u001b[0m\u001b[1;33m]\u001b[0m\u001b[1;33m\u001b[0m\u001b[0m\n\u001b[0m\u001b[0;32m     74\u001b[0m                         \u001b[1;31m#----------------------------------------------------------\u001b[0m\u001b[1;33m\u001b[0m\u001b[1;33m\u001b[0m\u001b[0m\n\u001b[0;32m     75\u001b[0m                         \u001b[0mtimes\u001b[0m\u001b[1;33m[\u001b[0m\u001b[1;36m1\u001b[0m\u001b[1;33m]\u001b[0m \u001b[1;33m+=\u001b[0m \u001b[0mtimeit\u001b[0m\u001b[1;33m.\u001b[0m\u001b[0mdefault_timer\u001b[0m\u001b[1;33m(\u001b[0m\u001b[1;33m)\u001b[0m \u001b[1;33m-\u001b[0m \u001b[0mst\u001b[0m\u001b[1;33m\u001b[0m\u001b[0m\n",
      "\u001b[1;31mKeyError\u001b[0m: '76.991472364931.2515341561'"
     ]
    }
   ],
   "source": [
    "stx = timeit.default_timer()\n",
    "\n",
    "for directory in directories:\n",
    "    \n",
    "#     if bx: continue\n",
    "#     else: bx = True\n",
    "    \n",
    "    \"\"\" Identifying Month, Year, Spacecraft ID \"\"\"\n",
    "    date = directory.split('\\\\')[-1].split('_')[3] # Change for Win7\n",
    "    satx = directory.split('\\\\')[-1][3]\n",
    "    month = date[4:6]\n",
    "    year = date[0:4]\n",
    "    \n",
    "    scene = directory.split('\\\\')[-1].split('_')[2]\n",
    "    index = dicti[scene]\n",
    "    \n",
    "    \"\"\" Visiting every GeoTIFF file \"\"\" \n",
    "    for _,_,files in os.walk(directory):\n",
    "        for filename in files:\n",
    "            \n",
    "            # make sure not going into the extra folders\n",
    "            \n",
    "            if filename.endswith(\".TIF\"):\n",
    "                \n",
    "                if filename[-5] == '8': continue\n",
    "                #--------------------------------------------------------------------------------------\n",
    "                # Check for a single iteration. Which step takes the longest time.\n",
    "                # improve that step\n",
    "                \n",
    "                # Do it all for B1.tif only.\n",
    "                # for others save the row indexes found in B1's iteration\n",
    "                # so dont have to search the dataframe again and again.\n",
    "                # but keep track of the pixels which were not found, so have to skip them too\n",
    "                # so that correct pixel value goes to the correct row in dataframe\n",
    "                # have to traverse the tiff file to get the pixel values\n",
    "                \n",
    "                # what all steps are common for all the 10 tif files\n",
    "                # the district search from the pixel's lat,lon coordinates\n",
    "                # the row index search using district and the year\n",
    "                # the same n is read and wrote for all the ...\n",
    "                \n",
    "                # If nothing works, maybe we can reduce the number of features, by just visiting \n",
    "                # First 5 TIF files for each scene.\n",
    "                #--------------------------------------------------------------------------------------\n",
    "                \n",
    "                \n",
    "                print os.path.join(directory,filename)\n",
    "                \n",
    "                ds = gdal.Open(os.path.join(directory,filename))\n",
    "                if ds == None: continue\n",
    "                col, row, _ = ds.RasterXSize, ds.RasterYSize, ds.RasterCount\n",
    "                xoff, a, b, yoff, d, e = ds.GetGeoTransform()\n",
    "                \n",
    "                \"\"\" Now go to each pixel, find its lat,lon. Hence its district, and the pixel value \"\"\"\n",
    "                \"\"\" Find the row with same (Year,District), in Crop Dataset. \"\"\"\n",
    "                \"\"\" Find the feature using Month, Band, SATx \"\"\"\n",
    "                \"\"\" For this have to find Mean & Variance \"\"\"\n",
    "                \n",
    "                for i in range(0,col,col/k):\n",
    "                    for j in range(0,row,row/k):\n",
    "                        \n",
    "                        st = timeit.default_timer()\n",
    "                        ########### fetching the lat and lon coordinates \n",
    "                        x,y = pixel2coord(i, j, xoff, a, b, yoff, d, e)\n",
    "                        lonx, latx, z = transform.TransformPoint(x,y)\n",
    "                        times[0] += timeit.default_timer() - st\n",
    "                        nums[0] += 1\n",
    "                        \n",
    "                        \n",
    "                        st = timeit.default_timer()\n",
    "                        ########### fetching the name of district\n",
    "                        \n",
    "                        district = dicts[index][str(lonx)+str(latx)]\n",
    "                        #----------------------------------------------------------\n",
    "                        times[1] += timeit.default_timer() - st\n",
    "                        nums[1] += 1\n",
    "                        \n",
    "                        if district == \"NRI\": continue\n",
    "                        \n",
    "                        \n",
    "                        st = timeit.default_timer()\n",
    "                        ########### Locating the row in DataFrame which we want to update\n",
    "                        district = district.lower()\n",
    "                        district = district.strip()\n",
    "                        r = ricex.index[(ricex['ind_district'] == district) & (ricex['Crop_Year'] == int(year))].tolist()\n",
    "                        times[3] += timeit.default_timer() - st\n",
    "                        nums[3] += 1\n",
    "                        \n",
    "                        \n",
    "                        if len(r) == 1:\n",
    "                            \n",
    "                            st = timeit.default_timer()\n",
    "                            ########### The pixel value for that location\n",
    "                            px,py = i,j\n",
    "                            pix = ds.ReadAsArray(px,py,1,1)\n",
    "                            pix = pix[0][0]\n",
    "                            times[2] += timeit.default_timer() - st\n",
    "                            nums[2] += 1\n",
    "                            \n",
    "                            \n",
    "                            st = timeit.default_timer()\n",
    "                            \"\"\" Found the row, so now ..\"\"\"\n",
    "                            \"\"\" Find Collumn index corresponding to Month, Band \"\"\"\n",
    "                            hits = hits + 1\n",
    "                            #print (\"Hits: \", hits)\n",
    "                            ####### Band Number ########\n",
    "                            band = filename.split(\"\\\\\")[-1].split(\"_\")[7:][0].split(\".\")[0][1]\n",
    "                            bnd = band\n",
    "                            if band == '6':\n",
    "                                if filename.split(\"\\\\\")[-1].split(\"_\")[7:][2][0] == '1':\n",
    "                                    bnd = band\n",
    "                                else:\n",
    "                                    bnd = '9'\n",
    "                            elif band == 'Q':\n",
    "                                bnd = '10'\n",
    "                            \n",
    "                            sm = month + \"_B\" + bnd +\"_M\"\n",
    "                            \n",
    "                            cm = dictn[sm]\n",
    "                            \n",
    "                            r = r[0]\n",
    "                            # cm is the collumn indexe for mean\n",
    "                            # r[0] is the row index\n",
    "                            times[4] += timeit.default_timer() - st\n",
    "                            nums[4] += 1\n",
    "                            \n",
    "                            \n",
    "                            ##### Checking if values are null ...\n",
    "                            valm = ricex.iloc[r,cm]\n",
    "                            if pd.isnull(valm): \n",
    "                                \n",
    "                                st = timeit.default_timer()\n",
    "                                ricex.iloc[r,cm] = pix\n",
    "                                ricex.iloc[r,cm+1] = pix*pix\n",
    "                                ricex.iloc[r,cm+240] = 1\n",
    "                                times[5] += timeit.default_timer() - st\n",
    "                                nums[5] += 1\n",
    "                        \n",
    "                                continue\n",
    "                                \n",
    "                                \n",
    "                            st = timeit.default_timer()\n",
    "                            ##### if the values are not null ...\n",
    "                            valv = ricex.iloc[r,cm+1]\n",
    "                            n = ricex.iloc[r,cm+240]\n",
    "                            n = n+1\n",
    "                            times[6] += timeit.default_timer() - st\n",
    "                            nums[6] += 1\n",
    "                        \n",
    "                            \n",
    "                            \n",
    "                            st = timeit.default_timer()\n",
    "                            # Mean & Variance update\n",
    "                            ricex.iloc[r,cm] = valm + (pix-valm)/n\n",
    "                            ricex.iloc[r,cm+1] = ((n-2)/(n-1))*valv + (pix-valm)*(pix-valm)/n\n",
    "                            ricex.iloc[r,cm+240] = n\n",
    "                            \n",
    "                            times[7] += timeit.default_timer() - st\n",
    "                            nums[7] += 1\n",
    "                        \n",
    "                            \n",
    "                        \n",
    "                            #print (\"No match for the district \" + district + \" for the year \" + year)\n",
    "                            \n",
    "                            \n",
    "elapsed = timeit.default_timer() - stx\n",
    "print (elapsed)\n",
    "print \"Seconds\""
   ]
  },
  {
   "cell_type": "code",
   "execution_count": 58,
   "metadata": {},
   "outputs": [
    {
     "data": {
      "text/plain": [
       "0"
      ]
     },
     "execution_count": 58,
     "metadata": {},
     "output_type": "execute_result"
    }
   ],
   "source": [
    "index"
   ]
  },
  {
   "cell_type": "code",
   "execution_count": 75,
   "metadata": {},
   "outputs": [
    {
     "name": "stdout",
     "output_type": "stream",
     "text": [
      "['77.335882852430.1746511388', '78.579584109429.9288540221', '78.604144805230.9494805032', '78.571926699130.24262425', '79.213186585630.4099272585', '77.858564328430.8550536536', '78.88250390429.6201125941', '79.42785722929.3921850536', '78.13077293130.0767740747', '77.198819448131.1510305464', '77.105357841330.9914019989', '77.372325351730.528611124', '77.782270581630.1471491168', '77.954474060730.9750227539', '77.530926397530.2584006912', '79.281099015129.3511214835', '77.393867386329.940953595', '79.373696747229.7055476162', '79.129434514229.5845768415', '79.104752840430.8793116784', '77.659329503830.8500618352', '78.801042847631.0706938759', '77.232521335630.2893603675', '77.639235301829.9866698695', '78.160968176330.7443562214', '78.821350060330.1685283225', '77.855105671629.4035799182', '79.300096057631.1174827585', '77.316772432530.6839069342', '78.538851549429.5749392352', '78.777982653529.8931064638', '79.474650897329.5497406946', '77.079368844530.4024854286', '79.460780527630.452328707', '77.088715768230.1675052766', '79.272422220929.8612619424', '78.6540412330.9503962176', '77.836719418229.99156729', '77.795633785331.245728251', '77.595596338731.2405813475', '78.314639198830.590701191', '78.555249145530.9093299626', '78.008022228330.8585967571', '78.801944947731.0314721533', '78.481821218429.8877834717', '78.780586702729.7754211184', '77.841675806429.8347767854', '78.107675250530.8608631656', '78.040055019629.8001441918', '77.713139651530.7337762462', '78.443411411229.455415966', '79.455806896330.7662417992', '77.533678585330.180033489', '79.228576365129.5466871212', '78.191226760429.6857423525', '78.492553933829.45635123', '77.761573781430.7742175688', '79.206696058230.7630360434', '78.771846250930.1676966149', '78.825644456929.972387279', '77.39709941131.1959522796', '79.511638528530.374422711', '79.315825072730.2150576766', '77.944430675431.2885780137', '78.581479660329.850408851', '79.119902516330.0946566098', '78.716898875130.4021911568', '79.409199747530.5694497424', '79.170102999330.0561189607', '78.294956498529.4917178077', '77.97650446330.2694573649', '78.381065129129.9642943986', '79.032505437429.5046797939', '78.756586881530.834505589', '77.895671366531.248185239', '77.223473538330.5243759651', '79.304958512930.8428457156', '78.696373607931.2650418201', '79.5019738131.002255371', '79.472877250929.6674769021', '77.552643254129.631430628', '77.551282696931.0825317401', '77.502802079531.042008153', '79.423602182729.666899884', '79.064280393730.4078042799', '78.563166763430.5955956384', '78.41819413130.4358601842', '78.897516165931.2292543518', '77.159910632630.8754090952', '79.46262557230.3346072076', '78.626163386930.0474218731', '77.040859711430.1268583195', '79.448839478831.1978462443', '77.005675153930.9883530459', '77.7556826429.4404220438', '78.977049125629.8178194898', '78.135284426929.9199430948', '77.353135757931.0378599886', '78.586185904329.6542913701', '78.5833677429.7719626382', '78.691807518129.3422253195', '77.148773062229.8947981169', '78.785748698529.5400435285', '79.048486545631.192395825', '79.525576493129.4325557113', '77.094126867531.2655150993', '79.401422799931.0402932193', '77.736687357430.0283486441', '78.345984114531.2582798481', '77.3980999929.8234141203', '79.009855697230.6424401298', '78.411955019630.6711420586', '79.009051375730.6816694361', '77.949472001531.1318026584', '78.86233695230.5616169421', '76.999113535331.1449721653', '78.728616980829.8922654086', '79.265594431430.2536492606', '77.108592732829.6583439136', '77.760258532230.8134069138', '78.564147757330.5563776524', '77.928204626230.2291046179', '77.856001840930.9334385052', '77.923306872830.3858986657', '78.680161713429.8521803933', '77.099482010529.8933478444', '77.11610296729.4624990092', '78.87085591430.1693413725', '77.481433406630.2570788541', '79.36145204130.4511189212', '77.820338864130.5011053493', '77.895818214229.6791452197', '79.08463953829.3484450186', '77.977705692430.23025663', '78.023657738930.3489966788', '77.494147814131.2770672749', '78.665411982330.4797574284', '79.499509882931.159203583', '78.424360109730.2005686757', '77.495597244431.237891502', '77.757620293630.8917847394', '79.516358077530.0604826739', '78.253814566730.9817381485', '77.10708176129.6975119912', '78.243677526729.5691370899', '77.946231321329.6410872888', '77.730229675930.2243100474', '78.445375488329.3769733226', '77.33733276730.1354755247', '78.446083228331.2603091716', '77.121137747730.5997854024', '77.964361439830.6614493684', '77.406490385329.5883272724', '79.311112965530.4897228225', '77.765504100530.6566478086', '78.200475667331.0982784972', '79.35010161431.1181328877', '79.354150922730.8827244742', '78.148173293131.1755859647', '78.297037617429.413284959', '77.104050853829.7758472406', '79.203774377730.91996671', '79.310434496230.5289597022', '77.850846680731.0902047756', '79.251529245231.0383488346', '77.023457133330.5576245231', '78.050617477331.0949342123', '77.345972564429.9004156118', '77.802325665629.5200082116', '79.249371485831.1560450585', '77.203501062631.0335388013', '77.260478008429.5450729662', '78.312471297530.6691211416', '78.200960025429.3328272625', '77.933063986830.0723061015', '77.786079279930.0295656794', '79.450754593431.0801389461', '78.199323863231.1374817769', '77.521208106430.5326766977', '79.205238081830.8415018837', '77.133540879530.2864699247', '77.14423484830.0123028448', '78.214122871530.6278176056', '77.662043144930.7716912599', '77.34713240431.1945416804', '78.567079205230.4387221062', '77.277565246130.4082934202', '78.401391971331.0632569594', '78.225252684330.2357367144', '77.561129554630.8082701719', '79.374328570829.6663045587', '78.165552921230.5875371066', '79.027925035129.7400958803', '79.322444911629.8226577921', '78.569023924830.3602837544', '78.337931725229.7280106248', '77.648368105331.1635324557', '78.138644765229.8023170064', '78.384142870229.8466448696', '79.003376736130.9562673932', '78.441439535629.5338575646', '77.706449673430.9297118161', '78.266041862630.5504566677', '77.4644536330.7272325748', '79.455179682530.8054798167', '78.152857880231.0187790354', '77.367129718729.3127195001', '79.063505337430.4470362825', '77.000758749931.1058178596', '78.439459836229.6122981163', '77.620479843930.5352928053', '78.761127939730.6383931149', '78.980980781129.6216484307', '77.150471341331.1103835613', '78.052624432629.3688653146', '77.239980110430.0935057322', '78.280155885730.040717954', '77.293760398829.9773889366', '78.570961010830.281844348', '77.445984523729.8639322031', '77.695608647531.243193609', '78.652119966331.0288323169', '78.699224857231.1473878846', '78.903556260930.9546861622', '77.051739691629.8527149682', '78.215245715630.5886107447', '79.260734328830.5283055507', '78.087072104329.8796540325', '77.181509144130.3270922501', '78.863196404930.5223905443', '79.254386611230.8814169852', '79.397465225931.2757014092', '78.837445599129.4231584085', '78.822212328730.1293006271', '77.66068765330.8108766931', '79.421144124329.8238744229', '79.15312174730.9584948005', '78.834107129529.5800860243', '77.871227190530.4631123233', '77.748304725731.1660980224', '79.113158810430.447763926', '77.996961979331.2113690336', '77.264797163229.4275440941', '78.968261637630.2493735868', '78.833268371729.6193172948', '77.234018962830.2501900428', '78.766518705530.403049537', '77.22195518730.5635441697', '78.645336030331.3033502899', '77.562525267830.7690887682', '78.813512797230.5215659815', '79.526143006929.3933082152', '78.797416745731.2275781397', '78.098179544731.174467768', '78.606099168730.871046169', '77.013805352530.792572055', '78.102945976731.0176677008', '79.012259208730.524750676', '77.867454375630.5806977011', '79.302188132930.9997826844', '77.401545000231.0784349784', '79.328935222629.4302332716', '79.523299173829.5895432795', '79.279116460729.4688498898', '79.524440089929.5110499791', '79.362107989930.4118805546', '78.044657389729.6433193178', '77.218629317929.3478074718', '78.675602271730.0483053665', '78.050359391929.4472821001', '78.709537366430.7159697599', '77.825423708730.3443294937', '78.499235015431.1436579366', '77.477225889330.3746212636', '77.631260435930.221800905', '79.372429344929.7840329962', '79.471093043829.7852109194', '78.930135215829.6993564102', '78.61384044630.5572982255', '77.706579986129.4392154608', '77.775872566430.343115848', '77.565308504830.6907250789', '77.815213933230.6578766578', '78.830742118529.7370095826', '77.925760564530.3075022015', '79.050895264431.0747136328', '78.168967940330.4699198826', '78.764728839330.481498437', '77.51559455630.6893993883', '77.28791175630.134085664', '78.919538991530.2093657216', '78.784034837329.618503745', '77.704042025329.5176054838', '79.520427042929.7857722875', '78.329578275430.0417312916', '77.259494322330.8783294671', '78.149347877331.1363846501', '77.204000576429.7395438362', '79.210316066430.5668670172', '77.500743280729.7085128604', '79.028692216929.7008604916', '79.227204766429.62516846', '78.157505945830.8619676602', '79.106294724330.8008507416', '77.954462716829.3666579683', '77.647116424529.7515285272', '77.215851927930.720213943', '77.195683096431.2293568308', '77.455812773930.9622934326', '79.37558847329.5878177095', '77.319744321830.6055631897', '79.525008854729.471802966', '77.327123246130.4096985654', '78.93334121729.5424218625', '78.980197557229.6608831455', '78.426399310130.1221360415', '79.035528935329.3477307441', '77.350139945831.1162014416', '79.124332326929.8592404222', '78.3611448230.7093522572', '77.457019507829.5504662607', '78.98409821629.4647070633', '78.146408533129.527846667', '77.465181941529.3153546568', '78.673765869130.1267535409', '77.666093721630.6541332163', '78.397270848829.3368027788', '78.483790019829.8093436021', '78.770962690230.2069227487', '79.128709948629.6238152423', '77.257969151730.9174971623', '77.502102262529.6693273994', '78.811752272730.6000159491', '79.513417079730.2566970395', '78.245895318131.2561727004', '78.364339793730.5917179922', '79.313140388930.3720106842', '77.671457558230.4973851007', '78.566103974930.4779408861', '77.331515960330.2921761951', '77.926983797130.2683035495', '77.248755234831.1524969073', '77.965586497730.6222514279', '77.043983594530.04853318', '78.807320606830.7961363193', '77.292302553930.0165635655', '78.873379074430.0516536962', '77.039293154430.1660204281', '78.298170925631.1788242478', '77.410648419929.4707799169', '78.239397736429.7259910435', '78.592696919129.3797160186', '77.424819066930.4516304175', '77.896953508831.2089933818', '79.116170767530.2908298625', '78.003542205429.3677706534', '77.353094741929.7045242316', '77.751928496229.55801242', '77.772003462830.4606924751', '79.024066302129.9362690564', '77.413273201530.7650422649', '77.847816513129.6387823742', '78.230736036230.0396860803', '78.48575105929.7309026829', '77.997768499929.5638018477', '79.517526382529.9819952128', '78.17236289530.3523001913', '77.11643617330.7172736322', '79.163549435530.4092384495', '79.025614370229.8578005403', '77.511540270429.3950211145', '79.296581859731.3136444803', '77.848253939431.1685861899', '79.321788791529.8618988927', '77.644499742629.8299101157', '78.457580727430.8289793053', '79.323753268229.7441748519', '78.90866798730.7193318682', '77.676779444830.3406323655', '78.541698755829.4572683789', '77.367940257530.6461345994', '77.949773033329.5234763671', '77.470158036930.5705193926', '78.747370220531.2267108495', '79.133751892229.3491412321', '79.127983947529.6630533947', '77.334430082930.2138264554', '77.563918249730.7299070704', '78.325351871930.1985852146', '77.482830407530.2178974642', '79.49702659631.3161477884', '78.30481634430.9435823997', '77.980101071930.1518543266', '77.163707925829.5030961199', '79.225827727229.7036488115', '78.146996410631.2147870003', '78.437472287429.690737619', '78.091616010529.7228244251', '79.17724959629.6637402254', '77.995442970529.6422124158', '77.012185668530.8317288816', '77.454362741731.001469198', '79.311790102530.4504856927', '79.076475929829.7800578781', '78.76741100330.3638246975', '79.015441931430.3678278305', '79.312465909630.4112483133', '78.259405120830.7857052152', '77.846953763331.2077764658', '78.480833898929.9270030123', '78.536943996429.6533851743', '77.212782315830.7985469976', '78.203917592630.9806669968', '79.024841100329.8970349242', '78.650191166831.1072673543', '79.00500601530.8778121195', '78.978626453729.7393518211', '79.522727018829.6287895665', '77.193587218130.0137415328', '77.810048646430.8146434007', '78.950948308431.0731637602', '78.004690098729.3285635984', '77.796957075231.2065401618', '77.052280797531.0682020263', '77.018645423330.6750996952', '77.467311424630.6488765764', '79.515772194330.0997260374', '78.036579304929.9177599771', '79.011459611130.5639807496', '78.640902721529.419821352', '77.649747675731.1243496534', '77.894611558729.7183462224', '78.68646975429.5775945896', '77.748152005829.6756002763', '77.764196561230.6958380159', '78.131904142130.0375667382', '77.158345097730.91457228', '78.41922685330.3966456003', '78.585248372829.6935153857', '78.755673315430.8737272984', '77.021856372330.5967832257', '77.208419604829.6220260488', '79.158371404630.6838728362', '77.444592857929.9031141372', '79.476999420529.3927556877', '78.973875713729.974751799', '78.714151854530.519860094', '78.913719897430.4839682731', '77.169239760930.6404235159', '77.251762475329.7801227247', '78.267140409230.5112476226', '79.303576037230.9213147045', '79.411115531630.4517332599', '79.515185154930.1389691559', '77.597868326329.7502699742', '77.544579610629.8665530673', '78.046944963229.5649052457', '77.821613822930.4619118109', '77.122698806330.5606220425', '78.66728120330.401313949', '78.054243014830.9773381328', '77.970462761530.4654568615', '79.177956517129.6245009851', '78.03425070729.9961691296', '77.857516207829.3251768886', '79.023289973229.9755029366', '77.318108552829.3113750053', '76.995813453331.2232798261', '79.510446981930.4529052603', '78.519432775330.3593515377', '79.301492139331.0390162954', '79.207422904430.7238027435', '77.65490472129.5163769446', '77.588530041330.0245865855', '77.306278662530.9581005184', '77.194110322331.2685195082', '78.216366358230.5494036101', '77.879944431230.1887365699', '79.172261816529.9384079556', '78.953465513430.9554864052', '78.11236761730.7040541798', '78.355777921930.90540395', '77.471577161330.5313403569', '79.162814070330.4484726911', '78.595254883531.3024218064', '77.325653247430.4488720905', '78.106496401930.9000647173', '77.762886456330.735027936', '78.041209024229.7609383827', '77.405964599630.9609149634', '78.809098491430.7176889521', '79.029457882829.6616248524', '78.22193667730.353363842', '79.262129763330.4498335768', '77.924534924430.3467005737', '78.54720648231.2230471966', '78.048188607931.1733301932', '78.67834333329.9306311592', '78.01769123730.5450022893', '78.386184594229.768210525', '78.421286216330.3182156308', '78.995965526931.3093033407', '78.472864868730.2407498421', '77.806148033830.9322154505', '77.201943572631.072703025', '78.958455755430.7201247158', '78.445025683831.2995193528', '77.584488311930.1421465316', '77.452901810129.6680181655', '78.095782315231.2528661209', '77.789865531529.9119797029', '77.572219039430.4948107266', '78.53406848229.7710521304', '79.051695033331.0354857202', '77.159258396829.6206098683', '78.365400611830.5525060306', '77.147300236231.188705901', '78.53598738629.6926077536', '78.931741388929.6208896403', '79.000920820331.07394837', '77.75692907429.4012246931', '79.522153730129.668035611', '77.455649654429.5896505184', '78.670071287930.2836467679', '78.590845832329.4581674099', '77.537786612930.0624805044', '77.26192057629.5058969705', '78.934138758229.5031875963', '78.053753590329.3296565162', '77.150279847629.85562927', '78.180206988130.0778446905', '78.823931776330.0508444659', '79.446913092631.3155512804', '77.498487627331.1595390584', '78.01528818730.6234025843', '78.066175461930.5853330187', '78.195854909831.2550899512', '78.147508892829.4886355407', '78.740904607129.3430659517', '78.631745325129.8120794408', '78.390243912729.6113386648', '79.500127674531.1199669051', '78.080188654230.1148902575', '77.468736126230.6096981325', '78.045750225431.2517250472', '77.595213389629.8286475834', '77.560611831129.396297873', '78.86661737730.3654823736', '78.212997822130.6670241926', '79.502586782330.9630176935', '77.937885207629.9155031346', '77.3561198830.9595173238', '78.614799588530.5180785432', '77.569462955630.5731773452', '78.531175871729.8887167374', '77.301737150931.0756075007', '77.832976395530.1091572254', '78.018889229330.5058017236', '78.235083980629.8828407127', '78.206201008330.9022579481', '77.108538575630.9130811611', '77.702769272629.5568000738', '77.679424744130.2622542717', '78.847465410331.2284259748', '78.647283781931.2249179153', '77.062470541129.57855667', '77.986048405929.9558437198', '79.52670839829.3540604779', '78.342059204429.5711439145', '77.778439325130.264730007', '78.795593031631.3060186925', '79.266970779130.1751737861', '77.244107615331.2699926338', '78.77007738830.246148624', '77.14271614130.0514704821', '77.510199974529.4342085877', '78.331679016629.9633027244', '77.866191826630.6198922608', '79.080208711329.5838739493', '79.309754692430.5681963317', '77.472993504130.4921610259', '79.20814832630.6845691907', '79.110123075130.6046939399', '79.299395964831.1567156103', '78.733924812629.656900354', '77.096421069429.9716800627', '77.568080853230.612360216', '77.700216202329.6351884091', '79.328291960229.4694768261', '79.302882764730.9605488207', '77.10556780329.736679767', '79.356157793730.7650168725', '79.421760462629.784631155', '78.39925443131.1416766881', '78.773608159230.0892435732', '78.759316858930.7168388891', '78.145817226131.2539877568', '77.859841813830.8158607997', '79.164283356130.3700039559', '78.772728072930.128470223', '79.230623600929.4289632659', '78.405642036930.9064142446', '79.457681170430.6485262527', '77.441801281729.9814771293', '78.36962311230.3956554906', '78.548218711631.1838334812', '77.529546239330.2975838551', '77.145750567329.9731349047', '78.881682546729.6593448725', '79.257926957730.6852464851', '78.661651436230.6366412396', '78.097245613229.5267813074', '77.042423189730.0876959033', '77.942668538929.7586957356', '78.789156119229.3831200455', '79.497649239931.2769121134', '79.010658441530.6032105676', '77.189080198730.1312503201', '79.256514984130.7637154421', '77.999436664131.1329771713', '78.695419469731.3042592674', '79.018599710930.2109009138', '77.155204827230.992897722', '79.505633688430.7668255684', '78.701116417631.068950602', '78.332726284129.9240880402', '77.226501319630.4460386444', '78.353616400130.9838227258', '79.40207788931.0010576403', '78.100596732929.4091521924', '77.091806990530.0891761068', '78.310294874230.7475400057', '78.099481904829.4483621672', '78.479844629429.9662222897', '79.307022088230.7251403438', '78.878380825829.8162714525', '78.327469236330.120158789', '78.588055412329.5758425618', '78.491587856329.4955736484', '77.715797347730.6553999933', '77.461584615230.8055873853', '77.489774330630.021986128', '77.400907841629.7450530056', '79.1169200630.2515957155', '78.932542094829.5816558773', '78.922008447630.091675078', '77.725017599230.38107404', '77.80484273130.9714055594', '79.512232546130.3351810666', '78.128503812330.1551879293', '78.776238031729.9715620787', '78.055446805630.9381388785', '78.708609023430.7551909065', '78.589917533929.4973927188', '77.192087834730.0529114302', '77.931852732130.1115061485', '79.408558639330.6086880725', '79.280439473929.3903645304', '77.298116736229.8598632664', '79.461396752530.4130884544', '79.351456673631.0396644243', '78.537898716529.6141623348', '78.607073482530.8318286033', '79.125065540929.8200035153', '77.996606885129.6030072684', '78.474868917330.1623147207', '77.002400754331.0666632376', '77.668780901230.5757597372', '78.636346673629.6159536197', '79.108596240830.683157424', '79.3627626530.3726419392', '77.295640238731.2322792056', '78.967453288430.2886042538', '77.416154196429.3140460521', '78.95679885930.7985796442', '77.539150572130.0232955957', '78.663535401630.5581998593', '79.219563245730.0567981287', '77.610986724429.3583648209', '77.365738688929.3519012846', '78.409858936830.7495671998', '77.816498938730.618684258', '78.986420128829.3469984109', '78.422312864230.2790002456', '78.339999546329.6495777993', '78.454469554730.9466179641', '77.897022487129.6399439403', '79.324405508929.7049330129', '77.492532812529.9436195524', '78.83158586929.6977790742', '77.85147191229.5211823922', '78.721441382830.2060710526', '77.981295229830.1126527588', '78.346154137429.4142729754', '77.589871986129.9853993601', '78.937313163429.3462480214', '77.739252675829.9499620954', '77.458386654529.511281714', '77.941476244729.7978979998', '78.300394737231.1004113954', '78.690922293329.3814541704', '77.102530908629.8150144116', '78.800138980331.1099153361', '77.354510761429.6653450737', '77.025054758830.5184655091', '78.611916501930.6357367985', '79.09930842431.1539168988', '78.410908005930.7103547639', '79.449479099931.1586107293', '78.962569657630.5239828943', '78.181318773130.0386356738', '78.949261941331.1516140337', '78.139760462329.7631077682', '77.936683464329.9547042925', '78.632669236629.7728547938', '78.435476863629.7691760707', '78.855400265630.8754188003', '78.447138708131.2210987187', '77.558329915930.8866320962', '79.117667878630.2123613165', '78.143094357429.6454784315', '77.321225902530.5663908657', '79.248649413231.1952766248', '77.282016930.2907776106', '77.640555307229.9474803597', '77.300217386231.1147758853', '78.031912910130.0745771828', '77.053281760829.8135504093', '78.854525503930.9146428638', '79.223751928529.8213674838', '79.060389835230.6039617507', '77.39103171330.0193117761', '77.315286362729.389733994', '78.389232091129.6505570256', '77.695079687129.7919616927', '78.681068214329.8129546228', '78.790003760829.3438885407', '78.336894745229.7672266396', '79.412386458230.3732543633', '79.323099736429.7834164451', '78.624288013430.1258672686', '79.261432731730.4890696892', '77.294108554831.2714463668', '78.197013488331.2158875042', '78.666347511130.4405358197', '78.362211901330.6701411058', '79.208872325330.6453353853', '78.504358919730.9475913732', '77.872479865130.4239166321', '77.966809154830.5830532066', '77.36014693829.5086255139', '77.919608208530.503491258', '78.396272958429.3760229779', '77.830468733330.1875491097', '78.16326504530.6659472149', '78.150520167331.0971830568', '79.453921559230.8839551034', '78.966643346630.3278346658', '78.301503385431.0612045575', '77.448534180531.1581692646', '77.080934325530.3633228383', '79.074218485929.8977652349', '77.787343852429.9903706357', '78.63451159129.6944047235', '79.452025102931.0016661599', '79.197861892931.2338158411', '77.544166263531.2784239721', '78.238322490429.7652038632', '77.689902451329.9487304439', '77.780996008130.1863430303', '77.629922112430.2609884043', '78.802845283730.9922501685', '77.918370470530.5426882266', '77.392450946529.9801328326', '79.030222035329.6223889628', '77.649722792529.6731458008', '77.200383036231.1118669402', '77.691200592429.9095386821', '78.154023310830.9795766077', '78.735680142629.5784432849', '78.288663477229.7270099862', '79.511043341130.4136641089', '78.291819325229.6093650928', '77.309291568230.8797610096', '78.005581199330.93699257', '79.353479338630.9219598391', '77.220076333729.3086322051', '77.357334420929.5869858788', '78.23291429629.9612639353', '79.30907355230.6074327109', '77.791122646329.8727838144', '78.732162524229.735356399', '78.869165503530.247798543', '77.010562811930.8708853944', '78.887398038429.3847136218', '78.852770831330.993090209', '77.463020527530.7664101287', '78.621461062530.2435334032', '77.792377283429.8335876451', '77.862389289230.7374742372', '77.487004959630.1003515385', '77.048646418129.9310431705', '77.073053950429.3043835464', '78.053036865731.0165371067', '77.247209052231.1916624574', '78.506394479630.8691628671', '78.658811587730.7543013361', '78.877551309229.855502463', '78.527292318530.0455992139', '77.998927818429.5245961538', '78.54922896431.144619497', '77.165185245629.4639242732', '77.800911466231.088974159', '77.850255855329.5603826634', '79.25863086930.6460116287', '79.081691511429.5053986329', '77.652318880229.5947619391', '77.551305940529.6706184194', '77.687298479730.0271131139', '77.256440994730.956664552', '78.74550515331.305148736', '78.818753042830.2862098648', '78.250433873331.0993546113', '77.652498740331.0459831685', '78.42025754730.3574307491', '78.824788961130.0116160006', '78.543587513329.378819846', '78.059044069230.8205394363', '78.429443084430.0044850989', '77.719764399730.537833452', '79.414913355430.2162935977', '77.597001859531.2014011509', '79.271745487929.9005017908', '78.391253734529.5721200406', '78.338966657829.6887943446', '78.576726720530.0465198213', '78.385164740329.8074278296', '79.516942806230.0212390656', '78.404582638530.9456253299', '77.803558184129.4808095271', '78.803743858730.9530279217', '77.672791951730.4581973492', '78.417159377530.4750745004', '77.96313397730.700647028', '78.303714185130.9827900594', '77.457259972630.9231173683', '77.430524384730.2949173698', '77.168131129129.3855796857', '77.587185450330.0637735227', '79.319812638629.9796207143', '77.322704580530.5272182409', '77.196577140329.9354008346', '78.349267891731.1406570069', '77.059419702329.6568891305', '79.215324706630.2922198014', '78.486728675729.6916818304', '77.475817863530.4138014789', '77.015421869530.7534149148', '77.443198445429.9422957793', '77.211242996430.8377130658', '77.316698855629.3505546457', '78.572890488630.203403889', '77.922076405630.4250964773', '77.164588897530.7579176901', '78.965018675130.4062947242', '79.126527629329.7415289533', '77.868714449930.5415028581', '78.910358573530.6408783676', '79.20450694730.8807344237', '77.653870243731.0067994865', '78.060238467230.7813390633', '77.804788264929.4416105646', '78.140873957729.7238982595', '77.617758133430.6136628807', '79.426040861729.5099214404', '77.877466021430.2671310488', '78.612879418130.596517644', '78.648254805931.185701328', '78.173490105130.3130930805', '78.674684975230.0875295835', '79.471688956129.7459664907', '79.506239492730.7275863973', '78.851009273931.0715365104', '79.077973474129.7015850556', '77.674123727830.4190093094', '78.996795451731.2700781603', '77.883643801530.0711427492', '78.805535737130.8745826431', '78.370673561330.3564421836', '77.324180360530.4880453157', '77.876223155530.3063278668', '77.426249601230.4124525994', '79.35748916230.6865438845', '77.474407069930.4529813998', '78.127365897330.1943944467', '78.560212203330.7132480049', '78.121642618130.390422925', '78.096124142629.5659904725', '79.399449820331.1579984478', '77.907120909430.8954482392', '77.348829869729.8220599429', '78.955135452330.8770335413', '77.145710033531.2278666039', '78.960106163530.6416687578', '77.612284338429.3191727448', '79.376216555729.5485739183', '77.943858480629.7194931954', '78.625226624130.0866447013', '78.760223287730.6776161326', '79.127256508529.7022912984', '77.615025726730.6920317913', '78.656909051930.8327400818', '79.10009077331.1146883508', '78.61095169430.6749556889', '77.548623373829.7489931414', '79.100871592631.075459546', '79.366663666430.1372050339', '77.431943721630.2557383693', '79.414283495430.2555341601', '78.302609866831.0219974454', '77.154782413929.7381209214', '79.523870196829.5502967503', '77.17106536929.3072339087', '77.82415624130.3835238829', '77.497043847131.1987154297', '77.613655501130.731215809', '77.049034332831.146515691', '77.338779831430.0962996134', '78.347080847131.2190725082', '78.282295390329.9622925688', '78.62051502930.2827549248', '78.851890914731.0323134903', '78.974671417529.9355191008', '78.752921853830.9913908515', '79.271067417229.9397413917', '78.307014197930.8651662605', '78.615756848930.4788585975', '77.812636351230.7362606011', '78.273686555530.2759876529', '77.90332676631.0130298063', '77.951977922831.0534132736', '78.309203457930.7867490298', '77.036150784130.2443437214', '79.172978586629.8991704548', '78.324290059130.2377980247', '78.030740552530.1137807964', '78.449243488331.1426769991', '79.277122081729.5865760897', '77.45290987131.0406446642', '78.438467044529.6515179989', '78.796505779831.2667985479', '79.170824025130.0168822088', '78.462725534630.632909499', '77.509936825730.8461173585', '77.709107914729.3608243156', '77.945694702831.2493846023', '77.55269765931.043352403', '78.021278168230.427399757', '78.062620252530.7029374806', '77.80601591229.4024113244', '79.148564385831.193875113', '77.341665428430.0179469009', '77.008936777630.910041593', '78.043510205629.6825259454', '79.350779806931.0788987822', '78.971479162430.0924483741', '78.105315242630.9392659906', '78.639995118429.4590483198', '79.182865952929.3498193822', '77.156776497730.9537351557', '78.477860227130.0446600541', '77.273087293830.5258065197', '77.053899279231.0290447226', '79.125797307629.780766359', '79.477583646229.3535088308', '77.047095203729.9702068132', '77.596542168129.7894589219', '78.247923572129.4122788691', '79.168656675330.1345917142', '78.20506041830.9414626104', '79.40338422430.9225857291', '77.12057358129.3449884664', '79.226516927929.6644087593', '79.216743123130.2137469103', '79.224445229729.782128174', '78.25493706130.9425321107', '77.71446980230.6945882641', '79.45265849430.9624293911', '78.0480853629.5256978019', '77.972886568730.3870578996', '77.835474201330.0307642159', '77.429102255430.3340960752', '78.37276827330.2780147648', '78.906119638830.8370101809', '77.610906982630.8095829679', '78.269331040530.4328287172', '79.152365899330.9977254913', '79.211754146830.4883976411', '78.848353977231.1892040016', '77.460145888530.8447643443', '77.890977258429.8359475676', '77.070045066829.3827202303', '79.220964988529.9783222417', '78.000670383231.0937808157', '77.305320255229.6639812246', '78.446354610229.3377516098', '78.97783856929.7785857814', '77.547278112129.7881800713', '77.623190893930.4569215677', '78.452385262231.0250423888', '78.535028882229.7318300724', '79.061950646830.5254995254', '77.495280441229.8652518142', '77.512877914129.3558333552', '79.314485373130.2935346783', '78.175737885330.23467804', '77.525389453730.4151315941', '77.744353059529.7931856045', '78.234000208429.9220524585', '77.863659287630.6982805291', '79.329577210829.3909894729', '77.362053212630.8028283695', '77.514212909829.31664531', '77.440401362330.0206581866', '78.623347551630.1650895749', '79.196369256131.3122755721', '78.281226692630.0015053956', '79.420526566829.8631174459', '79.005818263130.8385840966', '79.521579305829.7072814128', '78.668213061130.3620918167', '79.222361210129.8998453595', '77.545930192529.8273667134', '78.016490890830.5842025763', '77.675452890730.3798209814', '77.983676501230.0342487923', '79.300794781631.0782496535', '77.898233148531.1698012383', '77.710368127129.321628323', '77.451523810329.7072015543', '78.896646523831.2684773356', '78.954301300830.9162601025', '78.18684493429.8425865279', '79.35815288930.647307015', '77.093348045730.0500110637', '77.993108226629.7206218894', '79.133035890929.3883811188', '77.248834279729.8584702681', '79.466283132430.0991575481', '77.094886070430.0108457156', '77.254909846130.995831636', '77.106949763330.9522417356', '78.875052909529.9731939676', '78.808210420730.756912766', '77.917130300830.5818849136', '78.806429046530.8353596117', '78.902698448530.9939109702', '78.787455785229.4615822947', '79.356824130930.7257805038', '78.69732588331.225824107', '78.628031380529.9689754354', '79.071947630330.0154703339', '78.406699362430.8672028887', '77.852139254631.0510136378', '77.632596129530.1826131177', '77.508857022229.4733957744', '78.608045888830.7926107722', '77.579062087530.2988890779', '78.436475561529.7299569764', '78.542644070529.4180442419', '78.983321171329.5039427809', '78.09458018331.2920648762', '78.596250396331.2632071759', '78.088211447429.840447039', '77.0073075630.9491974769', '77.37378132530.4894360343', '78.719629740830.2845198742', '78.487704361429.6524607162', '79.122861547529.9377134862', '78.717810954730.3629676562', '77.355923986229.6261656227', '77.864926798730.6590865369', '78.144635735531.2931882339', '77.360574231130.8420010604', '77.987230855329.9166407696', '77.519808844530.5718578118', '79.016233708230.3285964824', '77.994276752329.6814172896', '79.305647720830.8036108432', '77.351675923229.7437030959', '78.408807808830.788779366', '79.180068902729.5067817793', '78.201625221131.0590749404', '78.61766573630.4004179165', '78.946719989131.2692874947', '77.11957362630.6389484543', '77.555519296530.9649928407', '79.469298224229.9029427408', '79.418044105230.0200870847', '79.45892456830.5700479786', '78.690035311329.4206827659', '77.167692509230.6795885478', '77.793629446829.7943911951', '78.876720152829.8947332191', '78.999275512931.1524010629', '77.834226528430.0699608611', '78.356855512230.8661941542', '78.388218266329.6897751227', '78.343085980629.5319265755', '78.87253967830.0908831774', '77.853429303131.0118222133', '76.994158574931.2624331805', '77.262535724230.7999931617', '77.52677777230.3759493069', '78.982542585629.5431782481', '78.069709802730.4677260581', '78.602182772431.0279137729', '78.166693496530.5483316399', '77.205476495829.7003715387', '79.404035474330.8833493973', '79.22994254129.468204797', '78.049223501729.4864900866', '79.176541274729.7029792178', '79.110884246830.5654618169', '79.470495952429.8244551041', '77.514184276930.7285793241', '78.403521163930.9848361443', '79.416169359330.1378117321', '79.001741062231.0347216359', '77.726324462930.3418834706', '77.656193809129.4771840232', '79.21103581330.5276324551', '79.000098971431.1131748457', '79.277788192129.5473342686', '77.773295698430.421500551', '78.118181552230.508036715', '78.616712230430.4396383885', '78.37693304530.1211567158', '78.513456426630.5946546673', '78.867468424330.3262546871', '78.244742193129.5299229341', '78.195574074729.5288938771', '79.304267952430.8820803361', '78.965831809830.3670648227', '77.11310777929.5408378727', '77.844345778831.2861561537', '79.034775307729.3869683799', '77.462471898729.3937263431', '79.405334151230.8048759825', '77.253375700931.0349984138', '79.35549014830.8042529907', '78.35469821930.944613474', '77.340224050330.0571234054', '77.166142223130.7187532726', '77.69636762329.752768796', '78.431462288129.9260498127', '78.284426472129.883866111', '79.519270215429.864262189', '78.859748444730.6792945835', '79.279778623229.4296073325', '79.474060852129.5889863401', '78.027209597730.2313899819', '78.183535779529.9602168271', '77.915887695330.6210813187', '77.600512798829.6718912213', '79.157625858530.7231053077', '78.209609405730.7846423076', '79.166476473730.2522989652', '78.037740163629.8785549892', '79.451390470131.0409026782', '77.853896816329.4427810193', '77.66339598430.7325055358', '77.058735786430.9115709304', '77.680743497930.2230647942', '78.380035160830.0035103771', '77.43477403730.1773794842', '79.161338996130.5269404174', '78.464769368730.554479701', '79.0074379930.7601272797', '77.697653018129.7135756163', '77.580422648130.259703876', '78.957628119630.7593523088', '78.068534001330.5069286555', '77.403021081231.0392619412', '78.684676357729.6560489629', '78.134159886429.9591512479', '79.199348703731.1553550878', '78.955967970830.8378067218', '78.664474613430.518978775', '79.354821191830.843488858', '78.245804753929.4907085119', '78.22854917330.1181071456', '77.710471518630.8121513432', '77.547021180331.2000679712', '79.325706125929.6264485978', '77.102164646731.0697215906', '77.683373235230.1446849798', '77.888542407429.9143470759', '78.323226154630.2770105661', '78.781451294829.7361921581', '78.814390469330.4823406088', '78.7268336829.9707183694', '79.27444441629.7435409138', '78.077876027730.1933001407', '78.412999981430.6319290842', '77.114862831330.7564357577', '77.894386717331.2873768095', '78.326411596530.1593721359', '79.031745810229.5439164333', '78.653081538530.9896143999', '77.152052254231.0712219251', '77.779718923930.2255366604', '77.559290297629.4354873789', '78.544529087229.3395951917', '78.199887100629.3720411191', '77.433360270930.216559074', '77.412028955529.4315968847', '78.706746867430.8336324114', '77.541870442329.9449249097', '78.930939096829.6601231513', '77.740531547129.9107683964', '77.13966974430.1298048464', '79.115419998730.3300637572', '79.250811399331.0775811632', '78.30591634730.9043744667', '77.511355416530.8069383096', '77.34562422231.2337113436', '77.768111499430.5782665337', '77.608383770329.4367481243', '78.757498658830.7952836175', '78.587121583129.6150670954', '79.071187686730.0547048641', '78.998450441931.1916270211', '77.405098883129.6275091429', '78.546192271931.262260643', '79.147033337831.2723331693', '79.077225442229.7408215918', '78.283361982329.9230794739', '77.153284518629.7772906719', '77.635259644730.1042366797', '79.022512110930.0147365646', '78.316798606930.5122801561', '77.097351398931.1871986353', '77.909637987230.8170591068', '78.736555205229.5392143668', '79.411751619830.4124939356', '77.651022119329.6339540118', '77.237005399130.1718484892', '77.396691903529.8625942385', '77.648420895629.7123373061', '78.089348543729.8012397731', '77.857284338830.8942462222', '78.278007930330.1191422645', '77.621836699230.4961073316', '77.556639368129.5138655356', '77.612282587930.7703995347', '77.606763968830.9271315101', '79.107063401830.7616198905', '78.85012590631.1107592692', '77.904593956230.9738362352', '77.445602772931.2365174965', '79.05882288230.6824229565', '79.398789582331.1972330205', '77.783542648630.1079549203', '77.978904560830.1910556171', '79.457057638130.687765017', '79.231303311729.389721489', '79.367953791630.0587240847', '77.389609681430.0584904251', '79.503809129730.8845415903', '77.209700661330.8768788273', '77.64187271329.908290564', '77.245894512329.936816619', '78.396032405931.2593042396', '78.482806590929.8485636682', '78.630819586729.8513038287', '77.807241129229.3632118069', '77.394121180431.2742956352', '78.68557394329.6168219047', '77.914642649930.6602774418', '78.529237925529.9671585002', '77.044140801931.263983826', '79.174407887429.820694706', '77.545595115731.2392461205', '77.485616179530.1395338061', '79.373063672629.7447904288', '77.940281593929.8370999879', '77.892191084729.7967473966', '79.102428653930.9970011671', '77.07307610830.5591327043', '78.505377696430.9083772543', '78.035416153929.9569646906', '79.049291023231.1531686854', '78.510441744930.712302641', '79.360136268230.5295949072', '77.30388523429.7031582239', '77.887321374829.9535464125', '77.111605736929.580006854', '79.32700160429.5479632016', '77.306752444329.6248039306', '77.797371135329.676800164', '77.206949503629.6611989428', '78.727726210329.9314920179', '78.122791780330.3512177782', '78.099374650131.135268171', '77.25183855431.0741648852', '79.065053927430.3685720236', '77.395611749431.2351241088', '78.518441604130.3985693894', '77.160744506129.5814389178', '77.113286405930.7955975736', '79.374959145429.6270612564', '78.981762456429.5824134648', '78.084786662729.9580672012', '78.906970754430.7977843354', '79.29869450131.1959482085', '79.269707254230.01821985', '78.156347339730.9011709199', '78.784892616129.579273764', '78.927714014229.8170546715', '79.020169298830.1324359332', '77.643187523329.8691004825', '78.508422079130.790733289', '77.65748034829.4379908196', '78.271513079730.3544087266', '79.358815314330.6080698955', '79.402731696330.9618218101', '78.945869353231.308511461', '77.379576721830.3327326948', '78.700171562631.1081693757', '78.886586384929.4239474138', '77.788605934929.95117531', '78.149703085229.4102124824', '77.645809374929.7907194638', '77.975300868530.3086578217', '78.108851792430.8216613358', '79.306335578530.7643757192', '79.1516085731.036955927', '78.904412394930.9154610945', '78.815266418430.4431149771', '77.344113092531.2728807022', '79.221663788329.9390839249', '77.701493999629.5959943824', '77.065509344129.5002229993', '79.083904722129.3876837943', '77.934272857830.0331057762', '78.096982101131.2136670848', '77.960671820730.779041503', '79.419907788129.9023602238', '79.200829708231.0768933137', '79.407272639830.6871639852', '77.241463081230.0543339033', '77.633929197730.1434250425', '78.046970607931.2125277612', '78.600213044131.1063459762', '78.334814629629.8456578722', '78.024844020930.3097947235', '79.06813288730.2116404651', '78.111197971830.7432568426', '79.171543630129.977645207', '79.371793762129.8232753182', '78.129639488930.1159811385', '78.985647692329.3862348781', '78.659760061430.7150815674', '77.822886280530.4227179887', '79.072706076429.9762355521', '78.218601053530.4709885212', '78.55724020730.830897979', '77.302447376129.7423349281', '79.083168447329.426922322', '78.515456374930.5162213531', '78.916223609430.3662830029', '77.688601748529.9879219213', '77.878706445330.2279339497', '77.553977927129.59224255', '79.330217926829.3517454303', '78.428430492130.0437023449', '77.91214522330.7386688403', '77.26623119229.3883672141', '77.3985841731.1567801479', '77.197252803331.1901938434', '78.026027972530.2705924911', '79.014648595630.4070589241', '79.400108767831.1187636233', '77.554109857331.0041727698', '79.165746872830.2915342136', '78.382093067929.9250781543', '78.179093010530.1170534357', '79.101650885331.0362304847', '77.886097932329.9927454705', '77.110100723129.6191755343', '78.289717507129.687795288', '79.055670468130.8393423027', '78.297055754831.2180302618', '78.489649952129.5740177041', '77.608147677630.8879489559', '77.028240624530.4401465483', '77.97409490530.347858', '77.267662383829.34919004', '78.689146569229.4599111058', '79.456432880830.7270035326', '78.912882040730.5231961828', '79.264212653130.3321237371', '79.26628328330.214411648', '78.687363793429.5383670179', '78.298075087829.3740681379', '79.008245474130.7208984861', '79.160599282230.5661739016', '78.748300023431.1874915095', '77.050194579129.8918792221', '77.359092351830.8811734499', '77.873730081430.3847206588', '77.881179983230.1495389097', '79.262825425930.4105972138', '77.205055511330.9943742693', '79.508049788230.6098673953', '78.48477150829.7701232736', '78.75200110231.0306115101', '78.150796924929.371000551', '77.347402625929.8612379248', '78.799233342931.1491365336', '77.939084582929.8763016996', '79.347375534131.2750667831', '77.549864966231.1217107807', '77.202521740829.7787158349', '78.073223379530.3501166061', '77.436185024630.1381996002', '78.618617368930.3611971817', '78.219715113630.4317805673', '77.570842349530.533994182', '79.508650854130.5706272325', '76.997465104931.1841261542', '77.573593029930.4556269793', '77.100563363531.1088809182', '78.402457609331.0240466876', '77.929423055730.189905407', '78.883323637429.5808800629', '79.349422092531.1573667408', '78.110026031630.782459228', '78.125083337730.2728066607', '78.750154183131.1090520373', '79.459544437430.5308084692', '77.386757205230.1368468383', '78.707678858130.7944117904', '77.141194441330.0906378161', '77.229517238930.367700111', '79.422375583829.7453876424', '77.607078421929.4759393509', '77.746888190929.714795667', '78.857144654530.7969698928', '77.774585398130.3823083419', '79.052493238130.9962575503', '79.463849564430.2561249732', '77.840440373229.8739748311', '77.899510289831.1306088087', '79.363416023530.3334030752', '78.113534971130.66485124', '79.056460891530.8001128499', '78.588987394929.5366177695', '77.889761033929.8751474608', '77.161473107430.8362456018', '78.580532820329.8896315669', '79.273097618529.8220218466', '77.263360292729.4667206796', '77.599804677631.1230398706', '78.137526862629.8415259737', '77.753643519531.0093493125', '77.169599702229.3464069457', '79.407916270730.6479261535', '79.472283691229.7067218182', '79.079465106329.6231112341', '79.202304926430.9984305205', '77.900621049629.5223384452', '78.646310857831.264134236', '78.681972926329.7737285943', '78.315719962830.551490809', '77.813926405430.6970687723', '78.724145502330.0883958751', '78.915390679130.4055116829', '78.051828354631.0557357999', '77.645600865431.2418971785', '77.854716830430.9726305023', '77.45975109929.4720968786', '77.045540930830.0093701498', '78.202772528231.0198711068', '79.270388006729.9789807449', '77.444132770331.275691161', '79.14932766731.1546457004', '77.299563131829.8206874497', '78.960928941230.6024403933', '78.460673663330.7113382263', '78.19665553729.4896810884', '78.25717546730.8641192113', '77.138142044130.1689715728', '79.498270667731.2376761873', '78.261626051730.7072901245', '78.911201381530.6016512303', '78.71323257730.5590825507', '78.270423132330.3936188574', '79.498890881331.1984400105', '78.853649026730.9538666667', '78.395273087629.4152429151', '78.898384109331.1900311067', '77.769411367630.5390754667', '78.223044187530.3141550712', '78.947568963831.2300632679', '79.368596948630.0194832396', '78.554250685830.948545554', '78.159816360230.7835603107', '77.667438628930.6149466215', '79.107830573230.7223887845', '79.418666559329.9808450434', '77.908380680630.8562538149', '78.432468906129.886831773', '79.13231846829.4276207584', '78.317875134930.4730692327', '78.11586282130.5864445301', '78.208475498430.8238477964', '78.711388597930.6375266793', '78.241541863429.6475646012', '77.208155305530.916044282', '78.96175010530.563211772', '78.774486512530.0500166657', '79.218860298130.0960356985', '77.063991444629.5393899858', '77.721081569830.4986440295', '77.076228648930.4808096842', '77.802224451531.0497849139', '79.52100374429.7465269717', '78.662594343530.5974206808', '79.212471070230.4491625755', '78.15169016731.0579811852', '77.549965981829.709805924', '79.068898845630.1724069432', '79.369879462229.9410008096', '78.705813048330.8728527692', '79.121384950430.0161855494', '77.696973063831.2040094067', '79.370518822829.9017592251', '79.398128051631.236467341', '77.461112845629.4329117549', '77.296667485229.8990387867', '77.090262899630.1283408446', '78.321092056630.3554348416', '77.861116799330.7766676608', '78.345133443829.4534911057', '79.058037095930.7216531765', '77.583135755930.1813326025', '77.447373447429.8247499775', '78.710463890230.6767483507', '78.313556311630.629911302', '78.522394619130.2416963952', '77.603988415531.0054957373', '78.322160154930.3162228385', '78.247033285831.2169685926', '77.556925981130.9258126161', '78.320021856230.3946465752', '77.49938161229.7476980327', '77.309608344829.5464484593', '78.207339367130.86305301', '77.128912512530.4039655285', '79.367309364830.0979646828', '78.500263810431.1044451623', '77.727628760830.3026926151', '77.718444642230.577022587', '77.117596122729.4233291276', '77.808463920529.3240120122', '78.820486091730.2077557607', '78.133033126129.9983591292', '77.350254300629.7828816665', '78.318949550130.433858039', '77.901815831129.4831360622', '78.739170017429.4215260818', '78.963387601730.4847537602', '79.246474703631.3129697955', '79.422989489829.7061438853', '78.92690375229.8562869193', '78.969873569230.170911489', '77.304767784130.997269817', '77.254679136929.7017739915', '78.467820108830.4368330009', '78.407754618530.8279912624', '77.351639315531.0770308667', '78.775363135730.0107895008', '79.061171007430.5647307653', '77.605377549630.9663137707', '78.655954983530.8719590584', '77.507091299930.9244745673', '77.017035224630.7142574614', '79.32113137429.9011397468', '79.39680110331.3149352249', '79.113914022630.4085307892', '77.990764238129.7990302661', '77.948594797429.5626802822', '79.31848868830.0581006929', '77.705103801730.9688980599', '79.097739127531.2323732237', '77.063543998630.7940943236', '78.628962617429.9297518263', '79.378093354429.430841081', '79.448198605431.2370815079', '77.365002501530.7244820852', '79.227891244729.5859279139', '77.745621876829.7539907765', '78.521409279630.2809150404', '77.238494217930.1326772609', '77.991937389829.759826215', '78.501290594931.0652321185', '77.75443373529.4796191153', '79.017812595430.2501330238', '78.917054903130.3270540665', '77.214271035729.4653314982', '77.175398525430.4837603253', '79.376843395529.509329883', '77.370866519230.5677859149', '79.458303479730.6092872398', '78.400324246431.1024669597', '79.473469637229.6282317427', '78.220826986930.3925723408', '79.463238170630.2953662138', '78.197734859829.4504680323', '77.458704342630.8839410054', '77.661324709929.320409518', '77.061944396330.8332535047', '78.056648242330.8989393442', '77.399505301229.7842337092', '78.642712538729.3413666469', '79.053289881330.9570291235', '78.155186462730.9403739025', '78.660706676630.6758615352', '78.737428536629.4999851935', '78.922828360530.0524443537', '78.170101816330.4307135927', '79.509250740330.5313868222', '78.120491195230.429627797', '79.073463027529.937000519', '78.335855714529.8064423889', '78.836613460529.462390692', '79.017023928730.2893648801', '77.136611336730.2081379949', '77.498017252229.786882916', '79.026386114329.8185659048', '78.042360751729.7217323005', '77.438998682730.0598389511', '79.074972454129.8585296998', '77.12736365530.4431301174', '79.409839597630.5302111635', '79.218155963330.1352730189', '77.4542770929.6288344868', '78.466805192430.4760488344', '78.73480334629.6176719474', '79.346690675831.3142996242', '77.183029313530.2879244706', '78.248169031731.1777642083', '77.199555301729.8570589344', '77.693789206129.8311543062', '77.694241563831.2823775185', '79.067365418330.2508737342', '79.098524543131.1931451898', '79.201568039431.0376620444', '77.38818484730.0976687792', '78.918712591530.2485954256', '77.945046073429.6802903798', '78.725043328930.0491702983', '77.842908803729.7955784604', '78.539802498329.5357158759', '78.763831264830.5207224971', '78.275851496330.1975654981', '78.880859562929.6985768978', '78.022469122630.3881983567', '78.451340052431.0642541961', '77.478631152130.3354407542', '78.976258120929.857052946', '79.360794801130.4903570388', '78.573852382430.1641832655', '77.417624136930.6475150555', '78.06735588930.5461309758', '79.269025157330.0574587069', '77.242943135330.0151617746', '79.503198554830.9237797665', '78.074389975430.310912903', '77.707845202429.4000200283', '77.493907981329.9044358284', '78.038898733929.8393497274', '77.601831121629.6327014166', '78.639085714929.4982750307', '77.087165591130.2066694025', '77.604459961529.5543209526', '77.902057094331.0522230924', '77.758940704430.8525959707', '77.698935876529.6743821539', '77.032996038130.3226657804', '78.920363765830.1701357622', '79.36601669430.1764451376', '77.130458332330.3648006331', '79.103204900930.9577715934', '78.006802908730.8977948042', '78.415083762830.553502329', '77.303253948531.0364388112', '77.421949560830.5299851642', '77.409265149329.5099626591', '77.532303844630.2192172357', '78.194694065531.2942921202', '78.344885236831.297486914', '79.167931372630.1738277153', '79.413020048930.3340145432', '78.524359488830.163258313', '77.198067688729.8962300346', '78.416122589330.5142885488', '79.41554197630.1770527883', '77.501366738631.0811854197', '78.194490469329.5681063981', '77.752312732931.0485369249', '79.514007599530.2174546572', '77.410358341230.8433922434', '78.144201268929.6062681127', '77.646985836731.2027149642', '77.574964325530.4164429405', '78.925278419429.9347506547', '79.255806917230.8029495423', '78.880034949929.7378086697', '78.293912843429.5309338347', '78.952628087430.9947124492', '78.884141749629.541647279', '79.417420421830.0593288801', '77.658764341729.398797334', '77.298694649331.1539439645', '77.184546498730.2487563875', '77.054820791529.7743855457', '77.984863622429.9950463941', '77.376684713230.41108496', '78.740038172229.3822961439', '79.169380550130.0953554626', '79.276454651129.625817665', '79.130879348229.5060992955', '78.070883296930.4285231839', '77.603146841129.593511327', '78.000084844529.4853901872', '79.156878848230.7623375254', '78.649223933231.1464844742', '77.484224663630.1787157814', '78.670997662730.244423852', '78.979412782329.700117609', '78.193404717529.6073186512', '77.328590361230.370524741', '78.633591324229.733629888', '78.725939387230.009944463', '78.081341556330.0756849043', '78.779720400329.814649823', '79.378716477529.3915963147', '78.810869414430.6392405434', '77.884872075930.0319442495', '78.619567132230.3219761844', '77.563247056929.3179180074', '78.928522677229.7778221705', '78.470852915930.3191839029', '77.488391008430.061168979', '79.013853698330.446289763', '78.455508644330.9074053472', '78.561198989730.6740308149', '78.22414952230.2749460286', '79.120644464230.055421205', '79.315155882430.2542963018', '78.371721947130.3172286082', '77.413406760529.392413563', '78.526316634430.0848191767', '77.004039553831.0275082996', '78.975465552429.8962861497', '78.901838954831.0331355182', '79.07042624330.0939391425', '79.465068745930.1776417528', '77.118006436230.6781111976', '77.994477604631.2897597622', '78.379003159530.0427260897', '77.903008249429.4439334039', '78.373812542330.2388006536', '77.90078493731.0914160933', '77.153630081131.0320599786', '78.71506932830.4806373759', '78.463748454630.5936947337', '77.172325181530.5620925326', '77.958199996430.8574348508', '79.200089930531.1161243282', '78.06499271630.624534784', '78.458613727830.7897658809', '77.065140472930.7549348309', '78.86405417130.4831638884', '77.756297295430.9309732194', '79.518690085229.9035067743', '78.299283918531.1396179589', '78.101757862231.0568681371', '77.930639089730.1507059171', '77.419068773130.6083387227', '78.788306794929.4223512969', '79.173693942829.8599327049', '78.36007564430.748563138', '77.523998406430.4543135886', '77.231020762730.3285303903', '77.448759633429.7855674606', '78.702059425531.0297315637', '77.598404637631.1622206584', '78.348175438331.1798648944', '77.496650196729.8260675099', '78.754757957430.9129487454', '78.246865212429.4514938234', '78.263838289330.6288739413', '78.268236800630.4720383057', '78.812633399330.560791095', '78.885773120729.4631809542', '79.167204639530.2130634657', '78.164410105330.6267422984', '77.594188070431.2797612482', '77.684684227330.1054946434', '78.672844950330.1659772382', '77.250298400431.1133310498', '78.328524794830.0809451742', '79.26834171430.0966973153', '78.095000450629.605199367', '77.178459832930.4054268969', '79.225137161829.7428886165', '78.001901692131.0545841775', '78.392261559629.5329011532', '78.414042894630.5927158409', '79.06272875630.486268031', '77.770708687430.4998841137', '77.84955157731.1293956264', '79.123597663229.8984770792', '78.375894924930.1603716289', '78.657861252230.793520841', '78.029565883830.1529841343', '77.195083651829.9745713341', '77.344539680829.9395930038', '79.316492946230.1758188029', '78.874216817330.0124239595', '77.068536150429.4218881212', '77.283494963230.2516050733', '78.738300139829.460755765', '77.961904105430.7398444063', '77.151783664729.8164601216', '78.468833032630.397616901', '79.122123977429.976949643', '78.948416280331.1908387808', '78.907820202930.7585582311', '78.495440704629.3386824151', '79.50135963631.041492799', '78.838276089529.3839258723', '79.507447540630.6491073105', '78.758408650230.7560613841', '78.629892018529.8905279573', '78.397108514331.2200953283', '77.702404146631.047269675', '79.033263561129.4654429051', '79.404685449330.8441128151', '77.685992640730.0663040213', '77.969247282730.5046559231', '78.272600886230.315198325', '79.21603461330.252983481', '77.163032527330.7970817999', '78.217484802930.5101962022', '78.151888598229.3317883518', '77.955629341429.3274526854', '79.096952174731.2716010001', '77.047406339131.1856720513', '77.414726355830.725866827', '78.344110725929.4927089725', '79.223057256129.8606065457', '78.858882216630.7185199461', '78.729505994629.8530385419', '77.166659645229.4247521283', '78.87001154130.2085700859', '77.807450784430.8930250542', '79.131599621229.4668601507', '77.312452972229.4680918129', '78.34818946529.3358359254', '77.711806891930.7729639393', '77.228010759630.4068695291', '79.424823936729.5884111495', '77.93547934929.9939051732', '77.723708165330.4202643232', '78.523378021130.202477486', '79.154629007430.880032654', '78.972279588730.0532164359', '79.25009214731.1168132379', '78.433473539229.8476134693', '78.063807647530.6637362714', '77.593881986429.8678359582', '77.031414011330.3618263462', '78.9642039430.4455243701', '79.096163681931.310828519', '77.190585496530.0920810261', '78.333771487329.8848730894', '77.364344900429.3910827785', '79.252960726930.9598834165', '78.677431447629.969856154', '77.982487038330.0734509139', '77.310793605530.8405907999', '77.505664355430.9636527265', '77.796126368729.7159974542', '78.461700605330.6721239966', '78.251562976631.060149399', '77.244420277429.9759893463', '78.476865087930.0838785405', '79.475239774929.5104948064', '77.535050623930.1408494513', '79.10552453830.8400813376', '79.252245686930.9991162523', '79.114667751330.3692973995', '79.155380425130.8408011988', '77.874977843530.3455244036', '78.871698625530.1301124029', '79.257221663530.7244810896', '78.174615100730.2738856967', '77.218909538330.6418796661', '79.046872863131.2708493296', '78.900977776831.0723598061', '78.582424632629.8111858747', '78.731278763529.7745840368', '77.703755294331.008084013', '77.734111910630.1067340583', '78.244755124731.2953765314', '79.264904222230.2928866237', '77.698334817331.1648249118', '77.068324058630.6766149118', '77.211351105529.5436793677', '79.320472657129.940380354', '79.505026694430.8060644911', '78.884958243129.5024142427', '78.723245904330.1276211933', '78.959281769130.6808968654', '78.136406751129.8807346699', '78.895775180331.3077000579', '77.276075523830.447464755', '77.637912692430.0258590929', '78.366459349230.5132937993', '79.297287450831.2744126437', '78.252689873131.0209439114', '78.051493034429.4080738427', '79.004192173630.9170398851', '77.829211195830.2267446292', '78.23724511829.8044164148', '78.057847328830.85973953', '78.565126826730.5171594015', '78.924463343829.9739821418', '78.299110503429.3348510527', '77.913395160530.6994732824', '77.465883927530.6880547239', '77.114606854129.501668591', '77.950726187131.092608108', '77.348637643631.1553717129', '77.41617666630.6866910904', '78.453428428530.9858303114', '79.103979628830.9185417637', '79.175831551129.7422179622', '77.905386011529.365527263', '77.745619636831.2444706346', '77.29084183530.0557378966', '77.066733824530.7157750268', '77.414781839329.353229952', '77.312292705530.8014202872', '77.209886803829.5828528569', '78.575770495230.0857412313', '78.782314179429.6969629423', '79.229260129829.5074460822', '77.904198308329.4047304708', '77.754971705530.9701614105', '77.245659847531.2308276997', '77.250299821629.8192966453', '79.156130371330.8015694891', '78.559223479630.7524649291', '77.845367506429.717180974', '77.343103970329.9787701002', '78.002392034329.4069774367', '79.150849756631.0761861071', '79.468095756229.9814293991', '78.984873722229.4254710956', '78.374854758530.1995862749', '79.348059054831.2358336887', '78.671922215830.2052006753', '77.122057893129.3058176876', '78.425380713930.1613524915', '79.165015834430.3307692105', '77.383893480730.2152020696', '79.512825395830.2959391761', '77.437593238330.0990194225', '78.27908296630.0799302437', '79.405981582130.7656388999', '77.540511847129.9841103974', '77.898224381429.6007423846', '78.079033479330.1540953364', '77.284970123730.2124322362', '78.226353677830.196527129', '77.599191868429.7110807406', '77.30100667729.7815113368', '78.18242836929.9994263859', '77.135077616930.2473041123', '77.660045794329.3596035667', '79.054878493630.8785714994', '78.387202435129.7289929559', '78.475867985730.1230967628', '78.92609188829.8955189138', '77.499928589531.1203623883', '79.465676537630.1383997734', '79.057249766630.7608831411', '78.394954192731.2985128781', '78.550237242631.1054052444', '77.794879140629.7551944647', '78.730393254629.8138114179', '77.463828262529.3545406436', '79.325056460829.6656909281', '77.156277355529.6989508704', '78.003130595131.0153872569', '78.516453407130.4770042973', '78.37796912230.081941536', '78.912042536330.5624238353', '77.280535929330.3299498477', '78.507409272730.8299482119', '79.476414034629.4320023028', '79.327647421329.5087201362', '77.753182355129.5188159075', '77.313788873530.7622494718', '78.819620420230.2469829416', '77.968029415230.543854705', '77.856312134129.3643785413', '78.786603087329.5008130386', '78.177976836630.1562619092', '79.203040371730.9591987423', '78.834944228429.5408545001', '79.213900695230.3706916904', '78.256057359930.9033257982', '79.178662040429.5852614971', '78.351446399731.0622404121', '79.253674367630.9206503274', '77.297168935131.193111738', '78.295998088729.4525015157', '77.40370462829.6666907221', '78.950105949731.1123890268', '77.311032065429.5072702829', '77.402307615729.7058720098', '78.06143052730.7421384113', '78.839104934629.3446930838', '79.247925926931.2345079365', '79.377468994429.4700856039', '79.247201024531.2737389935', '79.37115692229.8625173946', '77.217179432729.3869824431', '78.493518098929.4171285514', '77.504234616831.0028305885', '78.829896698429.7762398364', '78.383118980529.8858616445', '78.804640675430.9138054131', '77.224988914230.4852074565', '77.037723513630.2051822289', '78.141985254929.6846884805', '78.682875852229.734502308', '78.198169804831.1766847793', '77.385326751330.1760246018', '77.798613444229.6376025944', '78.011665889130.7410009312', '78.488678119129.6132393407', '77.407879139229.549145111', '77.361549029429.4694448935', '77.179985985530.3662597257', '78.568052520830.3995030622', '77.026649254130.4793061841', '79.15985811430.605407133', '77.279052046230.3691217844', '77.799595911331.1281631155', '78.597243965431.2239922774', '78.192316815729.6465306361', '77.543226361929.9057391329', '77.731526301630.1851183357', '78.495099661731.3005063346', '78.865764654230.4047098028', '78.090483396929.762032235', '77.261016511530.8391614668', '78.60512294430.9102634691', '77.034574960630.2835049054', '79.066596437230.2901067505', '79.050093928631.113941288', '78.698276298431.1866061284', '78.59922528631.1455616773', '77.950948939429.4842721778', '78.490619863529.5347958066', '77.256133154329.6625991795', '78.250034008729.333848164', '78.577681062630.0072981496', '79.326354506329.5872060222', '79.453290645430.9231923722', '77.289378237230.0949119295', '78.641808527329.3805941276', '79.475827486729.4712486757', '77.849037390329.5995826576', '78.394271232929.4544625902', '78.609984991330.7141743148', '78.849240808131.1499817663', '77.59121128929.9462118469', '77.707792913930.8905252819', '78.704877397730.9120728635', '79.352806437230.9611949526', '78.532141979929.8494954632', '79.467492739830.0206723607', '77.798277782431.1673517832', '77.382457388730.2543792412', '77.212812514629.5045055813', '77.029828875230.4009866023', '77.737971280629.9891555114', '78.512453503930.6338709251', '78.240470859629.6867779561', '77.728930497130.2635014739', '77.286442386430.1732590997', '77.732820378530.1459263393', '78.227452506230.1573172727', '78.777111203429.9323343996', '78.082492189230.036479277', '78.117023324530.5472407605', '77.069911180430.6374544861', '78.076716295730.2325046701', '78.10170935429.3699419484', '78.55325026930.9877608781', '78.817883956830.3254365302', '77.187571936430.1704193119', '77.750979341431.0877242476', '78.469843967230.3584005349', '78.514457382530.5554381432', '79.059607127630.6431924811', '77.744273153831.283656504', '77.265565240630.7216556384', '78.574812383530.1249623795', '77.955718471330.935827069', '77.90657136329.3263237809', '78.54075156629.496492257', '78.190134548129.7249538002', '77.839202500129.9131725973', '79.464459755630.2168834862', '77.699693912631.1256401247', '77.837962183129.9523700837', '78.96906839730.2101426651', '77.585838208630.1029601715', '77.670120542830.5365725634', '77.315282114130.7230783541', '78.104131768930.9784669852', '79.021732712830.0539699402', '79.424213664329.6276556386', '78.59177229329.4189418431', '79.27578589829.6650589942', '79.054084965630.9178004397', '77.508515455130.8852961112', '78.171233466630.3915070288', '77.357607569730.9203455379', '78.654999043930.9111777704', '78.423337494330.2397845939', '79.034020183729.426205767', '77.846593219829.6779818131', '79.255097460330.8421833901', '78.114700037830.6256480233', '79.159115488930.6446401113', '78.921186916930.1309055476', '77.522604625530.4934952899', '77.395281037129.9017740635', '78.465788280130.5152644011', '77.375234443930.4502606462', '77.257584302229.6234240711', '79.506844109530.6883469779', '78.009239162330.8193984291', '77.882413105330.1103409694', '78.496136533131.2612946405', '79.19711630431.2730458345', '78.584308985829.7327391418', '78.352532461531.0230317053', '78.68377699529.6952757641', '77.267075554230.6824864209', '77.057889757329.696054906', '79.317159505230.1365796809', '78.749228009931.1482719054', '77.644213186631.2810790985', '78.50943290230.7515180986', '77.653613079429.5555695833', '78.119337507830.4688323937', '79.013057236930.485520347', '78.187943638429.8033758881', '77.220433855330.6027120702', '77.60577048729.5151302938', '78.816140647530.4038890866', '79.180770246229.4675415499', '79.14626556631.3115618125', '77.956960448530.8966311012', '77.318259833430.6447352127', '77.84413936929.7563798565', '77.147263303729.9339666619', '77.157769348229.6597805193', '78.126225740430.2336006906', '78.276930774930.158354016', '77.071495195130.5982937502', '77.201039984129.8178875344', '79.428460287229.352939106', '77.215726673529.4261571187', '77.741807898729.8715744148', '78.44439442329.4161947748', '77.743081734829.8323801507', '77.217382230830.6810469571', '78.123938685630.3120123566', '78.688256064229.4991391899', '77.332974453830.2530014743', '78.045802307729.6041124177', '78.533106182329.8102739274', '77.420510579530.5691620921', '77.831723798530.1483533083', '77.893402516929.7575469481', '77.162227680829.5422676683', '78.242610751329.6083509791', '78.357930993730.8269840867', '78.028388900230.1921871962', '77.692496175929.8703466361', '78.456545700730.8681924608', '79.109360407330.6439258091', '78.249302559631.1385595477', '78.085930510629.9188607534', '79.179366168229.5460217618', '77.427677329130.3732744852', '77.268582911430.6433169', '78.817013159330.3646629375', '77.247365844829.8976435928', '79.162077257930.4877066805', '77.077800287330.4416477106', '77.085612363430.2458332219', '78.398182521531.1808861444', '77.701050354231.0864550457', '78.861475809630.6008430813', '77.264051965630.7608245521', '77.735400902230.0675414931', '78.751078546131.0698319054', '78.703939912430.9512926942', '78.578633524529.9680762164', '78.778852384829.8538782715', '77.503458561929.6301416499', '78.552247891731.0269759347', '78.715985000530.4414143968', '77.369404822730.6069604069', '77.602596561931.0446774097', '78.43045368229.9652675881', '77.53641996530.101665123', '77.50751140929.5125826743', '78.718721242230.3237438953', '79.119159104430.1338917635', '77.811343766330.775452144', '77.557966144729.4746765999', '78.295938402431.2572360005', '78.722344532130.1668462525', '77.601201984131.0838587875', '77.269090743129.3100125722', '77.23551364930.2110194166', '79.379338365829.3523513051', '79.297991663831.2351805531', '78.092746388229.6836163436', '77.060341660630.8724123737', '77.784812213430.0687604411', '78.478853406530.0054413037', '78.762931925330.559946297', '79.273771682829.7827815036', '77.295215374329.9382140102', '79.019385277930.1716685502', '78.669143088430.3228694229', '78.835779671229.5016227226', '78.262733255330.6680821693', '78.28548886329.8446524806', '78.558232815230.7916815872', '78.427415901830.0829193259', '77.989588767629.8382340424', '77.910892833330.7778641152', '78.635430039829.6551793007', '78.598235594231.1847771112', '79.065825941130.3293395137', '78.879208705129.777040188', '79.364718919230.2549246023', '78.347172810129.3750545819', '79.313813542730.3327728058', '77.808750987230.8538343708', '78.733044539629.6961285047', '79.047680493231.2316227065', '77.953293777429.4058629782', '78.762030817930.5991698363', '77.313871069829.4289130499', '78.033082960330.0353732938', '77.518406835230.6110386318', '79.365368445630.2156849939', '78.27477009130.2367767105', '79.359476439930.5688325261', '77.110124283230.8739202757', '77.817781426230.5794915731', '79.046063652731.3100756942', '78.049404229731.1341323435', '78.551243550731.0661907236', '77.103762804231.0305619507', '78.89925035731.1508076006', '78.330629681530.0025171416', '77.056356788729.7352203778', '79.425433001929.5491664167', '77.517002073930.6502191574', '79.317824751730.0973403108', '77.186060704730.2095880012', '77.259032585429.5842486665', '77.678103394530.3014434622', '79.082430711229.4661606016', '78.637261495529.5767276809', '78.826498266529.9331583015', '78.923646658430.0132133749', '77.794307908231.2849160505', '77.577698849830.3380739895', '79.419287786329.9416027564', '78.875887353829.9339637207', '79.11841422630.1731266658', '77.101007962529.8541812797', '77.717122292930.6162114342', '79.413652393930.2947744754', '78.471859881930.2799670052', '78.603164749130.9886972712', '79.231981675529.3504794667', '77.561930749529.3571080823', '77.959437119130.8182383179', '77.628581154630.3001756151', '78.072054487930.3893200331', '79.500744258231.0807299771', '78.21074109330.7454365439', '79.080950845629.5446364155', '79.217450239130.1745100895', '78.236165615929.843628698', '77.609528680730.8487661084', '79.416795507230.0985704293', '77.988410974629.8774375437', '78.258291386130.8249123502', '78.753840804630.9521699299', '78.363276891330.6309296841', '77.581780536130.2205183841', '78.450292795631.1034657329', '79.07872002829.6623482696', '79.002559699930.9954946435', '79.263519721730.3713606005', '78.287607362129.7662244179', '79.11240211230.4869968096', '78.004357096130.9761900544', '78.440450665529.5730779715', '78.798325932431.1883574682', '77.274582874730.4866357882', '78.434476190629.8083949018', '78.264941157130.5896654407', '78.936521920929.3854832912', '79.509849448930.4921461648', '77.423385721730.4908079392', '77.057126768330.9507291743', '78.093874533729.6444079908', '77.05551460130.9898871052', '79.469897679829.8636990447', '79.027156335129.7793310181', '78.828200838329.8546995795', '77.845651044631.2469664538', '77.354629277730.9986888075', '78.350358210931.1014488461', '77.548444462331.1608895245', '78.367516009430.4740812987', '77.655239067230.9676155119', '78.768301547230.3245995987', '78.189040175329.7641649788', '78.676517761530.0090808899', '78.765624651930.4422741169', '77.111706891630.8347590797', '79.504418508930.8453031651', '77.082496735730.3241599402', '77.14888733731.1495448867', '79.319151316330.0188608273', '78.622405235630.2043116198', '77.400066031431.1176077141', '78.494480354829.3779056131', '77.30818180629.585626342', '78.860612974830.6400689619', '78.712311492530.5983047459', '78.769190341330.2853742408', '77.330054597730.3313506174', '77.020252470830.6359416165', '78.528266081230.0063789883', '79.460163089930.491568712', '78.530207854629.9279377498', '77.407432046830.9217410236', '77.948215361731.1709969244', '77.682059660130.1838750301', '77.624542432430.4177355137', '77.998200530931.172173244', '77.506163130929.551769287', '78.856273314830.8361944766', '79.410478191630.490972336', '78.627098304630.0081987844', '77.060946628629.6177230517', '77.952122519529.4450677148', '78.525339025530.1240388765', '79.11164392530.52622944', '79.278452984429.5080922018', '77.050659150531.1073590159', '78.083640556829.9972733759', '78.845683056931.3068691342', '77.451454157231.0798198309', '79.352132216331.0004298144', '78.888208083729.3454795782', '79.147799610331.2331042694', '79.260034552230.5675411613', '78.162117736630.705151856', '78.9517890231.0339382343', '77.651124552531.0851665575', '77.51277123230.7677589647', '78.176858462730.1954701107', '78.601198871831.0671300079', '78.973078438230.0139842442', '77.271588776330.564976949', '77.722396156930.4594543198', '79.400766426931.0795285471', '77.777157207330.3039230696', '77.746963492731.205284474', '78.292867120129.5701495965', '77.084056079930.2849967347', '77.095740706731.2263570241', '77.566696037830.651542794', '79.518108808229.9427511156', '78.503338146230.9868052238', '78.929329743529.7385894167', '77.616393269330.6528474817', '79.406627744330.7264015674', '77.758173041229.3620270637', '78.556245651530.8701141042', '78.827350392729.8939290682', '78.34103039429.6103609892', '78.294818864631.2964414639', '78.260516674830.7464978065', '77.491154930429.9828029856', '77.559731105630.8474512814', '78.823072899830.0900726749', '77.366472818730.6853084923', '78.935729107629.4247183104', '78.198812046529.4112547092', '78.286549158629.8054385828', '79.308391072730.6466688394', '78.148607075629.4494241457', '78.359004369730.7877737479', '77.170783983330.6012581774', '77.214318624630.7593806232', '79.214613401430.3314558713', '78.909514109730.680105247', '77.609686536429.3975566142', '77.404494279431.0000886027', '77.132001119730.3256354318', '78.703000589430.990512261', '78.905266853330.8762357673', '77.709133527530.8513384574', '78.158662284730.8227641237', '78.14530599329.5670575245', '77.62589131930.3785491701', '79.198606025331.1945855921', '78.502315372431.0260188056', '77.899423900929.5615405528', '78.442426449829.4946368961', '78.832427952529.6585483116', '79.020951776330.0932030632', '77.971675855530.4262575202', '79.26765692230.1359356752', '79.426647518329.4706762211', '77.995721005231.2505645397', '78.609016390630.753392676', '78.459644705330.7505521878', '78.56218384230.6348133594', '78.997623755831.2308527203', '78.248979836429.3730636492', '77.12425680730.5214583747', '79.447556477431.27631652', '77.411817198230.8042174038', '77.067024244429.461055711', '78.311384152930.7083307096', '78.900114911931.1115838336', '78.185744058429.8817968978', '78.308109900430.8259577815', '79.18216876929.3890603511', '77.953227212631.0142181555', '77.749413325629.6364046047', '79.006628920530.7993558166', '78.638174508329.5375014845', '79.075724934629.8192939142', '78.829049605929.8154698354', '79.519849200729.82501736', '78.100567421331.0960682939', '77.827951181930.2659398666', '78.511448611130.6730869164', '79.462011766630.3738479546', '78.044527456631.290922051', '78.520421999430.3201334213', '78.010453714530.7801998203', '78.211870563930.7062305055', '78.393267391429.493682003', '77.480033656330.2962599509', '77.44706990831.197343531', '79.181470200929.4283010738', '78.858014287530.7577450492', '78.914556109330.4447401064', '79.307707252130.6859047171', '77.378132137630.3719089761', '79.03098467729.583152823', '78.001239581929.4461839481', '77.657968692730.8892466859', '77.705312261729.4784106127', '78.020084871730.4666008794', '78.231826239830.0004751426', '78.679253420629.8914059055', '78.74643859831.2659299251', '77.253222245529.7409485066', '77.803534871731.0105953806', '78.934934720929.4639530789', '78.593619713529.3404899367', '78.970677156830.1316800586', '78.18464100829.9210069977', '77.119086325729.3841589465', '77.799853299629.5984047456', '79.468697583729.9421861924', '77.826688687630.3051348215', '77.766809078530.6174573144', '77.576332930730.3772586105', '77.071550998629.3435520386', '78.497171380231.2220826759', '77.363529301130.7636553777', '77.920843518930.4642940081', '79.450117470731.1193749631', '77.528163365630.3367667271', '77.450143086329.7463846527', '77.656605215430.9284312449', '77.098958949331.1480399332', '77.869972053430.502307732', '77.173863360530.5229265818', '78.517448482430.437786976', '77.176930681230.4445937636', '79.275115820429.7043000773', '78.098364866129.4875718723', '77.449995595331.1189946978', '78.720536453330.2452955932', '78.368570595930.4348685291', '79.364068112530.2941639628', '77.759414545429.3228291557', '77.408896625730.8825667835', '79.514596957330.1782120292', '78.569993420430.3210641829', '77.664746174830.6933195212', '77.555309963729.5530541858', '78.809984821630.6784648778', '77.04577516431.2248280964', '77.801090705429.5592066179', '77.627237558330.3393625371', '79.130157646629.5453381925', '79.369238838129.9802421478', '78.498204206431.1828704412', '77.905858669330.9346423794', '77.206606923930.9552094295', '79.150089456431.1154160317', '78.102819771729.3307314352', '79.205967784830.8022690902', '78.868317798930.2870267435', '78.229643681830.078896748', '77.307786588930.9189309158', '78.651156510131.0680499685', '77.94741422829.6018839228', '78.846575104631.2676476857', '78.783175359329.6577334712', '78.16783183530.5091258985', '79.259333399730.6067765207', '78.014083121430.6626023129', '79.175120422729.7814564584', '78.075554279630.2717089243', '78.917884562930.287824874', '79.454551237630.8447175848', '77.270087317130.6041470759', '77.074653924230.5199713489', '79.220264808430.0175603097', '79.069663296830.133173169', '79.466888532530.0599150771', '77.097953047829.9325141056', '77.504812183329.5909556124', '78.864910253230.4439369745', '77.144116723631.267026995', '77.819061430.5402986034', '77.381018470630.2935561164', '78.290769455329.6485803234', '77.619120323430.5744779885', '79.153876115530.9192638546', '79.427252973429.4314307587', '78.012875690130.701801762', '77.125811754830.4822943996', '77.852685564429.481981844', '79.348741240231.1966003412', '78.545176077831.3014738203', '78.473867879430.2015324139', '77.749643340531.1269112802', '77.946956263531.2101909058', '77.592547954329.9070240461', '77.3587420729.5478058424', '77.750672154429.5972086525', '77.636587474830.0650480298', '77.362948348729.4302639816', '79.209594904630.6061013274', '78.44819212731.1818879945']\n"
     ]
    }
   ],
   "source": [
    "print dicts[0].keys()"
   ]
  },
  {
   "cell_type": "code",
   "execution_count": 76,
   "metadata": {},
   "outputs": [
    {
     "name": "stdout",
     "output_type": "stream",
     "text": [
      "['84.305288166829.245492482', '84.366077193428.1834679679', '83.786079219829.3709822829', '84.878662276728.0562937492', '84.604730895729.6542898048', '84.057833637928.9104669632', '84.659615890928.5167576308', '84.167554700729.4003372619', '83.718631268828.6146487581', '83.379644402128.2420845521', '83.544550048429.2242619061', '84.106286413128.947236833', '84.415473273128.257995123', '84.594013080929.351640579', '83.782992941229.2573952087', '84.888245467328.3210771375', '83.845059972628.0437480865', '84.356468910129.357835978', '83.000337445728.0965601653', '84.690375255529.3868724686', '84.074742141629.4782692391', '84.222835087328.1111580238', '84.172532767827.9986869605', '83.597796042129.4505584828', '84.216291187229.4370445023', '84.118852849729.3636093657', '84.080487053329.6675239128', '84.873244254127.9049830287', '84.442615776729.0905357391', '84.871826787529.1545465172', '84.046828991128.5319005625', '83.968589029929.1018748428', '83.326857340527.9777178413', '83.884379600229.4825357926', '83.005290917428.361791054', '84.175871887728.1122547731', '84.123433460627.9240460082', '83.72550906828.8797215756', '84.220574036128.0354498666', '84.379269611828.5997800162', '84.49965114427.9528671735', '84.033900817628.0775879963', '83.842084480129.6728553003', '84.691743635629.4247003017', '83.98904479528.1543434144', '84.736624997228.0223691312', '82.742110829829.540307481', '82.727491600928.6688137403', '82.873329379528.8942702775', '84.687147168827.9479663793', '84.891007438828.3967270968', '83.906392879328.5728659475', '83.573317477228.4659239913', '83.795445034829.7117300782', '82.905662119328.0600060334', '83.257916223629.1536250436', '83.646370876629.4874866167', '83.428415356428.3170149574', '83.368661778829.8337223701', '82.691303967329.3514742691', '84.859150784728.8141433286', '83.316521116129.6452024777', '84.941101553829.7204229894', '83.567840636728.2386776301', '84.640167143729.3125205126', '82.786449783429.3502338799', '84.69752220928.250647017', '83.989626343729.8211203042', '84.740660673529.4611983596', '83.232974240727.9792745836', '83.016133926728.9301053924', '84.708059092628.5533106912', '84.142258627728.5676047744', '84.979460994428.2427190692', '84.169907703929.4760340697', '82.680229091628.6694086085', '85.067362956629.3001743209', '84.575647387628.821963005', '83.827366238529.1428126067', '82.682048374328.7830912881', '83.592038169729.2233496488', '84.950771291128.7357652517', '84.202125541128.9828660891', '82.692558298729.4272548134', '84.452773761229.3932463305', '84.55310184229.5420810001', '84.170317467227.9229738399', '83.22279699729.7225885873', '84.030542688429.592919963', '83.307927955929.2664474657', '84.857755817928.7763193777', '83.258745866129.1915035792', '83.6102863128.048414041', '83.235323153228.0929311207', '83.148164228328.4354096308', '83.051679253228.3232013565', '84.573063787828.7462905138', '84.38781172128.8646896098', '84.549139323429.428581245', '83.381329993128.3178450519', '84.151333714528.8704308474', '83.885453580429.5203937901', '84.678176982629.0464097317', '84.698830428828.2884809072', '83.835728358829.4457001365', '84.791514454328.2480687528', '83.050952208228.2853127854', '84.186006480928.4529446904', '84.513234642928.369134603', '84.943681542128.5466612683', '83.075700473429.5355142479', '84.547823524929.3907474553', '83.106294325628.7013466921', '84.821628534529.0802624676', '84.261430829729.3601960002', '84.479862710128.7865976376', '83.825295668329.0670882415', '84.87459481927.9428111114', '83.578858183528.6931617788', '84.194011683428.7179116182', '84.007235158428.7979618206', '84.546510240329.3529133971', '84.940864715228.4710177494', '84.090672322128.4172638534', '83.842076971127.9301445478', '84.537387311629.0880674966', '83.372967030127.9390332518', '84.204463906629.0585650653', '83.13908379727.9807673253', '82.770312188628.4029481473', '82.977454844129.3854340743', '83.127326727729.7241578025', '83.403844970829.3026458883', '82.859979908828.1364385094', '83.655385915427.9717655192', '83.203208246328.8134885754', '83.15201042828.6248341769', '85.016948219429.2259853131', '84.459201910429.5824318234', '84.06566378629.1754484677', '82.867258248628.5532571603', '83.828404506729.1806744178', '83.16457024429.2309537795', '84.402725306529.3187906027', '83.965336767528.9883014442', '84.121166245329.4393101404', '85.017953988928.0144203589', '82.678420307328.5557239139', '83.88010416329.3311012936', '83.533438079328.7698012244', '82.77925349828.9334455941', '82.951965143228.0214532873', '83.304536514729.1149388016', '84.970988866129.2652195181', '85.025868013229.4528660312', '83.376292756628.0905607585', '83.032613280629.7635391396', '82.668948807527.9493717421', '84.848678823229.7988683303', '84.626850983928.9342018024', '83.985133734929.6697078221', '84.217486415529.4748910238', '83.477257583228.3919229222', '83.395923515728.9617714062', '84.390273527928.9403757259', '84.464388800629.7337754107', '84.067920353129.2511551886', '83.527073639528.5046832334', '84.160549491729.1732406584', '83.078029012429.6491563759', '84.924190449928.0171337015', '83.939659514829.7464841165', '83.971860067929.2154459831', '82.733135365329.0098473135', '83.195309250428.4346571271', '84.814672052528.8911390893', '82.82796438529.0085906327', '82.884385343429.5004701489', '84.372038992128.3727045688', '83.554963092429.6408202693', '82.686334466329.0483430068', '83.955691771328.647567768', '82.923489521629.0451545867', '83.620461375528.4650233857', '83.684049254829.1078756228', '83.744650281529.5991444562', '82.765931448128.1376829428', '83.868514303928.9146358319', '83.581652668828.8067774412', '82.9841075829.7263826573', '82.811682673728.0612786678', '83.062006799528.8536173504', '84.864757538728.9654363886', '83.29700037728.7740304944', '84.110825381429.0986485932', '83.383870645228.4314840499', '85.032151480228.3926166482', '84.599351513929.5029673582', '83.267130315529.570275917', '84.884122480728.2076001642', '84.956492408828.8870434656', '84.640277602527.9492154443', '82.877435635129.1216021111', '84.222290234229.6262745105', '83.101766898728.474032351', '84.020438767429.2522372715', '83.045186317427.9821960479', '82.956783682428.286694864', '84.371545748229.8119181401', '83.307077654829.2285706552', '83.594908835829.3369551623', '84.330904165228.5631014444', '82.743412798429.6160838505', '83.615809466828.2756590693', '83.162979064129.1551920941', '84.509501309728.2556102324', '84.162875622529.2489405541', '84.511987791328.3312934063', '84.733744402129.2720680111', '85.052493967328.9220449355', '84.98576542629.6433674804', '83.847058314428.119482572', '84.8472305329.7610494765', '84.543891197329.2772444765', '84.177020907329.7031182832', '83.623274175728.5786391078', '84.550457639929.4664147659', '84.891984405329.6840179268', '84.75045511129.7259692946', '84.221703465228.0733040706', '83.116285113129.1938325521', '84.895170447428.510199995', '83.797548278929.7874490628', '83.170187649229.4961122796', '84.756535310428.5898431383', '84.89378009928.4723759681', '83.034146077129.8393002377', '82.917216990728.7041589892', '85.049554240828.8464156749', '82.732503441528.9719555971', '83.627049993628.7301233779', '84.796895180328.3993864414', '83.879040408629.2932420428', '83.83995767229.5971379147', '83.987375754829.7454145737', '83.365099911729.6822331884', '82.924898222429.1209288676', '84.391507983528.9782183926', '82.679624999428.6315139339', '82.973808103529.1960100617', '82.789104477429.5017864036', '82.916526731228.666269449', '85.061381149429.1489259609', '83.404733602429.3405196365', '85.039353771328.5817044467', '84.038176888428.2290294789', '83.778905408729.1059423137', '82.691930532429.3893646551', '83.935255250129.5950630751', '84.55400110428.178713223', '82.818749828428.4781132615', '84.206811265129.1342630148', '83.695985864729.5622584709', '85.00375923928.8856452131', '83.693977341529.4865304569', '83.813038025228.6127213489', '83.252153123228.8884687034', '83.409202367929.5298847771', '84.578240943528.8976344344', '84.877303826428.018466472', '83.373796040327.9769154758', '83.234538661228.0550458375', '84.347832543729.0929372132', '84.063415855329.0997407315', '83.505404889429.5659924826', '84.792437936429.5733206407', '83.466805833627.9373831688', '82.92631234329.1967022291', '82.688189094629.1620189301', '82.776674160428.7818794033', '84.831480315429.345023649', '83.080370934729.7627963871', '82.983362723329.6885004145', '83.393313318628.848142297', '84.999413299928.7721934758', '83.895057600128.156363528', '82.829971448529.1222585663', '83.689983272329.3350714703', '83.499825504329.3387712252', '83.496141366129.187285551', '83.798602913329.8253081789', '84.425210384928.5607517242', '83.254613534129.0021085449', '83.341757759528.659581168', '83.504470539629.5281228792', '82.78843889729.4638986167', '82.937092714629.7649729645', '84.498430587427.9150231302', '85.082519115829.6782752677', '83.26882654129.6460275325', '82.747348685329.8434074421', '83.899151641128.3078223781', '83.117064020629.2317144517', '84.25782008729.2466586507', '83.097291670728.2467097549', '83.844063706828.0058804814', '84.566648147828.5571046556', '84.8965634828.548023749', '83.31392588629.53157848', '83.434483935428.5821601614', '84.265062359929.4737310086', '83.305381936729.1528163229', '84.384136716828.7511584835', '83.936897244727.9660403867', '84.620288147728.745032388', '85.076421905329.5270383228', '84.802317636228.5506998244', '84.529664545228.8610463411', '84.6441004528.0627286169', '84.44387702629.1283754881', '83.401189271629.189023208', '84.939623234229.6826078557', '83.361565145329.5307401542', '84.446406790529.2040541945', '83.518129627328.125923085', '83.013940164928.8164466476', '83.915847874828.9136185136', '83.687007731629.2214746492', '83.146636125228.3596382017', '84.618983137728.7071977052', '84.165210682929.3246394226', '84.670160987828.8194224072', '83.618595211928.3892783748', '84.107417888628.9850901539', '83.273095554229.8354023906', '84.492562529929.1649854011', '84.370842014728.3348577609', '83.795175838127.9311051971', '83.888687862129.6339662731', '84.128159733929.6664062911', '83.768822907528.7272928603', '82.924193195629.083041842', '82.776032424828.7439872906', '85.03792118629.7553577335', '84.695864501529.5381821612', '84.421541323128.4472199363', '84.055615725428.8347556903', '85.01399763929.1503561464', '84.032811706629.6686244243', '83.296171056328.7361506183', '84.671490578328.8572543004', '84.282571860428.5264026481', '84.990253669129.7568063432', '83.546427056729.3000019769', '84.863351808928.9276135357', '84.277894482928.3750035063', '84.227130874329.7776538254', '83.633728073428.9952115687', '83.350262279129.0383613609', '83.78711192529.408844145', '83.124935713629.6105205591', '84.649232293228.2140758421', '82.817453668528.4023271689', '85.033379679329.6419254865', '84.549010414328.027349342', '82.76407211728.0239945169', '84.700141181128.326314532', '83.219469363229.571081366', '82.725631998828.5551318334', '83.019078701729.0816471597', '83.47990869128.5055525719', '85.028864079929.528490668', '83.467667547327.9752627683', '84.02155285129.2900919199', '82.842259219529.8042228087', '83.953571048928.5718464406', '83.421579796628.0139778094', '83.859212278228.5738690841', '82.998934477928.0207778781', '82.774752659128.6682023883', '84.426438132228.598595135', '84.76602585628.8546436739', '84.294424357428.904882592', '84.369647349528.2970106965', '83.28553429828.2436909968', '84.777029685429.1572565667', '83.9964626728.4193714254', '84.460044865128.1811227454', '82.745375105629.7297466822', '83.624215401328.6165105357', '82.74081383229.4645301947', '84.508261672528.2177682558', '83.212074617829.2301762544', '83.774849133328.9544854756', '83.315654385729.6073280511', '84.702770298628.4019809844', '84.523296596428.6718547713', '84.700009041729.6516615547', '83.883307671629.444677544', '84.32260971128.2981646338', '83.215345445329.3816920007', '84.335694400428.7144882633', '83.152784133228.6627183939', '84.820231893229.0424383402', '82.9547105828.1730212537', '83.436232937828.6579138134', '84.410660926428.1066106429', '83.997530588928.4572315824', '83.336733178828.4323017737', '83.520794671828.2395536083', '84.116548291829.2879075656', '83.585403841128.9582616253', '84.365221728829.6227218683', '84.603517724728.2531608538', '83.951458494128.4961241241', '83.198450569128.5861924876', '84.916350084929.0775274645', '83.020559596829.157416657', '83.24808387528.6990642853', '84.542585431229.2394096146', '83.678183176928.8806709805', '84.140011638128.4918957315', '84.570490113928.6706169631', '84.233118914728.4518322739', '84.564099156628.4814284666', '83.791262556729.5602891067', '83.671424454328.6155878523', '83.443296741628.9609189427', '83.714742575828.4631732438', '84.362527723628.0699229421', '84.369008902129.7362404277', '83.762865938728.5000914628', '84.375643833428.4862434515', '84.089573082228.3794067594', '84.22834681529.8154980003', '82.831315928929.1980360471', '83.098777642728.3224848679', '84.672822727128.895085925', '83.590133543329.1476114247', '83.661926145928.2368771945', '83.772832656928.878755583', '83.921171810729.1029168093', '83.055335655128.5126407932', '84.262639025329.3980412635', '84.81053011828.7776617817', '84.625533365628.8963684538', '83.253791819728.9642288324', '83.027294358229.498367905', '84.036034708828.1533092309', '83.45683751329.5290123512', '83.204006553928.8513704427', '84.982278423528.3183615747', '83.665703448628.3883643354', '83.75893279128.3486190123', '85.039440829.7931679095', '82.969477946128.9686936243', '84.488726951429.0514718452', '83.171806494229.5718697299', '83.463290797329.7941040364', '84.7093876828.5911424499', '84.134431994328.3026187296', '83.890854366829.7096800013', '84.558420634629.6934102304', '83.39505177628.9238952736', '84.658309149328.4789233344', '83.702310148827.970851257', '83.139832452128.018655439', '84.340521677328.8658709547', '82.875376587529.0079372225', '83.287153371828.3194565719', '84.586081654629.1246423278', '84.650521477528.2519119907', '83.555920637829.678687749', '84.352753424629.2443095068', '84.109687369429.0607960342', '82.920688312328.8936032731', '82.671289203928.1009650971', '84.113107965229.1743529475', '84.270945897528.1478971736', '84.8508211128.5871955241', '83.506341026629.6038618429', '83.30369271429.0770610437', '83.863326610528.725323434', '85.030366408629.5663025593', '82.767801634928.2513693683', '83.550202713329.4514792077', '84.493845966129.2028227228', '84.611205657828.480184034', '82.870618091428.7427111617', '84.633477152829.1233645231', '83.320004634829.7966977859', '84.683572484829.1977292174', '83.771827323628.8408902691', '83.862295051428.687460215', '83.339238192728.5459425237', '84.440100525129.0148554512', '84.336897738128.7523343238', '84.55708712829.6555783283', '84.845784993729.7232303423', '84.834319436129.4206672131', '83.347693718528.9247297806', '83.556880013129.716554984', '82.772207896628.516629883', '84.085197321228.2279758918', '84.308951287529.3590244312', '83.986253675429.7075613254', '84.105157109728.9093832587', '84.507024432928.1799260198', '83.076475169929.5733951921', '83.008870433628.5512348804', '83.977353759329.4047261796', '84.653740583529.690812149', '84.69862489129.6138353647', '83.775860282428.9923500539', '82.818101121828.4402203275', '84.921448887327.941482562', '84.732369069729.2342411202', '84.438846515428.9770149129', '84.46569171829.7716106375', '83.358931753129.4171178591', '84.598441785528.1018068163', '83.654458831127.9338914731', '84.914919040129.0397075656', '83.407409729529.4541394417', '83.312203983629.455827953', '83.752122623728.083532938', '83.670466344828.5777178675', '83.155114220128.776369657', '85.079464695329.6026573693', '83.73549647929.2583762784', '82.960265728328.4761463601', '84.014900270629.0629602376', '84.050108151428.6454731126', '82.880199543829.2731520872', '84.474850752628.635235167', '83.832577539429.3321191793', '84.69491335228.1749784417', '83.766829587328.6515600343', '83.652312963129.7146765147', '84.927897674329.3800766301', '83.967502860529.0640172939', '82.679022071928.5936190356', '84.164042034829.2867901169', '84.360205784529.4713600845', '84.081937669928.1144001328', '82.741461710629.5024189524', '83.830487024929.2563972956', '83.538036944328.9591640496', '84.800979873529.8002505658', '83.659112311428.1232593321', '84.236586808428.5653858039', '84.515735585928.4448162143', '82.87881493829.1973775582', '84.230818122228.3761286525', '83.547368261629.3378716488', '82.720725453928.2519702446', '83.053137572128.3989778157', '84.088475965428.3415494159', '83.272238489929.7975278977', '84.145645407328.6811664487', '84.003981575828.6843873151', '83.096550841128.2088218563', '83.51010350629.7553368491', '84.57177571228.7084538707', '84.409041196329.5079881664', '84.783521061928.0210841908', '84.896374431629.7974689425', '82.970915790329.0444666915', '84.001822945228.6086697316', '84.724172184829.0072740515', '83.608459500227.9726638041', '83.057546514928.6263017121', '84.587397236629.1624760409', '83.645387136829.4496207725', '84.224705937129.7019646905', '84.598013076729.4651360689', '83.514600277727.9744124313', '84.889071638529.6083825093', '82.971636787329.0823528799', '83.206410714928.9650146446', '84.456623278729.5067584257', '84.287285482328.677797705', '84.929353591129.4178940177', '83.129731474629.8377929178', '83.26628463129.5323997517', '83.816075942728.7263163866', '83.326044686527.9398343432', '82.96096618728.5140359792', '83.874805715429.1418025432', '84.460494923829.6202681216', '83.8930224528.0806326419', '83.399427275229.1132735601', '83.387281181228.5829994345', '83.535272317428.8455470734', '84.702785275929.7273131098', '83.773839925828.9166206519', '83.408305191629.4920122297', '84.12890606928.1133354772', '84.411860519328.1444571475', '84.269795629428.1100452327', '83.985896370528.040756293', '83.192192132428.2831180754', '82.821357225328.6296827469', '83.414621577729.7571149958', '84.000746747828.5708105667', '85.027364616229.4906784918', '83.474621812528.2782911507', '83.963178980728.9125845939', '82.765310467328.0997870228', '84.745844634628.2871978065', '82.935637403329.6892065519', '84.127807294728.0754780796', '84.714727702328.7424668033', '84.042486212628.3804670067', '84.04901298928.6076158456', '84.917783876229.1153470857', '82.723169233828.4035528237', '84.806412015528.6641820239', '83.259577101629.2293818788', '84.132215200628.2269061768', '84.45397649227.9918982513', '84.516989684528.4826566284', '84.168730077429.4381857948', '84.621595671628.7828668046', '84.728258842329.1207588104', '82.819399790128.5160059706', '82.746689569629.8055207526', '82.856722537627.9469665243', '82.958172459428.3624761417', '83.834676075229.4078400668', '84.476100124828.6730761773', '83.343445588628.7353390912', '84.269936904829.6251073651', '82.717697252928.0624870218', '84.784846848328.0589156179', '83.902243038828.4214139507', '82.777317133628.8197712903', '83.063505051828.9293873866', '83.00386877728.2860119323', '84.072459503929.4025655764', '83.233755691228.0171603251', '84.757883284128.6276725964', '83.113957338129.0801854536', '84.982787496229.5677401506', '83.430140864328.3927719054', '82.913095345928.476818342', '82.975991952829.3096651641', '84.894908300229.7596522191', '84.816058012228.9289643126', '83.958888223828.7611478998', '84.097312525728.6444011654', '83.532523606228.7319279411', '83.970767630329.1775891877', '84.386584362428.8268461611', '84.125616131427.9997625396', '83.488857385428.8843026633', '84.276082654329.8143219128', '84.183739075928.3772375789', '84.639008259327.9113771972', '83.736505798629.2962403978', '83.290410380528.4709849398', '83.013211722228.7785599397', '82.868598297328.6290394402', '83.938555294629.7086292366', '83.660048438628.1611321911', '83.80502238728.3097905194', '84.86054843628.8519670054', '83.212889975629.2680555446', '84.551778478129.5042480177', '84.367264942428.2213157998', '82.838116189329.5769096902', '84.653107340428.3275834966', '83.415530829929.7949858525', '84.935263576528.3197274248', '83.091405085927.943600202', '83.821178307628.9156365457', '84.085122622129.8189230235', '84.501598405529.4298410638', '83.155893913828.8142529478', '84.645565421529.4638404328', '83.065763263729.0430407067', '84.550254460728.0651907018', '83.723534512528.8039877006', '82.980397485629.5369691079', '85.009592914529.036910286', '82.840181769829.6905672909', '83.031086323629.6877771015', '83.426696515728.2412570719', '83.969677285429.1397321409', '83.123349301529.5347612174', '82.739521789329.3887519932', '83.410101261329.5677570836', '82.71649417927.9866921828', '84.716069145528.7802972198', '84.039251094128.2668892323', '83.703255402628.0087236135', '84.642823694228.0248911545', '84.595343864229.389472679', '83.957820686328.7232881041', '83.24085740128.3581216644', '83.866433234828.8389116131', '84.23542861228.5275348812', '83.543614239529.1863915077', '84.616380644528.631527542', '82.693187268129.4651447438', '84.069051883729.2890081677', '82.729361996228.7824936263', '83.257088171629.1157462721', '84.182608656128.3393836455', '83.904313952328.4971404404', '84.316753475628.1089164032', '83.855129578528.4224108129', '84.880399758729.3814695311', '84.15823226329.0975397378', '83.907435355528.6107283319', '84.250660578129.0195769578', '83.708009291628.1980818188', '83.383022122528.3936046178', '83.89411966429.8232486982', '83.733483633629.1826473007', '84.645379684228.1005658172', '84.706733064628.515478665', '83.896078138428.1942286061', '82.982619287729.650617938', '82.721334625328.2898662233', '83.265440562129.4945233484', '84.281399126728.4885532449', '82.820051008928.5538984547', '82.825968862228.8949206491', '82.961668000428.5519253711', '82.777961346328.8576629512', '84.904978274428.7749605226', '83.081939682629.8385552158', '83.411001874429.605629149', '84.834448197928.1332705941', '84.838598515429.5341304769', '83.177521411529.8370133459', '83.354576237129.227742586', '83.831531281129.2942583618', '84.370276116229.7740794168', '83.8263299629.1049505479', '83.92654707329.2922088607', '83.79022192129.5224282398', '82.793799341929.7669944686', '84.435098906628.8634917234', '82.970196177329.0065802729', '84.597178935628.0639676534', '84.345386223229.0172495005', '83.79712989328.0068441872', '84.646921452929.5016697337', '84.073599731429.4404175356', '84.290844616928.7913413062', '83.059770210128.7399605665', '82.787774589229.4260106004', '83.224470368629.7983407695', '84.413062439128.182303396', '83.186029917627.9800289557', '83.986943810228.0786189119', '83.663811141928.3126212432', '83.045902166728.0200864322', '83.946212678828.3068140187', '83.617664832928.3514055113', '84.502899151729.4676765198', '83.052407707128.3610897', '83.571484796128.3901761543', '83.914789212128.8757581079', '84.524565288328.7096936123', '84.603382197329.6164596004', '84.854973921828.7006706552', '83.148930498928.4732950007', '84.265216804427.95863495', '83.898125155928.2699580315', '84.721460787128.9316161892', '83.5234752528.3531820098', '83.066518898829.0809246835', '83.363329151629.6064871519', '84.471117053428.5217105694', '83.76782528728.6894265691', '83.763853984128.53795897', '82.725014521428.5172374163', '82.762838569727.9482011244', '83.640496580629.2602878753', '82.673647845828.2525549196', '84.314426824128.033215335', '83.472873118428.2025354606', '83.570571109928.3523018792', '84.971073850228.0157849958', '84.792855737428.2858985775', '84.881838178429.4192890596', '84.949347875428.6979450065', '84.095090576428.5686897303', '82.822668492828.7054661362', '84.461790407329.6581041525', '83.452280604329.3396538887', '84.171087583829.5138820861', '84.037375803729.820030273', '83.144355032728.2459793376', '85.077941848829.5648479894', '84.924994178629.3044410142', '84.613788161328.5558563175', '83.007434474128.4754580329', '83.236896711828.1687009984', '84.880023363428.0941207574', '84.90216253528.6993160287', '83.125731196429.6483998763', '82.694448823629.54092392', '83.166968484229.3445945482', '83.569659189728.3144273666', '84.592684841129.3138082094', '83.656314802928.0096393284', '83.197662962628.5483089943', '85.062872309429.1867384763', '84.37443989828.4483974144', '82.67781970428.5178285689', '84.207988325429.1721116039', '83.475498702928.3161686432', '82.93274340829.5376709327', '83.599730073729.5262928084', '84.40398365729.3566306442', '84.628171135528.9720348832', '84.595918532228.0261282296', '84.30772790929.3211807092', '83.601671514229.6020261546', '83.142087161528.1323184147', '82.780550630829.0092273303', '84.111965578829.1365008978', '84.407076073927.9930695945', '83.653309946429.7525406343', '83.937924279628.0039050995', '85.059892843329.1111131624', '83.696993008929.6001221072', '83.0502265728.2474239868', '83.256261707629.077867265', '83.208828782829.078656742', '83.784019730929.2952578145', '84.747171952828.3250294099', '84.078182502829.5918228131', '83.651317880629.676812148', '82.676024843328.4041411963', '84.47735190628.710916926', '83.335901396828.3944210569', '83.562427086528.0114227476', '84.641549412927.9870534301', '82.715894393727.948794432', '83.727491234428.9554544751', '84.334493377728.6766419449', '83.060514304328.7778463915', '84.243583069128.792485989', '84.341734310928.9037159805', '84.787506144328.1345776729', '83.9840159329.631854064', '83.095073483928.1330453762', '82.693817442429.5030344461', '83.939984341528.0796337948', '83.059027548628.7020745115', '84.900758724428.6614933698', '82.934187640329.6134392074', '83.225309451829.8362165027', '84.357712153429.3956776099', '82.857371482627.9848613673', '84.660925155928.5545916614', '84.997970215128.7343756731', '82.831990106529.2359244444', '83.626103307528.692252671', '84.213907577229.3613506814', '83.97514996929.3290148582', '84.041405753128.3426079964', '84.809154774628.7398354676', '83.941017374428.1174977767', '84.741878051428.1737013971', '84.742051878429.4990236059', '83.187561513628.0558026081', '82.878124624729.1594899493', '83.962103194128.8747257942', '83.047338043628.0958665229', '82.955400275128.2109126827', '83.687997678629.2593405016', '83.98799328428.1164812858', '83.014670011828.8543331259', '83.756977597528.2728813373', '84.117699467829.3257585937', '82.763454743927.9860979314', '83.147399437828.3975240311', '84.010507581628.911534076', '83.635652662729.0709488726', '84.130508757229.7421029431', '84.266277506229.5115754898', '83.067275986529.1188084283', '83.549256087129.4136102645', '83.19296915128.3210031836', '84.178214381829.7409647437', '83.200030349728.661958779', '83.174246394329.6855041313', '82.719510647628.1761776208', '84.431372850628.7499661786', '83.342600860628.697460247', '83.004579158828.3239016066', '83.97405123429.2911588186', '84.877531157329.3058296382', '83.519904601128.2016770026', '84.704088671428.4398138113', '83.580719378828.7689057937', '84.743197687728.2115337998', '84.099543057728.7201115953', '83.223632884529.7604647976', '84.936675037829.6069767401', '83.340076428128.5838223061', '83.124141749429.572641006', '84.876100967129.2680092743', '83.260409932529.2672599422', '83.487954737928.8464287251', '83.396796932928.9996473013', '83.641470949229.2981549441', '83.846058174228.0816154501', '83.799091552628.0825822165', '82.887910405129.6898955114', '83.716683168828.5389114843', '84.091773688228.4551206978', '83.785048489529.3331201727', '83.713775087428.4253037617', '84.034966728728.1154487368', '82.871971124628.8184911745', '84.737886226729.3855470426', '82.675428867128.3662449602', '84.841464883429.6097712607', '83.213706897829.3059345992', '84.10402997528.8715294313', '84.883279349729.457108309', '84.417893456528.3336858216', '84.248292334728.9438809959', '83.748769457129.7505905285', '84.159389766329.1353903261', '84.143385378328.6054589182', '84.866165969729.0032589662', '84.88962511928.358902253', '83.150467489728.5490650499', '84.108551539629.022943221', '84.458826480328.143278361', '83.616736252128.3135324094', '83.20963790729.1165369724', '82.674240370128.2904518217', '84.296822345628.9805754925', '84.346608209829.0550934871', '82.907673672228.1736848164', '83.757954248328.3107502954', '84.36017285727.9942249857', '84.092877183828.4929772923', '84.552749801928.1408726426', '83.437988698928.7336665193', '84.919220418229.1531664288', '84.033949468229.7064762711', '83.611202378728.086288805', '83.982766225827.9271669691', '83.250520720528.8127076374', '83.100269379528.3982590672', '83.892007832128.0427668345', '84.519505154528.558336672', '84.986525036728.431823275', '83.629901017528.8437340524', '84.33931137328.8280256698', '84.229671056828.3382764622', '83.630855023228.8816037945', '84.490003026429.0893099621', '83.743625394429.5612823162', '83.952513752128.5339854059', '82.906331335928.0978991853', '84.054509964828.7968996765', '83.388996351228.6587557171', '82.930587391829.4240167801', '83.391581540228.7723883736', '83.151238214328.5869497288', '83.60557671529.7534899014', '83.686019680629.1836085517', '84.49771105829.3163330926', '84.086288088128.2658339818', '84.254230035129.1331189674', '84.061176534229.0240319822', '84.062295120229.0618864833', '84.002901220228.6465286478', '83.956755203228.6854280601', '82.931304689129.4619017294', '84.052304818828.7211868958', '84.295622199728.9427291715', '84.522030345928.6340156674', '82.811047649528.0233832745', '84.23196740728.4139805898', '82.77539192528.7060949522', '83.901210579628.3835503379', '83.36687744729.7579782617', '83.044471858327.944305438', '83.740562460629.4476944074', '83.153559332128.7006023798', '82.860635186328.1743322364', '84.77841707329.195081949', '83.61303985728.1620376225', '84.040327381328.3047487382', '82.766553635128.1755786405', '83.17588077829.7612592137', '83.072616464329.3839881279', '84.225917249629.7398093888', '82.937822456229.8028558208', '84.67415743828.9329172807', '84.147914162328.7568729683', '83.699013077929.6758486373', '83.455922640629.4911411414', '84.420323017328.4093754896', '84.761942818428.7411593523', '83.501678186829.4145126134', '83.870603390528.9903590612', '82.769054481228.3271592044', '84.795274396329.6489650615', '84.053406330428.7590434116', '83.340916282828.6217018543', '85.033586385528.4304347622', '83.172618240829.6097481005', '84.955058002828.8492243278', '83.221962703629.6847121388', '83.729481035129.0311863971', '82.974534657829.2338953272', '84.634810029429.1611962607', '83.708965612728.2359527426', '82.814876349828.2507522923', '84.561559986128.4057512265', '85.029289969828.3169795914', '83.972954601429.2533025269', '84.035089402629.7443278616', '84.739246433628.0980357946', '84.078696926128.0008221463', '84.096200479828.6065455734', '83.777888417129.0680784732', '84.85220271528.6250208403', '84.976654444128.1670754691', '84.795546096528.3615574221', '84.079333678129.6296734914', '83.577004149328.6174168055', '84.608633103828.4045106939', '84.781199832529.2707318908', '83.472001309728.1646572636', '83.583524646928.8825200148', '83.330123789228.1292495265', '83.420732788727.9760971173', '84.835798144528.1710991549', '83.668555664528.5019771756', '83.159814971529.003665916', '84.274410103628.26145148', '84.760587034128.7033307038', '84.646661400328.1384027551', '84.987946049528.4696432917', '83.943089459128.1932250078', '83.798109770828.0447133221', '83.929797032929.4057810809', '82.6772202628.4799330008', '84.361456179729.5092009265', '83.515480046828.0122904464', '84.329712367828.5252540969', '83.57240025128.4280501918', '82.886496336529.6141260616', '84.55150092228.1030318021', '83.887607708129.5961090306', '84.744519880828.2493659364', '83.011759040728.7027858356', '83.12176894529.459000934', '83.279120432827.9406194645', '82.764690690828.0618908808', '83.72848517928.9933205584', '83.23768578328.2065855924', '82.688809681729.1999104518', '83.188329545528.0936890917', '84.990796312328.5452824979', '84.12452373627.9619043977', '83.561530941527.9735461091', '84.629493824329.009867696', '84.926444538329.3422589621', '83.388137938928.6208776934', '84.505508112829.5433466285', '84.966916720927.9023142871', '84.427668248828.6364382862', '84.684927835129.2355584114', '84.008323868428.8358194894', '83.931974060929.4814946358', '84.622905713328.8207009546', '84.030715467627.9640042993', '84.174756687528.074399085', '84.326150747128.411710516', '84.691018965828.0614735963', '84.100661550428.7579664327', '82.690054433329.2756928147', '84.198634794228.8693157043', '82.918601508428.7799373869', '83.563324973928.0492991509', '84.363964148129.5848818187', '83.294517202428.6603901636', '83.648344008429.5632175678', '84.768760991728.9302985318', '83.460514538429.68049477', '83.853100031128.3466802119', '83.607548753827.9347883317', '82.859325901628.0985445587', '84.317920189528.1467665574', '84.419272920529.8106904625', '83.703076422429.8272987205', '83.432741671228.5064055654', '84.685861572227.9101301147', '84.913490737529.0018873892', '84.878964086429.3436497239', '84.807782075128.7020088815', '84.512074265729.7325172007', '82.951282109927.9835607342', '82.717095131528.0245897128', '84.748501839328.3628607462', '83.196092305528.4725413139', '84.686285783229.2733873338', '84.510743348128.2934519493', '83.386426075428.5451209404', '84.841224134528.3224107086', '84.793854813329.6111429899', '85.048088608228.8086006238', '83.770823922928.8030247105', '84.500300143829.3920053404', '83.642447186229.3360217685', '82.723783140728.4414479113', '82.967331522428.8550323007', '83.001040975128.1344509707', '84.380482873728.6376250213', '83.664756380128.350492909', '82.975262606929.2717803614', '83.282314916728.0921570733', '84.211533072329.285655825', '85.006670478128.9612783093', '84.701395835329.6894874699', '83.841020060829.634996733', '84.987258656129.6811807192', '84.129333125229.7042547465', '83.702057677829.7894365724', '84.68086956229.1220700159', '83.999672624728.5329511534', '83.803037776628.2340553847', '84.574354345128.784126892', '84.125819659529.5907086052', '84.01269970728.9872476594', '83.634689443929.0330803421', '83.639524077529.2224205622', '82.698902443429.8061438281', '84.588715342329.200309486', '84.018216994329.1765272155', '84.510756019429.6946836245', '84.279060441328.4128536737', '84.349059228529.1307806784', '83.619527391928.4271509997', '83.81202928528.5748558475', '83.3847208128.4693632479', '83.16218576129.1173109002', '84.617680637928.6693627564', '84.176989252328.1501102113', '83.145874288328.3217521428', '85.051022692428.8842304456', '83.157457812128.890018833', '83.60937201828.0105390407', '84.518246206228.5204967811', '84.218321743927.9597407075', '82.876061618529.0458257475', '83.120981031829.4211204398', '85.074904860529.4892283698', '84.245933174328.8681840055', '84.321433923928.2603154962', '83.938953310928.041769569', '84.223968905628.149011726', '84.228526207628.3004240192', '84.42276198428.4850641245', '84.71338883828.7046361178', '84.171424041727.9608305246', '84.264077643427.9207817508', '84.668833951528.7815902459', '84.992225570728.5831016867', '83.894039038328.1184982065', '84.428900738328.6742811774', '83.545487653229.2621320626', '82.92702144129.2345885645', '83.631810865928.9194732947', '82.912413037228.4389274409', '82.87950657729.2352649376', '83.848060396228.1573494518', '84.75384714628.5141834146', '84.293228815228.8670357545', '83.400307428129.1511485033', '83.622334764628.54076744', '83.755029960528.1971426987', '83.750840864729.8263120686', '84.353989549329.2821519262', '83.981786713329.5561457846', '84.957929572928.9248623257', '84.89795920128.5858472296', '85.068865576329.3379857008', '84.031676114529.6307723215', '83.241654150328.3960051053', '84.833100863828.095441765', '83.279916727827.9785042114', '84.925565225228.0549588661', '82.824644898928.819139524', '83.966418774229.0261594942', '84.463714206828.2946543507', '84.114252543929.2122047423', '83.511995543729.8310728881', '83.238476385228.2444699563', '84.978341860829.4542970307', '84.664868129328.6680921553', '84.070185583529.3268608923', '83.557841221129.754421974', '82.864593634228.4016898904', '83.190642603128.2073471697', '84.3175807529.6239231498', '83.028806796829.5741322856', '84.219446796827.9975954122', '83.308779888529.3043240388', '84.545199465829.3150790707', '83.021302178929.1953010583', '83.604597617529.7156243335', '85.024374266429.4150532866', '84.532228919628.9367211203', '83.807014693728.3855246853', '84.415417712229.6971790997', '84.560294074428.367912213', '84.725531791829.0451025761', '82.958868866528.4003664411', '82.742761191829.5781957804', '82.834020412829.3495882614', '82.890041660329.8035479442', '84.506816335529.5811812806', '84.926942668328.0927837601', '84.36774410229.6984011731', '83.861265478328.6495967502', '83.142841653228.1702056174', '82.883684366529.4625843821', '84.184871683128.4150912607', '83.071083293829.3082236648', '83.591084943329.1854806581', '83.204806399628.8892520768', '83.658177998228.0853862351', '83.092868170928.0193789518', '84.642861121229.3881810154', '82.768427451328.2892643979', '83.071849144829.3461060131', '83.299497942928.8876687151', '84.45149548829.3554084336', '83.817092490828.7641809095', '85.027863356328.2791606491', '84.382916422728.7133142553', '85.073390709729.4514181308', '83.469396006128.0510212675', '83.792305182829.5981497243', '82.835380448629.4253629917', '83.27138305929.7596531652', '83.891940723929.7475364866', '84.730996368229.1964139562', '83.909526348628.6864523611', '84.827737574927.9441237717', '83.214525386929.343813418', '84.313266879727.9953644214', '83.440635058328.8472938005', '83.724520840428.84185476', '83.365987831129.7201058455', '84.704177367729.7651384742', '84.929705574128.1684327353', '84.455337652729.4689213268', '83.07880816329.6870366151', '83.107815150228.7771162965', '83.3985488129.0753983785', '83.311345529.4179523317', '83.168574985629.4203538851', '83.118626323429.3074775495', '83.483467479928.6570554595', '82.774114625228.6303095993', '83.677212058428.8428026887', '84.133322524728.2647625781', '85.084050698929.7160837855', '84.779807120729.2329070572', '84.203293601529.0207157054', '83.566029115928.1629269468', '84.981302787629.5299260604', '83.612120226828.1241633322', '82.903662252427.9463252356', '82.683267085728.858878619', '83.565125985928.1250512507', '83.107054005128.7392316097', '82.781852760129.0850081583', '84.99175546129.7946187277', '84.190567645128.6043558833', '82.769682726428.3650537876', '84.947927196828.6601244852', '82.885087662629.5383556846', '83.459592646229.6426245288', '83.117844423329.2695961175', '83.748272411627.932049903', '83.056808138428.5884149683', '83.490667897828.960049823', '85.035024063128.4682525993', '84.036231513329.7821791957', '83.719608141128.6525170319', '84.320067575429.6996061318', '84.656486499729.7664672012', '84.735318087527.9845354025', '83.115507698429.1559504191', '83.788146608229.4467057587', '82.785130044329.2744562438', '84.363708587428.1077715388', '83.522579993728.3153061121', '83.541747998229.110649986', '83.823233032928.9913628872', '83.338401574428.5080625074', '83.769822451828.7651589075', '82.956091308628.2488038862', '83.606557682229.7913552231', '82.729987868428.8203864716', '84.579541464628.9354697502', '85.018427751929.2637994733', '83.487053825828.8085545482', '83.47026275628.0889001668', '83.579787884728.7310339062', '82.981136671129.5748522845', '83.109341845628.8528849766', '84.55575616329.6177461557', '83.592993225329.2612183966', '83.945169589228.2689512602', '83.984850961928.0028934294', '84.023787428929.3658004562', '83.94412851728.2310882565', '83.243252279128.4717712928', '84.378058686828.5619347526', '82.840872931529.7284526952', '83.998600572828.4950914918', '83.444187386928.9987935137', '83.293692664228.6225095855', '84.46308836529.6959399156', '84.323815645829.8131286248', '84.173454117729.5895773428', '85.036404464329.7175472708', '82.842954350129.8421075174', '84.826403245227.9062936058', '84.457610454128.1054337191', '83.07031890929.2703410832', '84.060060094128.9861772282', '82.791779565329.653335252', '82.919991371328.8557148727', '85.022883371329.3772402581', '83.362446305529.5686137731', '82.736313260229.1993024958', '84.344166580328.9794052537', '83.675275419628.7670653777', '84.077033523929.5539718781', '83.34513993528.811096074', '82.746031710429.7676338326', '84.610151484129.8056078998', '84.187143472728.4907978677', '83.012484681528.7406730022', '83.890995181828.0049007846', '83.811022489428.536990102', '82.833342346429.3117005518', '84.468639898728.4460262017', '83.685033522729.1457422095', '84.082800417129.7432239836', '84.407773183429.470149183', '84.530945500528.898883863', '84.838505890928.2467554703', '83.337566570628.4701822573', '84.342949277428.9415607469', '84.91206517328.9640669357', '84.1501916728.8325784748', '83.779924353929.1438059077', '83.70515142628.0844676119', '83.288778726428.3952212202', '84.13000697628.1511926261', '83.836782657229.4835599563', '83.20802121129.0407762771', '84.825834559129.1937332001', '84.556510989228.2543936023', '85.056924775229.0354867175', '84.975392225329.378666871', '84.327335662228.4495586324', '83.764843938828.5758262345', '82.929156910729.348246187', '82.888619467729.7277798881', '84.593405050827.9504486008', '84.263849534129.4358862664', '83.331766546428.2050139815', '83.746705937629.6748679903', '82.965907443628.7792569389', '83.838897310629.5592788457', '82.959566622128.438256514', '84.304071795929.2076479774', '85.058407386729.0733000812', '82.771574771928.4787361952', '84.2056364629.0964141685', '83.759913228528.3864874877', '84.412859800329.6215035243', '83.1734315429.6476262343', '82.887202695429.6520109025', '84.221085836529.5884290293', '83.00245213528.2102319039', '83.538962036128.9970358947', '83.240062191928.3202379925', '82.826632757428.9328108711', '84.240074829228.6789370447', '83.540817560329.0727788631', '83.390718149328.7345110574', '84.74983429828.4006918151', '84.152477957328.9082829659', '84.234272648628.4896837044', '84.959369499428.9626809078', '83.980675294829.5182912637', '83.332590316528.2428958612', '85.040802579928.6195211734', '83.310488657929.380076472', '82.889329885429.7656640325', '83.531610893328.6940544189', '83.473746618528.2404134231', '84.818837928529.0046139383', '83.676242806928.8049341544', '84.666187526228.7059251196', '83.427555103928.2791361317', '84.604792862728.2909987081', '83.793349802429.6360100922', '84.175829707529.6652715627', '83.494309866529.1115412687', '84.969685450327.9779616975', '83.701040874229.7515741757', '84.173643648628.0365431474', '84.513395027829.7703505072', '83.51724471928.0880457735', '82.908346795828.2115772952', '82.952649504928.059345616', '84.829074497827.9819536709', '84.481121740428.8244375998', '84.436345709928.9013330487', '82.962371170528.5898145355', '83.160603717129.0415478109', '83.888975772227.9291679581', '84.882753461428.1697739652', '83.419887425227.9382161929', '84.606070469428.3288362997', '83.796495653829.7495896958', '83.09433695228.0951567951', '83.218641421329.5332039668', '84.930812292929.4557111248', '82.728113864328.7067072604', '83.196876875528.5104252697', '82.829301141729.0843694832', '84.562828345628.4435899778', '83.128928362429.7999147828', '82.795152299829.8427661244', '85.046625790328.7707852925', '84.717413171628.818127367', '83.833625803129.3699797477', '82.731872731828.9340636545', '83.313064111429.4937033358', '84.135543612728.3404746312', '84.076546892727.9251022547', '84.922818338727.9793082667', '83.248894592228.7369456361', '84.557769579628.2922334006', '83.867472768728.8767738461', '83.166167538229.3067145268', '84.770132504928.9681255528', '82.812956427628.1370687866', '83.913732583528.837897454', '82.83674570229.5011368018', '82.726870536728.6309199956', '83.845289953329.7864294935', '83.458672513129.6047540451', '83.495224737829.1494135301', '83.461438192529.7183647685', '84.029657801727.926142576', '84.223496933129.6641197311', '83.680131026128.9564068352', '83.194527707828.3967727097', '83.099522789428.3603720818', '84.27484881229.776479529', '84.451565579427.9162066573', '84.319089166528.1846164578', '83.920102930129.0650576487', '84.751865022829.7637926083', '84.938147730429.6447924392', '84.687646333329.3112159844', '84.311405077629.4347110907', '84.41158450129.5836653373', '84.692314579728.0993088087', '84.218683930829.5127372857', '84.785393994629.3842047416', '84.253037932529.095271889', '84.582150012129.0111395824', '84.932273784129.4935279508', '84.267494976729.5494197098', '82.778606800528.8955543859', '83.582587757228.8446488483', '84.320260410228.2224661042', '83.607540522229.8292202983', '83.780945255729.181669255', '84.886169964829.5327459692', '82.791108874429.6154483852', '83.500750958829.3766420402', '83.4790232828.4676762582', '83.730478805629.0690519909', '82.823326025628.7433574919', '83.991153940728.2300669348', '83.411904209829.6435009732', '84.979820910629.492111687', '84.180354365428.2636750243', '83.669510082528.5398476419', '83.165368125629.2688342705', '84.487453322729.0136334638', '82.950600403127.9456679569', '82.830643043629.160147421', '83.587290273729.0340022706', '84.416700332429.7350164876', '83.527977591128.5425579463', '82.738234686329.3129728781', '83.484361476328.6949305884', '83.003159769728.2481220313', '83.662867731528.2747493383', '84.071321455729.3647133619', '84.192861457728.6800599604', '83.614884474328.2377854913', '84.837169430229.496309667', '82.922787198429.0072671019', '84.209167644429.2099599355', '83.706102201128.1223392532', '84.667509465628.7437578165', '82.997536951227.9449946904', '84.946509251128.6223036882', '83.216990279929.4574484572', '82.84156541429.7663378679', '83.048779505828.1716457084', '84.624218276728.8585348378', '83.491575767928.997923044', '84.873248786529.1923677135', '82.670702398528.063067089', '83.216167075529.4195703472', '84.803679800128.588527495', '83.202411474428.7756064752', '83.511048622729.7932049908', '83.330944371428.1671318698', '83.269677087129.6839029824', '84.210349225529.2478080093', '83.453188500829.3775260634', '84.69311463429.4625278617', '83.577930272628.6552894119', '82.684490498928.9346650503', '85.019361399428.0522412224', '84.051205426928.6833301294', '84.084108664728.1901175534', '82.81616251428.3265401786', '85.037907751728.5438874419', '83.681107762728.9942743977', '83.513722216727.9365341822', '84.608792459729.767778785', '84.244756991528.8303351254', '83.869557843528.9524975704', '83.911625416328.7621754025', '83.442407806828.9230441334', '82.986350699529.840027981', '84.942271770428.508839646', '84.006148541728.7601039017', '84.361349147928.032074091', '84.081642631829.705374077', '84.077620865327.9629623237', '83.345989558528.8489742121', '84.630819054129.0477002404', '84.569206989628.6327797911', '84.15477305128.9839864397', '83.928711638629.3679239257', '84.149051820428.7947258483', '83.881169956229.3689602942', '84.555254831928.216553543', '84.805044591828.6263548949', '84.172269720529.5517298439', '83.412808270429.6813725559', '84.77426287429.0816049806', '84.024907929829.4036543436', '84.227383571228.2625713238', '84.813288752928.8533135929', '83.922242744429.1407757202', '82.909021225628.2494695493', '84.495131863629.2406597788', '84.017109298329.1386718085', '83.873752107429.1039420454', '83.468530937328.0131421346', '83.15433602728.7384861342', '82.938553591529.8407384436', '83.334242651928.3186589242', '83.176700312329.7991363987', '83.91267798628.8000365521', '84.260224943929.3223504768', '83.69800207929.6379854961', '84.27209839728.1857488619', '84.400215820129.2431097287', '83.498901820529.3009001685', '83.06500907929.0051564982', '83.694980643229.5243945874', '84.195164126528.7557630218', '83.643425294529.3738883482', '83.988499976429.7832675667', '84.60991813928.4423474959', '83.167770965829.3824743343', '84.615083153528.5936920623', '82.858673162728.0606503847', '84.952197448228.7735852205', '83.437109972228.6957902847', '84.161711442629.2110907345', '84.968067305229.1895865445', '82.999635280628.0586691343', '83.524372240228.391057671', '84.654404026628.3654188533', '83.844219423129.7485716808', '83.267977617929.608151844', '83.101017415228.4361458236', '84.779559103227.9075883151', '83.809014720128.4612578801', '83.649333406229.6010826743', '84.298024798629.0184215549', '83.402958040329.2647719007', '85.085585203429.7538920154', '84.397715928729.1674278017', '82.8740104728.9321594873', '83.314789309929.5694533851', '82.834699779529.3874757415', '83.647356499529.5253522152', '85.087122633929.7916999568', '83.077251348829.6112759014', '83.200822528428.6998415768', '83.979565998629.4804364891', '83.232194307527.9413886134', '84.005064015228.7222457332', '84.786175207828.0967467787', '84.648280077129.5394987625', '83.327671575428.0156011089', '82.929871466429.3861315992', '83.933065701129.5193510349', '82.672466237328.1767604507', '84.743445743229.5368485771', '82.979659712429.4990856984', '83.519016253828.1638001614', '84.395225602529.0917448241', '84.842902174729.6475912341', '85.071879448429.413607606', '83.877978689829.2553825421', '83.05460154428.4747533625', '84.739272124329.4233728384', '84.166381570429.362488471', '83.201616235928.7377241422', '83.058286317628.6641882266', '84.607436022929.7299493974', '85.025018392128.2035219385', '83.092135917527.9814896901', '83.596831797429.4126909534', '84.132866757629.8177985592', '82.79312479729.7291082939', '85.000859162728.8100110002', '84.705572114929.8029635628', '83.860237888228.6117330399', '84.273253131328.2236002975', '83.603620386829.6777585196', '83.934159429829.5572071814', '83.553053479829.5650845766', '84.39274481229.016060798', '84.539981390129.1637390891', '83.82220468328.9534998397', '84.310953736727.9196618367', '83.637584656429.1466852044', '82.968761094728.9308067459', '83.508218674629.6795998334', '83.937453179229.6707741029', '84.771506653629.0059523015', '83.261244361429.3051377691', '84.241241991328.7167869484', '84.737934444728.0602025953', '84.694488254629.5003551483', '84.837150707528.2089274471', '83.262918022929.3808927125', '83.35284568529.1519908086', '83.55976914729.8301552182', '83.852088197628.308814546', '84.65786338829.8042943159', '84.928322783228.1306083833', '83.537113629128.9212919642', '84.242411403528.7546365965', '83.438869120428.771542517', '82.922086223828.9693793879', '84.746241468929.6124976926', '83.820153903728.8777730054', '82.998235035427.9828863967', '84.828652034229.2693789772', '83.199239697428.6240757492', '84.747643338329.6503218364', '83.431873059528.468527914', '84.189424051528.5665034645', '83.374626663128.0147974683', '83.081154560429.8006759195', '83.120194625329.3832397108', '84.027155372429.4793613557', '84.554427735729.5799137129', '83.657245496328.0475129005', '84.083022115328.152258967', '83.982900257229.5940000514', '83.800075241228.1204508702', '82.828632121229.0464801719', '84.907804865828.8506039156', '84.824429863329.1559098978', '84.087380968428.3036918233', '82.685103973228.972557928', '83.425839589228.2033777782', '84.406507591829.4323099346', '82.978923349229.4612020561', '84.13665738328.3783302824', '82.69826256129.7682559579', '83.031849073329.7256582379', '82.767177030128.2134741157', '84.031775190128.0018657773', '82.690678601629.3135836556', '82.96519745928.7413689148', '84.196318790428.7936141708', '84.972453845729.3030355837', '83.351121761529.0762380807', '83.221130001929.6468354522', '84.906390211528.8127823569', '83.765835805628.613693256', '82.954022221328.1351295994', '83.751157265228.0456625382', '84.562436444229.8069043104', '84.583458046229.0489740982', '84.032836972528.0397270097', '84.461265612128.218966872', '83.07415551829.4597516562', '83.295343332328.698270508', '82.781201069929.047117858', '84.843952906928.3980648673', '82.810413857927.9854876589', '83.454098137229.4153979973', '84.464942061628.3324977022', '84.679521981329.084240009', '84.266358180227.996487898', '83.589183966929.1097419488', '83.141334132228.0944309839', '83.712809467228.3874340387', '84.788203499629.4598519306', '82.822012226728.6675745545', '82.837430290429.5390233613', '84.527110011528.7853705043', '83.333415684228.2807775089', '83.917971315428.9893385792', '84.502099378628.028554488', '83.976250809629.3668706452', '83.280714571928.0163887286', '82.82729793128.9707008657', '82.695081413529.5788131654', '84.101782198728.795821018', '82.722556513528.365657513', '84.275569317428.2993024092', '84.18060816929.8166568836', '82.932023360529.4997864471', '82.862608659528.2880120736', '83.903277495428.4592773182', '84.641512844129.3503508995', '83.024286789429.3468363431', '82.696986454829.6924795286', '83.850070396228.2330824845', '84.376850095128.5240892309', '83.405623937629.3783931449', '82.963075699328.6277034724', '83.170996297829.5339911229', '83.808013740528.4233914042', '84.212719188429.3235033825', '84.546529551927.9516658451', '83.882237791429.4068190444', '83.721567544628.7282528521', '84.839863698628.2845832242', '83.876919003429.2175227918', '84.870407510629.1167250439', '83.093601848428.0572679868', '84.013798932429.0251040743', '84.592151965527.9126083964', '82.871293956328.7806012817', '83.756002835828.2350121383', '83.429277275728.3548935487', '83.402072808129.2268976739', '84.983691227928.3561824162', '84.99652990428.6965575925', '84.080855325328.0765410511', '84.61249566428.518020308', '82.784472069829.2365670828', '84.969526687329.2274031716', '84.525836425528.74753219', '84.191713446128.6422080487', '83.84306937427.9680126351', '84.079775078428.0386817222', '82.869943527928.7048208146', '83.128126780929.762036411', '83.644405277129.4117546829', '83.750193778828.0077918988', '84.752506947428.4763531496', '84.64794560228.1762394301', '83.392446595828.8102654536', '84.960812192429.0004992116', '83.574236477428.5037975527', '83.760895563828.4243557214', '83.022791623329.2710691652', '83.319131260329.758824319', '83.875861346329.1796627921', '85.021395323429.3394269462', '83.464219753629.8319733053', '83.916908574928.9514786708', '84.528386050128.8232085547', '83.74158148729.4855572916', '83.593950113129.2990869012', '84.790175763728.2102386603', '83.049502336628.2095349611', '84.63214682929.0855325162', '84.3065068729.2833367261', '83.457754136329.5668833191', '83.71765627928.5767802421', '83.794396418729.6738702103', '84.720108988528.8937868519', '83.439751239328.8094182774', '83.36776876229.7958504366', '84.469877280728.4838685156', '83.628948845828.8058640688', '84.011602591228.9493909933', '84.903569050228.7371384131', '83.688989524529.2972061087', '84.504202386229.5055117081', '84.559030606828.3300729376', '83.485257197728.7328054797', '83.682086377729.0321417166', '83.858188645328.5360048833', '84.811908109528.8154878236', '84.842587202628.3602379231', '84.368454993228.2591633761', '84.651813158628.2897478757', '83.650324695929.6389475345', '84.098426717228.6822565061', '83.814048712828.6505866061', '82.685718628429.0104505803', '84.215098242329.3991977214', '83.843150933129.7107136163', '83.07958880329.7249166189', '84.93665980728.357550416', '83.159027740428.9657837879', '84.995092362328.6587392344', '82.695715214129.6167021821', '82.772842245828.5545233464', '83.575157254428.5416708757', '84.299229562429.0562673584', '84.174640778929.6274245825', '82.976722697829.3475497351', '84.817446636228.9667892624', '84.237747241128.6032364722', '82.738877621329.3508625497', '83.103270217628.5498047176', '82.820703486628.5917907135', '83.819131468328.8399092191', '83.074927256929.4976330692', '82.809781297227.9475918213', '84.405885753627.9552220679', '83.262080390729.3430153592', '84.755189932428.5520134109', '84.131110018828.1890495261', '83.818110998328.8020451871', '84.861948776128.8897904079', '84.267501774128.0343405947', '82.721944977928.3277619795', '82.890754794529.8414316231', '82.915837801828.6283796814', '82.773477821428.5924165852', '84.450219658129.3175702713', '85.034890630229.6797365217', '84.016003724829.1008161491', '83.0235384929.3089528704', '84.362708966329.5470415047', '82.911052372128.3631449609', '84.538683107429.1259034261', '85.020771540828.0900618124', '84.271161369729.6629507998', '83.936353165529.6329187157', '83.893029155229.785392719', '83.738530246929.3719678968', '83.244053663228.509654039', '82.934911829429.6513229961', '84.945094034328.5844826158', '82.812318932428.0991738386', '83.413714058829.7192438968', '83.720586898728.6903850633', '84.03710476128.1911694783', '84.273617319729.738636882', '82.921386595828.9314914449', '84.689009489429.3490443627', '83.28634305128.2815739001', '83.10477935428.6255761653', '82.816807466528.3644337859', '84.701454469728.3641478912', '83.935872203227.9281754308', '83.588236211329.0718722307', '82.927731900129.2724746694', '84.286103666928.6399493248', '84.712052548928.6668051635', '83.006718572928.4375692674', '82.907001852928.135792113', '84.953626350628.8114049127', '84.710718830828.6289739408', '84.323787774928.3360135164', '82.671877149628.1388628844', '84.351519665329.2064668256', '83.551151152329.4893479077', '83.864360158828.7631864068', '84.547768779227.989507723', '82.981877271129.6127352279', '83.507278954129.6417309599', '82.682657143228.8209850659', '84.799549423829.7624296076', '84.288469576828.7156458289', '83.186794971728.017915896', '83.959957818928.7990074468', '83.247274719328.6611827014', '83.919036099429.0271982386', '83.564224606128.0871753187', '84.251848114729.0574245523', '84.968299741927.9401381278', '83.449567327229.2260359214', '83.93088450629.4436379844', '83.14969825228.5111801405', '84.764662225328.8168158377', '83.360685668229.4928662954', '83.846362526829.8242870543', '82.953335196928.0972377201', '85.022184417428.1278821287', '83.255436829329.0399880225', '82.815518809128.2886463474', '83.672384413628.6534575959', '82.69954354829.8440314684', '83.55400737429.6029525451', '84.800958096328.5128718834', '82.82398482728.7812486212', '84.514483906528.4069755391', '85.011058342329.0747258537', '84.734013711827.9467014096', '82.874692872128.9700484691', '84.935205152229.5691607588', '83.385572619228.5072422115', '82.783815356129.1986776936', '83.854113823728.3845456343', '82.936364364329.7270898748', '84.786797404629.4220284742', '82.66953220227.9872704113', '83.394181711128.8860189038', '83.450470020229.2639088174', '84.693612707128.1371437573', '84.561095288729.7690732217', '84.751169332728.4385226164', '83.942052412628.1553615145', '83.406515979129.4162664134', '84.219883736629.5505832876', '84.044653407428.4561842821', '82.913778974728.5147090168', '84.931091044828.2062568157', '84.28492412728.6021006883', '83.380486381528.2799649186', '85.053968069828.9598591444', '84.026030576529.4415079769', '84.767392110128.8924712387', '84.029411424929.555067349', '82.78711155229.3881223547', '83.865395699228.8010491332', '83.306228982629.1906936075', '83.073385254629.421870009', '82.985601565929.8021464408', '83.239268520728.2823540897', '83.493396749629.0736687671', '83.886529615229.5582515362', '84.445140696129.1662149733', '82.792451538829.6912218883', '83.029565187629.6120141251', '84.249475319328.9817291055', '84.393984017129.053902942', '83.163773890929.193073054', '84.962257656229.0383172367', '84.199796140928.9071660883', '84.178108784628.1879653995', '84.655703220928.4032539453', '83.211260822129.1922967289', '83.21781506129.4953263304', '84.893444959529.7218352138', '84.675494714928.9707483673', '83.673346225728.6913270982', '84.503327063728.0663977586', '84.120008441129.4014598814', '84.404697742927.9173742865', '84.146778692428.719019835', '83.947257788828.3446765318', '84.975255238428.1292532594', '84.92008209227.9036565878', '84.655112232929.7286398121', '84.028282320729.5172144798', '85.031871606929.6041141656', '83.824263360329.0292256879', '84.602036070229.5786291243', '83.679156165228.9185390294', '83.317389503629.6830766647', '82.978188393829.4233181814', '84.417985400529.7728536087', '84.259021364229.2845046936', '82.697623898729.730367858', '84.332098263628.6009485351', '83.009590496228.589122962', '83.353710131229.1898668163', '83.356313438529.3034934111', '84.066790988429.2133019552', '83.548311270829.3757410781', '83.715711935328.5010424847', '83.301171014828.9634263535', '83.660986382628.199004812', '82.72439823628.4793427756', '83.586346151228.9961320687', '85.013748102927.9009561308', '82.785789281529.3123451762', '83.897100655928.2320934407', '84.830414017628.0197833031', '84.491281551229.1271478141', '83.711845712428.349564075', '84.541282163429.2015744853', '83.033378947829.8014198062', '82.872649598328.8563808398', '84.576942919128.8597988526', '82.838803400829.6147957882', '84.396469571829.1295864441', '84.799601176328.4750436723', '82.904994201228.0221126577', '83.528883289628.5804324216', '83.104024057528.5876905564', '83.095811446228.17093373', '82.686951488829.0862352075', '84.989369806628.5074630327', '84.920659715229.1909854936', '84.688435264227.9858023813', '84.82724194829.2315562266', '84.272388173529.7007939722', '84.874673511629.2301886327', '82.744065651629.6539716909', '82.740167192229.4266412083', '83.941874283429.8221931137', '84.484913388728.9379559088', '83.566933998628.2008024067', '83.346840818828.8868521144', '82.928443722729.3103605437', '84.856363531628.7384951531', '84.131686633529.7799508808', '84.988754735729.7189936736', '84.533514806528.9745581126', '83.45137444529.3017814733', '84.782595212729.3085564496', '82.720117461928.2140740437', '83.064256342428.967272058', '84.462488724828.2568107406', '82.863269037228.325904904', '83.138336595627.9428789844', '84.749047884329.6881457038', '84.316340892529.5860812636', '82.832665578329.2738126127', '84.364891742928.1456198809', '84.179410134529.7788109439', '83.416441818129.8328564669', '84.466997121329.8094455957', '83.300333674428.925547652', '83.207215189129.0028955779', '83.335071221928.356540107', '83.389856420428.6966335051', '83.448666363329.1881627854', '83.625158444328.6543817236', '83.344291945928.7732177003', '84.310177009129.3968678918', '83.910574871628.7243140054', '83.019818438529.119532024', '84.881387090328.1319474962', '83.81506135128.6884516187', '83.804029121228.271923073', '83.061259833328.8157319862', '84.783993265329.3463807334', '83.18526634927.9421417874', '84.32852286828.4874064928', '83.025036523729.3847195831', '82.968045620828.892919638', '83.749232161927.9699210204', '84.217198874227.921885753', '83.424984322128.1654982508', '84.430135604328.7121238083', '84.514718309629.8081835437', '83.357184539129.3413684659', '83.025787695129.4226025903', '83.01686799928.9679911803', '84.322563906429.7752880582', '83.102517832128.5119186491', '84.599707085728.1396457181', '83.329304797428.0913669517', '85.005213461128.923461901', '84.321314550829.7374472271', '83.492485384329.0357960254', '84.486182136428.9757948183', '83.140582563128.0565433253', '83.297831296628.8119101361', '84.536093998729.0502313011', '84.736502976629.3477209726', '84.775644953729.1194309104', '84.416682194428.295840601', '83.900180114728.3456864803', '82.973082941729.1581245652', '82.880893840329.3110390069', '83.600699866429.564159604', '83.99539681328.381511021', '84.064538742829.1375947263', '83.70992378828.2738234267', '84.973858740228.0914307771', '83.431006124728.4306500272', '84.225104923528.186865177', '82.734402862329.085630067', '83.994333014628.3436503694', '83.048058075528.1337562289', '84.009414675128.873676908', '84.584768592429.0868083467', '84.473603785728.5973938954', '84.886868479628.2832517506', '84.966610715329.1517696371', '84.35895777729.4335189789', '83.017603484229.0058767376', '84.682219728529.1598997522', '84.457911363329.5445952579', '84.932479199428.2440806244', '84.500874073227.9907109596', '83.489761771228.9221763627', '83.145113924928.2838658547', '82.925604604229.1588156634', '84.922101771429.2288042796', '83.525270966728.4289330955', '84.432612480628.7878082881', '83.889984496227.9670344923', '84.26871477529.5872636684', '85.065863208529.2623626567', '84.357827115927.9185260141', '85.030719343128.3547982579', '83.908479844228.6485904699', '84.848065876328.5115440755', '84.753277623829.8016156447', '82.904327579527.9842190584', '83.950405271928.4582625955', '84.99365758628.620920599', '83.964256837428.950443144', '83.595869396329.3748231798', '84.381698476228.6754697678', '85.080990449429.6404664622', '84.414137536129.6593414452', '84.74484227229.5746732727', '82.933464833929.5755551863', '83.927628319729.3300665188', '84.247111620928.9060326291', '84.126710649928.0376204337', '84.976865633929.4164820919', '84.144514303728.6433128097', '83.397672030229.0375229589', '84.315589021628.0710659957', '82.917908582428.7420483019', '84.238909913628.6410868859', '84.283746859428.564251796', '83.954630387628.6097072281', '84.591359140629.2759755705', '83.534354315528.8076742686', '83.749804173329.7884514234', '85.015471516629.1881708706', '82.779901440828.9713365756', '83.497059754129.2251573312', '83.810017635428.4991241128', '82.813595160928.1749635117', '84.985106764228.3940029831', '84.580844486228.9733047996', '83.001745870828.1723415503', '83.722550081628.7661203979', '83.351982895929.1141145634', '82.83949192729.6526816552', '84.53480316529.0123948396', '84.123488505929.5150098876', '84.909222241328.8884251986', '84.333294666728.6387953687', '82.861949559728.2501190187', '84.846692239728.4737179438', '84.276730776128.3371530847', '84.844342210129.6854109281', '83.27052925929.7217781934', '84.978056361428.2048974058', '84.302857753629.1698032124', '83.552101406829.527216364', '84.43385449828.8256501365', '82.869270263928.6669302407', '83.112412921429.0044195569', '83.923315734329.178634381', '84.831756138428.0576126679', '83.478139578328.4297997082', '83.220298889329.6089585279', '84.188282661828.5286507925', '83.754058968528.1592730185', '84.138891392428.4540408328', '84.472359220528.5595523627', '84.853586984328.6628458841', '82.670116731828.0251688603', '83.829444767829.2185359808', '84.454054481529.4310839616', '84.972464945428.0536080224', '83.289593764828.4331031962', '84.478606099928.7487574129', '84.602245051628.2153227371', '84.796696689529.6867868552', '84.845321251228.435891541', '82.735675238129.1614119134', '83.6026450229.6398924599', '84.124652969429.5528593753', '84.798246872328.4372151916', '84.726894009629.0829308291', '84.789612283829.4976751108', '83.497979904729.2630288705', '84.04356876328.4183257687', '84.313868269429.5103967022', '83.690978924929.3729365862', '83.302009966529.0013048195', '83.026540305829.4604853643', '84.022669070429.3279463149', '84.447675313229.2418931514', '83.126528200429.6862789576', '84.200959722128.9450162166', '84.823027856529.1180863202', '83.006004054728.3996802744', '83.560636536227.9356692356', '82.825306243328.8570302', '82.882286431329.3868121556', '84.504557132128.1042407709', '83.249706873228.7748267535', '84.63882401629.274689855', '82.866590162628.5153656812', '83.122558367529.4968811933', '84.689725861928.0236381204', '82.865923366228.4774739765', '84.355228043329.3199940833', '83.539888907129.0349074993', '84.600974839928.1774843585', '85.016549305327.9765992222', '82.885791326329.5762409889', '83.143597609528.2080925918', '84.98086834728.2805404589', '83.558804264829.7922887188', '84.606082169629.6921197372', '84.600692510429.5407983768', '83.309633454929.3422003744', '83.068034529229.1566919409', '82.782505703229.1228982312', '83.246467122628.6233008846', '84.452769865227.9540525823', '84.718759784628.8559572444', '83.50916019129.7174684633', '83.753089857228.1214030983', '84.649641298129.5773275186', '82.728737328828.7446005558', '82.957477398728.3245856159', '84.652371547329.6529842122', '83.529790737628.6183066589', '84.338103394528.7901801261', '83.328487393628.0534841458', '83.446869612129.1124157943', '84.740560967928.1358687286', '83.849064422528.1952160894', '82.676621973728.4420372098', '84.482383194528.8622772993', '84.289655953828.753493696', '85.043708581428.6951537912', '83.700026008629.7137115305', '83.445079745329.0366678462', '83.857166986328.4981404377', '83.108577762928.8150007522', '84.545292728827.9138237086', '83.542680223729.1485208676', '84.280228654828.4507035867', '84.398964676929.2052688967', '83.536192087728.8834196387', '82.865257857328.4395820461', '82.733768504929.0477388036', '83.364213686129.6443602904', '82.836062422129.4632500118', '83.16938054629.4582332002', '84.832898518729.3828455697', '83.761879799528.4622237132', '84.423985003428.5229080539', '84.892392430828.4345516686', '84.256621108829.2088123486', '82.858021690428.0227559875', '82.915150200728.5904896867', '83.119409723329.3453587473', '84.46740490428.408183628', '83.710883820328.311693871', '84.705409592228.4776463716', '84.868990951429.0789032941', '84.455185463428.0297436639', '83.632768548428.9573425529', '83.11318438829.0423026216', '84.419107062928.3715307846', '82.861291735928.2122257396', '84.401469362129.2809502975', '82.731243234328.8961714859', '84.056723615328.8726114526', '83.056071185828.5505279952', '84.509440284929.6568497789', '82.674834043228.328348502', '83.251336136328.8505882874', '84.179230487928.2258203372', '83.068794528929.194575221', '82.790439464129.577561288', '84.505789587328.1420835248', '83.424130711728.12761849', '82.681440777228.7451972858', '84.437594911628.9391741119', '83.925467895429.2543509515', '84.115399318329.2500562817', '83.292869715428.5846287738', '84.939460372328.4331955786', '83.502607191129.4523829444', '82.909696963628.2873615784', '83.584463340628.9203909406', '83.990098346228.1922052975', '82.96378158928.6655921813', '84.636145462829.1990277287', '83.526171432328.4668082831', '83.851078320328.2709486367', '84.763301214128.7789877304', '83.871650948129.0282203042', '84.268647589428.0721930397', '83.739545381529.4098312758', '85.026439498528.2413414313', '84.782197844827.9832524978', '84.840030331729.5719510082', '84.389041441628.9025327982', '84.226243144328.2247183763', '84.830064821929.3072014514', '83.377965329728.1663231203', '83.949354082328.4204008205', '83.287965262828.357339012', '83.993271271828.3057894711', '83.667603088128.4641064689', '83.18987008828.1694613728', '82.696350227229.6545909699', '83.244856596928.5475365531', '84.126988579929.6285575773', '83.32087967729.8345710122', '84.197475678528.8314650651', '83.53069993828.6561806581', '82.736952507729.2371928509', '83.674309893528.7291963589', '83.627998505428.7679938439', '82.7262506728.5930260266', '85.036464517128.5060701593', '83.978458821129.4425814609', '82.863930694828.3637975097', '83.745677128229.6370063476', '84.093982812228.5308336366', '84.875948008527.9806389259', '83.447767125829.1502894096', '84.942582693529.7582378399', '84.69621651828.2128128617', '84.794199616828.3237281341', '83.030325029129.6498957305', '83.283117422128.1300409002', '83.011034797628.6648984398', '82.730614947128.8582790915', '83.481684651328.5813044896', '83.983807581327.9650303214', '84.732711866227.9088671527', '84.292035569628.8291886591', '84.141134048828.5297503788', '83.796151916427.9689748121', '83.480795813928.5434286491', '83.482575205728.6191800931', '83.948304922328.3825387991', '82.919295770728.8178262439', '84.155923908729.0218377943', '82.984853860129.7642646661', '82.964488841528.7034806622', '83.04661940828.0579765906', '84.662236948128.5924254259', '84.798121697329.7246083707', '84.984275040929.6055539574', '84.594660571927.9882885453', '84.441356944329.0526957268', '84.508127058329.6190156641', '83.01540126528.8922193742', '83.776873375929.0302143865', '84.45639678328.06758882', '84.137773308528.416185683', '84.722815184628.9694452558', '84.607350548628.3666736285', '82.673056468828.2146577958', '83.433611962328.5442829813', '84.89052663329.6462003586', '83.236109169328.1308161744', '82.680834350328.7073030592', '82.718905009228.138280976', '84.122326265729.4771601426', '85.045165782828.7329696816', '84.019326816329.2143823699', '84.938058737528.395373134', '84.153624401628.9461348301', '83.110107400628.8907689695', '82.911732046628.4010363138', '84.910642342428.9262462054', '84.315103400229.5482391143', '82.87674796729.0837140438', '83.111642936228.9665362598', '82.744719753429.6918593015', '83.683066874129.0700087917', '83.992211581628.2679283261', '84.596677194829.427304509', '84.499004362529.3541693499', '82.910374011828.3252533824', '82.687569697629.1241271819', '83.872700519429.066081299', '83.378804052328.2042039526', '84.181480420428.3015294605', '84.899357614528.6236704367', '83.175062806229.7233817912', '83.098033937128.2845974255', '85.002307807628.8478282461', '84.058945796428.9483222218', '85.070371072129.3757967959', '84.414266689228.2201493879', '83.806017576928.3476577236', '83.422428451428.051858269', '83.445973819529.0745419398', '83.61396127228.1999116756', '83.158242021428.9279014268', '84.791023761329.5354980142', '84.788839661728.1724083002', '83.252971683528.9263488851', '83.802048350328.1961874546', '84.651005120229.615156002', '83.349404446129.0004844041', '84.637483457129.2368589269', '83.242452442328.4338883148', '82.770942869928.4408422832', '83.358057309729.379243282', '83.263757260529.4187698285', '83.02204618729.2331852278', '84.25542442629.1709657874', '83.210448585929.1544169681', '83.205607785828.9271334776', '84.759233857328.665501785', '84.083960412829.7810736326', '83.961029474628.8368667451', '83.691976485329.4108014561', '84.448946267829.2797318438', '83.638553437129.1845530052', '83.74260246429.5234199279', '83.284727110428.2058078622', '84.64421197929.4260108599', '84.590035975729.2381426626', '83.731478493629.1069173396', '85.064366327629.2245507084', '84.48364707628.9001167357', '84.657004927328.4410887724', '82.814235134428.2128580137', '84.410311634229.5458268846', '83.905352412628.5350033169', '83.734489091629.2205119126', '83.264598106129.4566467072', '84.301646036329.1319581874', '83.737517053629.3341042707', '84.312635496429.4725540276', '82.881589468829.3489256964', '84.93387004228.2819041608', '84.324968119228.3738621439', '83.598762133329.4884257679', '83.856147298428.4602757475', '85.055445004328.9976730718', '83.471131189728.1267788323', '83.503537974429.4902530331', '83.701366729927.9329786626', '83.726499198428.9175881475', '83.161393979529.0794294724', '84.923546591129.2666227865', '83.348548260128.9626072106', '84.318822976429.6617647726', '83.375458901128.0526792293', '82.972359170429.1202388378', '84.31210918527.9575132552', '83.359807871729.454992197', '83.156675110428.8521360066', '83.193747675428.3588880618', '84.676834561829.0085791844', '83.008151760328.5133465707', '84.772883441929.0437787775', '84.366481712229.6605616532', '83.486154646628.770680133', '84.884723277129.494927279', '83.1108744328.9286527306', '84.07588673829.5161206867', '82.794475175529.8048804122', '83.355444005429.2656181177', '83.281513967428.054273016', '84.350288267829.1686238827', '83.189099069528.1315753467', '83.666652350428.4262355221', '83.692975956529.4486660797', '83.568749032928.2765526168', '84.466172292828.3703407947', '83.781968117129.2195323555', '83.801060839528.158319283', '83.476377292328.3540459005', '83.924390783529.2164927915', '83.516361526428.0501682272', '84.973921630729.3408513681', '84.047919936728.5697583289', '85.015147344727.9387778127', '83.789183272529.4845671237', '83.940765843329.7843387423', '82.789771332529.5396739608', '82.737592982429.2750829784', '83.4415205828.8851690859', '84.887619417229.5705643795', '84.835743071829.458488579', '83.704202494128.0465957319', '83.747736712929.712729384', '82.882984729829.4246983842', '83.053868850428.4368657032', '83.576079810828.5795439601', '84.885494152128.2454260928', '84.409463656828.0687638823', '84.729626293829.1585865195', '84.373238285428.4105511201', '85.019910118429.3016133512', '84.496420226329.2784965688', '83.636617732529.1088171601', '82.867927626228.5911484133', '83.298663817828.849789543', '83.114731774129.1180680529', '83.191416617128.2452327373', '84.559756686829.7312418616', '82.783159901229.1607880764', '83.245661082628.5854188351', '83.43535759328.6200371055', '83.837838973429.5214195261', '83.521686468528.2774299782', '82.966618797428.8171447342', '83.018340384429.0437620641', '83.105536109328.6634615439', '83.069555988129.2324582685', '84.944066657929.7960524068', '85.008130294528.9990944377', '82.914463925628.5525994651', '82.718300544928.1003841096', '85.042254181928.6573376217', '84.157076978229.0596888938', '82.735038439429.1235211037', '84.965156913429.1139524498', '84.735122369729.3098946287', '83.655309627829.8282681314', '84.867577105829.0410812681', '84.933738069129.5313444956', '84.408268707128.0309168661', '84.358998847527.9563756267', '84.405244417629.3944704216', '83.302850532129.0391830496', '83.462363611229.756234524', '83.70705482228.1602106555', '84.04574014928.4940425468', '84.963705895129.0761349829', '83.382175239228.3557249517', '83.028049854429.5362502122', '84.520766533228.5961763008', '83.732480101929.144782443', '83.423278755728.089738496', '84.385359362228.7890024522', '83.654308833729.7904045066', '83.291228575928.5088664507', '85.023600033128.1657021708', '83.292048353428.5467477288', '84.849442165128.5493699357', '82.683878203728.8967719472', '83.010311950228.6270108152', '83.318259550829.7209506119', '84.565372422728.5192666927', '84.102905005828.833675351', '83.455009516229.45326969', '83.621397165528.5028955325', '83.37712823228.1284420555', '84.69724337929.5760089001', '84.780877193127.9454205391', '85.012526582429.1125411406', '84.567926335528.5949423552', '84.300436640429.0941129027', '84.663551271328.630258924', '83.283921485828.1679244966', '83.062755204928.891502484', '82.689431460629.2378017467', '83.889770080629.6718232634']\n"
     ]
    }
   ],
   "source": [
    "print dicts[1].keys()"
   ]
  },
  {
   "cell_type": "code",
   "execution_count": null,
   "metadata": {
    "collapsed": true
   },
   "outputs": [],
   "source": [
    "print times\n",
    "print nums\n",
    "print hits"
   ]
  },
  {
   "cell_type": "code",
   "execution_count": null,
   "metadata": {
    "collapsed": true
   },
   "outputs": [],
   "source": [
    "for i in range(8):\n",
    "    x = times[i]/nums[i]\n",
    "    print (str(i) + \": \" + str(x))"
   ]
  },
  {
   "cell_type": "code",
   "execution_count": null,
   "metadata": {
    "collapsed": true
   },
   "outputs": [],
   "source": []
  },
  {
   "cell_type": "code",
   "execution_count": null,
   "metadata": {
    "collapsed": true
   },
   "outputs": [],
   "source": []
  },
  {
   "cell_type": "code",
   "execution_count": null,
   "metadata": {
    "collapsed": true
   },
   "outputs": [],
   "source": []
  },
  {
   "cell_type": "code",
   "execution_count": null,
   "metadata": {
    "collapsed": true
   },
   "outputs": [],
   "source": []
  },
  {
   "cell_type": "code",
   "execution_count": null,
   "metadata": {
    "collapsed": true
   },
   "outputs": [],
   "source": []
  },
  {
   "cell_type": "code",
   "execution_count": null,
   "metadata": {
    "collapsed": true
   },
   "outputs": [],
   "source": []
  },
  {
   "cell_type": "code",
   "execution_count": null,
   "metadata": {
    "collapsed": true
   },
   "outputs": [],
   "source": []
  },
  {
   "cell_type": "code",
   "execution_count": null,
   "metadata": {
    "collapsed": true
   },
   "outputs": [],
   "source": []
  }
 ],
 "metadata": {
  "kernelspec": {
   "display_name": "Python 2",
   "language": "python",
   "name": "python2"
  },
  "language_info": {
   "codemirror_mode": {
    "name": "ipython",
    "version": 2
   },
   "file_extension": ".py",
   "mimetype": "text/x-python",
   "name": "python",
   "nbconvert_exporter": "python",
   "pygments_lexer": "ipython2",
   "version": "2.7.13"
  }
 },
 "nbformat": 4,
 "nbformat_minor": 2
}
