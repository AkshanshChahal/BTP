{
 "cells": [
  {
   "cell_type": "code",
   "execution_count": 1,
   "metadata": {},
   "outputs": [],
   "source": [
    "import pandas as pd\n",
    "import numpy as np\n",
    "from sklearn.linear_model import LinearRegression\n",
    "from sklearn.model_selection import train_test_split\n",
    "from sklearn.metrics import mean_squared_error\n",
    "from math import sqrt\n",
    "\n",
    "import pprint\n",
    "import matplotlib.pyplot as plt\n",
    "import seaborn as sns\n",
    "\n",
    "from sklearn.model_selection import cross_val_score\n",
    "from sklearn import metrics\n",
    "\n",
    "from sklearn.svm import SVR\n",
    "\n",
    "%matplotlib inline"
   ]
  },
  {
   "cell_type": "code",
   "execution_count": 2,
   "metadata": {},
   "outputs": [
    {
     "data": {
      "text/html": [
       "<div>\n",
       "<table border=\"1\" class=\"dataframe\">\n",
       "  <thead>\n",
       "    <tr style=\"text-align: right;\">\n",
       "      <th></th>\n",
       "      <th>State_Name</th>\n",
       "      <th>ind_district</th>\n",
       "      <th>Crop_Year</th>\n",
       "      <th>Season</th>\n",
       "      <th>Crop</th>\n",
       "      <th>Area</th>\n",
       "      <th>Production</th>\n",
       "      <th>Value</th>\n",
       "      <th>X1</th>\n",
       "      <th>X2</th>\n",
       "      <th>...</th>\n",
       "      <th>11_B10_Mn</th>\n",
       "      <th>12_B1_Mn</th>\n",
       "      <th>12_B2_Mn</th>\n",
       "      <th>12_B3_Mn</th>\n",
       "      <th>12_B4_Mn</th>\n",
       "      <th>12_B5_Mn</th>\n",
       "      <th>12_B6_Mn</th>\n",
       "      <th>12_B7_Mn</th>\n",
       "      <th>12_B9_Mn</th>\n",
       "      <th>12_B10_Mn</th>\n",
       "    </tr>\n",
       "  </thead>\n",
       "  <tbody>\n",
       "    <tr>\n",
       "      <th>0</th>\n",
       "      <td>Chandigarh</td>\n",
       "      <td>chandigarh</td>\n",
       "      <td>2005</td>\n",
       "      <td>kharif</td>\n",
       "      <td>Rice</td>\n",
       "      <td>50</td>\n",
       "      <td>250</td>\n",
       "      <td>5.00</td>\n",
       "      <td>400</td>\n",
       "      <td>500</td>\n",
       "      <td>...</td>\n",
       "      <td>10.0</td>\n",
       "      <td>5.0</td>\n",
       "      <td>5.0</td>\n",
       "      <td>5.0</td>\n",
       "      <td>5.0</td>\n",
       "      <td>5.0</td>\n",
       "      <td>5.0</td>\n",
       "      <td>5.0</td>\n",
       "      <td>5.0</td>\n",
       "      <td>5.0</td>\n",
       "    </tr>\n",
       "    <tr>\n",
       "      <th>1</th>\n",
       "      <td>Chandigarh</td>\n",
       "      <td>chandigarh</td>\n",
       "      <td>2007</td>\n",
       "      <td>kharif</td>\n",
       "      <td>Rice</td>\n",
       "      <td>50</td>\n",
       "      <td>250</td>\n",
       "      <td>5.00</td>\n",
       "      <td>250</td>\n",
       "      <td>250</td>\n",
       "      <td>...</td>\n",
       "      <td>10.0</td>\n",
       "      <td>10.0</td>\n",
       "      <td>10.0</td>\n",
       "      <td>10.0</td>\n",
       "      <td>10.0</td>\n",
       "      <td>10.0</td>\n",
       "      <td>10.0</td>\n",
       "      <td>10.0</td>\n",
       "      <td>10.0</td>\n",
       "      <td>10.0</td>\n",
       "    </tr>\n",
       "    <tr>\n",
       "      <th>2</th>\n",
       "      <td>Chandigarh</td>\n",
       "      <td>chandigarh</td>\n",
       "      <td>2008</td>\n",
       "      <td>kharif</td>\n",
       "      <td>Rice</td>\n",
       "      <td>20</td>\n",
       "      <td>100</td>\n",
       "      <td>5.00</td>\n",
       "      <td>250</td>\n",
       "      <td>250</td>\n",
       "      <td>...</td>\n",
       "      <td>10.0</td>\n",
       "      <td>10.0</td>\n",
       "      <td>10.0</td>\n",
       "      <td>10.0</td>\n",
       "      <td>10.0</td>\n",
       "      <td>10.0</td>\n",
       "      <td>10.0</td>\n",
       "      <td>10.0</td>\n",
       "      <td>10.0</td>\n",
       "      <td>10.0</td>\n",
       "    </tr>\n",
       "    <tr>\n",
       "      <th>3</th>\n",
       "      <td>Chandigarh</td>\n",
       "      <td>chandigarh</td>\n",
       "      <td>2009</td>\n",
       "      <td>kharif</td>\n",
       "      <td>Rice</td>\n",
       "      <td>20</td>\n",
       "      <td>100</td>\n",
       "      <td>5.00</td>\n",
       "      <td>100</td>\n",
       "      <td>250</td>\n",
       "      <td>...</td>\n",
       "      <td>5.0</td>\n",
       "      <td>5.0</td>\n",
       "      <td>5.0</td>\n",
       "      <td>5.0</td>\n",
       "      <td>5.0</td>\n",
       "      <td>5.0</td>\n",
       "      <td>5.0</td>\n",
       "      <td>5.0</td>\n",
       "      <td>5.0</td>\n",
       "      <td>5.0</td>\n",
       "    </tr>\n",
       "    <tr>\n",
       "      <th>4</th>\n",
       "      <td>Chandigarh</td>\n",
       "      <td>chandigarh</td>\n",
       "      <td>2010</td>\n",
       "      <td>kharif</td>\n",
       "      <td>Rice</td>\n",
       "      <td>20</td>\n",
       "      <td>103</td>\n",
       "      <td>5.15</td>\n",
       "      <td>100</td>\n",
       "      <td>100</td>\n",
       "      <td>...</td>\n",
       "      <td>10.0</td>\n",
       "      <td>5.0</td>\n",
       "      <td>5.0</td>\n",
       "      <td>5.0</td>\n",
       "      <td>5.0</td>\n",
       "      <td>5.0</td>\n",
       "      <td>5.0</td>\n",
       "      <td>5.0</td>\n",
       "      <td>5.0</td>\n",
       "      <td>5.0</td>\n",
       "    </tr>\n",
       "  </tbody>\n",
       "</table>\n",
       "<p>5 rows × 334 columns</p>\n",
       "</div>"
      ],
      "text/plain": [
       "   State_Name ind_district  Crop_Year  Season  Crop  Area  Production  Value  \\\n",
       "0  Chandigarh   chandigarh       2005  kharif  Rice    50         250   5.00   \n",
       "1  Chandigarh   chandigarh       2007  kharif  Rice    50         250   5.00   \n",
       "2  Chandigarh   chandigarh       2008  kharif  Rice    20         100   5.00   \n",
       "3  Chandigarh   chandigarh       2009  kharif  Rice    20         100   5.00   \n",
       "4  Chandigarh   chandigarh       2010  kharif  Rice    20         103   5.15   \n",
       "\n",
       "    X1   X2    ...      11_B10_Mn  12_B1_Mn  12_B2_Mn  12_B3_Mn  12_B4_Mn  \\\n",
       "0  400  500    ...           10.0       5.0       5.0       5.0       5.0   \n",
       "1  250  250    ...           10.0      10.0      10.0      10.0      10.0   \n",
       "2  250  250    ...           10.0      10.0      10.0      10.0      10.0   \n",
       "3  100  250    ...            5.0       5.0       5.0       5.0       5.0   \n",
       "4  100  100    ...           10.0       5.0       5.0       5.0       5.0   \n",
       "\n",
       "   12_B5_Mn  12_B6_Mn  12_B7_Mn  12_B9_Mn  12_B10_Mn  \n",
       "0       5.0       5.0       5.0       5.0        5.0  \n",
       "1      10.0      10.0      10.0      10.0       10.0  \n",
       "2      10.0      10.0      10.0      10.0       10.0  \n",
       "3       5.0       5.0       5.0       5.0        5.0  \n",
       "4       5.0       5.0       5.0       5.0        5.0  \n",
       "\n",
       "[5 rows x 334 columns]"
      ]
     },
     "execution_count": 2,
     "metadata": {},
     "output_type": "execute_result"
    }
   ],
   "source": [
    "# importing the dataset we prepared and saved using Data Cleaning Notebook\n",
    "rice = pd.read_csv(\"/Users/macbook/Documents/BTP/Notebook/BTP/Satellite/Rice_Ready.csv\")\n",
    "rice = rice.drop([\"Unnamed: 0\"],axis=1)\n",
    "rice.head()"
   ]
  },
  {
   "cell_type": "code",
   "execution_count": 3,
   "metadata": {},
   "outputs": [],
   "source": [
    "colss = list(rice.columns.values)"
   ]
  },
  {
   "cell_type": "code",
   "execution_count": 4,
   "metadata": {},
   "outputs": [
    {
     "data": {
      "text/plain": [
       "334"
      ]
     },
     "execution_count": 4,
     "metadata": {},
     "output_type": "execute_result"
    }
   ],
   "source": [
    "len(colss)"
   ]
  },
  {
   "cell_type": "markdown",
   "metadata": {},
   "source": [
    "### 334 = 10 + 216 + 108"
   ]
  },
  {
   "cell_type": "code",
   "execution_count": 5,
   "metadata": {},
   "outputs": [],
   "source": [
    "select = colss[8:226]"
   ]
  },
  {
   "cell_type": "code",
   "execution_count": 6,
   "metadata": {},
   "outputs": [],
   "source": [
    "X = rice[select]\n",
    "y = rice[\"Value\"]*1000"
   ]
  },
  {
   "cell_type": "code",
   "execution_count": 7,
   "metadata": {},
   "outputs": [
    {
     "data": {
      "text/html": [
       "<div>\n",
       "<table border=\"1\" class=\"dataframe\">\n",
       "  <thead>\n",
       "    <tr style=\"text-align: right;\">\n",
       "      <th></th>\n",
       "      <th>X1</th>\n",
       "      <th>X2</th>\n",
       "      <th>1_B1_M</th>\n",
       "      <th>1_B1_V</th>\n",
       "      <th>1_B2_M</th>\n",
       "      <th>1_B2_V</th>\n",
       "      <th>1_B3_M</th>\n",
       "      <th>1_B3_V</th>\n",
       "      <th>1_B4_M</th>\n",
       "      <th>1_B4_V</th>\n",
       "      <th>...</th>\n",
       "      <th>12_B5_M</th>\n",
       "      <th>12_B5_V</th>\n",
       "      <th>12_B6_M</th>\n",
       "      <th>12_B6_V</th>\n",
       "      <th>12_B7_M</th>\n",
       "      <th>12_B7_V</th>\n",
       "      <th>12_B9_M</th>\n",
       "      <th>12_B9_V</th>\n",
       "      <th>12_B10_M</th>\n",
       "      <th>12_B10_V</th>\n",
       "    </tr>\n",
       "  </thead>\n",
       "  <tbody>\n",
       "    <tr>\n",
       "      <th>count</th>\n",
       "      <td>3.280000e+02</td>\n",
       "      <td>3.280000e+02</td>\n",
       "      <td>328.000000</td>\n",
       "      <td>328.000000</td>\n",
       "      <td>328.000000</td>\n",
       "      <td>328.000000</td>\n",
       "      <td>328.000000</td>\n",
       "      <td>328.000000</td>\n",
       "      <td>328.000000</td>\n",
       "      <td>328.000000</td>\n",
       "      <td>...</td>\n",
       "      <td>328.000000</td>\n",
       "      <td>328.000000</td>\n",
       "      <td>328.000000</td>\n",
       "      <td>328.000000</td>\n",
       "      <td>328.000000</td>\n",
       "      <td>328.000000</td>\n",
       "      <td>328.000000</td>\n",
       "      <td>328.000000</td>\n",
       "      <td>328.000000</td>\n",
       "      <td>328.000000</td>\n",
       "    </tr>\n",
       "    <tr>\n",
       "      <th>mean</th>\n",
       "      <td>1.950245e+05</td>\n",
       "      <td>1.919716e+05</td>\n",
       "      <td>9.182927</td>\n",
       "      <td>13.259146</td>\n",
       "      <td>6.496951</td>\n",
       "      <td>10.216463</td>\n",
       "      <td>7.277439</td>\n",
       "      <td>12.277439</td>\n",
       "      <td>10.829268</td>\n",
       "      <td>13.719512</td>\n",
       "      <td>...</td>\n",
       "      <td>4.385467</td>\n",
       "      <td>4.972324</td>\n",
       "      <td>12.556707</td>\n",
       "      <td>9.899831</td>\n",
       "      <td>2.426999</td>\n",
       "      <td>3.474390</td>\n",
       "      <td>14.232249</td>\n",
       "      <td>11.854234</td>\n",
       "      <td>221.661484</td>\n",
       "      <td>342.035772</td>\n",
       "    </tr>\n",
       "    <tr>\n",
       "      <th>std</th>\n",
       "      <td>2.925836e+05</td>\n",
       "      <td>2.925789e+05</td>\n",
       "      <td>25.121663</td>\n",
       "      <td>39.173220</td>\n",
       "      <td>20.421551</td>\n",
       "      <td>32.127405</td>\n",
       "      <td>22.737147</td>\n",
       "      <td>39.657315</td>\n",
       "      <td>26.708211</td>\n",
       "      <td>35.481149</td>\n",
       "      <td>...</td>\n",
       "      <td>12.157602</td>\n",
       "      <td>19.456249</td>\n",
       "      <td>25.190668</td>\n",
       "      <td>21.751825</td>\n",
       "      <td>8.235961</td>\n",
       "      <td>16.688323</td>\n",
       "      <td>27.993943</td>\n",
       "      <td>25.203706</td>\n",
       "      <td>180.640592</td>\n",
       "      <td>598.626471</td>\n",
       "    </tr>\n",
       "    <tr>\n",
       "      <th>min</th>\n",
       "      <td>2.000000e+00</td>\n",
       "      <td>6.000000e+00</td>\n",
       "      <td>0.000000</td>\n",
       "      <td>0.000000</td>\n",
       "      <td>0.000000</td>\n",
       "      <td>0.000000</td>\n",
       "      <td>0.000000</td>\n",
       "      <td>0.000000</td>\n",
       "      <td>0.000000</td>\n",
       "      <td>0.000000</td>\n",
       "      <td>...</td>\n",
       "      <td>0.000000</td>\n",
       "      <td>0.000000</td>\n",
       "      <td>0.000000</td>\n",
       "      <td>0.000000</td>\n",
       "      <td>0.000000</td>\n",
       "      <td>0.000000</td>\n",
       "      <td>0.000000</td>\n",
       "      <td>0.000000</td>\n",
       "      <td>1.000000</td>\n",
       "      <td>0.000000</td>\n",
       "    </tr>\n",
       "    <tr>\n",
       "      <th>25%</th>\n",
       "      <td>1.400000e+04</td>\n",
       "      <td>1.528500e+04</td>\n",
       "      <td>0.000000</td>\n",
       "      <td>0.000000</td>\n",
       "      <td>0.000000</td>\n",
       "      <td>0.000000</td>\n",
       "      <td>0.000000</td>\n",
       "      <td>0.000000</td>\n",
       "      <td>0.000000</td>\n",
       "      <td>0.000000</td>\n",
       "      <td>...</td>\n",
       "      <td>0.000000</td>\n",
       "      <td>0.000000</td>\n",
       "      <td>0.000000</td>\n",
       "      <td>0.000000</td>\n",
       "      <td>0.000000</td>\n",
       "      <td>0.000000</td>\n",
       "      <td>0.000000</td>\n",
       "      <td>0.000000</td>\n",
       "      <td>51.500000</td>\n",
       "      <td>22.000000</td>\n",
       "    </tr>\n",
       "    <tr>\n",
       "      <th>50%</th>\n",
       "      <td>8.149350e+04</td>\n",
       "      <td>7.543400e+04</td>\n",
       "      <td>0.000000</td>\n",
       "      <td>0.000000</td>\n",
       "      <td>0.000000</td>\n",
       "      <td>0.000000</td>\n",
       "      <td>0.000000</td>\n",
       "      <td>0.000000</td>\n",
       "      <td>0.000000</td>\n",
       "      <td>0.000000</td>\n",
       "      <td>...</td>\n",
       "      <td>0.000000</td>\n",
       "      <td>0.000000</td>\n",
       "      <td>0.000000</td>\n",
       "      <td>0.000000</td>\n",
       "      <td>0.000000</td>\n",
       "      <td>0.000000</td>\n",
       "      <td>0.000000</td>\n",
       "      <td>0.000000</td>\n",
       "      <td>222.500000</td>\n",
       "      <td>157.500000</td>\n",
       "    </tr>\n",
       "    <tr>\n",
       "      <th>75%</th>\n",
       "      <td>2.586915e+05</td>\n",
       "      <td>2.510000e+05</td>\n",
       "      <td>0.000000</td>\n",
       "      <td>5.000000</td>\n",
       "      <td>0.000000</td>\n",
       "      <td>3.000000</td>\n",
       "      <td>0.000000</td>\n",
       "      <td>3.000000</td>\n",
       "      <td>2.000000</td>\n",
       "      <td>8.000000</td>\n",
       "      <td>...</td>\n",
       "      <td>0.000000</td>\n",
       "      <td>2.000000</td>\n",
       "      <td>9.000000</td>\n",
       "      <td>11.250000</td>\n",
       "      <td>0.000000</td>\n",
       "      <td>0.000000</td>\n",
       "      <td>10.750000</td>\n",
       "      <td>17.000000</td>\n",
       "      <td>329.750000</td>\n",
       "      <td>429.750000</td>\n",
       "    </tr>\n",
       "    <tr>\n",
       "      <th>max</th>\n",
       "      <td>1.710000e+06</td>\n",
       "      <td>1.710000e+06</td>\n",
       "      <td>208.000000</td>\n",
       "      <td>297.000000</td>\n",
       "      <td>181.000000</td>\n",
       "      <td>258.000000</td>\n",
       "      <td>201.000000</td>\n",
       "      <td>324.000000</td>\n",
       "      <td>215.000000</td>\n",
       "      <td>242.000000</td>\n",
       "      <td>...</td>\n",
       "      <td>70.000000</td>\n",
       "      <td>291.000000</td>\n",
       "      <td>125.000000</td>\n",
       "      <td>240.000000</td>\n",
       "      <td>55.000000</td>\n",
       "      <td>270.000000</td>\n",
       "      <td>141.000000</td>\n",
       "      <td>270.000000</td>\n",
       "      <td>771.000000</td>\n",
       "      <td>8040.000000</td>\n",
       "    </tr>\n",
       "  </tbody>\n",
       "</table>\n",
       "<p>8 rows × 218 columns</p>\n",
       "</div>"
      ],
      "text/plain": [
       "                 X1            X2      1_B1_M      1_B1_V      1_B2_M  \\\n",
       "count  3.280000e+02  3.280000e+02  328.000000  328.000000  328.000000   \n",
       "mean   1.950245e+05  1.919716e+05    9.182927   13.259146    6.496951   \n",
       "std    2.925836e+05  2.925789e+05   25.121663   39.173220   20.421551   \n",
       "min    2.000000e+00  6.000000e+00    0.000000    0.000000    0.000000   \n",
       "25%    1.400000e+04  1.528500e+04    0.000000    0.000000    0.000000   \n",
       "50%    8.149350e+04  7.543400e+04    0.000000    0.000000    0.000000   \n",
       "75%    2.586915e+05  2.510000e+05    0.000000    5.000000    0.000000   \n",
       "max    1.710000e+06  1.710000e+06  208.000000  297.000000  181.000000   \n",
       "\n",
       "           1_B2_V      1_B3_M      1_B3_V      1_B4_M      1_B4_V  \\\n",
       "count  328.000000  328.000000  328.000000  328.000000  328.000000   \n",
       "mean    10.216463    7.277439   12.277439   10.829268   13.719512   \n",
       "std     32.127405   22.737147   39.657315   26.708211   35.481149   \n",
       "min      0.000000    0.000000    0.000000    0.000000    0.000000   \n",
       "25%      0.000000    0.000000    0.000000    0.000000    0.000000   \n",
       "50%      0.000000    0.000000    0.000000    0.000000    0.000000   \n",
       "75%      3.000000    0.000000    3.000000    2.000000    8.000000   \n",
       "max    258.000000  201.000000  324.000000  215.000000  242.000000   \n",
       "\n",
       "          ...          12_B5_M     12_B5_V     12_B6_M     12_B6_V  \\\n",
       "count     ...       328.000000  328.000000  328.000000  328.000000   \n",
       "mean      ...         4.385467    4.972324   12.556707    9.899831   \n",
       "std       ...        12.157602   19.456249   25.190668   21.751825   \n",
       "min       ...         0.000000    0.000000    0.000000    0.000000   \n",
       "25%       ...         0.000000    0.000000    0.000000    0.000000   \n",
       "50%       ...         0.000000    0.000000    0.000000    0.000000   \n",
       "75%       ...         0.000000    2.000000    9.000000   11.250000   \n",
       "max       ...        70.000000  291.000000  125.000000  240.000000   \n",
       "\n",
       "          12_B7_M     12_B7_V     12_B9_M     12_B9_V    12_B10_M     12_B10_V  \n",
       "count  328.000000  328.000000  328.000000  328.000000  328.000000   328.000000  \n",
       "mean     2.426999    3.474390   14.232249   11.854234  221.661484   342.035772  \n",
       "std      8.235961   16.688323   27.993943   25.203706  180.640592   598.626471  \n",
       "min      0.000000    0.000000    0.000000    0.000000    1.000000     0.000000  \n",
       "25%      0.000000    0.000000    0.000000    0.000000   51.500000    22.000000  \n",
       "50%      0.000000    0.000000    0.000000    0.000000  222.500000   157.500000  \n",
       "75%      0.000000    0.000000   10.750000   17.000000  329.750000   429.750000  \n",
       "max     55.000000  270.000000  141.000000  270.000000  771.000000  8040.000000  \n",
       "\n",
       "[8 rows x 218 columns]"
      ]
     },
     "execution_count": 7,
     "metadata": {},
     "output_type": "execute_result"
    }
   ],
   "source": [
    "X.describe()"
   ]
  },
  {
   "cell_type": "code",
   "execution_count": 8,
   "metadata": {},
   "outputs": [
    {
     "name": "stderr",
     "output_type": "stream",
     "text": [
      "/usr/local/lib/python2.7/site-packages/ipykernel/__main__.py:6: SettingWithCopyWarning: \n",
      "A value is trying to be set on a copy of a slice from a DataFrame.\n",
      "Try using .loc[row_indexer,col_indexer] = value instead\n",
      "\n",
      "See the caveats in the documentation: http://pandas.pydata.org/pandas-docs/stable/indexing.html#indexing-view-versus-copy\n"
     ]
    }
   ],
   "source": [
    "# Z-Score Normalization \n",
    "\n",
    "colms = list(X.columns)\n",
    "for col in colms:\n",
    "    col_zscore = col + '_zscore'\n",
    "    X[col_zscore] = (X[col] - X[col].mean())/X[col].std(ddof=0)"
   ]
  },
  {
   "cell_type": "code",
   "execution_count": 9,
   "metadata": {},
   "outputs": [
    {
     "data": {
      "text/plain": [
       "436"
      ]
     },
     "execution_count": 9,
     "metadata": {},
     "output_type": "execute_result"
    }
   ],
   "source": [
    "cols = list(X.columns.values)\n",
    "len(cols)"
   ]
  },
  {
   "cell_type": "code",
   "execution_count": 32,
   "metadata": {},
   "outputs": [],
   "source": [
    "# Contains all the features (Last 2 years Crop Production and the Satellite Data)\n",
    "select = cols[218:436]\n",
    "X_all = X[select]\n",
    "\n",
    "# Just the last 2 years Crop Production\n",
    "select1 = cols[218:220]\n",
    "X_crp = X[select1]\n",
    "\n",
    "# Just the Satellite Data\n",
    "select2 = cols[220:436]\n",
    "X_sat = X[select2]"
   ]
  },
  {
   "cell_type": "markdown",
   "metadata": {},
   "source": [
    "# ---------------------------------------------------------------------\n",
    "# With all the features together\n",
    "# ---------------------------------------------------------------------"
   ]
  },
  {
   "cell_type": "markdown",
   "metadata": {},
   "source": [
    "### Avg RMSE for Linear Regression"
   ]
  },
  {
   "cell_type": "code",
   "execution_count": 11,
   "metadata": {},
   "outputs": [
    {
     "name": "stdout",
     "output_type": "stream",
     "text": [
      "[ 391955.98677226   30716.17271021   32015.23840967   51595.08478481\n",
      "   55681.15855367]\n",
      "\n",
      "Avg RMSE is 112392.728246\n"
     ]
    },
    {
     "name": "stderr",
     "output_type": "stream",
     "text": [
      "/Users/macbook/Library/Python/2.7/lib/python/site-packages/scipy/linalg/basic.py:1018: RuntimeWarning: internal gelsd driver lwork query error, required iwork dimension not returned. This is likely the result of LAPACK bug 0038, fixed in LAPACK 3.2.2 (released July 21, 2010). Falling back to 'gelss' driver.\n",
      "  warnings.warn(mesg, RuntimeWarning)\n"
     ]
    }
   ],
   "source": [
    "clf = LinearRegression()\n",
    "scores = cross_val_score(clf, X_all, y, cv=5, scoring='neg_mean_squared_error')\n",
    "for i in range(0,5):\n",
    "    scores[i] = sqrt(-1*scores[i])\n",
    "    \n",
    "print(scores)\n",
    "avg_rmse = scores.mean()\n",
    "print(\"\\nAvg RMSE is \"+str(scores.mean()))"
   ]
  },
  {
   "cell_type": "markdown",
   "metadata": {},
   "source": [
    "## Support Vector Regression (SVR)"
   ]
  },
  {
   "cell_type": "markdown",
   "metadata": {},
   "source": [
    "### RBF Kernel"
   ]
  },
  {
   "cell_type": "code",
   "execution_count": 12,
   "metadata": {},
   "outputs": [
    {
     "name": "stdout",
     "output_type": "stream",
     "text": [
      "[ 1001.56936493   934.53462579   927.19294425   510.36585607   792.53322231]\n",
      "('\\n\\nAvg RMSE is ', 833.23920267072026)\n"
     ]
    }
   ],
   "source": [
    "# 5 Fold CV, to calculate avg RMSE\n",
    "clf = SVR(C=8000.0, epsilon=0.1, kernel='rbf', gamma=0.001)\n",
    "scores = cross_val_score(clf, X_all, y.values.ravel(), cv=5, scoring='neg_mean_squared_error')\n",
    "for i in range(0,5):\n",
    "    scores[i] = sqrt(-1*scores[i])\n",
    "\n",
    "print(scores)\n",
    "avg_rmse = scores.mean()\n",
    "print(\"\\n\\nAvg RMSE is \",scores.mean())"
   ]
  },
  {
   "cell_type": "code",
   "execution_count": 13,
   "metadata": {},
   "outputs": [
    {
     "name": "stdout",
     "output_type": "stream",
     "text": [
      "[  899.97544879   877.1688262   1007.47422578   578.86809173   767.31332759]\n",
      "('\\n\\nAvg RMSE is ', 826.15998401704314)\n"
     ]
    }
   ],
   "source": [
    "# 5 Fold CV, to calculate avg RMSE\n",
    "clf = SVR(C=2000.0, epsilon=0.1, kernel='rbf', gamma=0.008)\n",
    "scores = cross_val_score(clf, X_all, y.values.ravel(), cv=5, scoring='neg_mean_squared_error')\n",
    "for i in range(0,5):\n",
    "    scores[i] = sqrt(-1*scores[i])\n",
    "\n",
    "print(scores)\n",
    "avg_rmse = scores.mean()\n",
    "print(\"\\n\\nAvg RMSE is \",scores.mean())"
   ]
  },
  {
   "cell_type": "code",
   "execution_count": 14,
   "metadata": {},
   "outputs": [
    {
     "name": "stdout",
     "output_type": "stream",
     "text": [
      "[  786.16034517   885.43348522  1213.19019481   516.87862934   792.5500076 ]\n",
      "('\\n\\nAvg RMSE is ', 838.84253242753005)\n"
     ]
    }
   ],
   "source": [
    "# 5 Fold CV, to calculate avg RMSE\n",
    "clf = SVR(C=1000000.0, epsilon=0.1, kernel='rbf', gamma=0.000001)\n",
    "scores = cross_val_score(clf, X_all, y.values.ravel(), cv=5, scoring='neg_mean_squared_error')\n",
    "for i in range(0,5):\n",
    "    scores[i] = sqrt(-1*scores[i])\n",
    "\n",
    "print(scores)\n",
    "avg_rmse = scores.mean()\n",
    "print(\"\\n\\nAvg RMSE is \",scores.mean())"
   ]
  },
  {
   "cell_type": "markdown",
   "metadata": {},
   "source": [
    "# ---------------------------------------------------------------------\n",
    "# With only Last 2 Years Crop Production\n",
    "# ---------------------------------------------------------------------"
   ]
  },
  {
   "cell_type": "markdown",
   "metadata": {},
   "source": [
    "### Linear Regression"
   ]
  },
  {
   "cell_type": "code",
   "execution_count": 15,
   "metadata": {},
   "outputs": [
    {
     "name": "stdout",
     "output_type": "stream",
     "text": [
      "[ 1065.63585702   857.23595343   822.13094399   554.39487643   704.46495431]\n",
      "('\\n\\nAvg RMSE is ', 800.77251703573052)\n"
     ]
    }
   ],
   "source": [
    "clf = LinearRegression()\n",
    "scores = cross_val_score(clf, X_crp, y, cv=5, scoring='neg_mean_squared_error')\n",
    "for i in range(0,5):\n",
    "    scores[i] = sqrt(-1*scores[i])\n",
    "    \n",
    "print(scores)\n",
    "avg_rmse = scores.mean()\n",
    "print(\"\\n\\nAvg RMSE is \",scores.mean())"
   ]
  },
  {
   "cell_type": "markdown",
   "metadata": {},
   "source": [
    "## SVR"
   ]
  },
  {
   "cell_type": "code",
   "execution_count": 16,
   "metadata": {},
   "outputs": [
    {
     "name": "stdout",
     "output_type": "stream",
     "text": [
      "[ 1122.52109861   782.51768706   818.44643068   558.35682966   597.68271737]\n",
      "('\\n\\nAvg RMSE is ', 775.9049526763938)\n"
     ]
    }
   ],
   "source": [
    "# 5 Fold CV, to calculate avg RMSE\n",
    "clf = SVR(C=500000.0, epsilon=0.1, kernel='rbf', gamma=0.0008)\n",
    "scores = cross_val_score(clf, X_crp, y.values.ravel(), cv=5, scoring='neg_mean_squared_error')\n",
    "for i in range(0,5):\n",
    "    scores[i] = sqrt(-1*scores[i])\n",
    "\n",
    "print(scores)\n",
    "avg_rmse = scores.mean()\n",
    "print(\"\\n\\nAvg RMSE is \",scores.mean())"
   ]
  },
  {
   "cell_type": "code",
   "execution_count": 17,
   "metadata": {},
   "outputs": [
    {
     "name": "stdout",
     "output_type": "stream",
     "text": [
      "[ 1124.94452355   789.3795181    635.23208725   568.28402579   603.87158373]\n",
      "('\\n\\nAvg RMSE is ', 744.34234768539648)\n"
     ]
    }
   ],
   "source": [
    "# 5 Fold CV, to calculate avg RMSE\n",
    "clf = SVR(C=8000.0, epsilon=0.1, kernel='rbf', gamma=0.01)\n",
    "scores = cross_val_score(clf, X_crp, y.values.ravel(), cv=5, scoring='neg_mean_squared_error')\n",
    "for i in range(0,5):\n",
    "    scores[i] = sqrt(-1*scores[i])\n",
    "\n",
    "print(scores)\n",
    "avg_rmse = scores.mean()\n",
    "print(\"\\n\\nAvg RMSE is \",scores.mean())"
   ]
  },
  {
   "cell_type": "code",
   "execution_count": null,
   "metadata": {},
   "outputs": [],
   "source": []
  },
  {
   "cell_type": "code",
   "execution_count": null,
   "metadata": {},
   "outputs": [],
   "source": []
  },
  {
   "cell_type": "markdown",
   "metadata": {},
   "source": [
    "# ---------------------------------------------------------------------\n",
    "# With only Satellite Data\n",
    "# ---------------------------------------------------------------------"
   ]
  },
  {
   "cell_type": "markdown",
   "metadata": {},
   "source": [
    "### Avg RMSE for Linear Regression"
   ]
  },
  {
   "cell_type": "code",
   "execution_count": 18,
   "metadata": {},
   "outputs": [
    {
     "name": "stdout",
     "output_type": "stream",
     "text": [
      "[ 1096649.30846409    57754.97135963    39092.52014173   111666.57491367\n",
      "    69970.82187998]\n",
      "('\\n\\nAvg RMSE is ', 275026.83935182099)\n"
     ]
    }
   ],
   "source": [
    "clf = LinearRegression()\n",
    "scores = cross_val_score(clf, X_sat, y, cv=5, scoring='neg_mean_squared_error')\n",
    "for i in range(0,5):\n",
    "    scores[i] = sqrt(-1*scores[i])\n",
    "    \n",
    "print(scores)\n",
    "avg_rmse = scores.mean()\n",
    "print(\"\\n\\nAvg RMSE is \",scores.mean())"
   ]
  },
  {
   "cell_type": "markdown",
   "metadata": {},
   "source": [
    "# Support Vector Regression (SVR)"
   ]
  },
  {
   "cell_type": "markdown",
   "metadata": {},
   "source": [
    "### RBF Kernel"
   ]
  },
  {
   "cell_type": "code",
   "execution_count": 19,
   "metadata": {},
   "outputs": [
    {
     "name": "stdout",
     "output_type": "stream",
     "text": [
      "[  869.97972186   909.00034756  1356.3789098    669.4493212    748.80356142]\n",
      "('\\n\\nAvg RMSE is ', 910.72237236657566)\n"
     ]
    }
   ],
   "source": [
    "# 5 Fold CV, to calculate avg RMSE\n",
    "clf = SVR(C=1000.0, epsilon=0.1, kernel='rbf', gamma=0.01)\n",
    "scores = cross_val_score(clf, X_sat, y.values.ravel(), cv=5, scoring='neg_mean_squared_error')\n",
    "for i in range(0,5):\n",
    "    scores[i] = sqrt(-1*scores[i])\n",
    "\n",
    "print(scores)\n",
    "avg_rmse = scores.mean()\n",
    "print(\"\\n\\nAvg RMSE is \",scores.mean())"
   ]
  },
  {
   "cell_type": "markdown",
   "metadata": {},
   "source": [
    "# -----------------------------------------------------\n",
    "# Dimension Reduction"
   ]
  },
  {
   "cell_type": "code",
   "execution_count": 20,
   "metadata": {},
   "outputs": [],
   "source": [
    "from sklearn.decomposition import PCA"
   ]
  },
  {
   "cell_type": "code",
   "execution_count": 33,
   "metadata": {},
   "outputs": [],
   "source": [
    "def fPCA(x): \n",
    "    pca = PCA(n_components=x)\n",
    "    pcax = pca.fit_transform(X_all)\n",
    "\n",
    "    # 5 Fold CV, to calculate avg RMSE\n",
    "    clf = SVR(C=2000.0, epsilon=0.1, kernel='rbf', gamma=0.008)\n",
    "    scores = cross_val_score(clf, pcax, y.values.ravel(), cv=5, scoring='neg_mean_squared_error')\n",
    "    for i in range(0,5):\n",
    "        scores[i] = sqrt(-1*scores[i])\n",
    "\n",
    "    print(scores)\n",
    "    avg_rmse = scores.mean()\n",
    "    print(\"\\n\\nAvg RMSE is \",scores.mean())"
   ]
  },
  {
   "cell_type": "code",
   "execution_count": 34,
   "metadata": {},
   "outputs": [
    {
     "name": "stdout",
     "output_type": "stream",
     "text": [
      "[ 892.97364473  885.57712686  988.60029939  574.95550189  771.30844956]\n",
      "('\\n\\nAvg RMSE is ', 822.68300448471223)\n"
     ]
    }
   ],
   "source": [
    "fPCA(42)"
   ]
  },
  {
   "cell_type": "markdown",
   "metadata": {},
   "source": [
    "# ------------------------------------------------------\n",
    "# XGBoost"
   ]
  },
  {
   "cell_type": "code",
   "execution_count": 35,
   "metadata": {},
   "outputs": [],
   "source": [
    "import xgboost as xgb"
   ]
  },
  {
   "cell_type": "code",
   "execution_count": 36,
   "metadata": {},
   "outputs": [],
   "source": [
    "\n",
    "# prepare dict of params for xgboost to run with\n",
    "xgb_params = {\n",
    "    'n_trees': 500, \n",
    "    'eta': 0.005,\n",
    "    'max_depth': 4,\n",
    "    'subsample': 0.95,\n",
    "    'objective': 'reg:linear',\n",
    "    'eval_metric': 'rmse',\n",
    "    'base_score': np.mean(y), # base prediction = mean(target)\n",
    "    'silent': 1\n",
    "}"
   ]
  },
  {
   "cell_type": "code",
   "execution_count": 37,
   "metadata": {},
   "outputs": [
    {
     "name": "stdout",
     "output_type": "stream",
     "text": [
      "[0]\ttrain-rmse:966.262\ttest-rmse:966.419\n",
      "[50]\ttrain-rmse:816.615\ttest-rmse:855.193\n",
      "[100]\ttrain-rmse:703.539\ttest-rmse:777.552\n",
      "[150]\ttrain-rmse:616.777\ttest-rmse:725.507\n",
      "[200]\ttrain-rmse:547.886\ttest-rmse:689.038\n",
      "[250]\ttrain-rmse:492.388\ttest-rmse:661.626\n",
      "[300]\ttrain-rmse:446.941\ttest-rmse:641.844\n",
      "[350]\ttrain-rmse:409.583\ttest-rmse:627.207\n",
      "[400]\ttrain-rmse:376.658\ttest-rmse:615.539\n",
      "[450]\ttrain-rmse:347.248\ttest-rmse:605.922\n",
      "[499]\ttrain-rmse:321.225\ttest-rmse:598.574\n",
      "500\n"
     ]
    }
   ],
   "source": [
    "# form DMatrices for Xgboost training\n",
    "dtrain = xgb.DMatrix(X_all, y)\n",
    "# dtest = xgb.DMatrix(test)\n",
    "\n",
    "# xgboost, cross-validation\n",
    "cv_result = xgb.cv(xgb_params, \n",
    "                   dtrain, \n",
    "                   num_boost_round=500, # increase to have better results (~700)\n",
    "                   early_stopping_rounds=50,\n",
    "                   verbose_eval=50, \n",
    "                   show_stdv=False\n",
    "                  )\n",
    "\n",
    "num_boost_rounds = len(cv_result)\n",
    "print(num_boost_rounds)"
   ]
  },
  {
   "cell_type": "code",
   "execution_count": 38,
   "metadata": {},
   "outputs": [],
   "source": [
    "# train model\n",
    "model = xgb.train(dict(xgb_params, silent=0), dtrain, num_boost_round=num_boost_rounds)"
   ]
  },
  {
   "cell_type": "code",
   "execution_count": 39,
   "metadata": {},
   "outputs": [
    {
     "name": "stdout",
     "output_type": "stream",
     "text": [
      "0.86400705514\n"
     ]
    }
   ],
   "source": [
    "# check f2-score (to get higher score - increase num_boost_round in previous cell)\n",
    "from sklearn.metrics import r2_score\n",
    "\n",
    "# now fixed, correct calculation\n",
    "print(r2_score(dtrain.get_label(), model.predict(dtrain)))"
   ]
  },
  {
   "cell_type": "code",
   "execution_count": 47,
   "metadata": {},
   "outputs": [
    {
     "name": "stdout",
     "output_type": "stream",
     "text": [
      "383.723078633\n"
     ]
    }
   ],
   "source": [
    "X_train, X_test, y_train, y_test = train_test_split(X_all, y, test_size=0.2, random_state=1)\n",
    "\n",
    "dtest = xgb.DMatrix(X_test)\n",
    "\n",
    "y_predict = model.predict(dtest)\n",
    "rmse = sqrt(mean_squared_error(y_predict, y_test))\n",
    "print(rmse)"
   ]
  },
  {
   "cell_type": "code",
   "execution_count": 48,
   "metadata": {},
   "outputs": [
    {
     "name": "stdout",
     "output_type": "stream",
     "text": [
      "<type 'numpy.ndarray'>\n"
     ]
    }
   ],
   "source": [
    "yt = y_test.as_matrix()\n",
    "print(type(yt))"
   ]
  },
  {
   "cell_type": "code",
   "execution_count": 49,
   "metadata": {},
   "outputs": [
    {
     "data": {
      "text/html": [
       "<div>\n",
       "<table border=\"1\" class=\"dataframe\">\n",
       "  <thead>\n",
       "    <tr style=\"text-align: right;\">\n",
       "      <th></th>\n",
       "      <th>y_predicted</th>\n",
       "      <th>y_test</th>\n",
       "    </tr>\n",
       "  </thead>\n",
       "  <tbody>\n",
       "    <tr>\n",
       "      <th>count</th>\n",
       "      <td>66.000000</td>\n",
       "      <td>66.000000</td>\n",
       "    </tr>\n",
       "    <tr>\n",
       "      <th>mean</th>\n",
       "      <td>2650.137695</td>\n",
       "      <td>2651.320556</td>\n",
       "    </tr>\n",
       "    <tr>\n",
       "      <th>std</th>\n",
       "      <td>814.986877</td>\n",
       "      <td>1087.275670</td>\n",
       "    </tr>\n",
       "    <tr>\n",
       "      <th>min</th>\n",
       "      <td>1583.900024</td>\n",
       "      <td>1077.262693</td>\n",
       "    </tr>\n",
       "    <tr>\n",
       "      <th>25%</th>\n",
       "      <td>2045.550018</td>\n",
       "      <td>1750.887515</td>\n",
       "    </tr>\n",
       "    <tr>\n",
       "      <th>50%</th>\n",
       "      <td>2448.250000</td>\n",
       "      <td>2318.003603</td>\n",
       "    </tr>\n",
       "    <tr>\n",
       "      <th>75%</th>\n",
       "      <td>3124.999939</td>\n",
       "      <td>3576.059357</td>\n",
       "    </tr>\n",
       "    <tr>\n",
       "      <th>max</th>\n",
       "      <td>4518.100098</td>\n",
       "      <td>5150.000000</td>\n",
       "    </tr>\n",
       "  </tbody>\n",
       "</table>\n",
       "</div>"
      ],
      "text/plain": [
       "       y_predicted       y_test\n",
       "count    66.000000    66.000000\n",
       "mean   2650.137695  2651.320556\n",
       "std     814.986877  1087.275670\n",
       "min    1583.900024  1077.262693\n",
       "25%    2045.550018  1750.887515\n",
       "50%    2448.250000  2318.003603\n",
       "75%    3124.999939  3576.059357\n",
       "max    4518.100098  5150.000000"
      ]
     },
     "execution_count": 49,
     "metadata": {},
     "output_type": "execute_result"
    }
   ],
   "source": [
    "p = pd.DataFrame()\n",
    "p[\"y_predicted\"] = y_predict\n",
    "p[\"y_test\"] = yt\n",
    "\n",
    "p[\"y_predicted\"] = p[\"y_predicted\"].round(decimals=1)\n",
    "# p[\"y_test\"] = p[\"y_test\"].round(decimals=1)\n",
    "p.describe()"
   ]
  },
  {
   "cell_type": "code",
   "execution_count": 51,
   "metadata": {},
   "outputs": [],
   "source": [
    "# print (p)"
   ]
  },
  {
   "cell_type": "code",
   "execution_count": 55,
   "metadata": {},
   "outputs": [
    {
     "name": "stdout",
     "output_type": "stream",
     "text": [
      "777.939254138\n"
     ]
    }
   ],
   "source": [
    "X_train, X_test, y_train, y_test = train_test_split(X_crp, y, test_size=0.2, random_state=1)\n",
    "\n",
    "clf = SVR(C=8000.0, epsilon=0.1, kernel='rbf', gamma=0.01)\n",
    "clf.fit(X_train, y_train)\n",
    "y_predict = clf.predict(X_test)\n",
    "rmse = sqrt(mean_squared_error(y_predict, y_test))\n",
    "print(rmse)\n",
    "\n"
   ]
  },
  {
   "cell_type": "code",
   "execution_count": 56,
   "metadata": {},
   "outputs": [
    {
     "data": {
      "text/html": [
       "<div>\n",
       "<table border=\"1\" class=\"dataframe\">\n",
       "  <thead>\n",
       "    <tr style=\"text-align: right;\">\n",
       "      <th></th>\n",
       "      <th>y_predicted</th>\n",
       "      <th>y_test</th>\n",
       "    </tr>\n",
       "  </thead>\n",
       "  <tbody>\n",
       "    <tr>\n",
       "      <th>count</th>\n",
       "      <td>66.000000</td>\n",
       "      <td>66.000000</td>\n",
       "    </tr>\n",
       "    <tr>\n",
       "      <th>mean</th>\n",
       "      <td>2587.830303</td>\n",
       "      <td>2651.320556</td>\n",
       "    </tr>\n",
       "    <tr>\n",
       "      <th>std</th>\n",
       "      <td>736.545480</td>\n",
       "      <td>1087.275670</td>\n",
       "    </tr>\n",
       "    <tr>\n",
       "      <th>min</th>\n",
       "      <td>2020.000000</td>\n",
       "      <td>1077.262693</td>\n",
       "    </tr>\n",
       "    <tr>\n",
       "      <th>25%</th>\n",
       "      <td>2079.250000</td>\n",
       "      <td>1750.887515</td>\n",
       "    </tr>\n",
       "    <tr>\n",
       "      <th>50%</th>\n",
       "      <td>2346.800000</td>\n",
       "      <td>2318.003603</td>\n",
       "    </tr>\n",
       "    <tr>\n",
       "      <th>75%</th>\n",
       "      <td>2740.325000</td>\n",
       "      <td>3576.059357</td>\n",
       "    </tr>\n",
       "    <tr>\n",
       "      <th>max</th>\n",
       "      <td>4624.700000</td>\n",
       "      <td>5150.000000</td>\n",
       "    </tr>\n",
       "  </tbody>\n",
       "</table>\n",
       "</div>"
      ],
      "text/plain": [
       "       y_predicted       y_test\n",
       "count    66.000000    66.000000\n",
       "mean   2587.830303  2651.320556\n",
       "std     736.545480  1087.275670\n",
       "min    2020.000000  1077.262693\n",
       "25%    2079.250000  1750.887515\n",
       "50%    2346.800000  2318.003603\n",
       "75%    2740.325000  3576.059357\n",
       "max    4624.700000  5150.000000"
      ]
     },
     "execution_count": 56,
     "metadata": {},
     "output_type": "execute_result"
    }
   ],
   "source": [
    "yt = y_test.as_matrix()\n",
    "p = pd.DataFrame()\n",
    "p[\"y_predicted\"] = y_predict\n",
    "p[\"y_test\"] = yt\n",
    "\n",
    "p[\"y_predicted\"] = p[\"y_predicted\"].round(decimals=1)\n",
    "# p[\"y_test\"] = p[\"y_test\"].round(decimals=1)\n",
    "p.describe()"
   ]
  },
  {
   "cell_type": "code",
   "execution_count": 57,
   "metadata": {},
   "outputs": [
    {
     "name": "stdout",
     "output_type": "stream",
     "text": [
      "    y_predicted       y_test\n",
      "0        2517.8  2558.195412\n",
      "1        2190.0  2747.000895\n",
      "2        2818.4  2341.998346\n",
      "3        2324.3  1732.000963\n",
      "4        2052.1  2480.046948\n",
      "5        4547.0  4697.416974\n",
      "6        2020.0  1461.538462\n",
      "7        2078.5  1574.705565\n",
      "8        2512.1  2611.992716\n",
      "9        2096.8  2074.378719\n",
      "10       2020.2  5150.000000\n",
      "11       3172.2  4114.942529\n",
      "12       2074.0  1420.727435\n",
      "13       3178.1  3907.407407\n",
      "14       2686.5  3085.127174\n",
      "15       2101.3  1567.065346\n",
      "16       2613.5  3587.126762\n",
      "17       2756.4  3446.135971\n",
      "18       2021.1  1514.450867\n",
      "19       2173.6  2282.976951\n",
      "20       2467.5  2257.006161\n",
      "21       4351.6  4254.166667\n",
      "22       2394.6  2263.001328\n",
      "23       2041.9  3676.626641\n",
      "24       2232.3  3070.175439\n",
      "25       2081.5  1229.885893\n",
      "26       2074.2  1995.848635\n",
      "27       2692.1  3631.417885\n",
      "28       2382.9  2227.004889\n",
      "29       2020.7  1555.555556\n",
      "..          ...          ...\n",
      "36       2882.1  1658.000797\n",
      "37       2020.2  1514.563107\n",
      "38       4624.7  4427.792916\n",
      "39       2868.0  2245.002325\n",
      "40       2622.3  3542.857143\n",
      "41       2083.2  1902.531831\n",
      "42       2047.0  3163.841808\n",
      "43       4295.7  3952.380952\n",
      "44       2072.7  1461.565462\n",
      "45       2293.0  2223.987292\n",
      "46       2646.7  2667.824792\n",
      "47       2067.4  1333.198019\n",
      "48       2024.1  1077.262693\n",
      "49       3016.2  4034.482759\n",
      "50       2604.1  3323.883078\n",
      "51       3052.0  1887.997148\n",
      "52       2112.5  2643.131173\n",
      "53       2096.1  2045.653792\n",
      "54       3085.8  4402.061856\n",
      "55       2088.4  1950.058072\n",
      "56       4503.0  4617.977528\n",
      "57       2029.1  3807.106599\n",
      "58       2161.2  1248.731757\n",
      "59       2369.3  2265.995958\n",
      "60       2020.7  1807.547170\n",
      "61       2394.6  2294.008861\n",
      "62       2765.2  3271.742337\n",
      "63       2194.1  2346.985327\n",
      "64       4578.6  4522.099448\n",
      "65       2099.5  1358.881563\n",
      "\n",
      "[66 rows x 2 columns]\n"
     ]
    }
   ],
   "source": [
    "print (p)"
   ]
  },
  {
   "cell_type": "code",
   "execution_count": null,
   "metadata": {},
   "outputs": [],
   "source": []
  },
  {
   "cell_type": "code",
   "execution_count": null,
   "metadata": {},
   "outputs": [],
   "source": []
  },
  {
   "cell_type": "code",
   "execution_count": null,
   "metadata": {},
   "outputs": [],
   "source": []
  },
  {
   "cell_type": "code",
   "execution_count": 44,
   "metadata": {},
   "outputs": [],
   "source": [
    "# # y_pred = model.predict(dtest)\n",
    "\n",
    "# # 5 Fold CV, to calculate avg RMSE\n",
    "# # clf = SVR(C=1000.0, epsilon=0.1, kernel='rbf', gamma=0.01)\n",
    "# scores = cross_val_score(model, X_all, y.values.ravel(), cv=5, scoring='neg_mean_squared_error')\n",
    "# for i in range(0,5):\n",
    "#     scores[i] = sqrt(-1*scores[i])\n",
    "    \n",
    "# print(scores)\n",
    "# avg_rmse = scores.mean()\n",
    "# print(\"\\n\\nAvg RMSE is \",scores.mean())"
   ]
  },
  {
   "cell_type": "code",
   "execution_count": null,
   "metadata": {},
   "outputs": [],
   "source": []
  }
 ],
 "metadata": {
  "kernelspec": {
   "display_name": "Python 2",
   "language": "python",
   "name": "python2"
  },
  "language_info": {
   "codemirror_mode": {
    "name": "ipython",
    "version": 2
   },
   "file_extension": ".py",
   "mimetype": "text/x-python",
   "name": "python",
   "nbconvert_exporter": "python",
   "pygments_lexer": "ipython2",
   "version": "2.7.13"
  }
 },
 "nbformat": 4,
 "nbformat_minor": 2
}
