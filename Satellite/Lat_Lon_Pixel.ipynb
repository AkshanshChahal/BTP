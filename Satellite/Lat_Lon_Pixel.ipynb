{
 "cells": [
  {
   "cell_type": "markdown",
   "metadata": {},
   "source": [
    "# Latitude, Longitude for any pixel in a GeoTiff File\n",
    "How to generate the latitude and longitude for a pixel at any given position in a GeoTiff file."
   ]
  },
  {
   "cell_type": "code",
   "execution_count": 1,
   "metadata": {},
   "outputs": [],
   "source": [
    "from osgeo import ogr, osr, gdal\n",
    "import reverse_geocoder as rg"
   ]
  },
  {
   "cell_type": "code",
   "execution_count": 2,
   "metadata": {},
   "outputs": [],
   "source": [
    "# opening the geotiff file\n",
    "ds = gdal.Open('/Users/macbook/Documents/BTP/Satellite/Data/LC08_L1TP_150041_20171027_20171027_01_RT/LC08_L1TP_150041_20171027_20171027_01_RT_B2.TIF')"
   ]
  },
  {
   "cell_type": "code",
   "execution_count": 3,
   "metadata": {},
   "outputs": [
    {
     "name": "stdout",
     "output_type": "stream",
     "text": [
      "(7551, 7701, 1)\n"
     ]
    }
   ],
   "source": [
    "col, row, band = ds.RasterXSize, ds.RasterYSize, ds.RasterCount\n",
    "print(col, row, band)"
   ]
  },
  {
   "cell_type": "code",
   "execution_count": 4,
   "metadata": {},
   "outputs": [
    {
     "name": "stdout",
     "output_type": "stream",
     "text": [
      "(619185.0, 30.0, 0.0, 3151515.0, 0.0, -30.0)\n"
     ]
    }
   ],
   "source": [
    "xoff, a, b, yoff, d, e = ds.GetGeoTransform()\n",
    "print(xoff, a, b, yoff, d, e)\n",
    "\n",
    "# details about the params: GDAL affine transform parameters\n",
    "# xoff,yoff = left corner \n",
    "# a,e = weight,height of pixels\n",
    "# b,d = rotation of the image (zero if image is north up)"
   ]
  },
  {
   "cell_type": "code",
   "execution_count": 5,
   "metadata": {},
   "outputs": [],
   "source": [
    "def pixel2coord(x, y):\n",
    "    \"\"\"Returns global coordinates from coordinates x,y of the pixel\"\"\"\n",
    "    xp = a * x + b * y + xoff\n",
    "    yp = d * x + e * y + yoff\n",
    "    return(xp, yp)"
   ]
  },
  {
   "cell_type": "code",
   "execution_count": 6,
   "metadata": {},
   "outputs": [
    {
     "name": "stdout",
     "output_type": "stream",
     "text": [
      "(732435.0, 3036015.0)\n"
     ]
    }
   ],
   "source": [
    "x,y = pixel2coord(col/2,row/2)\n",
    "print (x, y)"
   ]
  },
  {
   "cell_type": "markdown",
   "metadata": {},
   "source": [
    "#### These global coordinates are in a *projected coordinated system*, which is a representation of the spheroidal earth's surface, but flattened and distorted onto a plane.\n",
    "#### To convert these into latitude and longitude, we need to convert these coordinates into *geographic coordinate system*."
   ]
  },
  {
   "cell_type": "code",
   "execution_count": 7,
   "metadata": {},
   "outputs": [],
   "source": [
    "# get the existing coordinate system\n",
    "old_cs= osr.SpatialReference()\n",
    "old_cs.ImportFromWkt(ds.GetProjectionRef())\n",
    "\n",
    "# create the new coordinate system\n",
    "wgs84_wkt = \"\"\"\n",
    "GEOGCS[\"WGS 84\",\n",
    "    DATUM[\"WGS_1984\",\n",
    "        SPHEROID[\"WGS 84\",6378137,298.257223563,\n",
    "            AUTHORITY[\"EPSG\",\"7030\"]],\n",
    "        AUTHORITY[\"EPSG\",\"6326\"]],\n",
    "    PRIMEM[\"Greenwich\",0,\n",
    "        AUTHORITY[\"EPSG\",\"8901\"]],\n",
    "    UNIT[\"degree\",0.01745329251994328,\n",
    "        AUTHORITY[\"EPSG\",\"9122\"]],\n",
    "    AUTHORITY[\"EPSG\",\"4326\"]]\"\"\"\n",
    "new_cs = osr.SpatialReference()\n",
    "new_cs.ImportFromWkt(wgs84_wkt)\n",
    "\n",
    "# create a transform object to convert between coordinate systems\n",
    "transform = osr.CoordinateTransformation(old_cs,new_cs) "
   ]
  },
  {
   "cell_type": "code",
   "execution_count": 8,
   "metadata": {},
   "outputs": [],
   "source": [
    "# converting into geographic coordinate system\n",
    "lonx, latx, z = transform.TransformPoint(x,y)"
   ]
  },
  {
   "cell_type": "code",
   "execution_count": 9,
   "metadata": {},
   "outputs": [
    {
     "name": "stdout",
     "output_type": "stream",
     "text": [
      "(27.42778025378802, 71.351317510464, 0.0)\n"
     ]
    }
   ],
   "source": [
    "print (latx, lonx, z)"
   ]
  },
  {
   "cell_type": "code",
   "execution_count": 10,
   "metadata": {},
   "outputs": [
    {
     "name": "stdout",
     "output_type": "stream",
     "text": [
      "11647\n"
     ]
    }
   ],
   "source": [
    "# rb = ds.GetRasterBand(1)\n",
    "px,py = col/2,row/2                   # the pixel location\n",
    "pix = ds.ReadAsArray(px,py,1,1)     \n",
    "print pix[0][0]                        # pixel value"
   ]
  },
  {
   "cell_type": "code",
   "execution_count": 11,
   "metadata": {},
   "outputs": [
    {
     "name": "stdout",
     "output_type": "stream",
     "text": [
      "Loading formatted geocoded file...\n",
      "[{'name': 'Jaisalmer', 'cc': 'IN', 'lon': '70.90387', 'admin1': 'Rajasthan', 'admin2': 'Jaisalmer', 'lat': '26.91763'}]\n"
     ]
    }
   ],
   "source": [
    "coordinates = (latx,lonx)\n",
    "results = rg.search(coordinates)\n",
    "print results"
   ]
  },
  {
   "cell_type": "code",
   "execution_count": 12,
   "metadata": {},
   "outputs": [
    {
     "name": "stdout",
     "output_type": "stream",
     "text": [
      "<type 'list'>\n",
      "<type 'dict'>\n"
     ]
    }
   ],
   "source": [
    "print type(results)\n",
    "print type(results[0])"
   ]
  },
  {
   "cell_type": "code",
   "execution_count": 13,
   "metadata": {},
   "outputs": [
    {
     "data": {
      "text/plain": [
       "{'admin1': 'Rajasthan',\n",
       " 'admin2': 'Jaisalmer',\n",
       " 'cc': 'IN',\n",
       " 'lat': '26.91763',\n",
       " 'lon': '70.90387',\n",
       " 'name': 'Jaisalmer'}"
      ]
     },
     "execution_count": 13,
     "metadata": {},
     "output_type": "execute_result"
    }
   ],
   "source": [
    "results[0]"
   ]
  },
  {
   "cell_type": "code",
   "execution_count": 14,
   "metadata": {},
   "outputs": [
    {
     "data": {
      "text/plain": [
       "'Jaisalmer'"
      ]
     },
     "execution_count": 14,
     "metadata": {},
     "output_type": "execute_result"
    }
   ],
   "source": [
    "results[0][\"name\"]"
   ]
  },
  {
   "cell_type": "code",
   "execution_count": 15,
   "metadata": {},
   "outputs": [],
   "source": [
    "check for many other examples, to make sure it gives\n",
    "---> name of a District only\n",
    "---> It matches with te spelling in the crop dataset\n",
    "---> What if its outside India (on land, on water)\n",
    "..."
   ]
  },
  {
   "cell_type": "code",
   "execution_count": 20,
   "metadata": {},
   "outputs": [
    {
     "name": "stdout",
     "output_type": "stream",
     "text": [
      "The pixel value for the location Lat:   28.5, Long:   70.2 (Sadiqabad      ) is       0\n",
      "The pixel value for the location Lat:   28.3, Long:   70.2 (Sadiqabad      ) is       0\n",
      "The pixel value for the location Lat:   28.1, Long:   70.2 (Sadiqabad      ) is       0\n",
      "The pixel value for the location Lat:   27.9, Long:   70.2 (Sadiqabad      ) is       0\n",
      "The pixel value for the location Lat:   27.7, Long:   70.2 (Khairpur       ) is       0\n",
      "The pixel value for the location Lat:   27.4, Long:   70.2 (Khairpur       ) is       0\n",
      "The pixel value for the location Lat:   27.2, Long:   70.2 (Jaisalmer      ) is       0\n",
      "The pixel value for the location Lat:   27.0, Long:   70.2 (Jaisalmer      ) is       0\n",
      "The pixel value for the location Lat:   26.8, Long:   70.2 (Jaisalmer      ) is       0\n",
      "The pixel value for the location Lat:   26.6, Long:   70.2 (Jaisalmer      ) is       0\n",
      "The pixel value for the location Lat:   26.4, Long:   70.2 (Jaisalmer      ) is       0\n",
      "The pixel value for the location Lat:   28.5, Long:   70.4 (Kot Samaba     ) is       0\n",
      "The pixel value for the location Lat:   28.3, Long:   70.4 (Kot Samaba     ) is       0\n",
      "The pixel value for the location Lat:   28.1, Long:   70.4 (Sadiqabad      ) is       0\n",
      "The pixel value for the location Lat:   27.9, Long:   70.4 (Sadiqabad      ) is       0\n",
      "The pixel value for the location Lat:   27.6, Long:   70.4 (Sadiqabad      ) is   11591\n",
      "The pixel value for the location Lat:   27.4, Long:   70.4 (Jaisalmer      ) is   11860\n",
      "The pixel value for the location Lat:   27.2, Long:   70.4 (Jaisalmer      ) is   12666\n",
      "The pixel value for the location Lat:   27.0, Long:   70.4 (Jaisalmer      ) is   12044\n",
      "The pixel value for the location Lat:   26.8, Long:   70.4 (Jaisalmer      ) is   12579\n",
      "The pixel value for the location Lat:   26.6, Long:   70.4 (Jaisalmer      ) is       0\n",
      "The pixel value for the location Lat:   26.4, Long:   70.4 (Jaisalmer      ) is       0\n",
      "The pixel value for the location Lat:   28.5, Long:   70.7 (Khanpur        ) is       0\n",
      "The pixel value for the location Lat:   28.3, Long:   70.7 (Kot Samaba     ) is   11372\n",
      "The pixel value for the location Lat:   28.1, Long:   70.7 (Kot Samaba     ) is   11178\n",
      "The pixel value for the location Lat:   27.9, Long:   70.7 (Sadiqabad      ) is   11610\n",
      "The pixel value for the location Lat:   27.6, Long:   70.7 (Jaisalmer      ) is   11842\n",
      "The pixel value for the location Lat:   27.4, Long:   70.7 (Jaisalmer      ) is   11577\n",
      "The pixel value for the location Lat:   27.2, Long:   70.7 (Jaisalmer      ) is   12740\n",
      "The pixel value for the location Lat:   27.0, Long:   70.7 (Jaisalmer      ) is   12015\n",
      "The pixel value for the location Lat:   26.8, Long:   70.7 (Jaisalmer      ) is   11851\n",
      "The pixel value for the location Lat:   26.6, Long:   70.7 (Jaisalmer      ) is       0\n",
      "The pixel value for the location Lat:   26.4, Long:   70.6 (Jaisalmer      ) is       0\n",
      "The pixel value for the location Lat:   28.5, Long:   70.9 (Khanpur        ) is       0\n",
      "The pixel value for the location Lat:   28.3, Long:   70.9 (Khanpur        ) is   11077\n",
      "The pixel value for the location Lat:   28.1, Long:   70.9 (Khanpur        ) is   11355\n",
      "The pixel value for the location Lat:   27.9, Long:   70.9 (Kot Samaba     ) is   11398\n",
      "The pixel value for the location Lat:   27.6, Long:   70.9 (Jaisalmer      ) is   11602\n",
      "The pixel value for the location Lat:   27.4, Long:   70.9 (Jaisalmer      ) is   12231\n",
      "The pixel value for the location Lat:   27.2, Long:   70.9 (Jaisalmer      ) is   11390\n",
      "The pixel value for the location Lat:   27.0, Long:   70.9 (Jaisalmer      ) is   11898\n",
      "The pixel value for the location Lat:   26.8, Long:   70.9 (Jaisalmer      ) is   11736\n",
      "The pixel value for the location Lat:   26.6, Long:   70.9 (Jaisalmer      ) is       0\n",
      "The pixel value for the location Lat:   26.4, Long:   70.9 (Jaisalmer      ) is       0\n",
      "The pixel value for the location Lat:   28.5, Long:   71.1 (Khanpur        ) is       0\n",
      "The pixel value for the location Lat:   28.3, Long:   71.1 (Khanpur        ) is   10988\n",
      "The pixel value for the location Lat:   28.1, Long:   71.1 (Khanpur        ) is   11488\n",
      "The pixel value for the location Lat:   27.8, Long:   71.1 (Khanpur        ) is   11469\n",
      "The pixel value for the location Lat:   27.6, Long:   71.1 (Jaisalmer      ) is   12236\n",
      "The pixel value for the location Lat:   27.4, Long:   71.1 (Jaisalmer      ) is   11572\n",
      "The pixel value for the location Lat:   27.2, Long:   71.1 (Jaisalmer      ) is   12053\n",
      "The pixel value for the location Lat:   27.0, Long:   71.1 (Jaisalmer      ) is   11647\n",
      "The pixel value for the location Lat:   26.8, Long:   71.1 (Jaisalmer      ) is   11882\n",
      "The pixel value for the location Lat:   26.6, Long:   71.1 (Jaisalmer      ) is   11974\n",
      "The pixel value for the location Lat:   26.4, Long:   71.1 (Jaisalmer      ) is       0\n",
      "The pixel value for the location Lat:   28.5, Long:   71.4 (Ahmadpur East  ) is       0\n",
      "The pixel value for the location Lat:   28.3, Long:   71.4 (Khanpur        ) is   11212\n",
      "The pixel value for the location Lat:   28.1, Long:   71.4 (Khanpur        ) is   11535\n",
      "The pixel value for the location Lat:   27.8, Long:   71.4 (Jaisalmer      ) is   11996\n",
      "The pixel value for the location Lat:   27.6, Long:   71.4 (Jaisalmer      ) is   11815\n",
      "The pixel value for the location Lat:   27.4, Long:   71.4 (Jaisalmer      ) is   11647\n",
      "The pixel value for the location Lat:   27.2, Long:   71.3 (Jaisalmer      ) is   12070\n",
      "The pixel value for the location Lat:   27.0, Long:   71.3 (Jaisalmer      ) is   11955\n",
      "The pixel value for the location Lat:   26.8, Long:   71.3 (Jaisalmer      ) is   11199\n",
      "The pixel value for the location Lat:   26.6, Long:   71.3 (Jaisalmer      ) is   11723\n",
      "The pixel value for the location Lat:   26.4, Long:   71.3 (Barmer         ) is       0\n",
      "The pixel value for the location Lat:   28.5, Long:   71.6 (Yazman         ) is       0\n",
      "The pixel value for the location Lat:   28.3, Long:   71.6 (Yazman         ) is   11327\n",
      "The pixel value for the location Lat:   28.0, Long:   71.6 (Yazman         ) is   11174\n",
      "The pixel value for the location Lat:   27.8, Long:   71.6 (Pokaran        ) is   11977\n",
      "The pixel value for the location Lat:   27.6, Long:   71.6 (Pokaran        ) is   11268\n",
      "The pixel value for the location Lat:   27.4, Long:   71.6 (Pokaran        ) is   10623\n",
      "The pixel value for the location Lat:   27.2, Long:   71.6 (Pokaran        ) is   11803\n",
      "The pixel value for the location Lat:   27.0, Long:   71.6 (Pokaran        ) is   11594\n",
      "The pixel value for the location Lat:   26.8, Long:   71.6 (Pokaran        ) is   11549\n",
      "The pixel value for the location Lat:   26.6, Long:   71.6 (Pokaran        ) is   11265\n",
      "The pixel value for the location Lat:   26.4, Long:   71.6 (Pokaran        ) is       0\n",
      "The pixel value for the location Lat:   28.5, Long:   71.8 (Yazman         ) is       0\n",
      "The pixel value for the location Lat:   28.3, Long:   71.8 (Yazman         ) is       0\n",
      "The pixel value for the location Lat:   28.0, Long:   71.8 (Phalodi        ) is   11337\n",
      "The pixel value for the location Lat:   27.8, Long:   71.8 (Phalodi        ) is   11508\n",
      "The pixel value for the location Lat:   27.6, Long:   71.8 (Pokaran        ) is   11511\n",
      "The pixel value for the location Lat:   27.4, Long:   71.8 (Pokaran        ) is   11616\n",
      "The pixel value for the location Lat:   27.2, Long:   71.8 (Pokaran        ) is   11215\n",
      "The pixel value for the location Lat:   27.0, Long:   71.8 (Pokaran        ) is   11814\n",
      "The pixel value for the location Lat:   26.8, Long:   71.8 (Pokaran        ) is   11511\n",
      "The pixel value for the location Lat:   26.6, Long:   71.8 (Pokaran        ) is   11989\n",
      "The pixel value for the location Lat:   26.4, Long:   71.8 (Pokaran        ) is       0\n",
      "The pixel value for the location Lat:   28.5, Long:   72.1 (Yazman         ) is       0\n",
      "The pixel value for the location Lat:   28.2, Long:   72.1 (Yazman         ) is       0\n",
      "The pixel value for the location Lat:   28.0, Long:   72.1 (Phalodi        ) is   11208\n",
      "The pixel value for the location Lat:   27.8, Long:   72.0 (Phalodi        ) is   11468\n",
      "The pixel value for the location Lat:   27.6, Long:   72.0 (Phalodi        ) is    9761\n",
      "The pixel value for the location Lat:   27.4, Long:   72.0 (Phalodi        ) is   11618\n"
     ]
    },
    {
     "name": "stdout",
     "output_type": "stream",
     "text": [
      "The pixel value for the location Lat:   27.2, Long:   72.0 (Pokaran        ) is   22059\n",
      "The pixel value for the location Lat:   27.0, Long:   72.0 (Pokaran        ) is   11562\n",
      "The pixel value for the location Lat:   26.8, Long:   72.0 (Pokaran        ) is   11302\n",
      "The pixel value for the location Lat:   26.6, Long:   72.0 (Pokaran        ) is   11163\n",
      "The pixel value for the location Lat:   26.4, Long:   72.0 (Pokaran        ) is       0\n",
      "The pixel value for the location Lat:   28.5, Long:   72.3 (Yazman         ) is       0\n",
      "The pixel value for the location Lat:   28.2, Long:   72.3 (Yazman         ) is       0\n",
      "The pixel value for the location Lat:   28.0, Long:   72.3 (Phalodi        ) is   10845\n",
      "The pixel value for the location Lat:   27.8, Long:   72.3 (Phalodi        ) is   10621\n",
      "The pixel value for the location Lat:   27.6, Long:   72.3 (Phalodi        ) is   11299\n",
      "The pixel value for the location Lat:   27.4, Long:   72.3 (Phalodi        ) is   11236\n",
      "The pixel value for the location Lat:   27.2, Long:   72.3 (Phalodi        ) is   11267\n",
      "The pixel value for the location Lat:   27.0, Long:   72.3 (Phalodi        ) is       0\n",
      "The pixel value for the location Lat:   26.8, Long:   72.2 (Pokaran        ) is       0\n",
      "The pixel value for the location Lat:   26.6, Long:   72.2 (Pokaran        ) is       0\n",
      "The pixel value for the location Lat:   26.4, Long:   72.2 (Balotra        ) is       0\n",
      "The pixel value for the location Lat:   28.4, Long:   72.5 (Fort Abbas     ) is       0\n",
      "The pixel value for the location Lat:   28.2, Long:   72.5 (Bikaner        ) is       0\n",
      "The pixel value for the location Lat:   28.0, Long:   72.5 (Bikaner        ) is       0\n",
      "The pixel value for the location Lat:   27.8, Long:   72.5 (Phalodi        ) is       0\n",
      "The pixel value for the location Lat:   27.6, Long:   72.5 (Phalodi        ) is       0\n",
      "The pixel value for the location Lat:   27.4, Long:   72.5 (Phalodi        ) is       0\n",
      "The pixel value for the location Lat:   27.2, Long:   72.5 (Phalodi        ) is       0\n",
      "The pixel value for the location Lat:   27.0, Long:   72.5 (Phalodi        ) is       0\n",
      "The pixel value for the location Lat:   26.8, Long:   72.5 (Phalodi        ) is       0\n",
      "The pixel value for the location Lat:   26.6, Long:   72.5 (Phalodi        ) is       0\n",
      "The pixel value for the location Lat:   26.4, Long:   72.5 (Jodhpur        ) is       0\n"
     ]
    }
   ],
   "source": [
    "k = 10  # If we want k*k pixels in total from the image\n",
    "\n",
    "\n",
    "for i in range(0,col,col/k):\n",
    "    for j in range(0,row,row/k):\n",
    "        \n",
    "        # fetching the lat and lon coordinates \n",
    "        x,y = pixel2coord(i,j)\n",
    "        lonx, latx, z = transform.TransformPoint(x,y)\n",
    "        \n",
    "        # fetching the name of district\n",
    "        coordinates = (latx,lonx)\n",
    "        results = rg.search(coordinates)\n",
    "        \n",
    "        # The pixel value for that location\n",
    "        px,py = i,j                   \n",
    "        pix = ds.ReadAsArray(px,py,1,1)     \n",
    "        pix = pix[0][0]\n",
    "        \n",
    "        # printing\n",
    "        s = \"The pixel value for the location Lat: {0:6.1f}, Long: {1:6.1f} ({2:15}) is {3:7}\".format(latx,lonx,results[0][\"name\"],pix)\n",
    "        print (s)"
   ]
  },
  {
   "cell_type": "code",
   "execution_count": null,
   "metadata": {},
   "outputs": [],
   "source": []
  }
 ],
 "metadata": {
  "kernelspec": {
   "display_name": "Python 2",
   "language": "python",
   "name": "python2"
  },
  "language_info": {
   "codemirror_mode": {
    "name": "ipython",
    "version": 2
   },
   "file_extension": ".py",
   "mimetype": "text/x-python",
   "name": "python",
   "nbconvert_exporter": "python",
   "pygments_lexer": "ipython2",
   "version": "2.7.13"
  }
 },
 "nbformat": 4,
 "nbformat_minor": 2
}
