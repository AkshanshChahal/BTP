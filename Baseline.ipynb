{
 "cells": [
  {
   "cell_type": "markdown",
   "metadata": {},
   "source": [
    "# Establishing a Baseline for the Problem"
   ]
  },
  {
   "cell_type": "markdown",
   "metadata": {},
   "source": [
    "Importing necessary libraries"
   ]
  },
  {
   "cell_type": "code",
   "execution_count": 1,
   "metadata": {},
   "outputs": [],
   "source": [
    "import pandas as pd\n",
    "import numpy as np\n",
    "from sklearn.linear_model import LinearRegression\n",
    "from sklearn.model_selection import train_test_split\n",
    "from sklearn.metrics import mean_squared_error\n",
    "from math import sqrt\n",
    "\n",
    "import pprint\n",
    "import matplotlib.pyplot as plt\n",
    "import seaborn as sns\n",
    "\n",
    "%matplotlib inline"
   ]
  },
  {
   "cell_type": "markdown",
   "metadata": {},
   "source": [
    "Importing the required datasets"
   ]
  },
  {
   "cell_type": "code",
   "execution_count": 2,
   "metadata": {},
   "outputs": [
    {
     "data": {
      "text/html": [
       "<div>\n",
       "<style>\n",
       "    .dataframe thead tr:only-child th {\n",
       "        text-align: right;\n",
       "    }\n",
       "\n",
       "    .dataframe thead th {\n",
       "        text-align: left;\n",
       "    }\n",
       "\n",
       "    .dataframe tbody tr th {\n",
       "        vertical-align: top;\n",
       "    }\n",
       "</style>\n",
       "<table border=\"1\" class=\"dataframe\">\n",
       "  <thead>\n",
       "    <tr style=\"text-align: right;\">\n",
       "      <th></th>\n",
       "      <th>State_Name</th>\n",
       "      <th>ind_district</th>\n",
       "      <th>Crop_Year</th>\n",
       "      <th>Season</th>\n",
       "      <th>Crop</th>\n",
       "      <th>Area</th>\n",
       "      <th>Production</th>\n",
       "      <th>Value</th>\n",
       "    </tr>\n",
       "  </thead>\n",
       "  <tbody>\n",
       "    <tr>\n",
       "      <th>0</th>\n",
       "      <td>Andaman and Nicobar Islands</td>\n",
       "      <td>NICOBARS</td>\n",
       "      <td>2000</td>\n",
       "      <td>Kharif</td>\n",
       "      <td>Rice</td>\n",
       "      <td>102.00</td>\n",
       "      <td>321.00</td>\n",
       "      <td>3.147059</td>\n",
       "    </tr>\n",
       "    <tr>\n",
       "      <th>1</th>\n",
       "      <td>Andaman and Nicobar Islands</td>\n",
       "      <td>NICOBARS</td>\n",
       "      <td>2001</td>\n",
       "      <td>Kharif</td>\n",
       "      <td>Rice</td>\n",
       "      <td>83.00</td>\n",
       "      <td>300.00</td>\n",
       "      <td>3.614458</td>\n",
       "    </tr>\n",
       "    <tr>\n",
       "      <th>2</th>\n",
       "      <td>Andaman and Nicobar Islands</td>\n",
       "      <td>NICOBARS</td>\n",
       "      <td>2002</td>\n",
       "      <td>Kharif</td>\n",
       "      <td>Rice</td>\n",
       "      <td>189.20</td>\n",
       "      <td>510.84</td>\n",
       "      <td>2.700000</td>\n",
       "    </tr>\n",
       "    <tr>\n",
       "      <th>3</th>\n",
       "      <td>Andaman and Nicobar Islands</td>\n",
       "      <td>NICOBARS</td>\n",
       "      <td>2003</td>\n",
       "      <td>Kharif</td>\n",
       "      <td>Rice</td>\n",
       "      <td>52.00</td>\n",
       "      <td>90.17</td>\n",
       "      <td>1.734038</td>\n",
       "    </tr>\n",
       "    <tr>\n",
       "      <th>4</th>\n",
       "      <td>Andaman and Nicobar Islands</td>\n",
       "      <td>NICOBARS</td>\n",
       "      <td>2004</td>\n",
       "      <td>Kharif</td>\n",
       "      <td>Rice</td>\n",
       "      <td>52.94</td>\n",
       "      <td>72.57</td>\n",
       "      <td>1.370797</td>\n",
       "    </tr>\n",
       "  </tbody>\n",
       "</table>\n",
       "</div>"
      ],
      "text/plain": [
       "                    State_Name ind_district  Crop_Year       Season  Crop  \\\n",
       "0  Andaman and Nicobar Islands     NICOBARS       2000  Kharif       Rice   \n",
       "1  Andaman and Nicobar Islands     NICOBARS       2001  Kharif       Rice   \n",
       "2  Andaman and Nicobar Islands     NICOBARS       2002  Kharif       Rice   \n",
       "3  Andaman and Nicobar Islands     NICOBARS       2003  Kharif       Rice   \n",
       "4  Andaman and Nicobar Islands     NICOBARS       2004  Kharif       Rice   \n",
       "\n",
       "     Area  Production     Value  \n",
       "0  102.00      321.00  3.147059  \n",
       "1   83.00      300.00  3.614458  \n",
       "2  189.20      510.84  2.700000  \n",
       "3   52.00       90.17  1.734038  \n",
       "4   52.94       72.57  1.370797  "
      ]
     },
     "execution_count": 2,
     "metadata": {},
     "output_type": "execute_result"
    }
   ],
   "source": [
    "rice = pd.read_csv(\"/Users/macbook/Documents/BTP/Notebook/Rice.csv\")\n",
    "rice.head()"
   ]
  },
  {
   "cell_type": "code",
   "execution_count": 3,
   "metadata": {},
   "outputs": [
    {
     "data": {
      "text/html": [
       "<div>\n",
       "<style>\n",
       "    .dataframe thead tr:only-child th {\n",
       "        text-align: right;\n",
       "    }\n",
       "\n",
       "    .dataframe thead th {\n",
       "        text-align: left;\n",
       "    }\n",
       "\n",
       "    .dataframe tbody tr th {\n",
       "        vertical-align: top;\n",
       "    }\n",
       "</style>\n",
       "<table border=\"1\" class=\"dataframe\">\n",
       "  <thead>\n",
       "    <tr style=\"text-align: right;\">\n",
       "      <th></th>\n",
       "      <th>State_Name</th>\n",
       "      <th>ind_district</th>\n",
       "      <th>Crop_Year</th>\n",
       "      <th>Season</th>\n",
       "      <th>Crop</th>\n",
       "      <th>Area</th>\n",
       "      <th>Production</th>\n",
       "      <th>Value</th>\n",
       "    </tr>\n",
       "  </thead>\n",
       "  <tbody>\n",
       "    <tr>\n",
       "      <th>4210</th>\n",
       "      <td>Haryana</td>\n",
       "      <td>AMBALA</td>\n",
       "      <td>1997</td>\n",
       "      <td>Kharif</td>\n",
       "      <td>Rice</td>\n",
       "      <td>65000.0</td>\n",
       "      <td>182000.0</td>\n",
       "      <td>2.800000</td>\n",
       "    </tr>\n",
       "    <tr>\n",
       "      <th>4211</th>\n",
       "      <td>Haryana</td>\n",
       "      <td>AMBALA</td>\n",
       "      <td>1998</td>\n",
       "      <td>Kharif</td>\n",
       "      <td>Rice</td>\n",
       "      <td>71365.0</td>\n",
       "      <td>186000.0</td>\n",
       "      <td>2.606320</td>\n",
       "    </tr>\n",
       "    <tr>\n",
       "      <th>4212</th>\n",
       "      <td>Haryana</td>\n",
       "      <td>AMBALA</td>\n",
       "      <td>1999</td>\n",
       "      <td>Kharif</td>\n",
       "      <td>Rice</td>\n",
       "      <td>72185.0</td>\n",
       "      <td>206000.0</td>\n",
       "      <td>2.853778</td>\n",
       "    </tr>\n",
       "    <tr>\n",
       "      <th>4213</th>\n",
       "      <td>Haryana</td>\n",
       "      <td>AMBALA</td>\n",
       "      <td>2000</td>\n",
       "      <td>Kharif</td>\n",
       "      <td>Rice</td>\n",
       "      <td>71840.0</td>\n",
       "      <td>217000.0</td>\n",
       "      <td>3.020601</td>\n",
       "    </tr>\n",
       "    <tr>\n",
       "      <th>4214</th>\n",
       "      <td>Haryana</td>\n",
       "      <td>AMBALA</td>\n",
       "      <td>2001</td>\n",
       "      <td>Kharif</td>\n",
       "      <td>Rice</td>\n",
       "      <td>74881.0</td>\n",
       "      <td>233000.0</td>\n",
       "      <td>3.111604</td>\n",
       "    </tr>\n",
       "  </tbody>\n",
       "</table>\n",
       "</div>"
      ],
      "text/plain": [
       "     State_Name ind_district  Crop_Year       Season  Crop     Area  \\\n",
       "4210    Haryana       AMBALA       1997  Kharif       Rice  65000.0   \n",
       "4211    Haryana       AMBALA       1998  Kharif       Rice  71365.0   \n",
       "4212    Haryana       AMBALA       1999  Kharif       Rice  72185.0   \n",
       "4213    Haryana       AMBALA       2000  Kharif       Rice  71840.0   \n",
       "4214    Haryana       AMBALA       2001  Kharif       Rice  74881.0   \n",
       "\n",
       "      Production     Value  \n",
       "4210    182000.0  2.800000  \n",
       "4211    186000.0  2.606320  \n",
       "4212    206000.0  2.853778  \n",
       "4213    217000.0  3.020601  \n",
       "4214    233000.0  3.111604  "
      ]
     },
     "execution_count": 3,
     "metadata": {},
     "output_type": "execute_result"
    }
   ],
   "source": [
    "rice_haryana = rice[rice[\"State_Name\"]==\"Haryana\"]\n",
    "rice_haryana.head()"
   ]
  },
  {
   "cell_type": "code",
   "execution_count": 4,
   "metadata": {},
   "outputs": [
    {
     "data": {
      "text/html": [
       "<div>\n",
       "<style>\n",
       "    .dataframe thead tr:only-child th {\n",
       "        text-align: right;\n",
       "    }\n",
       "\n",
       "    .dataframe thead th {\n",
       "        text-align: left;\n",
       "    }\n",
       "\n",
       "    .dataframe tbody tr th {\n",
       "        vertical-align: top;\n",
       "    }\n",
       "</style>\n",
       "<table border=\"1\" class=\"dataframe\">\n",
       "  <thead>\n",
       "    <tr style=\"text-align: right;\">\n",
       "      <th></th>\n",
       "      <th>State</th>\n",
       "      <th>ind_district</th>\n",
       "      <th>Year</th>\n",
       "      <th>Value</th>\n",
       "    </tr>\n",
       "  </thead>\n",
       "  <tbody>\n",
       "    <tr>\n",
       "      <th>0</th>\n",
       "      <td>Andhra Pradesh</td>\n",
       "      <td>Adilabad</td>\n",
       "      <td>1994</td>\n",
       "      <td>1199.447</td>\n",
       "    </tr>\n",
       "    <tr>\n",
       "      <th>1</th>\n",
       "      <td>Andhra Pradesh</td>\n",
       "      <td>Adilabad</td>\n",
       "      <td>1995</td>\n",
       "      <td>1255.561</td>\n",
       "    </tr>\n",
       "    <tr>\n",
       "      <th>2</th>\n",
       "      <td>Andhra Pradesh</td>\n",
       "      <td>Adilabad</td>\n",
       "      <td>1996</td>\n",
       "      <td>1081.171</td>\n",
       "    </tr>\n",
       "    <tr>\n",
       "      <th>3</th>\n",
       "      <td>Andhra Pradesh</td>\n",
       "      <td>Adilabad</td>\n",
       "      <td>1997</td>\n",
       "      <td>905.718</td>\n",
       "    </tr>\n",
       "    <tr>\n",
       "      <th>4</th>\n",
       "      <td>Andhra Pradesh</td>\n",
       "      <td>Adilabad</td>\n",
       "      <td>1998</td>\n",
       "      <td>1128.950</td>\n",
       "    </tr>\n",
       "  </tbody>\n",
       "</table>\n",
       "</div>"
      ],
      "text/plain": [
       "            State ind_district  Year     Value\n",
       "0  Andhra Pradesh     Adilabad  1994  1199.447\n",
       "1  Andhra Pradesh     Adilabad  1995  1255.561\n",
       "2  Andhra Pradesh     Adilabad  1996  1081.171\n",
       "3  Andhra Pradesh     Adilabad  1997   905.718\n",
       "4  Andhra Pradesh     Adilabad  1998  1128.950"
      ]
     },
     "execution_count": 4,
     "metadata": {},
     "output_type": "execute_result"
    }
   ],
   "source": [
    "rainfall = pd.read_csv(\"/Users/macbook/Documents/BTP/Notebook/rainfall.csv\")\n",
    "rainfall.head()"
   ]
  },
  {
   "cell_type": "code",
   "execution_count": 5,
   "metadata": {},
   "outputs": [
    {
     "name": "stdout",
     "output_type": "stream",
     "text": [
      "        State ind_district  Year    Value\n",
      "1179  Haryana       Ambala  1994  620.808\n",
      "1180  Haryana       Ambala  1995  832.320\n",
      "1181  Haryana       Ambala  1996  784.208\n",
      "1182  Haryana       Ambala  1997  784.650\n",
      "1183  Haryana       Ambala  1998  649.086\n",
      "              Year       Value\n",
      "count   171.000000  171.000000\n",
      "mean   1998.000000  531.810170\n",
      "std       2.589572  165.230096\n",
      "min    1994.000000  166.299000\n",
      "25%    1996.000000  420.334500\n",
      "50%    1998.000000  531.747000\n",
      "75%    2000.000000  646.928500\n",
      "max    2002.000000  895.146000\n"
     ]
    }
   ],
   "source": [
    "rain_haryana = rainfall[rainfall[\"State\"]==\"Haryana\"]\n",
    "print(rain_haryana.head())\n",
    "print(rain_haryana.describe())"
   ]
  },
  {
   "cell_type": "code",
   "execution_count": 6,
   "metadata": {},
   "outputs": [
    {
     "data": {
      "text/html": [
       "<div>\n",
       "<style>\n",
       "    .dataframe thead tr:only-child th {\n",
       "        text-align: right;\n",
       "    }\n",
       "\n",
       "    .dataframe thead th {\n",
       "        text-align: left;\n",
       "    }\n",
       "\n",
       "    .dataframe tbody tr th {\n",
       "        vertical-align: top;\n",
       "    }\n",
       "</style>\n",
       "<table border=\"1\" class=\"dataframe\">\n",
       "  <thead>\n",
       "    <tr style=\"text-align: right;\">\n",
       "      <th></th>\n",
       "      <th>ind_district</th>\n",
       "      <th>Crop_Year</th>\n",
       "      <th>Y</th>\n",
       "      <th>X1</th>\n",
       "      <th>X2</th>\n",
       "      <th>X3</th>\n",
       "      <th>X4</th>\n",
       "    </tr>\n",
       "  </thead>\n",
       "  <tbody>\n",
       "    <tr>\n",
       "      <th>0</th>\n",
       "      <td>AMBALA</td>\n",
       "      <td>1997</td>\n",
       "      <td>182000.0</td>\n",
       "      <td>NaN</td>\n",
       "      <td>NaN</td>\n",
       "      <td>784.650</td>\n",
       "      <td>784.208</td>\n",
       "    </tr>\n",
       "    <tr>\n",
       "      <th>1</th>\n",
       "      <td>AMBALA</td>\n",
       "      <td>1998</td>\n",
       "      <td>186000.0</td>\n",
       "      <td>182000.0</td>\n",
       "      <td>NaN</td>\n",
       "      <td>649.086</td>\n",
       "      <td>784.650</td>\n",
       "    </tr>\n",
       "    <tr>\n",
       "      <th>2</th>\n",
       "      <td>AMBALA</td>\n",
       "      <td>1999</td>\n",
       "      <td>206000.0</td>\n",
       "      <td>186000.0</td>\n",
       "      <td>182000.0</td>\n",
       "      <td>396.134</td>\n",
       "      <td>649.086</td>\n",
       "    </tr>\n",
       "    <tr>\n",
       "      <th>3</th>\n",
       "      <td>AMBALA</td>\n",
       "      <td>2000</td>\n",
       "      <td>217000.0</td>\n",
       "      <td>206000.0</td>\n",
       "      <td>186000.0</td>\n",
       "      <td>593.737</td>\n",
       "      <td>396.134</td>\n",
       "    </tr>\n",
       "    <tr>\n",
       "      <th>4</th>\n",
       "      <td>AMBALA</td>\n",
       "      <td>2001</td>\n",
       "      <td>233000.0</td>\n",
       "      <td>217000.0</td>\n",
       "      <td>206000.0</td>\n",
       "      <td>469.118</td>\n",
       "      <td>593.737</td>\n",
       "    </tr>\n",
       "  </tbody>\n",
       "</table>\n",
       "</div>"
      ],
      "text/plain": [
       "  ind_district  Crop_Year         Y        X1        X2       X3       X4\n",
       "0       AMBALA       1997  182000.0       NaN       NaN  784.650  784.208\n",
       "1       AMBALA       1998  186000.0  182000.0       NaN  649.086  784.650\n",
       "2       AMBALA       1999  206000.0  186000.0  182000.0  396.134  649.086\n",
       "3       AMBALA       2000  217000.0  206000.0  186000.0  593.737  396.134\n",
       "4       AMBALA       2001  233000.0  217000.0  206000.0  469.118  593.737"
      ]
     },
     "execution_count": 6,
     "metadata": {},
     "output_type": "execute_result"
    }
   ],
   "source": [
    "X_hr = pd.read_csv(\"/Users/macbook/Documents/BTP/Notebook/haryana.csv\")\n",
    "X_hr.head()"
   ]
  },
  {
   "cell_type": "markdown",
   "metadata": {},
   "source": [
    "Cleaning and preparing the datasets"
   ]
  },
  {
   "cell_type": "code",
   "execution_count": 7,
   "metadata": {},
   "outputs": [
    {
     "data": {
      "text/html": [
       "<div>\n",
       "<style>\n",
       "    .dataframe thead tr:only-child th {\n",
       "        text-align: right;\n",
       "    }\n",
       "\n",
       "    .dataframe thead th {\n",
       "        text-align: left;\n",
       "    }\n",
       "\n",
       "    .dataframe tbody tr th {\n",
       "        vertical-align: top;\n",
       "    }\n",
       "</style>\n",
       "<table border=\"1\" class=\"dataframe\">\n",
       "  <thead>\n",
       "    <tr style=\"text-align: right;\">\n",
       "      <th></th>\n",
       "      <th>ind_district</th>\n",
       "      <th>Crop_Year</th>\n",
       "      <th>Y</th>\n",
       "      <th>X1</th>\n",
       "      <th>X2</th>\n",
       "      <th>X3</th>\n",
       "      <th>X4</th>\n",
       "    </tr>\n",
       "  </thead>\n",
       "  <tbody>\n",
       "    <tr>\n",
       "      <th>2</th>\n",
       "      <td>AMBALA</td>\n",
       "      <td>1999</td>\n",
       "      <td>206000.0</td>\n",
       "      <td>186000.0</td>\n",
       "      <td>182000.0</td>\n",
       "      <td>396.134</td>\n",
       "      <td>649.086</td>\n",
       "    </tr>\n",
       "    <tr>\n",
       "      <th>3</th>\n",
       "      <td>AMBALA</td>\n",
       "      <td>2000</td>\n",
       "      <td>217000.0</td>\n",
       "      <td>206000.0</td>\n",
       "      <td>186000.0</td>\n",
       "      <td>593.737</td>\n",
       "      <td>396.134</td>\n",
       "    </tr>\n",
       "    <tr>\n",
       "      <th>4</th>\n",
       "      <td>AMBALA</td>\n",
       "      <td>2001</td>\n",
       "      <td>233000.0</td>\n",
       "      <td>217000.0</td>\n",
       "      <td>206000.0</td>\n",
       "      <td>469.118</td>\n",
       "      <td>593.737</td>\n",
       "    </tr>\n",
       "    <tr>\n",
       "      <th>5</th>\n",
       "      <td>AMBALA</td>\n",
       "      <td>2002</td>\n",
       "      <td>183000.0</td>\n",
       "      <td>233000.0</td>\n",
       "      <td>217000.0</td>\n",
       "      <td>476.752</td>\n",
       "      <td>469.118</td>\n",
       "    </tr>\n",
       "    <tr>\n",
       "      <th>8</th>\n",
       "      <td>AMBALA</td>\n",
       "      <td>2005</td>\n",
       "      <td>254000.0</td>\n",
       "      <td>233000.0</td>\n",
       "      <td>227000.0</td>\n",
       "      <td>1058.400</td>\n",
       "      <td>1202.900</td>\n",
       "    </tr>\n",
       "  </tbody>\n",
       "</table>\n",
       "</div>"
      ],
      "text/plain": [
       "  ind_district  Crop_Year         Y        X1        X2        X3        X4\n",
       "2       AMBALA       1999  206000.0  186000.0  182000.0   396.134   649.086\n",
       "3       AMBALA       2000  217000.0  206000.0  186000.0   593.737   396.134\n",
       "4       AMBALA       2001  233000.0  217000.0  206000.0   469.118   593.737\n",
       "5       AMBALA       2002  183000.0  233000.0  217000.0   476.752   469.118\n",
       "8       AMBALA       2005  254000.0  233000.0  227000.0  1058.400  1202.900"
      ]
     },
     "execution_count": 7,
     "metadata": {},
     "output_type": "execute_result"
    }
   ],
   "source": [
    "X_finite = X_hr[np.isfinite(X_hr[\"X1\"])]\n",
    "X_finite = X_finite[np.isfinite(X_finite[\"X2\"])]\n",
    "X_finite = X_finite[np.isfinite(X_finite[\"X3\"])]\n",
    "X_finite = X_finite[np.isfinite(X_finite[\"X4\"])]\n",
    "X_finite = X_finite[np.isfinite(X_finite[\"Y\"])]\n",
    "X_finite.head()"
   ]
  },
  {
   "cell_type": "code",
   "execution_count": 8,
   "metadata": {},
   "outputs": [
    {
     "data": {
      "text/html": [
       "<div>\n",
       "<style>\n",
       "    .dataframe thead tr:only-child th {\n",
       "        text-align: right;\n",
       "    }\n",
       "\n",
       "    .dataframe thead th {\n",
       "        text-align: left;\n",
       "    }\n",
       "\n",
       "    .dataframe tbody tr th {\n",
       "        vertical-align: top;\n",
       "    }\n",
       "</style>\n",
       "<table border=\"1\" class=\"dataframe\">\n",
       "  <thead>\n",
       "    <tr style=\"text-align: right;\">\n",
       "      <th></th>\n",
       "      <th>Crop_Year</th>\n",
       "      <th>Y</th>\n",
       "      <th>X1</th>\n",
       "      <th>X2</th>\n",
       "      <th>X3</th>\n",
       "      <th>X4</th>\n",
       "    </tr>\n",
       "  </thead>\n",
       "  <tbody>\n",
       "    <tr>\n",
       "      <th>count</th>\n",
       "      <td>127.000000</td>\n",
       "      <td>127.000000</td>\n",
       "      <td>127.000000</td>\n",
       "      <td>127.000000</td>\n",
       "      <td>127.000000</td>\n",
       "      <td>127.000000</td>\n",
       "    </tr>\n",
       "    <tr>\n",
       "      <th>mean</th>\n",
       "      <td>2004.204724</td>\n",
       "      <td>182771.653543</td>\n",
       "      <td>181007.874016</td>\n",
       "      <td>174322.834646</td>\n",
       "      <td>489.894449</td>\n",
       "      <td>502.577819</td>\n",
       "    </tr>\n",
       "    <tr>\n",
       "      <th>std</th>\n",
       "      <td>3.733883</td>\n",
       "      <td>147264.161147</td>\n",
       "      <td>147414.085609</td>\n",
       "      <td>142965.856835</td>\n",
       "      <td>211.255550</td>\n",
       "      <td>190.321342</td>\n",
       "    </tr>\n",
       "    <tr>\n",
       "      <th>min</th>\n",
       "      <td>1999.000000</td>\n",
       "      <td>3000.000000</td>\n",
       "      <td>2000.000000</td>\n",
       "      <td>2000.000000</td>\n",
       "      <td>126.300000</td>\n",
       "      <td>126.300000</td>\n",
       "    </tr>\n",
       "    <tr>\n",
       "      <th>25%</th>\n",
       "      <td>2001.000000</td>\n",
       "      <td>49000.000000</td>\n",
       "      <td>52500.000000</td>\n",
       "      <td>55500.000000</td>\n",
       "      <td>342.916000</td>\n",
       "      <td>362.211500</td>\n",
       "    </tr>\n",
       "    <tr>\n",
       "      <th>50%</th>\n",
       "      <td>2005.000000</td>\n",
       "      <td>166000.000000</td>\n",
       "      <td>164000.000000</td>\n",
       "      <td>160000.000000</td>\n",
       "      <td>458.600000</td>\n",
       "      <td>486.380000</td>\n",
       "    </tr>\n",
       "    <tr>\n",
       "      <th>75%</th>\n",
       "      <td>2007.000000</td>\n",
       "      <td>251500.000000</td>\n",
       "      <td>240500.000000</td>\n",
       "      <td>227000.000000</td>\n",
       "      <td>573.491500</td>\n",
       "      <td>605.301500</td>\n",
       "    </tr>\n",
       "    <tr>\n",
       "      <th>max</th>\n",
       "      <td>2010.000000</td>\n",
       "      <td>610000.000000</td>\n",
       "      <td>610000.000000</td>\n",
       "      <td>610000.000000</td>\n",
       "      <td>1433.900000</td>\n",
       "      <td>1227.900000</td>\n",
       "    </tr>\n",
       "  </tbody>\n",
       "</table>\n",
       "</div>"
      ],
      "text/plain": [
       "         Crop_Year              Y             X1             X2           X3  \\\n",
       "count   127.000000     127.000000     127.000000     127.000000   127.000000   \n",
       "mean   2004.204724  182771.653543  181007.874016  174322.834646   489.894449   \n",
       "std       3.733883  147264.161147  147414.085609  142965.856835   211.255550   \n",
       "min    1999.000000    3000.000000    2000.000000    2000.000000   126.300000   \n",
       "25%    2001.000000   49000.000000   52500.000000   55500.000000   342.916000   \n",
       "50%    2005.000000  166000.000000  164000.000000  160000.000000   458.600000   \n",
       "75%    2007.000000  251500.000000  240500.000000  227000.000000   573.491500   \n",
       "max    2010.000000  610000.000000  610000.000000  610000.000000  1433.900000   \n",
       "\n",
       "                X4  \n",
       "count   127.000000  \n",
       "mean    502.577819  \n",
       "std     190.321342  \n",
       "min     126.300000  \n",
       "25%     362.211500  \n",
       "50%     486.380000  \n",
       "75%     605.301500  \n",
       "max    1227.900000  "
      ]
     },
     "execution_count": 8,
     "metadata": {},
     "output_type": "execute_result"
    }
   ],
   "source": [
    "Xn = X_finite\n",
    "Xn.describe()"
   ]
  },
  {
   "cell_type": "code",
   "execution_count": 9,
   "metadata": {},
   "outputs": [],
   "source": [
    "y = Xn[\"Y\"]\n",
    "X = Xn[[\"X1\", \"X2\", \"X3\", \"X4\"]]"
   ]
  },
  {
   "cell_type": "code",
   "execution_count": 10,
   "metadata": {},
   "outputs": [
    {
     "data": {
      "text/plain": [
       "Text(0.5,1,'Distribution of the Rice Production Values')"
      ]
     },
     "execution_count": 10,
     "metadata": {},
     "output_type": "execute_result"
    },
    {
     "data": {
      "image/png": "[encoded data removed]",
      "text/plain": [
       "<matplotlib.figure.Figure at 0x111e5bdd8>"
      ]
     },
     "metadata": {},
     "output_type": "display_data"
    }
   ],
   "source": [
    "plt.figure(figsize=(9, 5))\n",
    "plt.hist(y, bins=30)\n",
    "plt.xlabel('Production Value',fontsize=15)\n",
    "plt.ylabel('Occurences',fontsize=15)\n",
    "plt.title('Distribution of the Rice Production Values',fontsize=18)"
   ]
  },
  {
   "cell_type": "code",
   "execution_count": 12,
   "metadata": {},
   "outputs": [
    {
     "data": {
      "image/png": "[encoded data removed]",
      "text/plain": [
       "<matplotlib.figure.Figure at 0x10d3ad2e8>"
      ]
     },
     "metadata": {},
     "output_type": "display_data"
    }
   ],
   "source": [
    "Xplot = Xn[[\"X1\", \"X2\", \"X3\", \"X4\",\"Y\"]]\n",
    "\n",
    "var_name = \"X1\"\n",
    "plt.figure(figsize=(10,6))\n",
    "sns.regplot(x=var_name, y='Y', data=Xplot, scatter_kws={'alpha':0.6, 's':20})\n",
    "plt.xlabel(var_name + \" (Crop Produce of Last Year)\", fontsize=15)\n",
    "plt.ylabel('Y', fontsize=15)\n",
    "plt.title(\"Distribution of y variable with feature \"+var_name, fontsize=18)\n",
    "plt.show()"
   ]
  },
  {
   "cell_type": "code",
   "execution_count": 13,
   "metadata": {},
   "outputs": [
    {
     "data": {
      "image/png": "[encoded data removed]",
      "text/plain": [
       "<matplotlib.figure.Figure at 0x11248df98>"
      ]
     },
     "metadata": {},
     "output_type": "display_data"
    }
   ],
   "source": [
    "var_name = \"X2\"\n",
    "plt.figure(figsize=(10,6))\n",
    "sns.regplot(x=var_name, y='Y', data=Xplot, scatter_kws={'alpha':0.6, 's':20})\n",
    "plt.xlabel(var_name + \" (Crop Produce of Last to Last Year)\", fontsize=15)\n",
    "plt.ylabel('Y', fontsize=15)\n",
    "plt.title(\"Distribution of y variable with feature \"+var_name, fontsize=18)\n",
    "plt.show()"
   ]
  },
  {
   "cell_type": "code",
   "execution_count": 14,
   "metadata": {},
   "outputs": [
    {
     "data": {
      "image/png": "[encoded data removed]",
      "text/plain": [
       "<matplotlib.figure.Figure at 0x1125ee550>"
      ]
     },
     "metadata": {},
     "output_type": "display_data"
    }
   ],
   "source": [
    "var_name = \"X3\"\n",
    "plt.figure(figsize=(10,6))\n",
    "sns.regplot(x=var_name, y='Y', data=Xplot, scatter_kws={'alpha':0.6, 's':20})\n",
    "plt.xlabel(var_name + \" (Rainfall of Present Year)\", fontsize=15)\n",
    "plt.ylabel('Y', fontsize=15)\n",
    "plt.title(\"Distribution of y variable with feature \"+var_name, fontsize=18)\n",
    "plt.show()"
   ]
  },
  {
   "cell_type": "code",
   "execution_count": 16,
   "metadata": {},
   "outputs": [
    {
     "data": {
      "image/png": "[encoded data removed]",
      "text/plain": [
       "<matplotlib.figure.Figure at 0x1128944e0>"
      ]
     },
     "metadata": {},
     "output_type": "display_data"
    }
   ],
   "source": [
    "var_name = \"X4\"\n",
    "plt.figure(figsize=(10,6))\n",
    "sns.regplot(x=var_name, y='Y', data=Xplot, scatter_kws={'alpha':0.6, 's':20})\n",
    "plt.xlabel(var_name + \" (Rainfall of Last Year)\", fontsize=15)\n",
    "plt.ylabel('Y', fontsize=15)\n",
    "plt.title(\"Distribution of y variable with feature \"+var_name, fontsize=18)\n",
    "plt.show()"
   ]
  },
  {
   "cell_type": "code",
   "execution_count": 17,
   "metadata": {
    "scrolled": true
   },
   "outputs": [
    {
     "name": "stderr",
     "output_type": "stream",
     "text": [
      "/usr/local/lib/python3.6/site-packages/ipykernel_launcher.py:6: SettingWithCopyWarning: \n",
      "A value is trying to be set on a copy of a slice from a DataFrame.\n",
      "Try using .loc[row_indexer,col_indexer] = value instead\n",
      "\n",
      "See the caveats in the documentation: http://pandas.pydata.org/pandas-docs/stable/indexing.html#indexing-view-versus-copy\n",
      "  \n"
     ]
    }
   ],
   "source": [
    "# Z-Score Normalization\n",
    "cols = list(X.columns)\n",
    "\n",
    "for col in cols:\n",
    "    col_zscore = col + '_zscore'\n",
    "    X[col_zscore] = (X[col] - X[col].mean())/X[col].std(ddof=0)\n",
    "X = X[[\"X1_zscore\", \"X2_zscore\", \"X3_zscore\", \"X4_zscore\"]]"
   ]
  },
  {
   "cell_type": "code",
   "execution_count": 18,
   "metadata": {},
   "outputs": [
    {
     "data": {
      "text/html": [
       "<div>\n",
       "<style>\n",
       "    .dataframe thead tr:only-child th {\n",
       "        text-align: right;\n",
       "    }\n",
       "\n",
       "    .dataframe thead th {\n",
       "        text-align: left;\n",
       "    }\n",
       "\n",
       "    .dataframe tbody tr th {\n",
       "        vertical-align: top;\n",
       "    }\n",
       "</style>\n",
       "<table border=\"1\" class=\"dataframe\">\n",
       "  <thead>\n",
       "    <tr style=\"text-align: right;\">\n",
       "      <th></th>\n",
       "      <th>X1_zscore</th>\n",
       "      <th>X2_zscore</th>\n",
       "      <th>X3_zscore</th>\n",
       "      <th>X4_zscore</th>\n",
       "    </tr>\n",
       "  </thead>\n",
       "  <tbody>\n",
       "    <tr>\n",
       "      <th>2</th>\n",
       "      <td>0.033999</td>\n",
       "      <td>0.053912</td>\n",
       "      <td>-0.445583</td>\n",
       "      <td>0.772842</td>\n",
       "    </tr>\n",
       "    <tr>\n",
       "      <th>3</th>\n",
       "      <td>0.170208</td>\n",
       "      <td>0.082001</td>\n",
       "      <td>0.493496</td>\n",
       "      <td>-0.561500</td>\n",
       "    </tr>\n",
       "    <tr>\n",
       "      <th>4</th>\n",
       "      <td>0.245124</td>\n",
       "      <td>0.222449</td>\n",
       "      <td>-0.098737</td>\n",
       "      <td>0.480872</td>\n",
       "    </tr>\n",
       "    <tr>\n",
       "      <th>5</th>\n",
       "      <td>0.354091</td>\n",
       "      <td>0.299695</td>\n",
       "      <td>-0.062458</td>\n",
       "      <td>-0.176503</td>\n",
       "    </tr>\n",
       "    <tr>\n",
       "      <th>8</th>\n",
       "      <td>0.354091</td>\n",
       "      <td>0.369919</td>\n",
       "      <td>2.701738</td>\n",
       "      <td>3.694256</td>\n",
       "    </tr>\n",
       "  </tbody>\n",
       "</table>\n",
       "</div>"
      ],
      "text/plain": [
       "   X1_zscore  X2_zscore  X3_zscore  X4_zscore\n",
       "2   0.033999   0.053912  -0.445583   0.772842\n",
       "3   0.170208   0.082001   0.493496  -0.561500\n",
       "4   0.245124   0.222449  -0.098737   0.480872\n",
       "5   0.354091   0.299695  -0.062458  -0.176503\n",
       "8   0.354091   0.369919   2.701738   3.694256"
      ]
     },
     "execution_count": 18,
     "metadata": {},
     "output_type": "execute_result"
    }
   ],
   "source": [
    "X.head()"
   ]
  },
  {
   "cell_type": "markdown",
   "metadata": {},
   "source": [
    "Randomly splitting the dataset into training and testing sets"
   ]
  },
  {
   "cell_type": "code",
   "execution_count": 19,
   "metadata": {},
   "outputs": [],
   "source": [
    "X_train, X_test, y_train, y_test = train_test_split(X, y, test_size=0.2, random_state=1)"
   ]
  },
  {
   "cell_type": "markdown",
   "metadata": {},
   "source": [
    "First baseline using Linear Regression "
   ]
  },
  {
   "cell_type": "code",
   "execution_count": 20,
   "metadata": {},
   "outputs": [
    {
     "name": "stderr",
     "output_type": "stream",
     "text": [
      "/usr/local/lib/python3.6/site-packages/scipy/linalg/basic.py:1018: RuntimeWarning: internal gelsd driver lwork query error, required iwork dimension not returned. This is likely the result of LAPACK bug 0038, fixed in LAPACK 3.2.2 (released July 21, 2010). Falling back to 'gelss' driver.\n",
      "  warnings.warn(mesg, RuntimeWarning)\n"
     ]
    },
    {
     "data": {
      "text/plain": [
       "LinearRegression(copy_X=True, fit_intercept=True, n_jobs=1, normalize=False)"
      ]
     },
     "execution_count": 20,
     "metadata": {},
     "output_type": "execute_result"
    }
   ],
   "source": [
    "alg = LinearRegression()\n",
    "alg.fit(X_train, y_train)"
   ]
  },
  {
   "cell_type": "code",
   "execution_count": 47,
   "metadata": {},
   "outputs": [
    {
     "name": "stdout",
     "output_type": "stream",
     "text": [
      "The coefficients for the linear regression model learnt are\n",
      "\n",
      "[ 73701.89  70350.8    2056.26    -55.16]\n",
      "\n"
     ]
    }
   ],
   "source": [
    "coef = alg.coef_\n",
    "coef = coef.round(decimals=2)\n",
    "np.set_printoptions(suppress=True) #gem \n",
    "print(\"The coefficients for the linear regression model learnt are\\n\")\n",
    "print(coef)\n",
    "print()"
   ]
  },
  {
   "cell_type": "code",
   "execution_count": 32,
   "metadata": {},
   "outputs": [
    {
     "name": "stdout",
     "output_type": "stream",
     "text": [
      "[ 190794.71627631  217357.86281974  430244.11225409   34235.77445793\n",
      "  173184.31231535  360274.88117369  167266.09021242  165546.55770286\n",
      "  152646.11504628  118061.29497398   29735.9087492   277750.05318838\n",
      "  230629.83462277  105900.85813017  229157.1298069   166327.39577958\n",
      "  433826.46108864  193360.2502063   227889.65362064  215576.84026052\n",
      "  380778.16929633  175204.90646006  148388.15085371  216826.50794372\n",
      "   19538.54418833   54035.97031606]\n"
     ]
    }
   ],
   "source": [
    "y_predict = alg.predict(X_test)\n",
    "print(y_predict)"
   ]
  },
  {
   "cell_type": "code",
   "execution_count": 33,
   "metadata": {},
   "outputs": [
    {
     "name": "stdout",
     "output_type": "stream",
     "text": [
      "244    200000.0\n",
      "84     222000.0\n",
      "138    460000.0\n",
      "193      8000.0\n",
      "214    189000.0\n",
      "99     391000.0\n",
      "241    151000.0\n",
      "213    175000.0\n",
      "238    160000.0\n",
      "76      94000.0\n",
      "196     36000.0\n",
      "93     284000.0\n",
      "248    267000.0\n",
      "67      63000.0\n",
      "82     205000.0\n",
      "240    161000.0\n",
      "141    383000.0\n",
      "216    204000.0\n",
      "247    221000.0\n",
      "4      233000.0\n",
      "100    402000.0\n",
      "230    192000.0\n",
      "229    178000.0\n",
      "88     258000.0\n",
      "61      14000.0\n",
      "200     50000.0\n",
      "Name: Y, dtype: float64\n"
     ]
    }
   ],
   "source": [
    "print(y_test)"
   ]
  },
  {
   "cell_type": "code",
   "execution_count": 34,
   "metadata": {},
   "outputs": [
    {
     "name": "stdout",
     "output_type": "stream",
     "text": [
      "23298.87377886106\n"
     ]
    }
   ],
   "source": [
    "rmse = sqrt(mean_squared_error(y_predict, y_test))\n",
    "print(rmse)"
   ]
  },
  {
   "cell_type": "code",
   "execution_count": 35,
   "metadata": {},
   "outputs": [
    {
     "name": "stdout",
     "output_type": "stream",
     "text": [
      "<class 'numpy.ndarray'>\n",
      "[ 200000.  222000.  460000.    8000.  189000.  391000.  151000.  175000.\n",
      "  160000.   94000.   36000.  284000.  267000.   63000.  205000.  161000.\n",
      "  383000.  204000.  221000.  233000.  402000.  192000.  178000.  258000.\n",
      "   14000.   50000.]\n"
     ]
    },
    {
     "data": {
      "text/plain": [
       "244    200000.0\n",
       "84     222000.0\n",
       "138    460000.0\n",
       "193      8000.0\n",
       "214    189000.0\n",
       "99     391000.0\n",
       "241    151000.0\n",
       "213    175000.0\n",
       "238    160000.0\n",
       "76      94000.0\n",
       "196     36000.0\n",
       "93     284000.0\n",
       "248    267000.0\n",
       "67      63000.0\n",
       "82     205000.0\n",
       "240    161000.0\n",
       "141    383000.0\n",
       "216    204000.0\n",
       "247    221000.0\n",
       "4      233000.0\n",
       "100    402000.0\n",
       "230    192000.0\n",
       "229    178000.0\n",
       "88     258000.0\n",
       "61      14000.0\n",
       "200     50000.0\n",
       "Name: Y, dtype: float64"
      ]
     },
     "execution_count": 35,
     "metadata": {},
     "output_type": "execute_result"
    }
   ],
   "source": [
    "# print(type(y_test))\n",
    "# print(type(y_predict))\n",
    "yt = y_test.as_matrix()\n",
    "print(type(yt))\n",
    "print(yt)\n",
    "y_test"
   ]
  },
  {
   "cell_type": "code",
   "execution_count": 36,
   "metadata": {},
   "outputs": [
    {
     "data": {
      "text/html": [
       "<div>\n",
       "<style>\n",
       "    .dataframe thead tr:only-child th {\n",
       "        text-align: right;\n",
       "    }\n",
       "\n",
       "    .dataframe thead th {\n",
       "        text-align: left;\n",
       "    }\n",
       "\n",
       "    .dataframe tbody tr th {\n",
       "        vertical-align: top;\n",
       "    }\n",
       "</style>\n",
       "<table border=\"1\" class=\"dataframe\">\n",
       "  <thead>\n",
       "    <tr style=\"text-align: right;\">\n",
       "      <th></th>\n",
       "      <th>y_predicted</th>\n",
       "      <th>y_test</th>\n",
       "    </tr>\n",
       "  </thead>\n",
       "  <tbody>\n",
       "    <tr>\n",
       "      <th>count</th>\n",
       "      <td>26.000000</td>\n",
       "      <td>26.000000</td>\n",
       "    </tr>\n",
       "    <tr>\n",
       "      <th>mean</th>\n",
       "      <td>196.711538</td>\n",
       "      <td>200.038462</td>\n",
       "    </tr>\n",
       "    <tr>\n",
       "      <th>std</th>\n",
       "      <td>111.520955</td>\n",
       "      <td>118.830124</td>\n",
       "    </tr>\n",
       "    <tr>\n",
       "      <th>min</th>\n",
       "      <td>19.500000</td>\n",
       "      <td>8.000000</td>\n",
       "    </tr>\n",
       "    <tr>\n",
       "      <th>25%</th>\n",
       "      <td>149.450000</td>\n",
       "      <td>153.250000</td>\n",
       "    </tr>\n",
       "    <tr>\n",
       "      <th>50%</th>\n",
       "      <td>183.000000</td>\n",
       "      <td>196.000000</td>\n",
       "    </tr>\n",
       "    <tr>\n",
       "      <th>75%</th>\n",
       "      <td>228.875000</td>\n",
       "      <td>251.750000</td>\n",
       "    </tr>\n",
       "    <tr>\n",
       "      <th>max</th>\n",
       "      <td>433.800000</td>\n",
       "      <td>460.000000</td>\n",
       "    </tr>\n",
       "  </tbody>\n",
       "</table>\n",
       "</div>"
      ],
      "text/plain": [
       "       y_predicted      y_test\n",
       "count    26.000000   26.000000\n",
       "mean    196.711538  200.038462\n",
       "std     111.520955  118.830124\n",
       "min      19.500000    8.000000\n",
       "25%     149.450000  153.250000\n",
       "50%     183.000000  196.000000\n",
       "75%     228.875000  251.750000\n",
       "max     433.800000  460.000000"
      ]
     },
     "execution_count": 36,
     "metadata": {},
     "output_type": "execute_result"
    }
   ],
   "source": [
    "p = pd.DataFrame()\n",
    "p[\"y_predicted\"] = y_predict/1000\n",
    "p[\"y_test\"] = yt/1000\n",
    "\n",
    "p[\"y_predicted\"] = p[\"y_predicted\"].round(decimals=1)\n",
    "# p[\"y_test\"] = p[\"y_test\"].round(decimals=1)\n",
    "p.describe()"
   ]
  },
  {
   "cell_type": "markdown",
   "metadata": {},
   "source": [
    "### Good enough results for the Haryana State"
   ]
  },
  {
   "cell_type": "code",
   "execution_count": 37,
   "metadata": {},
   "outputs": [
    {
     "name": "stdout",
     "output_type": "stream",
     "text": [
      "    y_predicted  y_test\n",
      "0         190.8   200.0\n",
      "1         217.4   222.0\n",
      "2         430.2   460.0\n",
      "3          34.2     8.0\n",
      "4         173.2   189.0\n",
      "5         360.3   391.0\n",
      "6         167.3   151.0\n",
      "7         165.5   175.0\n",
      "8         152.6   160.0\n",
      "9         118.1    94.0\n",
      "10         29.7    36.0\n",
      "11        277.8   284.0\n",
      "12        230.6   267.0\n",
      "13        105.9    63.0\n",
      "14        229.2   205.0\n",
      "15        166.3   161.0\n",
      "16        433.8   383.0\n",
      "17        193.4   204.0\n",
      "18        227.9   221.0\n",
      "19        215.6   233.0\n",
      "20        380.8   402.0\n",
      "21        175.2   192.0\n",
      "22        148.4   178.0\n",
      "23        216.8   258.0\n",
      "24         19.5    14.0\n",
      "25         54.0    50.0\n"
     ]
    }
   ],
   "source": [
    "print(p)"
   ]
  },
  {
   "cell_type": "markdown",
   "metadata": {},
   "source": [
    "#### The Root Mean Square Error\n",
    "It has the same unit as the data values.\n",
    "With range of the test data set being [8,460], rmse as 23.3 is a decent one."
   ]
  },
  {
   "cell_type": "code",
   "execution_count": 38,
   "metadata": {},
   "outputs": [
    {
     "data": {
      "text/plain": [
       "23.29887377886106"
      ]
     },
     "execution_count": 38,
     "metadata": {},
     "output_type": "execute_result"
    }
   ],
   "source": [
    "rmse/1000"
   ]
  },
  {
   "cell_type": "markdown",
   "metadata": {},
   "source": [
    "# Constructing dataset for Whole India"
   ]
  },
  {
   "cell_type": "markdown",
   "metadata": {},
   "source": [
    "### Preparing columns for the features, using rice production and rainfall datasets"
   ]
  },
  {
   "cell_type": "code",
   "execution_count": 48,
   "metadata": {},
   "outputs": [],
   "source": [
    "rain1 = rainfall\n",
    "rain2 = pd.read_csv(\"/Users/macbook/Documents/BTP/Notebook/rainfall_distt_2004-10_nax.csv\")"
   ]
  },
  {
   "cell_type": "code",
   "execution_count": 49,
   "metadata": {},
   "outputs": [
    {
     "name": "stdout",
     "output_type": "stream",
     "text": [
      "          Crop_Year           Area    Production         Value\n",
      "count  13169.000000   13169.000000  1.314700e+04  13169.000000\n",
      "mean    2005.762397   50640.056200  1.057203e+05      1.942265\n",
      "std        5.063566   71019.932027  1.759126e+05      2.144512\n",
      "min     1997.000000       1.000000  0.000000e+00      0.000000\n",
      "25%     2001.000000    3200.000000  4.966500e+03      1.258584\n",
      "50%     2006.000000   19000.000000  2.944800e+04      1.894216\n",
      "75%     2010.000000   73275.890000  1.319115e+05      2.494297\n",
      "max     2015.000000  687000.000000  1.710000e+06    223.727273\n",
      "              Year        Value\n",
      "count  4878.000000  4878.000000\n",
      "mean   1998.000000  1157.397511\n",
      "std       2.582254   717.308841\n",
      "min    1994.000000    55.502000\n",
      "25%    1996.000000   743.227500\n",
      "50%    1998.000000   971.803500\n",
      "75%    2000.000000  1301.227500\n",
      "max    2002.000000  9357.259000\n",
      "              Year        Value\n",
      "count  3006.000000  3006.000000\n",
      "mean   2007.007651  1242.812309\n",
      "std       2.031272   872.137946\n",
      "min    2004.000000     7.500000\n",
      "25%    2005.000000   698.025000\n",
      "50%    2007.000000   994.700000\n",
      "75%    2009.000000  1484.925000\n",
      "max    2010.000000  9935.000000\n"
     ]
    }
   ],
   "source": [
    "print(rice.describe())\n",
    "print(rain1.describe())\n",
    "print(rain2.describe())"
   ]
  },
  {
   "cell_type": "code",
   "execution_count": 50,
   "metadata": {},
   "outputs": [
    {
     "name": "stderr",
     "output_type": "stream",
     "text": [
      "/usr/local/lib/python3.6/site-packages/ipykernel_launcher.py:1: RuntimeWarning: invalid value encountered in multiply\n",
      "  \"\"\"Entry point for launching an IPython kernel.\n"
     ]
    },
    {
     "data": {
      "text/html": [
       "<div>\n",
       "<style>\n",
       "    .dataframe thead tr:only-child th {\n",
       "        text-align: right;\n",
       "    }\n",
       "\n",
       "    .dataframe thead th {\n",
       "        text-align: left;\n",
       "    }\n",
       "\n",
       "    .dataframe tbody tr th {\n",
       "        vertical-align: top;\n",
       "    }\n",
       "</style>\n",
       "<table border=\"1\" class=\"dataframe\">\n",
       "  <thead>\n",
       "    <tr style=\"text-align: right;\">\n",
       "      <th></th>\n",
       "      <th>State_Name</th>\n",
       "      <th>ind_district</th>\n",
       "      <th>Crop_Year</th>\n",
       "      <th>Season</th>\n",
       "      <th>Crop</th>\n",
       "      <th>Area</th>\n",
       "      <th>Production</th>\n",
       "      <th>Value</th>\n",
       "      <th>X1</th>\n",
       "      <th>X2</th>\n",
       "      <th>X3</th>\n",
       "      <th>X4</th>\n",
       "    </tr>\n",
       "  </thead>\n",
       "  <tbody>\n",
       "    <tr>\n",
       "      <th>0</th>\n",
       "      <td>Andaman and Nicobar Islands</td>\n",
       "      <td>NICOBARS</td>\n",
       "      <td>2000</td>\n",
       "      <td>Kharif</td>\n",
       "      <td>Rice</td>\n",
       "      <td>102.00</td>\n",
       "      <td>321.00</td>\n",
       "      <td>3.147059</td>\n",
       "      <td>NaN</td>\n",
       "      <td>NaN</td>\n",
       "      <td>NaN</td>\n",
       "      <td>NaN</td>\n",
       "    </tr>\n",
       "    <tr>\n",
       "      <th>1</th>\n",
       "      <td>Andaman and Nicobar Islands</td>\n",
       "      <td>NICOBARS</td>\n",
       "      <td>2001</td>\n",
       "      <td>Kharif</td>\n",
       "      <td>Rice</td>\n",
       "      <td>83.00</td>\n",
       "      <td>300.00</td>\n",
       "      <td>3.614458</td>\n",
       "      <td>NaN</td>\n",
       "      <td>NaN</td>\n",
       "      <td>NaN</td>\n",
       "      <td>NaN</td>\n",
       "    </tr>\n",
       "    <tr>\n",
       "      <th>2</th>\n",
       "      <td>Andaman and Nicobar Islands</td>\n",
       "      <td>NICOBARS</td>\n",
       "      <td>2002</td>\n",
       "      <td>Kharif</td>\n",
       "      <td>Rice</td>\n",
       "      <td>189.20</td>\n",
       "      <td>510.84</td>\n",
       "      <td>2.700000</td>\n",
       "      <td>NaN</td>\n",
       "      <td>NaN</td>\n",
       "      <td>NaN</td>\n",
       "      <td>NaN</td>\n",
       "    </tr>\n",
       "    <tr>\n",
       "      <th>3</th>\n",
       "      <td>Andaman and Nicobar Islands</td>\n",
       "      <td>NICOBARS</td>\n",
       "      <td>2003</td>\n",
       "      <td>Kharif</td>\n",
       "      <td>Rice</td>\n",
       "      <td>52.00</td>\n",
       "      <td>90.17</td>\n",
       "      <td>1.734038</td>\n",
       "      <td>NaN</td>\n",
       "      <td>NaN</td>\n",
       "      <td>NaN</td>\n",
       "      <td>NaN</td>\n",
       "    </tr>\n",
       "    <tr>\n",
       "      <th>4</th>\n",
       "      <td>Andaman and Nicobar Islands</td>\n",
       "      <td>NICOBARS</td>\n",
       "      <td>2004</td>\n",
       "      <td>Kharif</td>\n",
       "      <td>Rice</td>\n",
       "      <td>52.94</td>\n",
       "      <td>72.57</td>\n",
       "      <td>1.370797</td>\n",
       "      <td>NaN</td>\n",
       "      <td>NaN</td>\n",
       "      <td>NaN</td>\n",
       "      <td>NaN</td>\n",
       "    </tr>\n",
       "  </tbody>\n",
       "</table>\n",
       "</div>"
      ],
      "text/plain": [
       "                    State_Name ind_district  Crop_Year       Season  Crop  \\\n",
       "0  Andaman and Nicobar Islands     NICOBARS       2000  Kharif       Rice   \n",
       "1  Andaman and Nicobar Islands     NICOBARS       2001  Kharif       Rice   \n",
       "2  Andaman and Nicobar Islands     NICOBARS       2002  Kharif       Rice   \n",
       "3  Andaman and Nicobar Islands     NICOBARS       2003  Kharif       Rice   \n",
       "4  Andaman and Nicobar Islands     NICOBARS       2004  Kharif       Rice   \n",
       "\n",
       "     Area  Production     Value  X1  X2  X3  X4  \n",
       "0  102.00      321.00  3.147059 NaN NaN NaN NaN  \n",
       "1   83.00      300.00  3.614458 NaN NaN NaN NaN  \n",
       "2  189.20      510.84  2.700000 NaN NaN NaN NaN  \n",
       "3   52.00       90.17  1.734038 NaN NaN NaN NaN  \n",
       "4   52.94       72.57  1.370797 NaN NaN NaN NaN  "
      ]
     },
     "execution_count": 50,
     "metadata": {},
     "output_type": "execute_result"
    }
   ],
   "source": [
    "a = np.empty((rice.shape[0],1))*np.NAN\n",
    "rice = rice.assign(X1 = a)\n",
    "rice = rice.assign(X2 = a)\n",
    "rice = rice.assign(X3 = a)\n",
    "rice = rice.assign(X4 = a)\n",
    "rice.head()"
   ]
  },
  {
   "cell_type": "markdown",
   "metadata": {},
   "source": [
    "Constructing the features X1 and X2, the production for the last 2 years."
   ]
  },
  {
   "cell_type": "code",
   "execution_count": 51,
   "metadata": {},
   "outputs": [],
   "source": [
    "l = rice.shape[0]\n",
    "for row in range(0,l):\n",
    "    if row-1<0 or rice.iloc[row,1] != rice.iloc[row-1,1]:\n",
    "        continue\n",
    "    else:\n",
    "        rice.iloc[row,8] = rice.iloc[row-1,6]\n",
    "        if row-2<0 or rice.iloc[row,1] != rice.iloc[row-2,1]:\n",
    "            continue\n",
    "        else:\n",
    "            rice.iloc[row,9] = rice.iloc[row-2,6]"
   ]
  },
  {
   "cell_type": "code",
   "execution_count": 52,
   "metadata": {},
   "outputs": [
    {
     "data": {
      "text/html": [
       "<div>\n",
       "<style>\n",
       "    .dataframe thead tr:only-child th {\n",
       "        text-align: right;\n",
       "    }\n",
       "\n",
       "    .dataframe thead th {\n",
       "        text-align: left;\n",
       "    }\n",
       "\n",
       "    .dataframe tbody tr th {\n",
       "        vertical-align: top;\n",
       "    }\n",
       "</style>\n",
       "<table border=\"1\" class=\"dataframe\">\n",
       "  <thead>\n",
       "    <tr style=\"text-align: right;\">\n",
       "      <th></th>\n",
       "      <th>State_Name</th>\n",
       "      <th>ind_district</th>\n",
       "      <th>Crop_Year</th>\n",
       "      <th>Season</th>\n",
       "      <th>Crop</th>\n",
       "      <th>Area</th>\n",
       "      <th>Production</th>\n",
       "      <th>Value</th>\n",
       "      <th>X1</th>\n",
       "      <th>X2</th>\n",
       "      <th>X3</th>\n",
       "      <th>X4</th>\n",
       "    </tr>\n",
       "  </thead>\n",
       "  <tbody>\n",
       "    <tr>\n",
       "      <th>0</th>\n",
       "      <td>Andaman and Nicobar Islands</td>\n",
       "      <td>NICOBARS</td>\n",
       "      <td>2000</td>\n",
       "      <td>Kharif</td>\n",
       "      <td>Rice</td>\n",
       "      <td>102.00</td>\n",
       "      <td>321.00</td>\n",
       "      <td>3.147059</td>\n",
       "      <td>NaN</td>\n",
       "      <td>NaN</td>\n",
       "      <td>NaN</td>\n",
       "      <td>NaN</td>\n",
       "    </tr>\n",
       "    <tr>\n",
       "      <th>1</th>\n",
       "      <td>Andaman and Nicobar Islands</td>\n",
       "      <td>NICOBARS</td>\n",
       "      <td>2001</td>\n",
       "      <td>Kharif</td>\n",
       "      <td>Rice</td>\n",
       "      <td>83.00</td>\n",
       "      <td>300.00</td>\n",
       "      <td>3.614458</td>\n",
       "      <td>321.00</td>\n",
       "      <td>NaN</td>\n",
       "      <td>NaN</td>\n",
       "      <td>NaN</td>\n",
       "    </tr>\n",
       "    <tr>\n",
       "      <th>2</th>\n",
       "      <td>Andaman and Nicobar Islands</td>\n",
       "      <td>NICOBARS</td>\n",
       "      <td>2002</td>\n",
       "      <td>Kharif</td>\n",
       "      <td>Rice</td>\n",
       "      <td>189.20</td>\n",
       "      <td>510.84</td>\n",
       "      <td>2.700000</td>\n",
       "      <td>300.00</td>\n",
       "      <td>321.00</td>\n",
       "      <td>NaN</td>\n",
       "      <td>NaN</td>\n",
       "    </tr>\n",
       "    <tr>\n",
       "      <th>3</th>\n",
       "      <td>Andaman and Nicobar Islands</td>\n",
       "      <td>NICOBARS</td>\n",
       "      <td>2003</td>\n",
       "      <td>Kharif</td>\n",
       "      <td>Rice</td>\n",
       "      <td>52.00</td>\n",
       "      <td>90.17</td>\n",
       "      <td>1.734038</td>\n",
       "      <td>510.84</td>\n",
       "      <td>300.00</td>\n",
       "      <td>NaN</td>\n",
       "      <td>NaN</td>\n",
       "    </tr>\n",
       "    <tr>\n",
       "      <th>4</th>\n",
       "      <td>Andaman and Nicobar Islands</td>\n",
       "      <td>NICOBARS</td>\n",
       "      <td>2004</td>\n",
       "      <td>Kharif</td>\n",
       "      <td>Rice</td>\n",
       "      <td>52.94</td>\n",
       "      <td>72.57</td>\n",
       "      <td>1.370797</td>\n",
       "      <td>90.17</td>\n",
       "      <td>510.84</td>\n",
       "      <td>NaN</td>\n",
       "      <td>NaN</td>\n",
       "    </tr>\n",
       "  </tbody>\n",
       "</table>\n",
       "</div>"
      ],
      "text/plain": [
       "                    State_Name ind_district  Crop_Year       Season  Crop  \\\n",
       "0  Andaman and Nicobar Islands     NICOBARS       2000  Kharif       Rice   \n",
       "1  Andaman and Nicobar Islands     NICOBARS       2001  Kharif       Rice   \n",
       "2  Andaman and Nicobar Islands     NICOBARS       2002  Kharif       Rice   \n",
       "3  Andaman and Nicobar Islands     NICOBARS       2003  Kharif       Rice   \n",
       "4  Andaman and Nicobar Islands     NICOBARS       2004  Kharif       Rice   \n",
       "\n",
       "     Area  Production     Value      X1      X2  X3  X4  \n",
       "0  102.00      321.00  3.147059     NaN     NaN NaN NaN  \n",
       "1   83.00      300.00  3.614458  321.00     NaN NaN NaN  \n",
       "2  189.20      510.84  2.700000  300.00  321.00 NaN NaN  \n",
       "3   52.00       90.17  1.734038  510.84  300.00 NaN NaN  \n",
       "4   52.94       72.57  1.370797   90.17  510.84 NaN NaN  "
      ]
     },
     "execution_count": 52,
     "metadata": {},
     "output_type": "execute_result"
    }
   ],
   "source": [
    "rice.head()"
   ]
  },
  {
   "cell_type": "code",
   "execution_count": 53,
   "metadata": {},
   "outputs": [],
   "source": [
    "def func(s):\n",
    "    x = s.strip()\n",
    "    return x.lower()"
   ]
  },
  {
   "cell_type": "code",
   "execution_count": 54,
   "metadata": {},
   "outputs": [
    {
     "data": {
      "text/html": [
       "<div>\n",
       "<style>\n",
       "    .dataframe thead tr:only-child th {\n",
       "        text-align: right;\n",
       "    }\n",
       "\n",
       "    .dataframe thead th {\n",
       "        text-align: left;\n",
       "    }\n",
       "\n",
       "    .dataframe tbody tr th {\n",
       "        vertical-align: top;\n",
       "    }\n",
       "</style>\n",
       "<table border=\"1\" class=\"dataframe\">\n",
       "  <thead>\n",
       "    <tr style=\"text-align: right;\">\n",
       "      <th></th>\n",
       "      <th>State_Name</th>\n",
       "      <th>ind_district</th>\n",
       "      <th>Crop_Year</th>\n",
       "      <th>Season</th>\n",
       "      <th>Crop</th>\n",
       "      <th>Area</th>\n",
       "      <th>Production</th>\n",
       "      <th>Value</th>\n",
       "      <th>X1</th>\n",
       "      <th>X2</th>\n",
       "      <th>X3</th>\n",
       "      <th>X4</th>\n",
       "    </tr>\n",
       "  </thead>\n",
       "  <tbody>\n",
       "    <tr>\n",
       "      <th>0</th>\n",
       "      <td>Andaman and Nicobar Islands</td>\n",
       "      <td>nicobars</td>\n",
       "      <td>2000</td>\n",
       "      <td>kharif</td>\n",
       "      <td>Rice</td>\n",
       "      <td>102.00</td>\n",
       "      <td>321.00</td>\n",
       "      <td>3.147059</td>\n",
       "      <td>NaN</td>\n",
       "      <td>NaN</td>\n",
       "      <td>NaN</td>\n",
       "      <td>NaN</td>\n",
       "    </tr>\n",
       "    <tr>\n",
       "      <th>1</th>\n",
       "      <td>Andaman and Nicobar Islands</td>\n",
       "      <td>nicobars</td>\n",
       "      <td>2001</td>\n",
       "      <td>kharif</td>\n",
       "      <td>Rice</td>\n",
       "      <td>83.00</td>\n",
       "      <td>300.00</td>\n",
       "      <td>3.614458</td>\n",
       "      <td>321.00</td>\n",
       "      <td>NaN</td>\n",
       "      <td>NaN</td>\n",
       "      <td>NaN</td>\n",
       "    </tr>\n",
       "    <tr>\n",
       "      <th>2</th>\n",
       "      <td>Andaman and Nicobar Islands</td>\n",
       "      <td>nicobars</td>\n",
       "      <td>2002</td>\n",
       "      <td>kharif</td>\n",
       "      <td>Rice</td>\n",
       "      <td>189.20</td>\n",
       "      <td>510.84</td>\n",
       "      <td>2.700000</td>\n",
       "      <td>300.00</td>\n",
       "      <td>321.00</td>\n",
       "      <td>NaN</td>\n",
       "      <td>NaN</td>\n",
       "    </tr>\n",
       "    <tr>\n",
       "      <th>3</th>\n",
       "      <td>Andaman and Nicobar Islands</td>\n",
       "      <td>nicobars</td>\n",
       "      <td>2003</td>\n",
       "      <td>kharif</td>\n",
       "      <td>Rice</td>\n",
       "      <td>52.00</td>\n",
       "      <td>90.17</td>\n",
       "      <td>1.734038</td>\n",
       "      <td>510.84</td>\n",
       "      <td>300.00</td>\n",
       "      <td>NaN</td>\n",
       "      <td>NaN</td>\n",
       "    </tr>\n",
       "    <tr>\n",
       "      <th>4</th>\n",
       "      <td>Andaman and Nicobar Islands</td>\n",
       "      <td>nicobars</td>\n",
       "      <td>2004</td>\n",
       "      <td>kharif</td>\n",
       "      <td>Rice</td>\n",
       "      <td>52.94</td>\n",
       "      <td>72.57</td>\n",
       "      <td>1.370797</td>\n",
       "      <td>90.17</td>\n",
       "      <td>510.84</td>\n",
       "      <td>NaN</td>\n",
       "      <td>NaN</td>\n",
       "    </tr>\n",
       "  </tbody>\n",
       "</table>\n",
       "</div>"
      ],
      "text/plain": [
       "                    State_Name ind_district  Crop_Year  Season  Crop    Area  \\\n",
       "0  Andaman and Nicobar Islands     nicobars       2000  kharif  Rice  102.00   \n",
       "1  Andaman and Nicobar Islands     nicobars       2001  kharif  Rice   83.00   \n",
       "2  Andaman and Nicobar Islands     nicobars       2002  kharif  Rice  189.20   \n",
       "3  Andaman and Nicobar Islands     nicobars       2003  kharif  Rice   52.00   \n",
       "4  Andaman and Nicobar Islands     nicobars       2004  kharif  Rice   52.94   \n",
       "\n",
       "   Production     Value      X1      X2  X3  X4  \n",
       "0      321.00  3.147059     NaN     NaN NaN NaN  \n",
       "1      300.00  3.614458  321.00     NaN NaN NaN  \n",
       "2      510.84  2.700000  300.00  321.00 NaN NaN  \n",
       "3       90.17  1.734038  510.84  300.00 NaN NaN  \n",
       "4       72.57  1.370797   90.17  510.84 NaN NaN  "
      ]
     },
     "execution_count": 54,
     "metadata": {},
     "output_type": "execute_result"
    }
   ],
   "source": [
    "rice['ind_district'] = rice['ind_district'].apply(func)\n",
    "rice['Season'] = rice['Season'].apply(func)\n",
    "rain1['ind_district'] = rain1['ind_district'].apply(func)\n",
    "rain2['ind_district'] = rain2['ind_district'].apply(func)\n",
    "rice.head()"
   ]
  },
  {
   "cell_type": "code",
   "execution_count": 55,
   "metadata": {},
   "outputs": [
    {
     "data": {
      "text/html": [
       "<div>\n",
       "<style>\n",
       "    .dataframe thead tr:only-child th {\n",
       "        text-align: right;\n",
       "    }\n",
       "\n",
       "    .dataframe thead th {\n",
       "        text-align: left;\n",
       "    }\n",
       "\n",
       "    .dataframe tbody tr th {\n",
       "        vertical-align: top;\n",
       "    }\n",
       "</style>\n",
       "<table border=\"1\" class=\"dataframe\">\n",
       "  <thead>\n",
       "    <tr style=\"text-align: right;\">\n",
       "      <th></th>\n",
       "      <th>State</th>\n",
       "      <th>ind_district</th>\n",
       "      <th>Year</th>\n",
       "      <th>Value</th>\n",
       "    </tr>\n",
       "  </thead>\n",
       "  <tbody>\n",
       "    <tr>\n",
       "      <th>0</th>\n",
       "      <td>Andhra Pradesh</td>\n",
       "      <td>adilabad</td>\n",
       "      <td>1994</td>\n",
       "      <td>1199.447</td>\n",
       "    </tr>\n",
       "    <tr>\n",
       "      <th>1</th>\n",
       "      <td>Andhra Pradesh</td>\n",
       "      <td>adilabad</td>\n",
       "      <td>1995</td>\n",
       "      <td>1255.561</td>\n",
       "    </tr>\n",
       "    <tr>\n",
       "      <th>2</th>\n",
       "      <td>Andhra Pradesh</td>\n",
       "      <td>adilabad</td>\n",
       "      <td>1996</td>\n",
       "      <td>1081.171</td>\n",
       "    </tr>\n",
       "    <tr>\n",
       "      <th>3</th>\n",
       "      <td>Andhra Pradesh</td>\n",
       "      <td>adilabad</td>\n",
       "      <td>1997</td>\n",
       "      <td>905.718</td>\n",
       "    </tr>\n",
       "    <tr>\n",
       "      <th>4</th>\n",
       "      <td>Andhra Pradesh</td>\n",
       "      <td>adilabad</td>\n",
       "      <td>1998</td>\n",
       "      <td>1128.950</td>\n",
       "    </tr>\n",
       "  </tbody>\n",
       "</table>\n",
       "</div>"
      ],
      "text/plain": [
       "            State ind_district  Year     Value\n",
       "0  Andhra Pradesh     adilabad  1994  1199.447\n",
       "1  Andhra Pradesh     adilabad  1995  1255.561\n",
       "2  Andhra Pradesh     adilabad  1996  1081.171\n",
       "3  Andhra Pradesh     adilabad  1997   905.718\n",
       "4  Andhra Pradesh     adilabad  1998  1128.950"
      ]
     },
     "execution_count": 55,
     "metadata": {},
     "output_type": "execute_result"
    }
   ],
   "source": [
    "rain1.head()"
   ]
  },
  {
   "cell_type": "code",
   "execution_count": 56,
   "metadata": {},
   "outputs": [],
   "source": [
    "# can reduce the time by searching only one variable for some cases atleast\n",
    "rice = rice[rice['Season'] == 'kharif']\n",
    "l = rice.shape[0]\n",
    "\n",
    "for row in range(0,l):\n",
    "    \n",
    "    dt = rice.iloc[row,1]\n",
    "    yr = rice.iloc[row,2]\n",
    "    \n",
    "    if yr<=2002:\n",
    "        \n",
    "        # rainfall for the same year\n",
    "        r = rain1.loc[(rain1.ind_district == dt) & (rain1.Year == yr)]\n",
    "        if r.shape[0] == 1:\n",
    "            rice.iloc[row,10] = r.iloc[0,3]\n",
    "            \n",
    "        # rainfall for the previous year\n",
    "        r = rain1.loc[(rain1.ind_district == dt) & (rain1.Year == yr-1)]\n",
    "        if r.shape[0] == 1:\n",
    "            rice.iloc[row,11] = r.iloc[0,3]\n",
    "            \n",
    "    if yr>2004:\n",
    "        \n",
    "        # rainfall for the same year\n",
    "        r = rain2.loc[(rain2.ind_district == dt) & (rain2.Year == yr)]\n",
    "        if r.shape[0] == 1:\n",
    "            rice.iloc[row,10] = r.iloc[0,3]\n",
    "            \n",
    "        # rainfall for the previous year\n",
    "        r = rain2.loc[(rain2.ind_district == dt) & (rain2.Year == yr-1)]\n",
    "        if r.shape[0] == 1:\n",
    "            rice.iloc[row,11] = r.iloc[0,3]\n",
    "        \n",
    "    "
   ]
  },
  {
   "cell_type": "code",
   "execution_count": 59,
   "metadata": {},
   "outputs": [
    {
     "data": {
      "text/html": [
       "<div>\n",
       "<style>\n",
       "    .dataframe thead tr:only-child th {\n",
       "        text-align: right;\n",
       "    }\n",
       "\n",
       "    .dataframe thead th {\n",
       "        text-align: left;\n",
       "    }\n",
       "\n",
       "    .dataframe tbody tr th {\n",
       "        vertical-align: top;\n",
       "    }\n",
       "</style>\n",
       "<table border=\"1\" class=\"dataframe\">\n",
       "  <thead>\n",
       "    <tr style=\"text-align: right;\">\n",
       "      <th></th>\n",
       "      <th>Crop_Year</th>\n",
       "      <th>Area</th>\n",
       "      <th>Production</th>\n",
       "      <th>Value</th>\n",
       "      <th>X1</th>\n",
       "      <th>X2</th>\n",
       "      <th>X3</th>\n",
       "      <th>X4</th>\n",
       "    </tr>\n",
       "  </thead>\n",
       "  <tbody>\n",
       "    <tr>\n",
       "      <th>count</th>\n",
       "      <td>5463.000000</td>\n",
       "      <td>5463.000000</td>\n",
       "      <td>5.449000e+03</td>\n",
       "      <td>5463.000000</td>\n",
       "      <td>5.090000e+03</td>\n",
       "      <td>4.809000e+03</td>\n",
       "      <td>2783.000000</td>\n",
       "      <td>2968.000000</td>\n",
       "    </tr>\n",
       "    <tr>\n",
       "      <th>mean</th>\n",
       "      <td>2005.394106</td>\n",
       "      <td>64076.532900</td>\n",
       "      <td>1.375553e+05</td>\n",
       "      <td>1.946222</td>\n",
       "      <td>1.047449e+05</td>\n",
       "      <td>1.309790e+05</td>\n",
       "      <td>1030.554382</td>\n",
       "      <td>1054.704046</td>\n",
       "    </tr>\n",
       "    <tr>\n",
       "      <th>std</th>\n",
       "      <td>4.949146</td>\n",
       "      <td>76112.336892</td>\n",
       "      <td>1.905742e+05</td>\n",
       "      <td>3.164509</td>\n",
       "      <td>1.821700e+05</td>\n",
       "      <td>1.918992e+05</td>\n",
       "      <td>623.505868</td>\n",
       "      <td>622.106761</td>\n",
       "    </tr>\n",
       "    <tr>\n",
       "      <th>min</th>\n",
       "      <td>1997.000000</td>\n",
       "      <td>1.000000</td>\n",
       "      <td>0.000000e+00</td>\n",
       "      <td>0.000000</td>\n",
       "      <td>0.000000e+00</td>\n",
       "      <td>0.000000e+00</td>\n",
       "      <td>76.944000</td>\n",
       "      <td>118.200000</td>\n",
       "    </tr>\n",
       "    <tr>\n",
       "      <th>25%</th>\n",
       "      <td>2001.000000</td>\n",
       "      <td>7982.000000</td>\n",
       "      <td>1.006300e+04</td>\n",
       "      <td>1.212146</td>\n",
       "      <td>3.197750e+03</td>\n",
       "      <td>5.691000e+03</td>\n",
       "      <td>653.662000</td>\n",
       "      <td>677.295250</td>\n",
       "    </tr>\n",
       "    <tr>\n",
       "      <th>50%</th>\n",
       "      <td>2005.000000</td>\n",
       "      <td>32583.000000</td>\n",
       "      <td>5.785400e+04</td>\n",
       "      <td>1.852538</td>\n",
       "      <td>2.525150e+04</td>\n",
       "      <td>4.530000e+04</td>\n",
       "      <td>843.453000</td>\n",
       "      <td>883.950000</td>\n",
       "    </tr>\n",
       "    <tr>\n",
       "      <th>75%</th>\n",
       "      <td>2010.000000</td>\n",
       "      <td>101065.500000</td>\n",
       "      <td>2.059410e+05</td>\n",
       "      <td>2.483993</td>\n",
       "      <td>1.268458e+05</td>\n",
       "      <td>1.957000e+05</td>\n",
       "      <td>1190.236000</td>\n",
       "      <td>1197.745250</td>\n",
       "    </tr>\n",
       "    <tr>\n",
       "      <th>max</th>\n",
       "      <td>2015.000000</td>\n",
       "      <td>545965.000000</td>\n",
       "      <td>1.710000e+06</td>\n",
       "      <td>223.727273</td>\n",
       "      <td>1.710000e+06</td>\n",
       "      <td>1.710000e+06</td>\n",
       "      <td>4999.200000</td>\n",
       "      <td>5243.000000</td>\n",
       "    </tr>\n",
       "  </tbody>\n",
       "</table>\n",
       "</div>"
      ],
      "text/plain": [
       "         Crop_Year           Area    Production        Value            X1  \\\n",
       "count  5463.000000    5463.000000  5.449000e+03  5463.000000  5.090000e+03   \n",
       "mean   2005.394106   64076.532900  1.375553e+05     1.946222  1.047449e+05   \n",
       "std       4.949146   76112.336892  1.905742e+05     3.164509  1.821700e+05   \n",
       "min    1997.000000       1.000000  0.000000e+00     0.000000  0.000000e+00   \n",
       "25%    2001.000000    7982.000000  1.006300e+04     1.212146  3.197750e+03   \n",
       "50%    2005.000000   32583.000000  5.785400e+04     1.852538  2.525150e+04   \n",
       "75%    2010.000000  101065.500000  2.059410e+05     2.483993  1.268458e+05   \n",
       "max    2015.000000  545965.000000  1.710000e+06   223.727273  1.710000e+06   \n",
       "\n",
       "                 X2           X3           X4  \n",
       "count  4.809000e+03  2783.000000  2968.000000  \n",
       "mean   1.309790e+05  1030.554382  1054.704046  \n",
       "std    1.918992e+05   623.505868   622.106761  \n",
       "min    0.000000e+00    76.944000   118.200000  \n",
       "25%    5.691000e+03   653.662000   677.295250  \n",
       "50%    4.530000e+04   843.453000   883.950000  \n",
       "75%    1.957000e+05  1190.236000  1197.745250  \n",
       "max    1.710000e+06  4999.200000  5243.000000  "
      ]
     },
     "execution_count": 59,
     "metadata": {},
     "output_type": "execute_result"
    }
   ],
   "source": [
    "# X1 = prod-1\n",
    "# X2 = prod-2\n",
    "# X3 = rain\n",
    "# X4 = rain-1\n",
    "rice.describe()"
   ]
  },
  {
   "cell_type": "code",
   "execution_count": 60,
   "metadata": {},
   "outputs": [
    {
     "data": {
      "text/html": [
       "<div>\n",
       "<style>\n",
       "    .dataframe thead tr:only-child th {\n",
       "        text-align: right;\n",
       "    }\n",
       "\n",
       "    .dataframe thead th {\n",
       "        text-align: left;\n",
       "    }\n",
       "\n",
       "    .dataframe tbody tr th {\n",
       "        vertical-align: top;\n",
       "    }\n",
       "</style>\n",
       "<table border=\"1\" class=\"dataframe\">\n",
       "  <thead>\n",
       "    <tr style=\"text-align: right;\">\n",
       "      <th></th>\n",
       "      <th>State_Name</th>\n",
       "      <th>ind_district</th>\n",
       "      <th>Crop_Year</th>\n",
       "      <th>Season</th>\n",
       "      <th>Crop</th>\n",
       "      <th>Area</th>\n",
       "      <th>Production</th>\n",
       "      <th>Value</th>\n",
       "      <th>X1</th>\n",
       "      <th>X2</th>\n",
       "      <th>X3</th>\n",
       "      <th>X4</th>\n",
       "    </tr>\n",
       "  </thead>\n",
       "  <tbody>\n",
       "    <tr>\n",
       "      <th>9</th>\n",
       "      <td>Andhra Pradesh</td>\n",
       "      <td>anantapur</td>\n",
       "      <td>1998</td>\n",
       "      <td>kharif</td>\n",
       "      <td>Rice</td>\n",
       "      <td>38300.0</td>\n",
       "      <td>96800.0</td>\n",
       "      <td>2.527415</td>\n",
       "      <td>37300.0</td>\n",
       "      <td>75400.0</td>\n",
       "      <td>881.473</td>\n",
       "      <td>797.051</td>\n",
       "    </tr>\n",
       "    <tr>\n",
       "      <th>11</th>\n",
       "      <td>Andhra Pradesh</td>\n",
       "      <td>anantapur</td>\n",
       "      <td>1999</td>\n",
       "      <td>kharif</td>\n",
       "      <td>Rice</td>\n",
       "      <td>37991.0</td>\n",
       "      <td>105082.0</td>\n",
       "      <td>2.765971</td>\n",
       "      <td>63900.0</td>\n",
       "      <td>96800.0</td>\n",
       "      <td>643.720</td>\n",
       "      <td>881.473</td>\n",
       "    </tr>\n",
       "    <tr>\n",
       "      <th>13</th>\n",
       "      <td>Andhra Pradesh</td>\n",
       "      <td>anantapur</td>\n",
       "      <td>2000</td>\n",
       "      <td>kharif</td>\n",
       "      <td>Rice</td>\n",
       "      <td>39905.0</td>\n",
       "      <td>117680.0</td>\n",
       "      <td>2.949004</td>\n",
       "      <td>45669.0</td>\n",
       "      <td>105082.0</td>\n",
       "      <td>767.351</td>\n",
       "      <td>643.720</td>\n",
       "    </tr>\n",
       "    <tr>\n",
       "      <th>15</th>\n",
       "      <td>Andhra Pradesh</td>\n",
       "      <td>anantapur</td>\n",
       "      <td>2001</td>\n",
       "      <td>kharif</td>\n",
       "      <td>Rice</td>\n",
       "      <td>32878.0</td>\n",
       "      <td>95609.0</td>\n",
       "      <td>2.907993</td>\n",
       "      <td>57236.0</td>\n",
       "      <td>117680.0</td>\n",
       "      <td>579.338</td>\n",
       "      <td>767.351</td>\n",
       "    </tr>\n",
       "    <tr>\n",
       "      <th>17</th>\n",
       "      <td>Andhra Pradesh</td>\n",
       "      <td>anantapur</td>\n",
       "      <td>2002</td>\n",
       "      <td>kharif</td>\n",
       "      <td>Rice</td>\n",
       "      <td>29066.0</td>\n",
       "      <td>66329.0</td>\n",
       "      <td>2.282013</td>\n",
       "      <td>108906.0</td>\n",
       "      <td>95609.0</td>\n",
       "      <td>540.070</td>\n",
       "      <td>579.338</td>\n",
       "    </tr>\n",
       "  </tbody>\n",
       "</table>\n",
       "</div>"
      ],
      "text/plain": [
       "        State_Name ind_district  Crop_Year  Season  Crop     Area  Production  \\\n",
       "9   Andhra Pradesh    anantapur       1998  kharif  Rice  38300.0     96800.0   \n",
       "11  Andhra Pradesh    anantapur       1999  kharif  Rice  37991.0    105082.0   \n",
       "13  Andhra Pradesh    anantapur       2000  kharif  Rice  39905.0    117680.0   \n",
       "15  Andhra Pradesh    anantapur       2001  kharif  Rice  32878.0     95609.0   \n",
       "17  Andhra Pradesh    anantapur       2002  kharif  Rice  29066.0     66329.0   \n",
       "\n",
       "       Value        X1        X2       X3       X4  \n",
       "9   2.527415   37300.0   75400.0  881.473  797.051  \n",
       "11  2.765971   63900.0   96800.0  643.720  881.473  \n",
       "13  2.949004   45669.0  105082.0  767.351  643.720  \n",
       "15  2.907993   57236.0  117680.0  579.338  767.351  \n",
       "17  2.282013  108906.0   95609.0  540.070  579.338  "
      ]
     },
     "execution_count": 60,
     "metadata": {},
     "output_type": "execute_result"
    }
   ],
   "source": [
    "ricex = rice[np.isfinite(rice[\"Production\"])]\n",
    "ricex = ricex[np.isfinite(ricex[\"X1\"])]\n",
    "ricex = ricex[np.isfinite(ricex[\"X2\"])]\n",
    "ricex = ricex[np.isfinite(ricex[\"X3\"])]\n",
    "ricex = ricex[np.isfinite(ricex[\"X4\"])]\n",
    "ricex.head()"
   ]
  },
  {
   "cell_type": "code",
   "execution_count": 61,
   "metadata": {},
   "outputs": [],
   "source": [
    "X = ricex[[\"X1\",\"X2\",\"X3\",\"X4\"]]\n",
    "y = ricex[[\"Production\"]]"
   ]
  },
  {
   "cell_type": "code",
   "execution_count": 78,
   "metadata": {},
   "outputs": [
    {
     "data": {
      "text/plain": [
       "Text(0.5,1,'Distribution of the Rice Production Values')"
      ]
     },
     "execution_count": 78,
     "metadata": {},
     "output_type": "execute_result"
    },
    {
     "data": {
      "image/png": "[encoded data removed]",
      "text/plain": [
       "<matplotlib.figure.Figure at 0x1254dc630>"
      ]
     },
     "metadata": {},
     "output_type": "display_data"
    }
   ],
   "source": [
    "plt.figure(figsize=(30, 10))\n",
    "plt.hist(y, bins=250)\n",
    "plt.xlabel('Production Value',fontsize=25)\n",
    "plt.ylabel('Occurences',fontsize=25)\n",
    "plt.title('Distribution of the Rice Production Values',fontsize=30)"
   ]
  },
  {
   "cell_type": "code",
   "execution_count": 77,
   "metadata": {},
   "outputs": [
    {
     "data": {
      "image/png": "[encoded data removed]",
      "text/plain": [
       "<matplotlib.figure.Figure at 0x12716e8d0>"
      ]
     },
     "metadata": {},
     "output_type": "display_data"
    }
   ],
   "source": [
    "Xplot = ricex[[\"X1\", \"X2\", \"X3\", \"X4\",\"Production\"]]\n",
    "\n",
    "var_name = \"X1\"\n",
    "plt.figure(figsize=(10,6))\n",
    "sns.regplot(x=var_name, y='Production', data=Xplot, scatter_kws={'alpha':0.6, 's':20})\n",
    "plt.xlabel(var_name + \" (Crop Produce of Last Year)\", fontsize=15)\n",
    "plt.ylabel('Y', fontsize=15)\n",
    "plt.title(\"Distribution of y variable with feature \"+var_name, fontsize=18)\n",
    "plt.show()"
   ]
  },
  {
   "cell_type": "code",
   "execution_count": 82,
   "metadata": {},
   "outputs": [
    {
     "data": {
      "image/png": "[encoded data removed]",
      "text/plain": [
       "<matplotlib.figure.Figure at 0x129bcf5f8>"
      ]
     },
     "metadata": {},
     "output_type": "display_data"
    }
   ],
   "source": [
    "Xplot = ricex[[\"X1\", \"X2\", \"X3\", \"X4\",\"Production\"]]\n",
    "\n",
    "var_name = \"X2\"\n",
    "plt.figure(figsize=(10,6))\n",
    "sns.regplot(x=var_name, y='Production', data=Xplot, scatter_kws={'alpha':0.6, 's':20})\n",
    "plt.xlabel(var_name + \" (Crop Produce of Last to Last Year)\", fontsize=15)\n",
    "plt.ylabel('Y', fontsize=15)\n",
    "plt.title(\"Distribution of y variable with feature \"+var_name, fontsize=18)\n",
    "plt.show()"
   ]
  },
  {
   "cell_type": "code",
   "execution_count": 83,
   "metadata": {},
   "outputs": [
    {
     "data": {
      "image/png": "[encoded data removed]",
      "text/plain": [
       "<matplotlib.figure.Figure at 0x126e46898>"
      ]
     },
     "metadata": {},
     "output_type": "display_data"
    }
   ],
   "source": [
    "Xplot = ricex[[\"X1\", \"X2\", \"X3\", \"X4\",\"Production\"]]\n",
    "\n",
    "var_name = \"X3\"\n",
    "plt.figure(figsize=(10,6))\n",
    "sns.regplot(x=var_name, y='Production', data=Xplot, scatter_kws={'alpha':0.6, 's':20})\n",
    "plt.xlabel(var_name + \" (Rainfall of Present Year)\", fontsize=15)\n",
    "plt.ylabel('Y', fontsize=15)\n",
    "plt.title(\"Distribution of y variable with feature \"+var_name, fontsize=18)\n",
    "plt.show()"
   ]
  },
  {
   "cell_type": "code",
   "execution_count": 84,
   "metadata": {},
   "outputs": [
    {
     "data": {
      "image/png": "[encoded data removed]",
      "text/plain": [
       "<matplotlib.figure.Figure at 0x11e570e80>"
      ]
     },
     "metadata": {},
     "output_type": "display_data"
    }
   ],
   "source": [
    "Xplot = ricex[[\"X1\", \"X2\", \"X3\", \"X4\",\"Production\"]]\n",
    "\n",
    "var_name = \"X4\"\n",
    "plt.figure(figsize=(10,6))\n",
    "sns.regplot(x=var_name, y='Production', data=Xplot, scatter_kws={'alpha':0.6, 's':20})\n",
    "plt.xlabel(var_name + \" (Rainfall of Last Year)\", fontsize=15)\n",
    "plt.ylabel('Y', fontsize=15)\n",
    "plt.title(\"Distribution of y variable with feature \"+var_name, fontsize=18)\n",
    "plt.show()"
   ]
  },
  {
   "cell_type": "code",
   "execution_count": 85,
   "metadata": {},
   "outputs": [
    {
     "name": "stderr",
     "output_type": "stream",
     "text": [
      "/usr/local/lib/python3.6/site-packages/ipykernel_launcher.py:6: SettingWithCopyWarning: \n",
      "A value is trying to be set on a copy of a slice from a DataFrame.\n",
      "Try using .loc[row_indexer,col_indexer] = value instead\n",
      "\n",
      "See the caveats in the documentation: http://pandas.pydata.org/pandas-docs/stable/indexing.html#indexing-view-versus-copy\n",
      "  \n"
     ]
    }
   ],
   "source": [
    "# Z-Score Normalization\n",
    "\n",
    "cols = list(X.columns)\n",
    "for col in cols:\n",
    "    col_zscore = col + '_zscore'\n",
    "    X[col_zscore] = (X[col] - X[col].mean())/X[col].std(ddof=0)"
   ]
  },
  {
   "cell_type": "code",
   "execution_count": 86,
   "metadata": {},
   "outputs": [],
   "source": [
    "X = X[[\"X1_zscore\", \"X2_zscore\", \"X3_zscore\", \"X4_zscore\"]]"
   ]
  },
  {
   "cell_type": "code",
   "execution_count": 87,
   "metadata": {
    "scrolled": true
   },
   "outputs": [
    {
     "data": {
      "text/html": [
       "<div>\n",
       "<style>\n",
       "    .dataframe thead tr:only-child th {\n",
       "        text-align: right;\n",
       "    }\n",
       "\n",
       "    .dataframe thead th {\n",
       "        text-align: left;\n",
       "    }\n",
       "\n",
       "    .dataframe tbody tr th {\n",
       "        vertical-align: top;\n",
       "    }\n",
       "</style>\n",
       "<table border=\"1\" class=\"dataframe\">\n",
       "  <thead>\n",
       "    <tr style=\"text-align: right;\">\n",
       "      <th></th>\n",
       "      <th>X1_zscore</th>\n",
       "      <th>X2_zscore</th>\n",
       "      <th>X3_zscore</th>\n",
       "      <th>X4_zscore</th>\n",
       "    </tr>\n",
       "  </thead>\n",
       "  <tbody>\n",
       "    <tr>\n",
       "      <th>9</th>\n",
       "      <td>-0.390598</td>\n",
       "      <td>-0.291085</td>\n",
       "      <td>-0.241334</td>\n",
       "      <td>-0.394757</td>\n",
       "    </tr>\n",
       "    <tr>\n",
       "      <th>11</th>\n",
       "      <td>-0.255498</td>\n",
       "      <td>-0.187936</td>\n",
       "      <td>-0.611623</td>\n",
       "      <td>-0.261568</td>\n",
       "    </tr>\n",
       "    <tr>\n",
       "      <th>13</th>\n",
       "      <td>-0.348092</td>\n",
       "      <td>-0.148017</td>\n",
       "      <td>-0.419073</td>\n",
       "      <td>-0.636660</td>\n",
       "    </tr>\n",
       "    <tr>\n",
       "      <th>15</th>\n",
       "      <td>-0.289344</td>\n",
       "      <td>-0.087294</td>\n",
       "      <td>-0.711895</td>\n",
       "      <td>-0.441613</td>\n",
       "    </tr>\n",
       "    <tr>\n",
       "      <th>17</th>\n",
       "      <td>-0.026914</td>\n",
       "      <td>-0.193677</td>\n",
       "      <td>-0.773053</td>\n",
       "      <td>-0.738233</td>\n",
       "    </tr>\n",
       "  </tbody>\n",
       "</table>\n",
       "</div>"
      ],
      "text/plain": [
       "    X1_zscore  X2_zscore  X3_zscore  X4_zscore\n",
       "9   -0.390598  -0.291085  -0.241334  -0.394757\n",
       "11  -0.255498  -0.187936  -0.611623  -0.261568\n",
       "13  -0.348092  -0.148017  -0.419073  -0.636660\n",
       "15  -0.289344  -0.087294  -0.711895  -0.441613\n",
       "17  -0.026914  -0.193677  -0.773053  -0.738233"
      ]
     },
     "execution_count": 87,
     "metadata": {},
     "output_type": "execute_result"
    }
   ],
   "source": [
    "X.head()"
   ]
  },
  {
   "cell_type": "code",
   "execution_count": 88,
   "metadata": {},
   "outputs": [],
   "source": [
    "X_train, X_test, y_train, y_test = train_test_split(X, y, test_size=0.2, random_state=1)"
   ]
  },
  {
   "cell_type": "code",
   "execution_count": 89,
   "metadata": {},
   "outputs": [
    {
     "data": {
      "text/plain": [
       "LinearRegression(copy_X=True, fit_intercept=True, n_jobs=1, normalize=False)"
      ]
     },
     "execution_count": 89,
     "metadata": {},
     "output_type": "execute_result"
    }
   ],
   "source": [
    "alg = LinearRegression()\n",
    "alg.fit(X_train, y_train)"
   ]
  },
  {
   "cell_type": "code",
   "execution_count": 91,
   "metadata": {},
   "outputs": [],
   "source": [
    "coef = alg.coef_"
   ]
  },
  {
   "cell_type": "code",
   "execution_count": 92,
   "metadata": {},
   "outputs": [
    {
     "name": "stdout",
     "output_type": "stream",
     "text": [
      "array([[  38573.18,  158184.25,   18750.67,  -13781.87]])\n"
     ]
    }
   ],
   "source": [
    "coef = coef.round(decimals=2)\n",
    "pp = pprint.PrettyPrinter()\n",
    "pp.pprint(coef)"
   ]
  },
  {
   "cell_type": "code",
   "execution_count": 93,
   "metadata": {},
   "outputs": [],
   "source": [
    "y_predict = alg.predict(X_test)"
   ]
  },
  {
   "cell_type": "code",
   "execution_count": 94,
   "metadata": {},
   "outputs": [
    {
     "data": {
      "text/plain": [
       "numpy.ndarray"
      ]
     },
     "execution_count": 94,
     "metadata": {},
     "output_type": "execute_result"
    }
   ],
   "source": [
    "yp = y_predict\n",
    "yt = y_test.as_matrix()\n",
    "type(y_predict)"
   ]
  },
  {
   "cell_type": "code",
   "execution_count": 95,
   "metadata": {},
   "outputs": [
    {
     "name": "stdout",
     "output_type": "stream",
     "text": [
      "70628.2264795402\n"
     ]
    }
   ],
   "source": [
    "rmse = sqrt(mean_squared_error(y_predict, y_test))\n",
    "print(rmse)"
   ]
  },
  {
   "cell_type": "code",
   "execution_count": 96,
   "metadata": {},
   "outputs": [],
   "source": [
    "yt = yt/1000\n",
    "yp = yp/1000\n",
    "yt = yt.round(decimals=1)\n",
    "yp = yp.round(decimals=1)"
   ]
  },
  {
   "cell_type": "code",
   "execution_count": 97,
   "metadata": {},
   "outputs": [],
   "source": [
    "yo = np.concatenate((yp,yt),axis=1)"
   ]
  },
  {
   "cell_type": "code",
   "execution_count": 98,
   "metadata": {},
   "outputs": [
    {
     "data": {
      "text/html": [
       "<div>\n",
       "<style>\n",
       "    .dataframe thead tr:only-child th {\n",
       "        text-align: right;\n",
       "    }\n",
       "\n",
       "    .dataframe thead th {\n",
       "        text-align: left;\n",
       "    }\n",
       "\n",
       "    .dataframe tbody tr th {\n",
       "        vertical-align: top;\n",
       "    }\n",
       "</style>\n",
       "<table border=\"1\" class=\"dataframe\">\n",
       "  <thead>\n",
       "    <tr style=\"text-align: right;\">\n",
       "      <th></th>\n",
       "      <th>Predicted</th>\n",
       "      <th>Actual</th>\n",
       "    </tr>\n",
       "  </thead>\n",
       "  <tbody>\n",
       "    <tr>\n",
       "      <th>count</th>\n",
       "      <td>442.000000</td>\n",
       "      <td>442.000000</td>\n",
       "    </tr>\n",
       "    <tr>\n",
       "      <th>mean</th>\n",
       "      <td>138.243213</td>\n",
       "      <td>143.045928</td>\n",
       "    </tr>\n",
       "    <tr>\n",
       "      <th>std</th>\n",
       "      <td>191.785703</td>\n",
       "      <td>213.756353</td>\n",
       "    </tr>\n",
       "    <tr>\n",
       "      <th>min</th>\n",
       "      <td>2.600000</td>\n",
       "      <td>0.000000</td>\n",
       "    </tr>\n",
       "    <tr>\n",
       "      <th>25%</th>\n",
       "      <td>27.325000</td>\n",
       "      <td>6.200000</td>\n",
       "    </tr>\n",
       "    <tr>\n",
       "      <th>50%</th>\n",
       "      <td>62.950000</td>\n",
       "      <td>59.000000</td>\n",
       "    </tr>\n",
       "    <tr>\n",
       "      <th>75%</th>\n",
       "      <td>174.400000</td>\n",
       "      <td>191.175000</td>\n",
       "    </tr>\n",
       "    <tr>\n",
       "      <th>max</th>\n",
       "      <td>1255.300000</td>\n",
       "      <td>1362.000000</td>\n",
       "    </tr>\n",
       "  </tbody>\n",
       "</table>\n",
       "</div>"
      ],
      "text/plain": [
       "         Predicted       Actual\n",
       "count   442.000000   442.000000\n",
       "mean    138.243213   143.045928\n",
       "std     191.785703   213.756353\n",
       "min       2.600000     0.000000\n",
       "25%      27.325000     6.200000\n",
       "50%      62.950000    59.000000\n",
       "75%     174.400000   191.175000\n",
       "max    1255.300000  1362.000000"
      ]
     },
     "execution_count": 98,
     "metadata": {},
     "output_type": "execute_result"
    }
   ],
   "source": [
    "p = pd.DataFrame(data=yo,columns=['Predicted','Actual'])\n",
    "p.describe()"
   ]
  },
  {
   "cell_type": "markdown",
   "metadata": {},
   "source": [
    "# Result\n",
    "### This time the predictions are not as good as we got for just one state."
   ]
  },
  {
   "cell_type": "code",
   "execution_count": 99,
   "metadata": {},
   "outputs": [
    {
     "data": {
      "text/html": [
       "<div>\n",
       "<style>\n",
       "    .dataframe thead tr:only-child th {\n",
       "        text-align: right;\n",
       "    }\n",
       "\n",
       "    .dataframe thead th {\n",
       "        text-align: left;\n",
       "    }\n",
       "\n",
       "    .dataframe tbody tr th {\n",
       "        vertical-align: top;\n",
       "    }\n",
       "</style>\n",
       "<table border=\"1\" class=\"dataframe\">\n",
       "  <thead>\n",
       "    <tr style=\"text-align: right;\">\n",
       "      <th></th>\n",
       "      <th>Predicted</th>\n",
       "      <th>Actual</th>\n",
       "    </tr>\n",
       "  </thead>\n",
       "  <tbody>\n",
       "    <tr>\n",
       "      <th>0</th>\n",
       "      <td>28.1</td>\n",
       "      <td>107.0</td>\n",
       "    </tr>\n",
       "    <tr>\n",
       "      <th>1</th>\n",
       "      <td>100.0</td>\n",
       "      <td>90.0</td>\n",
       "    </tr>\n",
       "    <tr>\n",
       "      <th>2</th>\n",
       "      <td>127.2</td>\n",
       "      <td>123.3</td>\n",
       "    </tr>\n",
       "    <tr>\n",
       "      <th>3</th>\n",
       "      <td>83.7</td>\n",
       "      <td>112.5</td>\n",
       "    </tr>\n",
       "    <tr>\n",
       "      <th>4</th>\n",
       "      <td>46.6</td>\n",
       "      <td>23.2</td>\n",
       "    </tr>\n",
       "    <tr>\n",
       "      <th>5</th>\n",
       "      <td>17.9</td>\n",
       "      <td>0.8</td>\n",
       "    </tr>\n",
       "    <tr>\n",
       "      <th>6</th>\n",
       "      <td>12.8</td>\n",
       "      <td>0.3</td>\n",
       "    </tr>\n",
       "    <tr>\n",
       "      <th>7</th>\n",
       "      <td>64.3</td>\n",
       "      <td>59.0</td>\n",
       "    </tr>\n",
       "    <tr>\n",
       "      <th>8</th>\n",
       "      <td>66.3</td>\n",
       "      <td>3.2</td>\n",
       "    </tr>\n",
       "    <tr>\n",
       "      <th>9</th>\n",
       "      <td>157.0</td>\n",
       "      <td>214.1</td>\n",
       "    </tr>\n",
       "    <tr>\n",
       "      <th>10</th>\n",
       "      <td>33.6</td>\n",
       "      <td>76.2</td>\n",
       "    </tr>\n",
       "    <tr>\n",
       "      <th>11</th>\n",
       "      <td>281.2</td>\n",
       "      <td>413.1</td>\n",
       "    </tr>\n",
       "    <tr>\n",
       "      <th>12</th>\n",
       "      <td>166.1</td>\n",
       "      <td>215.6</td>\n",
       "    </tr>\n",
       "    <tr>\n",
       "      <th>13</th>\n",
       "      <td>178.2</td>\n",
       "      <td>2.2</td>\n",
       "    </tr>\n",
       "    <tr>\n",
       "      <th>14</th>\n",
       "      <td>232.5</td>\n",
       "      <td>262.9</td>\n",
       "    </tr>\n",
       "    <tr>\n",
       "      <th>15</th>\n",
       "      <td>55.9</td>\n",
       "      <td>25.4</td>\n",
       "    </tr>\n",
       "    <tr>\n",
       "      <th>16</th>\n",
       "      <td>43.6</td>\n",
       "      <td>38.8</td>\n",
       "    </tr>\n",
       "    <tr>\n",
       "      <th>17</th>\n",
       "      <td>37.2</td>\n",
       "      <td>81.7</td>\n",
       "    </tr>\n",
       "    <tr>\n",
       "      <th>18</th>\n",
       "      <td>696.6</td>\n",
       "      <td>804.9</td>\n",
       "    </tr>\n",
       "    <tr>\n",
       "      <th>19</th>\n",
       "      <td>151.6</td>\n",
       "      <td>125.2</td>\n",
       "    </tr>\n",
       "    <tr>\n",
       "      <th>20</th>\n",
       "      <td>319.8</td>\n",
       "      <td>358.0</td>\n",
       "    </tr>\n",
       "    <tr>\n",
       "      <th>21</th>\n",
       "      <td>262.7</td>\n",
       "      <td>307.1</td>\n",
       "    </tr>\n",
       "    <tr>\n",
       "      <th>22</th>\n",
       "      <td>354.4</td>\n",
       "      <td>391.0</td>\n",
       "    </tr>\n",
       "    <tr>\n",
       "      <th>23</th>\n",
       "      <td>112.4</td>\n",
       "      <td>94.4</td>\n",
       "    </tr>\n",
       "    <tr>\n",
       "      <th>24</th>\n",
       "      <td>63.0</td>\n",
       "      <td>76.3</td>\n",
       "    </tr>\n",
       "    <tr>\n",
       "      <th>25</th>\n",
       "      <td>177.2</td>\n",
       "      <td>125.9</td>\n",
       "    </tr>\n",
       "    <tr>\n",
       "      <th>26</th>\n",
       "      <td>38.8</td>\n",
       "      <td>39.1</td>\n",
       "    </tr>\n",
       "    <tr>\n",
       "      <th>27</th>\n",
       "      <td>112.4</td>\n",
       "      <td>64.9</td>\n",
       "    </tr>\n",
       "    <tr>\n",
       "      <th>28</th>\n",
       "      <td>34.2</td>\n",
       "      <td>27.4</td>\n",
       "    </tr>\n",
       "    <tr>\n",
       "      <th>29</th>\n",
       "      <td>74.9</td>\n",
       "      <td>65.1</td>\n",
       "    </tr>\n",
       "    <tr>\n",
       "      <th>...</th>\n",
       "      <td>...</td>\n",
       "      <td>...</td>\n",
       "    </tr>\n",
       "    <tr>\n",
       "      <th>412</th>\n",
       "      <td>56.2</td>\n",
       "      <td>283.7</td>\n",
       "    </tr>\n",
       "    <tr>\n",
       "      <th>413</th>\n",
       "      <td>89.0</td>\n",
       "      <td>93.3</td>\n",
       "    </tr>\n",
       "    <tr>\n",
       "      <th>414</th>\n",
       "      <td>166.1</td>\n",
       "      <td>105.8</td>\n",
       "    </tr>\n",
       "    <tr>\n",
       "      <th>415</th>\n",
       "      <td>229.5</td>\n",
       "      <td>392.0</td>\n",
       "    </tr>\n",
       "    <tr>\n",
       "      <th>416</th>\n",
       "      <td>36.4</td>\n",
       "      <td>25.4</td>\n",
       "    </tr>\n",
       "    <tr>\n",
       "      <th>417</th>\n",
       "      <td>205.3</td>\n",
       "      <td>171.6</td>\n",
       "    </tr>\n",
       "    <tr>\n",
       "      <th>418</th>\n",
       "      <td>50.4</td>\n",
       "      <td>152.3</td>\n",
       "    </tr>\n",
       "    <tr>\n",
       "      <th>419</th>\n",
       "      <td>13.9</td>\n",
       "      <td>0.9</td>\n",
       "    </tr>\n",
       "    <tr>\n",
       "      <th>420</th>\n",
       "      <td>19.5</td>\n",
       "      <td>0.0</td>\n",
       "    </tr>\n",
       "    <tr>\n",
       "      <th>421</th>\n",
       "      <td>139.3</td>\n",
       "      <td>67.5</td>\n",
       "    </tr>\n",
       "    <tr>\n",
       "      <th>422</th>\n",
       "      <td>28.2</td>\n",
       "      <td>8.0</td>\n",
       "    </tr>\n",
       "    <tr>\n",
       "      <th>423</th>\n",
       "      <td>336.9</td>\n",
       "      <td>293.0</td>\n",
       "    </tr>\n",
       "    <tr>\n",
       "      <th>424</th>\n",
       "      <td>14.5</td>\n",
       "      <td>0.8</td>\n",
       "    </tr>\n",
       "    <tr>\n",
       "      <th>425</th>\n",
       "      <td>165.5</td>\n",
       "      <td>188.7</td>\n",
       "    </tr>\n",
       "    <tr>\n",
       "      <th>426</th>\n",
       "      <td>105.2</td>\n",
       "      <td>163.8</td>\n",
       "    </tr>\n",
       "    <tr>\n",
       "      <th>427</th>\n",
       "      <td>46.9</td>\n",
       "      <td>27.1</td>\n",
       "    </tr>\n",
       "    <tr>\n",
       "      <th>428</th>\n",
       "      <td>13.8</td>\n",
       "      <td>0.0</td>\n",
       "    </tr>\n",
       "    <tr>\n",
       "      <th>429</th>\n",
       "      <td>87.3</td>\n",
       "      <td>65.3</td>\n",
       "    </tr>\n",
       "    <tr>\n",
       "      <th>430</th>\n",
       "      <td>40.6</td>\n",
       "      <td>15.3</td>\n",
       "    </tr>\n",
       "    <tr>\n",
       "      <th>431</th>\n",
       "      <td>193.5</td>\n",
       "      <td>204.3</td>\n",
       "    </tr>\n",
       "    <tr>\n",
       "      <th>432</th>\n",
       "      <td>183.7</td>\n",
       "      <td>119.2</td>\n",
       "    </tr>\n",
       "    <tr>\n",
       "      <th>433</th>\n",
       "      <td>69.2</td>\n",
       "      <td>6.1</td>\n",
       "    </tr>\n",
       "    <tr>\n",
       "      <th>434</th>\n",
       "      <td>15.0</td>\n",
       "      <td>1.2</td>\n",
       "    </tr>\n",
       "    <tr>\n",
       "      <th>435</th>\n",
       "      <td>18.8</td>\n",
       "      <td>0.0</td>\n",
       "    </tr>\n",
       "    <tr>\n",
       "      <th>436</th>\n",
       "      <td>84.2</td>\n",
       "      <td>109.3</td>\n",
       "    </tr>\n",
       "    <tr>\n",
       "      <th>437</th>\n",
       "      <td>41.6</td>\n",
       "      <td>10.7</td>\n",
       "    </tr>\n",
       "    <tr>\n",
       "      <th>438</th>\n",
       "      <td>193.7</td>\n",
       "      <td>211.6</td>\n",
       "    </tr>\n",
       "    <tr>\n",
       "      <th>439</th>\n",
       "      <td>33.0</td>\n",
       "      <td>11.3</td>\n",
       "    </tr>\n",
       "    <tr>\n",
       "      <th>440</th>\n",
       "      <td>194.3</td>\n",
       "      <td>213.0</td>\n",
       "    </tr>\n",
       "    <tr>\n",
       "      <th>441</th>\n",
       "      <td>181.0</td>\n",
       "      <td>264.0</td>\n",
       "    </tr>\n",
       "  </tbody>\n",
       "</table>\n",
       "<p>442 rows × 2 columns</p>\n",
       "</div>"
      ],
      "text/plain": [
       "     Predicted  Actual\n",
       "0         28.1   107.0\n",
       "1        100.0    90.0\n",
       "2        127.2   123.3\n",
       "3         83.7   112.5\n",
       "4         46.6    23.2\n",
       "5         17.9     0.8\n",
       "6         12.8     0.3\n",
       "7         64.3    59.0\n",
       "8         66.3     3.2\n",
       "9        157.0   214.1\n",
       "10        33.6    76.2\n",
       "11       281.2   413.1\n",
       "12       166.1   215.6\n",
       "13       178.2     2.2\n",
       "14       232.5   262.9\n",
       "15        55.9    25.4\n",
       "16        43.6    38.8\n",
       "17        37.2    81.7\n",
       "18       696.6   804.9\n",
       "19       151.6   125.2\n",
       "20       319.8   358.0\n",
       "21       262.7   307.1\n",
       "22       354.4   391.0\n",
       "23       112.4    94.4\n",
       "24        63.0    76.3\n",
       "25       177.2   125.9\n",
       "26        38.8    39.1\n",
       "27       112.4    64.9\n",
       "28        34.2    27.4\n",
       "29        74.9    65.1\n",
       "..         ...     ...\n",
       "412       56.2   283.7\n",
       "413       89.0    93.3\n",
       "414      166.1   105.8\n",
       "415      229.5   392.0\n",
       "416       36.4    25.4\n",
       "417      205.3   171.6\n",
       "418       50.4   152.3\n",
       "419       13.9     0.9\n",
       "420       19.5     0.0\n",
       "421      139.3    67.5\n",
       "422       28.2     8.0\n",
       "423      336.9   293.0\n",
       "424       14.5     0.8\n",
       "425      165.5   188.7\n",
       "426      105.2   163.8\n",
       "427       46.9    27.1\n",
       "428       13.8     0.0\n",
       "429       87.3    65.3\n",
       "430       40.6    15.3\n",
       "431      193.5   204.3\n",
       "432      183.7   119.2\n",
       "433       69.2     6.1\n",
       "434       15.0     1.2\n",
       "435       18.8     0.0\n",
       "436       84.2   109.3\n",
       "437       41.6    10.7\n",
       "438      193.7   211.6\n",
       "439       33.0    11.3\n",
       "440      194.3   213.0\n",
       "441      181.0   264.0\n",
       "\n",
       "[442 rows x 2 columns]"
      ]
     },
     "execution_count": 99,
     "metadata": {},
     "output_type": "execute_result"
    }
   ],
   "source": [
    "p"
   ]
  },
  {
   "cell_type": "markdown",
   "metadata": {},
   "source": [
    "### The range of the values is (0,1362) and rmse is 70.6\n",
    "We can say the results are decent but not good enough as we got with just one state."
   ]
  },
  {
   "cell_type": "code",
   "execution_count": 100,
   "metadata": {},
   "outputs": [
    {
     "data": {
      "text/plain": [
       "70.6282264795402"
      ]
     },
     "execution_count": 100,
     "metadata": {},
     "output_type": "execute_result"
    }
   ],
   "source": [
    "rmse/1000"
   ]
  }
 ],
 "metadata": {
  "kernelspec": {
   "display_name": "Python 3",
   "language": "python",
   "name": "python3"
  },
  "language_info": {
   "codemirror_mode": {
    "name": "ipython",
    "version": 3
   },
   "file_extension": ".py",
   "mimetype": "text/x-python",
   "name": "python",
   "nbconvert_exporter": "python",
   "pygments_lexer": "ipython3",
   "version": "3.6.1"
  }
 },
 "nbformat": 4,
 "nbformat_minor": 2
}
