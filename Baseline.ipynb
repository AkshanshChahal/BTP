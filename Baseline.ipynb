{
 "cells": [
  {
   "cell_type": "markdown",
   "metadata": {},
   "source": [
    "## Loading the dataset and preparing it"
   ]
  },
  {
   "cell_type": "code",
   "execution_count": 70,
   "metadata": {},
   "outputs": [],
   "source": [
    "import pandas as pd\n",
    "import numpy as np\n",
    "from sklearn.linear_model import LinearRegression\n",
    "from sklearn.model_selection import train_test_split\n",
    "from sklearn.metrics import mean_squared_error\n",
    "from math import sqrt"
   ]
  },
  {
   "cell_type": "markdown",
   "metadata": {},
   "source": [
    "First we will import the data as a DataFrame"
   ]
  },
  {
   "cell_type": "code",
   "execution_count": 71,
   "metadata": {},
   "outputs": [
    {
     "data": {
      "text/html": [
       "<div>\n",
       "<style>\n",
       "    .dataframe thead tr:only-child th {\n",
       "        text-align: right;\n",
       "    }\n",
       "\n",
       "    .dataframe thead th {\n",
       "        text-align: left;\n",
       "    }\n",
       "\n",
       "    .dataframe tbody tr th {\n",
       "        vertical-align: top;\n",
       "    }\n",
       "</style>\n",
       "<table border=\"1\" class=\"dataframe\">\n",
       "  <thead>\n",
       "    <tr style=\"text-align: right;\">\n",
       "      <th></th>\n",
       "      <th>State_Name</th>\n",
       "      <th>ind_district</th>\n",
       "      <th>Crop_Year</th>\n",
       "      <th>Season</th>\n",
       "      <th>Crop</th>\n",
       "      <th>Area</th>\n",
       "      <th>Production</th>\n",
       "      <th>Value</th>\n",
       "    </tr>\n",
       "  </thead>\n",
       "  <tbody>\n",
       "    <tr>\n",
       "      <th>0</th>\n",
       "      <td>Andaman and Nicobar Islands</td>\n",
       "      <td>NICOBARS</td>\n",
       "      <td>2000</td>\n",
       "      <td>Kharif</td>\n",
       "      <td>Rice</td>\n",
       "      <td>102.00</td>\n",
       "      <td>321.00</td>\n",
       "      <td>3.147059</td>\n",
       "    </tr>\n",
       "    <tr>\n",
       "      <th>1</th>\n",
       "      <td>Andaman and Nicobar Islands</td>\n",
       "      <td>NICOBARS</td>\n",
       "      <td>2001</td>\n",
       "      <td>Kharif</td>\n",
       "      <td>Rice</td>\n",
       "      <td>83.00</td>\n",
       "      <td>300.00</td>\n",
       "      <td>3.614458</td>\n",
       "    </tr>\n",
       "    <tr>\n",
       "      <th>2</th>\n",
       "      <td>Andaman and Nicobar Islands</td>\n",
       "      <td>NICOBARS</td>\n",
       "      <td>2002</td>\n",
       "      <td>Kharif</td>\n",
       "      <td>Rice</td>\n",
       "      <td>189.20</td>\n",
       "      <td>510.84</td>\n",
       "      <td>2.700000</td>\n",
       "    </tr>\n",
       "    <tr>\n",
       "      <th>3</th>\n",
       "      <td>Andaman and Nicobar Islands</td>\n",
       "      <td>NICOBARS</td>\n",
       "      <td>2003</td>\n",
       "      <td>Kharif</td>\n",
       "      <td>Rice</td>\n",
       "      <td>52.00</td>\n",
       "      <td>90.17</td>\n",
       "      <td>1.734038</td>\n",
       "    </tr>\n",
       "    <tr>\n",
       "      <th>4</th>\n",
       "      <td>Andaman and Nicobar Islands</td>\n",
       "      <td>NICOBARS</td>\n",
       "      <td>2004</td>\n",
       "      <td>Kharif</td>\n",
       "      <td>Rice</td>\n",
       "      <td>52.94</td>\n",
       "      <td>72.57</td>\n",
       "      <td>1.370797</td>\n",
       "    </tr>\n",
       "  </tbody>\n",
       "</table>\n",
       "</div>"
      ],
      "text/plain": [
       "                    State_Name ind_district  Crop_Year       Season  Crop  \\\n",
       "0  Andaman and Nicobar Islands     NICOBARS       2000  Kharif       Rice   \n",
       "1  Andaman and Nicobar Islands     NICOBARS       2001  Kharif       Rice   \n",
       "2  Andaman and Nicobar Islands     NICOBARS       2002  Kharif       Rice   \n",
       "3  Andaman and Nicobar Islands     NICOBARS       2003  Kharif       Rice   \n",
       "4  Andaman and Nicobar Islands     NICOBARS       2004  Kharif       Rice   \n",
       "\n",
       "     Area  Production     Value  \n",
       "0  102.00      321.00  3.147059  \n",
       "1   83.00      300.00  3.614458  \n",
       "2  189.20      510.84  2.700000  \n",
       "3   52.00       90.17  1.734038  \n",
       "4   52.94       72.57  1.370797  "
      ]
     },
     "execution_count": 71,
     "metadata": {},
     "output_type": "execute_result"
    }
   ],
   "source": [
    "rice = pd.read_csv(\"/Users/macbook/Documents/BTP/Notebook/Rice.csv\")\n",
    "rice.head()"
   ]
  },
  {
   "cell_type": "code",
   "execution_count": 72,
   "metadata": {},
   "outputs": [
    {
     "data": {
      "text/html": [
       "<div>\n",
       "<style>\n",
       "    .dataframe thead tr:only-child th {\n",
       "        text-align: right;\n",
       "    }\n",
       "\n",
       "    .dataframe thead th {\n",
       "        text-align: left;\n",
       "    }\n",
       "\n",
       "    .dataframe tbody tr th {\n",
       "        vertical-align: top;\n",
       "    }\n",
       "</style>\n",
       "<table border=\"1\" class=\"dataframe\">\n",
       "  <thead>\n",
       "    <tr style=\"text-align: right;\">\n",
       "      <th></th>\n",
       "      <th>State_Name</th>\n",
       "      <th>ind_district</th>\n",
       "      <th>Crop_Year</th>\n",
       "      <th>Season</th>\n",
       "      <th>Crop</th>\n",
       "      <th>Area</th>\n",
       "      <th>Production</th>\n",
       "      <th>Value</th>\n",
       "    </tr>\n",
       "  </thead>\n",
       "  <tbody>\n",
       "    <tr>\n",
       "      <th>4210</th>\n",
       "      <td>Haryana</td>\n",
       "      <td>AMBALA</td>\n",
       "      <td>1997</td>\n",
       "      <td>Kharif</td>\n",
       "      <td>Rice</td>\n",
       "      <td>65000.0</td>\n",
       "      <td>182000.0</td>\n",
       "      <td>2.800000</td>\n",
       "    </tr>\n",
       "    <tr>\n",
       "      <th>4211</th>\n",
       "      <td>Haryana</td>\n",
       "      <td>AMBALA</td>\n",
       "      <td>1998</td>\n",
       "      <td>Kharif</td>\n",
       "      <td>Rice</td>\n",
       "      <td>71365.0</td>\n",
       "      <td>186000.0</td>\n",
       "      <td>2.606320</td>\n",
       "    </tr>\n",
       "    <tr>\n",
       "      <th>4212</th>\n",
       "      <td>Haryana</td>\n",
       "      <td>AMBALA</td>\n",
       "      <td>1999</td>\n",
       "      <td>Kharif</td>\n",
       "      <td>Rice</td>\n",
       "      <td>72185.0</td>\n",
       "      <td>206000.0</td>\n",
       "      <td>2.853778</td>\n",
       "    </tr>\n",
       "    <tr>\n",
       "      <th>4213</th>\n",
       "      <td>Haryana</td>\n",
       "      <td>AMBALA</td>\n",
       "      <td>2000</td>\n",
       "      <td>Kharif</td>\n",
       "      <td>Rice</td>\n",
       "      <td>71840.0</td>\n",
       "      <td>217000.0</td>\n",
       "      <td>3.020601</td>\n",
       "    </tr>\n",
       "    <tr>\n",
       "      <th>4214</th>\n",
       "      <td>Haryana</td>\n",
       "      <td>AMBALA</td>\n",
       "      <td>2001</td>\n",
       "      <td>Kharif</td>\n",
       "      <td>Rice</td>\n",
       "      <td>74881.0</td>\n",
       "      <td>233000.0</td>\n",
       "      <td>3.111604</td>\n",
       "    </tr>\n",
       "  </tbody>\n",
       "</table>\n",
       "</div>"
      ],
      "text/plain": [
       "     State_Name ind_district  Crop_Year       Season  Crop     Area  \\\n",
       "4210    Haryana       AMBALA       1997  Kharif       Rice  65000.0   \n",
       "4211    Haryana       AMBALA       1998  Kharif       Rice  71365.0   \n",
       "4212    Haryana       AMBALA       1999  Kharif       Rice  72185.0   \n",
       "4213    Haryana       AMBALA       2000  Kharif       Rice  71840.0   \n",
       "4214    Haryana       AMBALA       2001  Kharif       Rice  74881.0   \n",
       "\n",
       "      Production     Value  \n",
       "4210    182000.0  2.800000  \n",
       "4211    186000.0  2.606320  \n",
       "4212    206000.0  2.853778  \n",
       "4213    217000.0  3.020601  \n",
       "4214    233000.0  3.111604  "
      ]
     },
     "execution_count": 72,
     "metadata": {},
     "output_type": "execute_result"
    }
   ],
   "source": [
    "rice_haryana = rice[rice[\"State_Name\"]==\"Haryana\"]\n",
    "rice_haryana.head()"
   ]
  },
  {
   "cell_type": "code",
   "execution_count": 73,
   "metadata": {},
   "outputs": [
    {
     "data": {
      "text/html": [
       "<div>\n",
       "<style>\n",
       "    .dataframe thead tr:only-child th {\n",
       "        text-align: right;\n",
       "    }\n",
       "\n",
       "    .dataframe thead th {\n",
       "        text-align: left;\n",
       "    }\n",
       "\n",
       "    .dataframe tbody tr th {\n",
       "        vertical-align: top;\n",
       "    }\n",
       "</style>\n",
       "<table border=\"1\" class=\"dataframe\">\n",
       "  <thead>\n",
       "    <tr style=\"text-align: right;\">\n",
       "      <th></th>\n",
       "      <th>State</th>\n",
       "      <th>District</th>\n",
       "      <th>Year</th>\n",
       "      <th>Value</th>\n",
       "    </tr>\n",
       "  </thead>\n",
       "  <tbody>\n",
       "    <tr>\n",
       "      <th>0</th>\n",
       "      <td>Andhra Pradesh</td>\n",
       "      <td>Adilabad</td>\n",
       "      <td>1994</td>\n",
       "      <td>1199.447</td>\n",
       "    </tr>\n",
       "    <tr>\n",
       "      <th>1</th>\n",
       "      <td>Andhra Pradesh</td>\n",
       "      <td>Adilabad</td>\n",
       "      <td>1995</td>\n",
       "      <td>1255.561</td>\n",
       "    </tr>\n",
       "    <tr>\n",
       "      <th>2</th>\n",
       "      <td>Andhra Pradesh</td>\n",
       "      <td>Adilabad</td>\n",
       "      <td>1996</td>\n",
       "      <td>1081.171</td>\n",
       "    </tr>\n",
       "    <tr>\n",
       "      <th>3</th>\n",
       "      <td>Andhra Pradesh</td>\n",
       "      <td>Adilabad</td>\n",
       "      <td>1997</td>\n",
       "      <td>905.718</td>\n",
       "    </tr>\n",
       "    <tr>\n",
       "      <th>4</th>\n",
       "      <td>Andhra Pradesh</td>\n",
       "      <td>Adilabad</td>\n",
       "      <td>1998</td>\n",
       "      <td>1128.950</td>\n",
       "    </tr>\n",
       "  </tbody>\n",
       "</table>\n",
       "</div>"
      ],
      "text/plain": [
       "            State  District  Year     Value\n",
       "0  Andhra Pradesh  Adilabad  1994  1199.447\n",
       "1  Andhra Pradesh  Adilabad  1995  1255.561\n",
       "2  Andhra Pradesh  Adilabad  1996  1081.171\n",
       "3  Andhra Pradesh  Adilabad  1997   905.718\n",
       "4  Andhra Pradesh  Adilabad  1998  1128.950"
      ]
     },
     "execution_count": 73,
     "metadata": {},
     "output_type": "execute_result"
    }
   ],
   "source": [
    "rainfall = pd.read_csv(\"/Users/macbook/Documents/BTP/Notebook/rainfall.csv\")\n",
    "rainfall.head()"
   ]
  },
  {
   "cell_type": "code",
   "execution_count": 74,
   "metadata": {},
   "outputs": [
    {
     "name": "stdout",
     "output_type": "stream",
     "text": [
      "        State District  Year    Value\n",
      "1179  Haryana   Ambala  1994  620.808\n",
      "1180  Haryana   Ambala  1995  832.320\n",
      "1181  Haryana   Ambala  1996  784.208\n",
      "1182  Haryana   Ambala  1997  784.650\n",
      "1183  Haryana   Ambala  1998  649.086\n",
      "              Year       Value\n",
      "count   171.000000  171.000000\n",
      "mean   1998.000000  531.810170\n",
      "std       2.589572  165.230096\n",
      "min    1994.000000  166.299000\n",
      "25%    1996.000000  420.334500\n",
      "50%    1998.000000  531.747000\n",
      "75%    2000.000000  646.928500\n",
      "max    2002.000000  895.146000\n"
     ]
    }
   ],
   "source": [
    "rain_haryana = rainfall[rainfall[\"State\"]==\"Haryana\"]\n",
    "print(rain_haryana.head())\n",
    "print(rain_haryana.describe())"
   ]
  },
  {
   "cell_type": "code",
   "execution_count": 75,
   "metadata": {},
   "outputs": [
    {
     "data": {
      "text/html": [
       "<div>\n",
       "<style>\n",
       "    .dataframe thead tr:only-child th {\n",
       "        text-align: right;\n",
       "    }\n",
       "\n",
       "    .dataframe thead th {\n",
       "        text-align: left;\n",
       "    }\n",
       "\n",
       "    .dataframe tbody tr th {\n",
       "        vertical-align: top;\n",
       "    }\n",
       "</style>\n",
       "<table border=\"1\" class=\"dataframe\">\n",
       "  <thead>\n",
       "    <tr style=\"text-align: right;\">\n",
       "      <th></th>\n",
       "      <th>ind_district</th>\n",
       "      <th>Crop_Year</th>\n",
       "      <th>Y</th>\n",
       "      <th>X1</th>\n",
       "      <th>X2</th>\n",
       "      <th>X3</th>\n",
       "      <th>X4</th>\n",
       "    </tr>\n",
       "  </thead>\n",
       "  <tbody>\n",
       "    <tr>\n",
       "      <th>0</th>\n",
       "      <td>AMBALA</td>\n",
       "      <td>1997</td>\n",
       "      <td>182000.0</td>\n",
       "      <td>NaN</td>\n",
       "      <td>NaN</td>\n",
       "      <td>784.650</td>\n",
       "      <td>784.208</td>\n",
       "    </tr>\n",
       "    <tr>\n",
       "      <th>1</th>\n",
       "      <td>AMBALA</td>\n",
       "      <td>1998</td>\n",
       "      <td>186000.0</td>\n",
       "      <td>182000.0</td>\n",
       "      <td>NaN</td>\n",
       "      <td>649.086</td>\n",
       "      <td>784.650</td>\n",
       "    </tr>\n",
       "    <tr>\n",
       "      <th>2</th>\n",
       "      <td>AMBALA</td>\n",
       "      <td>1999</td>\n",
       "      <td>206000.0</td>\n",
       "      <td>186000.0</td>\n",
       "      <td>182000.0</td>\n",
       "      <td>396.134</td>\n",
       "      <td>649.086</td>\n",
       "    </tr>\n",
       "    <tr>\n",
       "      <th>3</th>\n",
       "      <td>AMBALA</td>\n",
       "      <td>2000</td>\n",
       "      <td>217000.0</td>\n",
       "      <td>206000.0</td>\n",
       "      <td>186000.0</td>\n",
       "      <td>593.737</td>\n",
       "      <td>396.134</td>\n",
       "    </tr>\n",
       "    <tr>\n",
       "      <th>4</th>\n",
       "      <td>AMBALA</td>\n",
       "      <td>2001</td>\n",
       "      <td>233000.0</td>\n",
       "      <td>217000.0</td>\n",
       "      <td>206000.0</td>\n",
       "      <td>469.118</td>\n",
       "      <td>593.737</td>\n",
       "    </tr>\n",
       "  </tbody>\n",
       "</table>\n",
       "</div>"
      ],
      "text/plain": [
       "  ind_district  Crop_Year         Y        X1        X2       X3       X4\n",
       "0       AMBALA       1997  182000.0       NaN       NaN  784.650  784.208\n",
       "1       AMBALA       1998  186000.0  182000.0       NaN  649.086  784.650\n",
       "2       AMBALA       1999  206000.0  186000.0  182000.0  396.134  649.086\n",
       "3       AMBALA       2000  217000.0  206000.0  186000.0  593.737  396.134\n",
       "4       AMBALA       2001  233000.0  217000.0  206000.0  469.118  593.737"
      ]
     },
     "execution_count": 75,
     "metadata": {},
     "output_type": "execute_result"
    }
   ],
   "source": [
    "X_hr = pd.read_csv(\"/Users/macbook/Documents/BTP/Notebook/haryana.csv\")\n",
    "X_hr.head()"
   ]
  },
  {
   "cell_type": "code",
   "execution_count": 76,
   "metadata": {},
   "outputs": [
    {
     "data": {
      "text/html": [
       "<div>\n",
       "<style>\n",
       "    .dataframe thead tr:only-child th {\n",
       "        text-align: right;\n",
       "    }\n",
       "\n",
       "    .dataframe thead th {\n",
       "        text-align: left;\n",
       "    }\n",
       "\n",
       "    .dataframe tbody tr th {\n",
       "        vertical-align: top;\n",
       "    }\n",
       "</style>\n",
       "<table border=\"1\" class=\"dataframe\">\n",
       "  <thead>\n",
       "    <tr style=\"text-align: right;\">\n",
       "      <th></th>\n",
       "      <th>ind_district</th>\n",
       "      <th>Crop_Year</th>\n",
       "      <th>Y</th>\n",
       "      <th>X1</th>\n",
       "      <th>X2</th>\n",
       "      <th>X3</th>\n",
       "      <th>X4</th>\n",
       "    </tr>\n",
       "  </thead>\n",
       "  <tbody>\n",
       "    <tr>\n",
       "      <th>2</th>\n",
       "      <td>AMBALA</td>\n",
       "      <td>1999</td>\n",
       "      <td>206000.0</td>\n",
       "      <td>186000.0</td>\n",
       "      <td>182000.0</td>\n",
       "      <td>396.134</td>\n",
       "      <td>649.086</td>\n",
       "    </tr>\n",
       "    <tr>\n",
       "      <th>3</th>\n",
       "      <td>AMBALA</td>\n",
       "      <td>2000</td>\n",
       "      <td>217000.0</td>\n",
       "      <td>206000.0</td>\n",
       "      <td>186000.0</td>\n",
       "      <td>593.737</td>\n",
       "      <td>396.134</td>\n",
       "    </tr>\n",
       "    <tr>\n",
       "      <th>4</th>\n",
       "      <td>AMBALA</td>\n",
       "      <td>2001</td>\n",
       "      <td>233000.0</td>\n",
       "      <td>217000.0</td>\n",
       "      <td>206000.0</td>\n",
       "      <td>469.118</td>\n",
       "      <td>593.737</td>\n",
       "    </tr>\n",
       "    <tr>\n",
       "      <th>5</th>\n",
       "      <td>AMBALA</td>\n",
       "      <td>2002</td>\n",
       "      <td>183000.0</td>\n",
       "      <td>233000.0</td>\n",
       "      <td>217000.0</td>\n",
       "      <td>476.752</td>\n",
       "      <td>469.118</td>\n",
       "    </tr>\n",
       "    <tr>\n",
       "      <th>8</th>\n",
       "      <td>AMBALA</td>\n",
       "      <td>2005</td>\n",
       "      <td>254000.0</td>\n",
       "      <td>233000.0</td>\n",
       "      <td>227000.0</td>\n",
       "      <td>1058.400</td>\n",
       "      <td>1202.900</td>\n",
       "    </tr>\n",
       "  </tbody>\n",
       "</table>\n",
       "</div>"
      ],
      "text/plain": [
       "  ind_district  Crop_Year         Y        X1        X2        X3        X4\n",
       "2       AMBALA       1999  206000.0  186000.0  182000.0   396.134   649.086\n",
       "3       AMBALA       2000  217000.0  206000.0  186000.0   593.737   396.134\n",
       "4       AMBALA       2001  233000.0  217000.0  206000.0   469.118   593.737\n",
       "5       AMBALA       2002  183000.0  233000.0  217000.0   476.752   469.118\n",
       "8       AMBALA       2005  254000.0  233000.0  227000.0  1058.400  1202.900"
      ]
     },
     "execution_count": 76,
     "metadata": {},
     "output_type": "execute_result"
    }
   ],
   "source": [
    "X_finite = X_hr[np.isfinite(X_hr[\"X1\"])]\n",
    "X_finite = X_finite[np.isfinite(X_finite[\"X2\"])]\n",
    "X_finite = X_finite[np.isfinite(X_finite[\"X3\"])]\n",
    "X_finite = X_finite[np.isfinite(X_finite[\"X4\"])]\n",
    "X_finite = X_finite[np.isfinite(X_finite[\"Y\"])]\n",
    "X_finite.head()"
   ]
  },
  {
   "cell_type": "code",
   "execution_count": 77,
   "metadata": {},
   "outputs": [
    {
     "data": {
      "text/html": [
       "<div>\n",
       "<style>\n",
       "    .dataframe thead tr:only-child th {\n",
       "        text-align: right;\n",
       "    }\n",
       "\n",
       "    .dataframe thead th {\n",
       "        text-align: left;\n",
       "    }\n",
       "\n",
       "    .dataframe tbody tr th {\n",
       "        vertical-align: top;\n",
       "    }\n",
       "</style>\n",
       "<table border=\"1\" class=\"dataframe\">\n",
       "  <thead>\n",
       "    <tr style=\"text-align: right;\">\n",
       "      <th></th>\n",
       "      <th>Crop_Year</th>\n",
       "      <th>Y</th>\n",
       "      <th>X1</th>\n",
       "      <th>X2</th>\n",
       "      <th>X3</th>\n",
       "      <th>X4</th>\n",
       "    </tr>\n",
       "  </thead>\n",
       "  <tbody>\n",
       "    <tr>\n",
       "      <th>count</th>\n",
       "      <td>127.000000</td>\n",
       "      <td>127.000000</td>\n",
       "      <td>127.000000</td>\n",
       "      <td>127.000000</td>\n",
       "      <td>127.000000</td>\n",
       "      <td>127.000000</td>\n",
       "    </tr>\n",
       "    <tr>\n",
       "      <th>mean</th>\n",
       "      <td>2004.204724</td>\n",
       "      <td>182771.653543</td>\n",
       "      <td>181007.874016</td>\n",
       "      <td>174322.834646</td>\n",
       "      <td>489.894449</td>\n",
       "      <td>502.577819</td>\n",
       "    </tr>\n",
       "    <tr>\n",
       "      <th>std</th>\n",
       "      <td>3.733883</td>\n",
       "      <td>147264.161147</td>\n",
       "      <td>147414.085609</td>\n",
       "      <td>142965.856835</td>\n",
       "      <td>211.255550</td>\n",
       "      <td>190.321342</td>\n",
       "    </tr>\n",
       "    <tr>\n",
       "      <th>min</th>\n",
       "      <td>1999.000000</td>\n",
       "      <td>3000.000000</td>\n",
       "      <td>2000.000000</td>\n",
       "      <td>2000.000000</td>\n",
       "      <td>126.300000</td>\n",
       "      <td>126.300000</td>\n",
       "    </tr>\n",
       "    <tr>\n",
       "      <th>25%</th>\n",
       "      <td>2001.000000</td>\n",
       "      <td>49000.000000</td>\n",
       "      <td>52500.000000</td>\n",
       "      <td>55500.000000</td>\n",
       "      <td>342.916000</td>\n",
       "      <td>362.211500</td>\n",
       "    </tr>\n",
       "    <tr>\n",
       "      <th>50%</th>\n",
       "      <td>2005.000000</td>\n",
       "      <td>166000.000000</td>\n",
       "      <td>164000.000000</td>\n",
       "      <td>160000.000000</td>\n",
       "      <td>458.600000</td>\n",
       "      <td>486.380000</td>\n",
       "    </tr>\n",
       "    <tr>\n",
       "      <th>75%</th>\n",
       "      <td>2007.000000</td>\n",
       "      <td>251500.000000</td>\n",
       "      <td>240500.000000</td>\n",
       "      <td>227000.000000</td>\n",
       "      <td>573.491500</td>\n",
       "      <td>605.301500</td>\n",
       "    </tr>\n",
       "    <tr>\n",
       "      <th>max</th>\n",
       "      <td>2010.000000</td>\n",
       "      <td>610000.000000</td>\n",
       "      <td>610000.000000</td>\n",
       "      <td>610000.000000</td>\n",
       "      <td>1433.900000</td>\n",
       "      <td>1227.900000</td>\n",
       "    </tr>\n",
       "  </tbody>\n",
       "</table>\n",
       "</div>"
      ],
      "text/plain": [
       "         Crop_Year              Y             X1             X2           X3  \\\n",
       "count   127.000000     127.000000     127.000000     127.000000   127.000000   \n",
       "mean   2004.204724  182771.653543  181007.874016  174322.834646   489.894449   \n",
       "std       3.733883  147264.161147  147414.085609  142965.856835   211.255550   \n",
       "min    1999.000000    3000.000000    2000.000000    2000.000000   126.300000   \n",
       "25%    2001.000000   49000.000000   52500.000000   55500.000000   342.916000   \n",
       "50%    2005.000000  166000.000000  164000.000000  160000.000000   458.600000   \n",
       "75%    2007.000000  251500.000000  240500.000000  227000.000000   573.491500   \n",
       "max    2010.000000  610000.000000  610000.000000  610000.000000  1433.900000   \n",
       "\n",
       "                X4  \n",
       "count   127.000000  \n",
       "mean    502.577819  \n",
       "std     190.321342  \n",
       "min     126.300000  \n",
       "25%     362.211500  \n",
       "50%     486.380000  \n",
       "75%     605.301500  \n",
       "max    1227.900000  "
      ]
     },
     "execution_count": 77,
     "metadata": {},
     "output_type": "execute_result"
    }
   ],
   "source": [
    "Xn = X_finite\n",
    "Xn.describe()"
   ]
  },
  {
   "cell_type": "code",
   "execution_count": 78,
   "metadata": {
    "scrolled": true
   },
   "outputs": [
    {
     "data": {
      "text/html": [
       "<div>\n",
       "<style>\n",
       "    .dataframe thead tr:only-child th {\n",
       "        text-align: right;\n",
       "    }\n",
       "\n",
       "    .dataframe thead th {\n",
       "        text-align: left;\n",
       "    }\n",
       "\n",
       "    .dataframe tbody tr th {\n",
       "        vertical-align: top;\n",
       "    }\n",
       "</style>\n",
       "<table border=\"1\" class=\"dataframe\">\n",
       "  <thead>\n",
       "    <tr style=\"text-align: right;\">\n",
       "      <th></th>\n",
       "      <th>X1</th>\n",
       "      <th>X2</th>\n",
       "      <th>X3</th>\n",
       "      <th>X4</th>\n",
       "    </tr>\n",
       "  </thead>\n",
       "  <tbody>\n",
       "    <tr>\n",
       "      <th>2</th>\n",
       "      <td>186000.0</td>\n",
       "      <td>182000.0</td>\n",
       "      <td>396.134</td>\n",
       "      <td>649.086</td>\n",
       "    </tr>\n",
       "    <tr>\n",
       "      <th>3</th>\n",
       "      <td>206000.0</td>\n",
       "      <td>186000.0</td>\n",
       "      <td>593.737</td>\n",
       "      <td>396.134</td>\n",
       "    </tr>\n",
       "    <tr>\n",
       "      <th>4</th>\n",
       "      <td>217000.0</td>\n",
       "      <td>206000.0</td>\n",
       "      <td>469.118</td>\n",
       "      <td>593.737</td>\n",
       "    </tr>\n",
       "    <tr>\n",
       "      <th>5</th>\n",
       "      <td>233000.0</td>\n",
       "      <td>217000.0</td>\n",
       "      <td>476.752</td>\n",
       "      <td>469.118</td>\n",
       "    </tr>\n",
       "    <tr>\n",
       "      <th>8</th>\n",
       "      <td>233000.0</td>\n",
       "      <td>227000.0</td>\n",
       "      <td>1058.400</td>\n",
       "      <td>1202.900</td>\n",
       "    </tr>\n",
       "  </tbody>\n",
       "</table>\n",
       "</div>"
      ],
      "text/plain": [
       "         X1        X2        X3        X4\n",
       "2  186000.0  182000.0   396.134   649.086\n",
       "3  206000.0  186000.0   593.737   396.134\n",
       "4  217000.0  206000.0   469.118   593.737\n",
       "5  233000.0  217000.0   476.752   469.118\n",
       "8  233000.0  227000.0  1058.400  1202.900"
      ]
     },
     "execution_count": 78,
     "metadata": {},
     "output_type": "execute_result"
    }
   ],
   "source": [
    "y = Xn[\"Y\"]\n",
    "X = Xn[[\"X1\", \"X2\", \"X3\", \"X4\"]]\n",
    "X.head()"
   ]
  },
  {
   "cell_type": "code",
   "execution_count": 79,
   "metadata": {},
   "outputs": [],
   "source": [
    "X_train, X_test, y_train, y_test = train_test_split(X, y, test_size=0.2, random_state=1)"
   ]
  },
  {
   "cell_type": "code",
   "execution_count": 80,
   "metadata": {},
   "outputs": [
    {
     "data": {
      "text/plain": [
       "LinearRegression(copy_X=True, fit_intercept=True, n_jobs=1, normalize=False)"
      ]
     },
     "execution_count": 80,
     "metadata": {},
     "output_type": "execute_result"
    }
   ],
   "source": [
    "alg = LinearRegression()\n",
    "alg.fit(X_train, y_train)"
   ]
  },
  {
   "cell_type": "code",
   "execution_count": 81,
   "metadata": {},
   "outputs": [
    {
     "data": {
      "text/plain": [
       "{'copy_X': True, 'fit_intercept': True, 'n_jobs': 1, 'normalize': False}"
      ]
     },
     "execution_count": 81,
     "metadata": {},
     "output_type": "execute_result"
    }
   ],
   "source": [
    "alg.get_params()"
   ]
  },
  {
   "cell_type": "code",
   "execution_count": 82,
   "metadata": {},
   "outputs": [
    {
     "data": {
      "text/plain": [
       "0.960019327673997"
      ]
     },
     "execution_count": 82,
     "metadata": {},
     "output_type": "execute_result"
    }
   ],
   "source": [
    "alg.score(X_test, y_test)"
   ]
  },
  {
   "cell_type": "code",
   "execution_count": 83,
   "metadata": {},
   "outputs": [
    {
     "name": "stdout",
     "output_type": "stream",
     "text": [
      "[ 190794.71627631  217357.86281974  430244.11225409   34235.77445793\n",
      "  173184.31231535  360274.88117369  167266.09021242  165546.55770286\n",
      "  152646.11504628  118061.29497398   29735.9087492   277750.05318838\n",
      "  230629.83462277  105900.85813017  229157.1298069   166327.39577958\n",
      "  433826.46108864  193360.2502063   227889.65362064  215576.84026052\n",
      "  380778.16929633  175204.90646006  148388.15085371  216826.50794372\n",
      "   19538.54418833   54035.97031606]\n"
     ]
    }
   ],
   "source": [
    "y_predict = alg.predict(X_test)\n",
    "print(y_predict)"
   ]
  },
  {
   "cell_type": "code",
   "execution_count": 84,
   "metadata": {},
   "outputs": [
    {
     "name": "stdout",
     "output_type": "stream",
     "text": [
      "244    200000.0\n",
      "84     222000.0\n",
      "138    460000.0\n",
      "193      8000.0\n",
      "214    189000.0\n",
      "99     391000.0\n",
      "241    151000.0\n",
      "213    175000.0\n",
      "238    160000.0\n",
      "76      94000.0\n",
      "196     36000.0\n",
      "93     284000.0\n",
      "248    267000.0\n",
      "67      63000.0\n",
      "82     205000.0\n",
      "240    161000.0\n",
      "141    383000.0\n",
      "216    204000.0\n",
      "247    221000.0\n",
      "4      233000.0\n",
      "100    402000.0\n",
      "230    192000.0\n",
      "229    178000.0\n",
      "88     258000.0\n",
      "61      14000.0\n",
      "200     50000.0\n",
      "Name: Y, dtype: float64\n"
     ]
    }
   ],
   "source": [
    "print(y_test)"
   ]
  },
  {
   "cell_type": "code",
   "execution_count": 85,
   "metadata": {},
   "outputs": [
    {
     "name": "stdout",
     "output_type": "stream",
     "text": [
      "23298.873778861078\n"
     ]
    }
   ],
   "source": [
    "rmse = sqrt(mean_squared_error(y_predict, y_test))\n",
    "print(rmse)"
   ]
  },
  {
   "cell_type": "code",
   "execution_count": 86,
   "metadata": {},
   "outputs": [
    {
     "name": "stdout",
     "output_type": "stream",
     "text": [
      "<class 'numpy.ndarray'>\n",
      "[ 200000.  222000.  460000.    8000.  189000.  391000.  151000.  175000.\n",
      "  160000.   94000.   36000.  284000.  267000.   63000.  205000.  161000.\n",
      "  383000.  204000.  221000.  233000.  402000.  192000.  178000.  258000.\n",
      "   14000.   50000.]\n"
     ]
    },
    {
     "data": {
      "text/plain": [
       "244    200000.0\n",
       "84     222000.0\n",
       "138    460000.0\n",
       "193      8000.0\n",
       "214    189000.0\n",
       "99     391000.0\n",
       "241    151000.0\n",
       "213    175000.0\n",
       "238    160000.0\n",
       "76      94000.0\n",
       "196     36000.0\n",
       "93     284000.0\n",
       "248    267000.0\n",
       "67      63000.0\n",
       "82     205000.0\n",
       "240    161000.0\n",
       "141    383000.0\n",
       "216    204000.0\n",
       "247    221000.0\n",
       "4      233000.0\n",
       "100    402000.0\n",
       "230    192000.0\n",
       "229    178000.0\n",
       "88     258000.0\n",
       "61      14000.0\n",
       "200     50000.0\n",
       "Name: Y, dtype: float64"
      ]
     },
     "execution_count": 86,
     "metadata": {},
     "output_type": "execute_result"
    }
   ],
   "source": [
    "# print(type(y_test))\n",
    "# print(type(y_predict))\n",
    "yt = y_test.as_matrix()\n",
    "print(type(yt))\n",
    "print(yt)\n",
    "y_test"
   ]
  },
  {
   "cell_type": "code",
   "execution_count": 94,
   "metadata": {},
   "outputs": [
    {
     "data": {
      "text/html": [
       "<div>\n",
       "<style>\n",
       "    .dataframe thead tr:only-child th {\n",
       "        text-align: right;\n",
       "    }\n",
       "\n",
       "    .dataframe thead th {\n",
       "        text-align: left;\n",
       "    }\n",
       "\n",
       "    .dataframe tbody tr th {\n",
       "        vertical-align: top;\n",
       "    }\n",
       "</style>\n",
       "<table border=\"1\" class=\"dataframe\">\n",
       "  <thead>\n",
       "    <tr style=\"text-align: right;\">\n",
       "      <th></th>\n",
       "      <th>y_predicted</th>\n",
       "      <th>y_test</th>\n",
       "    </tr>\n",
       "  </thead>\n",
       "  <tbody>\n",
       "    <tr>\n",
       "      <th>count</th>\n",
       "      <td>26.000000</td>\n",
       "      <td>26.000000</td>\n",
       "    </tr>\n",
       "    <tr>\n",
       "      <th>mean</th>\n",
       "      <td>196.711538</td>\n",
       "      <td>200.038462</td>\n",
       "    </tr>\n",
       "    <tr>\n",
       "      <th>std</th>\n",
       "      <td>111.520955</td>\n",
       "      <td>118.830124</td>\n",
       "    </tr>\n",
       "    <tr>\n",
       "      <th>min</th>\n",
       "      <td>19.500000</td>\n",
       "      <td>8.000000</td>\n",
       "    </tr>\n",
       "    <tr>\n",
       "      <th>25%</th>\n",
       "      <td>149.450000</td>\n",
       "      <td>153.250000</td>\n",
       "    </tr>\n",
       "    <tr>\n",
       "      <th>50%</th>\n",
       "      <td>183.000000</td>\n",
       "      <td>196.000000</td>\n",
       "    </tr>\n",
       "    <tr>\n",
       "      <th>75%</th>\n",
       "      <td>228.875000</td>\n",
       "      <td>251.750000</td>\n",
       "    </tr>\n",
       "    <tr>\n",
       "      <th>max</th>\n",
       "      <td>433.800000</td>\n",
       "      <td>460.000000</td>\n",
       "    </tr>\n",
       "  </tbody>\n",
       "</table>\n",
       "</div>"
      ],
      "text/plain": [
       "       y_predicted      y_test\n",
       "count    26.000000   26.000000\n",
       "mean    196.711538  200.038462\n",
       "std     111.520955  118.830124\n",
       "min      19.500000    8.000000\n",
       "25%     149.450000  153.250000\n",
       "50%     183.000000  196.000000\n",
       "75%     228.875000  251.750000\n",
       "max     433.800000  460.000000"
      ]
     },
     "execution_count": 94,
     "metadata": {},
     "output_type": "execute_result"
    }
   ],
   "source": [
    "p = pd.DataFrame()\n",
    "p[\"y_predicted\"] = y_predict/1000\n",
    "p[\"y_test\"] = yt/1000\n",
    "\n",
    "p[\"y_predicted\"] = p[\"y_predicted\"].round(decimals=1)\n",
    "# p[\"y_test\"] = p[\"y_test\"].round(decimals=1)\n",
    "p.describe()"
   ]
  },
  {
   "cell_type": "code",
   "execution_count": 95,
   "metadata": {},
   "outputs": [
    {
     "name": "stdout",
     "output_type": "stream",
     "text": [
      "    y_predicted  y_test\n",
      "0         190.8   200.0\n",
      "1         217.4   222.0\n",
      "2         430.2   460.0\n",
      "3          34.2     8.0\n",
      "4         173.2   189.0\n",
      "5         360.3   391.0\n",
      "6         167.3   151.0\n",
      "7         165.5   175.0\n",
      "8         152.6   160.0\n",
      "9         118.1    94.0\n",
      "10         29.7    36.0\n",
      "11        277.8   284.0\n",
      "12        230.6   267.0\n",
      "13        105.9    63.0\n",
      "14        229.2   205.0\n",
      "15        166.3   161.0\n",
      "16        433.8   383.0\n",
      "17        193.4   204.0\n",
      "18        227.9   221.0\n",
      "19        215.6   233.0\n",
      "20        380.8   402.0\n",
      "21        175.2   192.0\n",
      "22        148.4   178.0\n",
      "23        216.8   258.0\n",
      "24         19.5    14.0\n",
      "25         54.0    50.0\n"
     ]
    }
   ],
   "source": [
    "print(p)"
   ]
  },
  {
   "cell_type": "code",
   "execution_count": 97,
   "metadata": {},
   "outputs": [
    {
     "data": {
      "text/plain": [
       "23.29887377886108"
      ]
     },
     "execution_count": 97,
     "metadata": {},
     "output_type": "execute_result"
    }
   ],
   "source": [
    "rmse/1000"
   ]
  },
  {
   "cell_type": "code",
   "execution_count": null,
   "metadata": {},
   "outputs": [],
   "source": []
  }
 ],
 "metadata": {
  "kernelspec": {
   "display_name": "Python 3",
   "language": "python",
   "name": "python3"
  },
  "language_info": {
   "codemirror_mode": {
    "name": "ipython",
    "version": 3
   },
   "file_extension": ".py",
   "mimetype": "text/x-python",
   "name": "python",
   "nbconvert_exporter": "python",
   "pygments_lexer": "ipython3",
   "version": "3.6.1"
  }
 },
 "nbformat": 4,
 "nbformat_minor": 2
}
